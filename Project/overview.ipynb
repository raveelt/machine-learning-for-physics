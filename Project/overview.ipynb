{
 "cells": [
  {
   "cell_type": "markdown",
   "id": "292f2b48-62d3-4349-a943-bf745b4a7cc1",
   "metadata": {},
   "source": [
    "At the Large Hadron Collider (LHC) protons are collided at several points around the LHC ring at a rate of 40 MHz. The ATLAS experiment is a general purpose detector that is located at one of the collision points and measures the particles coming out of the collisions. One of many applications of machine learning in high-energy physics is using neural networks to classify the physics process of interest, referred to as signals, from other collision events, referred to as backgrounds. Good separations between the signal and background events are important, especially given that the signals are often significantly smaller compared to backgrounds. One process of interest is the production of a pair of top quarks associated with a Z boson (ttZ) at the LHC. Both the top quarks and the Z boson decay immediately after they are produced. Their stable decay products are measured by the detector, and events are selected based on the features at the detector level. However, some other processes produced in the collision can also give similar detector-level features and pass the event selection. One such major background is the production of a W and Z boson (WZ). A neural network classifier can be trained on the detector-level features to distinguish ttZ and WZ events to help extract the ttZ events in the recorded data. For training the network, simulated ttZ and WZ samples produced using Monte Carlo simulation are used. The trained network is later applied in the recorded data, and its outputs are used for further statistical analysis.\n",
    "\n",
    "\n",
    "https://docs.google.com/presentation/d/1o4_tPPrzOPK1Ig0HyeDb5P8R79yv8coBcIuN7JxeXrQ/edit?usp=sharing\n",
    "\n",
    "URL of dataset \n",
    "- https://cernbox.cern.ch/s/lVR2Z8dzaxhtSJZ\n",
    "- Signal (ttZ) sample: data/output_signal.h5\n",
    "- Background sample: data/output_bg.h5\n",
    "\n",
    "Challenge for ML and high level goals of the project:\n",
    "\n",
    "- Train a classifier to distinguish ttZ and WZ events and evaluate the performance\n",
    "- Add or remove detector-level features to see how the classification performance is affected\n",
    "- Rank the importance of the features.\n",
    "- Optimize the neural network architecture and training parameters to improve the classification performance. \n",
    "\n",
    "\n",
    "\n",
    "Literature for further reading\n",
    "\n",
    "[1] Ann.Rev.Nucl.Part.Sci. 68 (2018) - Deep Learning and Its Application to LHC Physics. https://www.annualreviews.org/content/journals/10.1146/annurev-nucl-101917-021019\n",
    "\n",
    "[2] Int. J. Mod. Phys. A 34 1930019 - Machine and deep learning applications in particle physics.\n",
    "https://www.worldscientific.com/doi/10.1142/S0217751X19300199\n",
    "\n",
    "[3] ATLAS-CONF-2023-065 - Inclusive and differential cross section measurements of ttZ production in pp collisions at √s = 13 TeV with the ATLAS detector, including EFT and spin correlations interpretations.\n",
    "https://cds.cern.ch/record/2873519/files/ATLAS-CONF-2023-065.pdf\n",
    "\n",
    "\n",
    "[4] Event display of a ttZ event candidate\n",
    "https://atlas.web.cern.ch/Atlas/GROUPS/PHYSICS/CONFNOTES/ATLAS-CONF-2020-028/fig_40.png\n",
    "\n",
    "[5] A brief overview of the ATLAS detector\n",
    "https://atlas.cern/Discover/Detector"
   ]
  },
  {
   "cell_type": "code",
   "execution_count": null,
   "id": "9dc79dfb-a4a2-4912-a76f-b2c58a6280fc",
   "metadata": {},
   "outputs": [],
   "source": []
  }
 ],
 "metadata": {
  "kernelspec": {
   "display_name": "Python 3 (ipykernel)",
   "language": "python",
   "name": "python3"
  },
  "language_info": {
   "codemirror_mode": {
    "name": "ipython",
    "version": 3
   },
   "file_extension": ".py",
   "mimetype": "text/x-python",
   "name": "python",
   "nbconvert_exporter": "python",
   "pygments_lexer": "ipython3",
   "version": "3.11.5"
  }
 },
 "nbformat": 4,
 "nbformat_minor": 5
}
