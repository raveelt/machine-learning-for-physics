{
 "cells": [
  {
   "cell_type": "code",
   "execution_count": 1,
   "id": "aa2a51d4-4ad0-4d26-8700-7c1994a4093f",
   "metadata": {},
   "outputs": [
    {
     "name": "stdout",
     "output_type": "stream",
     "text": [
      "Intel MKL WARNING: Support of Intel(R) Streaming SIMD Extensions 4.2 (Intel(R) SSE4.2) enabled only processors has been deprecated. Intel oneAPI Math Kernel Library 2025.0 will require Intel(R) Advanced Vector Extensions (Intel(R) AVX) instructions.\n",
      "Intel MKL WARNING: Support of Intel(R) Streaming SIMD Extensions 4.2 (Intel(R) SSE4.2) enabled only processors has been deprecated. Intel oneAPI Math Kernel Library 2025.0 will require Intel(R) Advanced Vector Extensions (Intel(R) AVX) instructions.\n"
     ]
    },
    {
     "name": "stderr",
     "output_type": "stream",
     "text": [
      "2024-04-14 01:18:28.522266: I tensorflow/core/platform/cpu_feature_guard.cc:182] This TensorFlow binary is optimized to use available CPU instructions in performance-critical operations.\n",
      "To enable the following instructions: SSE4.1 SSE4.2, in other operations, rebuild TensorFlow with the appropriate compiler flags.\n"
     ]
    }
   ],
   "source": [
    "import h5py\n",
    "import matplotlib.pyplot as plt\n",
    "import numpy as np\n",
    "import tensorflow.keras as K\n",
    "import pandas as pd\n",
    "from tensorflow.keras.wrappers.scikit_learn import KerasClassifier\n",
    "from mlxtend.feature_selection import SequentialFeatureSelector as SFS\n",
    "from mlxtend.plotting import plot_sequential_feature_selection as plot_sfs\n",
    "import pandas as pd"
   ]
  },
  {
   "cell_type": "markdown",
   "id": "a3fec636-9bbd-4c11-8932-f1c3af06c47d",
   "metadata": {},
   "source": [
    "# Loading The Data"
   ]
  },
  {
   "cell_type": "code",
   "execution_count": 2,
   "id": "1c644c92-ac39-4005-b23f-b055a7ca9343",
   "metadata": {
    "scrolled": true
   },
   "outputs": [],
   "source": [
    "with h5py.File(\"info/data/output_signal.h5\", \"r\") as file:\n",
    "    signal_data = file[\"events\"][:]\n",
    "\n",
    "with h5py.File(\"info/data/output_bg.h5\", \"r\") as file:\n",
    "    bg_data = file[\"events\"][:]"
   ]
  },
  {
   "cell_type": "markdown",
   "id": "3758188b-b600-4ea4-acfc-ee1a9736853f",
   "metadata": {},
   "source": [
    "# Subset of the Data"
   ]
  },
  {
   "cell_type": "code",
   "execution_count": 3,
   "id": "08800f6b-ff9b-4b8f-806c-d04493ed1c33",
   "metadata": {},
   "outputs": [
    {
     "data": {
      "text/html": [
       "<div>\n",
       "<style scoped>\n",
       "    .dataframe tbody tr th:only-of-type {\n",
       "        vertical-align: middle;\n",
       "    }\n",
       "\n",
       "    .dataframe tbody tr th {\n",
       "        vertical-align: top;\n",
       "    }\n",
       "\n",
       "    .dataframe thead th {\n",
       "        text-align: right;\n",
       "    }\n",
       "</style>\n",
       "<table border=\"1\" class=\"dataframe\">\n",
       "  <thead>\n",
       "    <tr style=\"text-align: right;\">\n",
       "      <th></th>\n",
       "      <th>index</th>\n",
       "      <th>jet_1_pt</th>\n",
       "      <th>jet_2_pt</th>\n",
       "      <th>jet_3_pt</th>\n",
       "      <th>jet_1_eta</th>\n",
       "      <th>jet_2_eta</th>\n",
       "      <th>jet_3_eta</th>\n",
       "      <th>jet_1_twb</th>\n",
       "      <th>jet_2_twb</th>\n",
       "      <th>jet_3_twb</th>\n",
       "      <th>bjet_1_pt</th>\n",
       "      <th>lep_1_pt</th>\n",
       "      <th>lep_2_pt</th>\n",
       "      <th>lep_3_pt</th>\n",
       "      <th>n_jets</th>\n",
       "      <th>n_bjets</th>\n",
       "      <th>n_leptons</th>\n",
       "      <th>met_met</th>\n",
       "      <th>H_T</th>\n",
       "      <th>ttZ</th>\n",
       "    </tr>\n",
       "  </thead>\n",
       "  <tbody>\n",
       "    <tr>\n",
       "      <th>469349</th>\n",
       "      <td>469349</td>\n",
       "      <td>110.017174</td>\n",
       "      <td>89.244843</td>\n",
       "      <td>42.692078</td>\n",
       "      <td>-1.638234</td>\n",
       "      <td>-1.114363</td>\n",
       "      <td>0.334825</td>\n",
       "      <td>3</td>\n",
       "      <td>1</td>\n",
       "      <td>1</td>\n",
       "      <td>110.017174</td>\n",
       "      <td>165.685593</td>\n",
       "      <td>81.492973</td>\n",
       "      <td>32.393501</td>\n",
       "      <td>3</td>\n",
       "      <td>1</td>\n",
       "      <td>3</td>\n",
       "      <td>64.430573</td>\n",
       "      <td>585.956726</td>\n",
       "      <td>1.0</td>\n",
       "    </tr>\n",
       "    <tr>\n",
       "      <th>8248</th>\n",
       "      <td>8248</td>\n",
       "      <td>183.934067</td>\n",
       "      <td>125.170509</td>\n",
       "      <td>93.043922</td>\n",
       "      <td>0.185653</td>\n",
       "      <td>-1.264277</td>\n",
       "      <td>1.190622</td>\n",
       "      <td>1</td>\n",
       "      <td>4</td>\n",
       "      <td>1</td>\n",
       "      <td>125.170509</td>\n",
       "      <td>68.110207</td>\n",
       "      <td>35.741417</td>\n",
       "      <td>12.237628</td>\n",
       "      <td>4</td>\n",
       "      <td>1</td>\n",
       "      <td>3</td>\n",
       "      <td>104.903961</td>\n",
       "      <td>654.210388</td>\n",
       "      <td>1.0</td>\n",
       "    </tr>\n",
       "    <tr>\n",
       "      <th>699594</th>\n",
       "      <td>190559</td>\n",
       "      <td>195.334396</td>\n",
       "      <td>155.822617</td>\n",
       "      <td>39.977455</td>\n",
       "      <td>-0.860027</td>\n",
       "      <td>1.231296</td>\n",
       "      <td>2.197089</td>\n",
       "      <td>1</td>\n",
       "      <td>1</td>\n",
       "      <td>1</td>\n",
       "      <td>35.366051</td>\n",
       "      <td>184.187210</td>\n",
       "      <td>82.709946</td>\n",
       "      <td>36.546856</td>\n",
       "      <td>5</td>\n",
       "      <td>1</td>\n",
       "      <td>3</td>\n",
       "      <td>48.988052</td>\n",
       "      <td>807.437683</td>\n",
       "      <td>0.0</td>\n",
       "    </tr>\n",
       "    <tr>\n",
       "      <th>149760</th>\n",
       "      <td>149760</td>\n",
       "      <td>165.566879</td>\n",
       "      <td>136.009689</td>\n",
       "      <td>124.258598</td>\n",
       "      <td>0.903266</td>\n",
       "      <td>-0.343321</td>\n",
       "      <td>0.041760</td>\n",
       "      <td>5</td>\n",
       "      <td>5</td>\n",
       "      <td>1</td>\n",
       "      <td>165.566879</td>\n",
       "      <td>113.711166</td>\n",
       "      <td>112.550560</td>\n",
       "      <td>34.406342</td>\n",
       "      <td>6</td>\n",
       "      <td>2</td>\n",
       "      <td>3</td>\n",
       "      <td>172.116821</td>\n",
       "      <td>1007.604309</td>\n",
       "      <td>1.0</td>\n",
       "    </tr>\n",
       "    <tr>\n",
       "      <th>72006</th>\n",
       "      <td>72006</td>\n",
       "      <td>128.334076</td>\n",
       "      <td>54.510422</td>\n",
       "      <td>45.616039</td>\n",
       "      <td>-0.975434</td>\n",
       "      <td>-2.489865</td>\n",
       "      <td>-1.147104</td>\n",
       "      <td>1</td>\n",
       "      <td>1</td>\n",
       "      <td>1</td>\n",
       "      <td>32.256153</td>\n",
       "      <td>109.551361</td>\n",
       "      <td>100.125435</td>\n",
       "      <td>48.681091</td>\n",
       "      <td>6</td>\n",
       "      <td>2</td>\n",
       "      <td>3</td>\n",
       "      <td>29.693062</td>\n",
       "      <td>606.260437</td>\n",
       "      <td>1.0</td>\n",
       "    </tr>\n",
       "  </tbody>\n",
       "</table>\n",
       "</div>"
      ],
      "text/plain": [
       "         index    jet_1_pt    jet_2_pt    jet_3_pt  jet_1_eta  jet_2_eta  \\\n",
       "469349  469349  110.017174   89.244843   42.692078  -1.638234  -1.114363   \n",
       "8248      8248  183.934067  125.170509   93.043922   0.185653  -1.264277   \n",
       "699594  190559  195.334396  155.822617   39.977455  -0.860027   1.231296   \n",
       "149760  149760  165.566879  136.009689  124.258598   0.903266  -0.343321   \n",
       "72006    72006  128.334076   54.510422   45.616039  -0.975434  -2.489865   \n",
       "\n",
       "        jet_3_eta  jet_1_twb  jet_2_twb  jet_3_twb   bjet_1_pt    lep_1_pt  \\\n",
       "469349   0.334825          3          1          1  110.017174  165.685593   \n",
       "8248     1.190622          1          4          1  125.170509   68.110207   \n",
       "699594   2.197089          1          1          1   35.366051  184.187210   \n",
       "149760   0.041760          5          5          1  165.566879  113.711166   \n",
       "72006   -1.147104          1          1          1   32.256153  109.551361   \n",
       "\n",
       "          lep_2_pt   lep_3_pt  n_jets  n_bjets  n_leptons     met_met  \\\n",
       "469349   81.492973  32.393501       3        1          3   64.430573   \n",
       "8248     35.741417  12.237628       4        1          3  104.903961   \n",
       "699594   82.709946  36.546856       5        1          3   48.988052   \n",
       "149760  112.550560  34.406342       6        2          3  172.116821   \n",
       "72006   100.125435  48.681091       6        2          3   29.693062   \n",
       "\n",
       "                H_T  ttZ  \n",
       "469349   585.956726  1.0  \n",
       "8248     654.210388  1.0  \n",
       "699594   807.437683  0.0  \n",
       "149760  1007.604309  1.0  \n",
       "72006    606.260437  1.0  "
      ]
     },
     "execution_count": 3,
     "metadata": {},
     "output_type": "execute_result"
    }
   ],
   "source": [
    "# storing signal and background data in panda DataFrame\n",
    "signal = pd.DataFrame(signal_data)\n",
    "background = pd.DataFrame(bg_data)\n",
    "\n",
    "# concatenating the data frames to be part of one big set\n",
    "df = pd.concat([signal, background])\n",
    "\n",
    "# reseting the indicies\n",
    "df = df.reset_index()\n",
    "\n",
    "# creating the labels for the data sets i.e; signal = 1, background = 0 for classification\n",
    "labels = np.concatenate([np.ones(signal.shape[0]), np.zeros(background.shape[0])])\n",
    "labels = pd.DataFrame({'ttZ': labels})\n",
    "\n",
    "# adding labels as a column at the end of the DataFrame\n",
    "df = df.join(labels)\n",
    "\n",
    "# shuffling the DataFrame\n",
    "df_shuffled = df.sample(frac=1, random_state=42)  # 'random_state' for reproducibility\n",
    "df_shuffled.head()"
   ]
  },
  {
   "cell_type": "code",
   "execution_count": 4,
   "id": "e7899f7d-c33d-4796-9f73-18df854e6d01",
   "metadata": {},
   "outputs": [
    {
     "name": "stdout",
     "output_type": "stream",
     "text": [
      "ttZ events: 68.69%\n",
      "WZ events: 31.31%\n"
     ]
    }
   ],
   "source": [
    "# taking the first 30 000 rows from the shuffled DataFrame\n",
    "subset_df = df_shuffled.iloc[:30000]\n",
    "\n",
    "# splitting the labels from the rest of the dataset\n",
    "X_sub = subset_df[['jet_1_pt', 'jet_2_pt', 'jet_3_pt', 'jet_1_eta', 'jet_2_eta',\n",
    "       'jet_3_eta', 'jet_1_twb', 'jet_2_twb', 'jet_3_twb', 'bjet_1_pt',\n",
    "       'lep_1_pt', 'lep_2_pt', 'lep_3_pt', 'n_jets', 'n_bjets', 'n_leptons',\n",
    "       'met_met', 'H_T']]\n",
    "y_sub = subset_df['ttZ']\n",
    "\n",
    "# we can check the class distribution in the subset\n",
    "print('ttZ events: {:.2f}%'.format(np.sum(y_sub)/len(y_sub) * 100))\n",
    "print('WZ events: {:.2f}%'.format((1 - np.sum(y_sub)/len(y_sub)) * 100))"
   ]
  },
  {
   "cell_type": "markdown",
   "id": "88fa1e9c-3e57-4cc4-8062-3c9c1a711f8a",
   "metadata": {},
   "source": [
    "# Sequential Feature Selector\n",
    "\n",
    "https://rasbt.github.io/mlxtend/user_guide/feature_selection/SequentialFeatureSelector/#example-9-selecting-the-best-feature-combination-in-a-k-range"
   ]
  },
  {
   "cell_type": "code",
   "execution_count": 5,
   "id": "97e476e4-40eb-4b5e-86c2-cf0af642b13e",
   "metadata": {},
   "outputs": [
    {
     "name": "stderr",
     "output_type": "stream",
     "text": [
      "/var/folders/3x/lv7sddxn2gg8mq0dwdcn1wg40000gn/T/ipykernel_29259/2265007354.py:13: DeprecationWarning: KerasClassifier is deprecated, use Sci-Keras (https://github.com/adriangb/scikeras) instead. See https://www.adriangb.com/scikeras/stable/migration.html for help migrating.\n",
      "  model = KerasClassifier(build_fn=lambda: build_model(input_dim=X_sub.shape[1]), epochs=10, batch_size=32, verbose=0)\n"
     ]
    }
   ],
   "source": [
    "# model for classification\n",
    "def build_model(input_dim=None):\n",
    "    model = K.Sequential([\n",
    "        K.layers.Normalization(),\n",
    "        K.layers.Dense(50, activation=\"relu\", input_dim=input_dim),\n",
    "        K.layers.Dense(25, activation=\"relu\"),\n",
    "        K.layers.Dense(10, activation=\"relu\"),\n",
    "        K.layers.Dense(1, activation=\"sigmoid\")\n",
    "    ])\n",
    "    model.compile(optimizer='adam', loss='binary_crossentropy', metrics=['accuracy'])\n",
    "    return model\n",
    "\n",
    "# wrapper function\n",
    "model = KerasClassifier(build_fn=lambda: build_model(input_dim=X_sub.shape[1]), epochs=10, batch_size=32, verbose=0)"
   ]
  },
  {
   "cell_type": "code",
   "execution_count": 6,
   "id": "3b7223de-8d4b-4006-8b17-a455b14f5d22",
   "metadata": {
    "scrolled": true
   },
   "outputs": [
    {
     "name": "stderr",
     "output_type": "stream",
     "text": [
      "/Users/raveel/miniconda3/envs/tf/lib/python3.11/site-packages/sklearn/model_selection/_validation.py:73: FutureWarning: `fit_params` is deprecated and will be removed in version 1.6. Pass parameters via `params` instead.\n",
      "  warnings.warn(\n"
     ]
    },
    {
     "name": "stdout",
     "output_type": "stream",
     "text": [
      "188/188 [==============================] - 0s 410us/step\n",
      "188/188 [==============================] - 0s 490us/step\n",
      "188/188 [==============================] - 0s 455us/step\n",
      "188/188 [==============================] - 0s 411us/step\n",
      "188/188 [==============================] - 0s 432us/step\n"
     ]
    },
    {
     "name": "stderr",
     "output_type": "stream",
     "text": [
      "/Users/raveel/miniconda3/envs/tf/lib/python3.11/site-packages/sklearn/model_selection/_validation.py:73: FutureWarning: `fit_params` is deprecated and will be removed in version 1.6. Pass parameters via `params` instead.\n",
      "  warnings.warn(\n"
     ]
    },
    {
     "name": "stdout",
     "output_type": "stream",
     "text": [
      "188/188 [==============================] - 0s 402us/step\n",
      "188/188 [==============================] - 0s 395us/step\n",
      "188/188 [==============================] - 0s 403us/step\n",
      "188/188 [==============================] - 0s 452us/step\n",
      "188/188 [==============================] - 0s 399us/step\n"
     ]
    },
    {
     "name": "stderr",
     "output_type": "stream",
     "text": [
      "/Users/raveel/miniconda3/envs/tf/lib/python3.11/site-packages/sklearn/model_selection/_validation.py:73: FutureWarning: `fit_params` is deprecated and will be removed in version 1.6. Pass parameters via `params` instead.\n",
      "  warnings.warn(\n"
     ]
    },
    {
     "name": "stdout",
     "output_type": "stream",
     "text": [
      "188/188 [==============================] - 0s 435us/step\n",
      "188/188 [==============================] - 0s 411us/step\n",
      "188/188 [==============================] - 0s 407us/step\n",
      "188/188 [==============================] - 0s 402us/step\n",
      "188/188 [==============================] - 0s 419us/step\n"
     ]
    },
    {
     "name": "stderr",
     "output_type": "stream",
     "text": [
      "/Users/raveel/miniconda3/envs/tf/lib/python3.11/site-packages/sklearn/model_selection/_validation.py:73: FutureWarning: `fit_params` is deprecated and will be removed in version 1.6. Pass parameters via `params` instead.\n",
      "  warnings.warn(\n"
     ]
    },
    {
     "name": "stdout",
     "output_type": "stream",
     "text": [
      "188/188 [==============================] - 0s 393us/step\n",
      "188/188 [==============================] - 0s 427us/step\n",
      "188/188 [==============================] - 0s 401us/step\n",
      "188/188 [==============================] - 0s 402us/step\n",
      "188/188 [==============================] - 0s 396us/step\n"
     ]
    },
    {
     "name": "stderr",
     "output_type": "stream",
     "text": [
      "/Users/raveel/miniconda3/envs/tf/lib/python3.11/site-packages/sklearn/model_selection/_validation.py:73: FutureWarning: `fit_params` is deprecated and will be removed in version 1.6. Pass parameters via `params` instead.\n",
      "  warnings.warn(\n"
     ]
    },
    {
     "name": "stdout",
     "output_type": "stream",
     "text": [
      "188/188 [==============================] - 0s 401us/step\n",
      "188/188 [==============================] - 0s 395us/step\n",
      "188/188 [==============================] - 0s 402us/step\n",
      "188/188 [==============================] - 0s 402us/step\n",
      "188/188 [==============================] - 0s 393us/step\n"
     ]
    },
    {
     "name": "stderr",
     "output_type": "stream",
     "text": [
      "/Users/raveel/miniconda3/envs/tf/lib/python3.11/site-packages/sklearn/model_selection/_validation.py:73: FutureWarning: `fit_params` is deprecated and will be removed in version 1.6. Pass parameters via `params` instead.\n",
      "  warnings.warn(\n"
     ]
    },
    {
     "name": "stdout",
     "output_type": "stream",
     "text": [
      "188/188 [==============================] - 0s 408us/step\n",
      "188/188 [==============================] - 0s 405us/step\n",
      "188/188 [==============================] - 0s 467us/step\n",
      "188/188 [==============================] - 1s 1ms/step\n",
      "188/188 [==============================] - 0s 430us/step\n"
     ]
    },
    {
     "name": "stderr",
     "output_type": "stream",
     "text": [
      "/Users/raveel/miniconda3/envs/tf/lib/python3.11/site-packages/sklearn/model_selection/_validation.py:73: FutureWarning: `fit_params` is deprecated and will be removed in version 1.6. Pass parameters via `params` instead.\n",
      "  warnings.warn(\n"
     ]
    },
    {
     "name": "stdout",
     "output_type": "stream",
     "text": [
      "188/188 [==============================] - 0s 438us/step\n",
      "188/188 [==============================] - 0s 401us/step\n",
      "188/188 [==============================] - 0s 402us/step\n",
      "188/188 [==============================] - 0s 395us/step\n",
      "188/188 [==============================] - 0s 408us/step\n"
     ]
    },
    {
     "name": "stderr",
     "output_type": "stream",
     "text": [
      "/Users/raveel/miniconda3/envs/tf/lib/python3.11/site-packages/sklearn/model_selection/_validation.py:73: FutureWarning: `fit_params` is deprecated and will be removed in version 1.6. Pass parameters via `params` instead.\n",
      "  warnings.warn(\n"
     ]
    },
    {
     "name": "stdout",
     "output_type": "stream",
     "text": [
      "188/188 [==============================] - 0s 396us/step\n",
      "188/188 [==============================] - 0s 398us/step\n",
      "188/188 [==============================] - 0s 393us/step\n",
      "188/188 [==============================] - 0s 417us/step\n",
      "188/188 [==============================] - 0s 403us/step\n"
     ]
    },
    {
     "name": "stderr",
     "output_type": "stream",
     "text": [
      "/Users/raveel/miniconda3/envs/tf/lib/python3.11/site-packages/sklearn/model_selection/_validation.py:73: FutureWarning: `fit_params` is deprecated and will be removed in version 1.6. Pass parameters via `params` instead.\n",
      "  warnings.warn(\n"
     ]
    },
    {
     "name": "stdout",
     "output_type": "stream",
     "text": [
      "188/188 [==============================] - 0s 449us/step\n",
      "188/188 [==============================] - 0s 408us/step\n",
      "188/188 [==============================] - 0s 399us/step\n",
      "188/188 [==============================] - 0s 394us/step\n",
      "188/188 [==============================] - 0s 397us/step\n"
     ]
    },
    {
     "name": "stderr",
     "output_type": "stream",
     "text": [
      "/Users/raveel/miniconda3/envs/tf/lib/python3.11/site-packages/sklearn/model_selection/_validation.py:73: FutureWarning: `fit_params` is deprecated and will be removed in version 1.6. Pass parameters via `params` instead.\n",
      "  warnings.warn(\n"
     ]
    },
    {
     "name": "stdout",
     "output_type": "stream",
     "text": [
      "188/188 [==============================] - 0s 455us/step\n",
      "188/188 [==============================] - 0s 392us/step\n",
      "188/188 [==============================] - 0s 390us/step\n",
      "188/188 [==============================] - 0s 413us/step\n",
      "188/188 [==============================] - 0s 404us/step\n"
     ]
    },
    {
     "name": "stderr",
     "output_type": "stream",
     "text": [
      "/Users/raveel/miniconda3/envs/tf/lib/python3.11/site-packages/sklearn/model_selection/_validation.py:73: FutureWarning: `fit_params` is deprecated and will be removed in version 1.6. Pass parameters via `params` instead.\n",
      "  warnings.warn(\n"
     ]
    },
    {
     "name": "stdout",
     "output_type": "stream",
     "text": [
      "188/188 [==============================] - 0s 393us/step\n",
      "188/188 [==============================] - 0s 430us/step\n",
      "188/188 [==============================] - 0s 394us/step\n",
      "188/188 [==============================] - 0s 403us/step\n",
      "188/188 [==============================] - 0s 406us/step\n"
     ]
    },
    {
     "name": "stderr",
     "output_type": "stream",
     "text": [
      "/Users/raveel/miniconda3/envs/tf/lib/python3.11/site-packages/sklearn/model_selection/_validation.py:73: FutureWarning: `fit_params` is deprecated and will be removed in version 1.6. Pass parameters via `params` instead.\n",
      "  warnings.warn(\n"
     ]
    },
    {
     "name": "stdout",
     "output_type": "stream",
     "text": [
      "188/188 [==============================] - 0s 407us/step\n",
      "188/188 [==============================] - 0s 399us/step\n",
      "188/188 [==============================] - 0s 397us/step\n",
      "188/188 [==============================] - 0s 403us/step\n",
      "188/188 [==============================] - 0s 396us/step\n"
     ]
    },
    {
     "name": "stderr",
     "output_type": "stream",
     "text": [
      "/Users/raveel/miniconda3/envs/tf/lib/python3.11/site-packages/sklearn/model_selection/_validation.py:73: FutureWarning: `fit_params` is deprecated and will be removed in version 1.6. Pass parameters via `params` instead.\n",
      "  warnings.warn(\n"
     ]
    },
    {
     "name": "stdout",
     "output_type": "stream",
     "text": [
      "188/188 [==============================] - 0s 392us/step\n",
      "188/188 [==============================] - 0s 392us/step\n",
      "188/188 [==============================] - 0s 399us/step\n",
      "188/188 [==============================] - 0s 394us/step\n",
      "188/188 [==============================] - 0s 437us/step\n"
     ]
    },
    {
     "name": "stderr",
     "output_type": "stream",
     "text": [
      "/Users/raveel/miniconda3/envs/tf/lib/python3.11/site-packages/sklearn/model_selection/_validation.py:73: FutureWarning: `fit_params` is deprecated and will be removed in version 1.6. Pass parameters via `params` instead.\n",
      "  warnings.warn(\n"
     ]
    },
    {
     "name": "stdout",
     "output_type": "stream",
     "text": [
      "188/188 [==============================] - 0s 395us/step\n",
      "188/188 [==============================] - 0s 387us/step\n",
      "188/188 [==============================] - 0s 443us/step\n",
      "188/188 [==============================] - 0s 400us/step\n",
      "188/188 [==============================] - 0s 382us/step\n"
     ]
    },
    {
     "name": "stderr",
     "output_type": "stream",
     "text": [
      "/Users/raveel/miniconda3/envs/tf/lib/python3.11/site-packages/sklearn/model_selection/_validation.py:73: FutureWarning: `fit_params` is deprecated and will be removed in version 1.6. Pass parameters via `params` instead.\n",
      "  warnings.warn(\n"
     ]
    },
    {
     "name": "stdout",
     "output_type": "stream",
     "text": [
      "188/188 [==============================] - 0s 385us/step\n",
      "188/188 [==============================] - 0s 392us/step\n",
      "188/188 [==============================] - 0s 391us/step\n",
      "188/188 [==============================] - 0s 401us/step\n",
      "188/188 [==============================] - 0s 382us/step\n"
     ]
    },
    {
     "name": "stderr",
     "output_type": "stream",
     "text": [
      "/Users/raveel/miniconda3/envs/tf/lib/python3.11/site-packages/sklearn/model_selection/_validation.py:73: FutureWarning: `fit_params` is deprecated and will be removed in version 1.6. Pass parameters via `params` instead.\n",
      "  warnings.warn(\n"
     ]
    },
    {
     "name": "stdout",
     "output_type": "stream",
     "text": [
      "188/188 [==============================] - 0s 388us/step\n",
      "188/188 [==============================] - 0s 383us/step\n",
      "188/188 [==============================] - 0s 391us/step\n",
      "188/188 [==============================] - 0s 383us/step\n",
      "188/188 [==============================] - 0s 388us/step\n"
     ]
    },
    {
     "name": "stderr",
     "output_type": "stream",
     "text": [
      "/Users/raveel/miniconda3/envs/tf/lib/python3.11/site-packages/sklearn/model_selection/_validation.py:73: FutureWarning: `fit_params` is deprecated and will be removed in version 1.6. Pass parameters via `params` instead.\n",
      "  warnings.warn(\n"
     ]
    },
    {
     "name": "stdout",
     "output_type": "stream",
     "text": [
      "188/188 [==============================] - 0s 392us/step\n",
      "188/188 [==============================] - 0s 386us/step\n",
      "188/188 [==============================] - 0s 386us/step\n",
      "188/188 [==============================] - 0s 389us/step\n",
      "188/188 [==============================] - 1s 7ms/step\n"
     ]
    },
    {
     "name": "stderr",
     "output_type": "stream",
     "text": [
      "/Users/raveel/miniconda3/envs/tf/lib/python3.11/site-packages/sklearn/model_selection/_validation.py:73: FutureWarning: `fit_params` is deprecated and will be removed in version 1.6. Pass parameters via `params` instead.\n",
      "  warnings.warn(\n"
     ]
    },
    {
     "name": "stdout",
     "output_type": "stream",
     "text": [
      "188/188 [==============================] - 0s 462us/step\n",
      "188/188 [==============================] - 0s 409us/step\n",
      "188/188 [==============================] - 0s 382us/step\n",
      "188/188 [==============================] - 0s 377us/step\n",
      "188/188 [==============================] - 0s 382us/step\n"
     ]
    },
    {
     "name": "stderr",
     "output_type": "stream",
     "text": [
      "/Users/raveel/miniconda3/envs/tf/lib/python3.11/site-packages/sklearn/model_selection/_validation.py:73: FutureWarning: `fit_params` is deprecated and will be removed in version 1.6. Pass parameters via `params` instead.\n",
      "  warnings.warn(\n"
     ]
    },
    {
     "name": "stdout",
     "output_type": "stream",
     "text": [
      "188/188 [==============================] - 0s 400us/step\n",
      "188/188 [==============================] - 0s 387us/step\n",
      "188/188 [==============================] - 0s 380us/step\n",
      "188/188 [==============================] - 0s 423us/step\n",
      "188/188 [==============================] - 0s 397us/step\n"
     ]
    },
    {
     "name": "stderr",
     "output_type": "stream",
     "text": [
      "/Users/raveel/miniconda3/envs/tf/lib/python3.11/site-packages/sklearn/model_selection/_validation.py:73: FutureWarning: `fit_params` is deprecated and will be removed in version 1.6. Pass parameters via `params` instead.\n",
      "  warnings.warn(\n"
     ]
    },
    {
     "name": "stdout",
     "output_type": "stream",
     "text": [
      "188/188 [==============================] - 0s 383us/step\n",
      "188/188 [==============================] - 0s 384us/step\n",
      "188/188 [==============================] - 0s 386us/step\n",
      "188/188 [==============================] - 0s 384us/step\n",
      "188/188 [==============================] - 0s 385us/step\n"
     ]
    },
    {
     "name": "stderr",
     "output_type": "stream",
     "text": [
      "/Users/raveel/miniconda3/envs/tf/lib/python3.11/site-packages/sklearn/model_selection/_validation.py:73: FutureWarning: `fit_params` is deprecated and will be removed in version 1.6. Pass parameters via `params` instead.\n",
      "  warnings.warn(\n"
     ]
    },
    {
     "name": "stdout",
     "output_type": "stream",
     "text": [
      "188/188 [==============================] - 0s 381us/step\n",
      "188/188 [==============================] - 0s 399us/step\n",
      "188/188 [==============================] - 0s 387us/step\n",
      "188/188 [==============================] - 0s 382us/step\n",
      "188/188 [==============================] - 0s 421us/step\n"
     ]
    },
    {
     "name": "stderr",
     "output_type": "stream",
     "text": [
      "/Users/raveel/miniconda3/envs/tf/lib/python3.11/site-packages/sklearn/model_selection/_validation.py:73: FutureWarning: `fit_params` is deprecated and will be removed in version 1.6. Pass parameters via `params` instead.\n",
      "  warnings.warn(\n"
     ]
    },
    {
     "name": "stdout",
     "output_type": "stream",
     "text": [
      "188/188 [==============================] - 0s 417us/step\n",
      "188/188 [==============================] - 0s 387us/step\n",
      "188/188 [==============================] - 0s 384us/step\n",
      "188/188 [==============================] - 0s 383us/step\n",
      "188/188 [==============================] - 0s 400us/step\n"
     ]
    },
    {
     "name": "stderr",
     "output_type": "stream",
     "text": [
      "/Users/raveel/miniconda3/envs/tf/lib/python3.11/site-packages/sklearn/model_selection/_validation.py:73: FutureWarning: `fit_params` is deprecated and will be removed in version 1.6. Pass parameters via `params` instead.\n",
      "  warnings.warn(\n"
     ]
    },
    {
     "name": "stdout",
     "output_type": "stream",
     "text": [
      "188/188 [==============================] - 0s 382us/step\n",
      "188/188 [==============================] - 0s 382us/step\n",
      "188/188 [==============================] - 0s 397us/step\n",
      "188/188 [==============================] - 0s 383us/step\n",
      "188/188 [==============================] - 0s 381us/step\n"
     ]
    },
    {
     "name": "stderr",
     "output_type": "stream",
     "text": [
      "/Users/raveel/miniconda3/envs/tf/lib/python3.11/site-packages/sklearn/model_selection/_validation.py:73: FutureWarning: `fit_params` is deprecated and will be removed in version 1.6. Pass parameters via `params` instead.\n",
      "  warnings.warn(\n"
     ]
    },
    {
     "name": "stdout",
     "output_type": "stream",
     "text": [
      "188/188 [==============================] - 0s 381us/step\n",
      "188/188 [==============================] - 0s 395us/step\n",
      "188/188 [==============================] - 0s 390us/step\n",
      "188/188 [==============================] - 0s 384us/step\n",
      "188/188 [==============================] - 0s 389us/step\n"
     ]
    },
    {
     "name": "stderr",
     "output_type": "stream",
     "text": [
      "/Users/raveel/miniconda3/envs/tf/lib/python3.11/site-packages/sklearn/model_selection/_validation.py:73: FutureWarning: `fit_params` is deprecated and will be removed in version 1.6. Pass parameters via `params` instead.\n",
      "  warnings.warn(\n"
     ]
    },
    {
     "name": "stdout",
     "output_type": "stream",
     "text": [
      "188/188 [==============================] - 0s 398us/step\n",
      "188/188 [==============================] - 0s 381us/step\n",
      "188/188 [==============================] - 0s 383us/step\n",
      "188/188 [==============================] - 0s 392us/step\n",
      "188/188 [==============================] - 0s 406us/step\n"
     ]
    },
    {
     "name": "stderr",
     "output_type": "stream",
     "text": [
      "/Users/raveel/miniconda3/envs/tf/lib/python3.11/site-packages/sklearn/model_selection/_validation.py:73: FutureWarning: `fit_params` is deprecated and will be removed in version 1.6. Pass parameters via `params` instead.\n",
      "  warnings.warn(\n"
     ]
    },
    {
     "name": "stdout",
     "output_type": "stream",
     "text": [
      "188/188 [==============================] - 0s 412us/step\n",
      "188/188 [==============================] - 0s 386us/step\n",
      "188/188 [==============================] - 0s 394us/step\n",
      "188/188 [==============================] - 0s 385us/step\n",
      "188/188 [==============================] - 0s 388us/step\n"
     ]
    },
    {
     "name": "stderr",
     "output_type": "stream",
     "text": [
      "/Users/raveel/miniconda3/envs/tf/lib/python3.11/site-packages/sklearn/model_selection/_validation.py:73: FutureWarning: `fit_params` is deprecated and will be removed in version 1.6. Pass parameters via `params` instead.\n",
      "  warnings.warn(\n"
     ]
    },
    {
     "name": "stdout",
     "output_type": "stream",
     "text": [
      "188/188 [==============================] - 0s 404us/step\n",
      "188/188 [==============================] - 0s 388us/step\n",
      "188/188 [==============================] - 0s 390us/step\n",
      "188/188 [==============================] - 0s 387us/step\n",
      "188/188 [==============================] - 0s 380us/step\n"
     ]
    },
    {
     "name": "stderr",
     "output_type": "stream",
     "text": [
      "/Users/raveel/miniconda3/envs/tf/lib/python3.11/site-packages/sklearn/model_selection/_validation.py:73: FutureWarning: `fit_params` is deprecated and will be removed in version 1.6. Pass parameters via `params` instead.\n",
      "  warnings.warn(\n"
     ]
    },
    {
     "name": "stdout",
     "output_type": "stream",
     "text": [
      "188/188 [==============================] - 0s 383us/step\n",
      "188/188 [==============================] - 0s 382us/step\n",
      "188/188 [==============================] - 0s 384us/step\n",
      "188/188 [==============================] - 0s 385us/step\n",
      "188/188 [==============================] - 0s 387us/step\n"
     ]
    },
    {
     "name": "stderr",
     "output_type": "stream",
     "text": [
      "/Users/raveel/miniconda3/envs/tf/lib/python3.11/site-packages/sklearn/model_selection/_validation.py:73: FutureWarning: `fit_params` is deprecated and will be removed in version 1.6. Pass parameters via `params` instead.\n",
      "  warnings.warn(\n"
     ]
    },
    {
     "name": "stdout",
     "output_type": "stream",
     "text": [
      "188/188 [==============================] - 0s 384us/step\n",
      "188/188 [==============================] - 0s 384us/step\n",
      "188/188 [==============================] - 0s 387us/step\n",
      "188/188 [==============================] - 0s 384us/step\n",
      "188/188 [==============================] - 0s 385us/step\n"
     ]
    },
    {
     "name": "stderr",
     "output_type": "stream",
     "text": [
      "/Users/raveel/miniconda3/envs/tf/lib/python3.11/site-packages/sklearn/model_selection/_validation.py:73: FutureWarning: `fit_params` is deprecated and will be removed in version 1.6. Pass parameters via `params` instead.\n",
      "  warnings.warn(\n"
     ]
    },
    {
     "name": "stdout",
     "output_type": "stream",
     "text": [
      "188/188 [==============================] - 0s 390us/step\n",
      "188/188 [==============================] - 0s 409us/step\n",
      "188/188 [==============================] - 0s 383us/step\n",
      "188/188 [==============================] - 0s 386us/step\n",
      "188/188 [==============================] - 0s 383us/step\n"
     ]
    },
    {
     "name": "stderr",
     "output_type": "stream",
     "text": [
      "/Users/raveel/miniconda3/envs/tf/lib/python3.11/site-packages/sklearn/model_selection/_validation.py:73: FutureWarning: `fit_params` is deprecated and will be removed in version 1.6. Pass parameters via `params` instead.\n",
      "  warnings.warn(\n"
     ]
    },
    {
     "name": "stdout",
     "output_type": "stream",
     "text": [
      "188/188 [==============================] - 0s 382us/step\n",
      "188/188 [==============================] - 0s 385us/step\n",
      "188/188 [==============================] - 0s 397us/step\n",
      "188/188 [==============================] - 0s 378us/step\n",
      "188/188 [==============================] - 0s 380us/step\n"
     ]
    },
    {
     "name": "stderr",
     "output_type": "stream",
     "text": [
      "/Users/raveel/miniconda3/envs/tf/lib/python3.11/site-packages/sklearn/model_selection/_validation.py:73: FutureWarning: `fit_params` is deprecated and will be removed in version 1.6. Pass parameters via `params` instead.\n",
      "  warnings.warn(\n"
     ]
    },
    {
     "name": "stdout",
     "output_type": "stream",
     "text": [
      "188/188 [==============================] - 0s 381us/step\n",
      "188/188 [==============================] - 0s 382us/step\n",
      "188/188 [==============================] - 0s 382us/step\n",
      "188/188 [==============================] - 0s 384us/step\n",
      "188/188 [==============================] - 0s 383us/step\n"
     ]
    },
    {
     "name": "stderr",
     "output_type": "stream",
     "text": [
      "/Users/raveel/miniconda3/envs/tf/lib/python3.11/site-packages/sklearn/model_selection/_validation.py:73: FutureWarning: `fit_params` is deprecated and will be removed in version 1.6. Pass parameters via `params` instead.\n",
      "  warnings.warn(\n"
     ]
    },
    {
     "name": "stdout",
     "output_type": "stream",
     "text": [
      "188/188 [==============================] - 0s 380us/step\n",
      "188/188 [==============================] - 0s 381us/step\n",
      "188/188 [==============================] - 0s 381us/step\n",
      "188/188 [==============================] - 0s 398us/step\n",
      "188/188 [==============================] - 0s 380us/step\n"
     ]
    },
    {
     "name": "stderr",
     "output_type": "stream",
     "text": [
      "/Users/raveel/miniconda3/envs/tf/lib/python3.11/site-packages/sklearn/model_selection/_validation.py:73: FutureWarning: `fit_params` is deprecated and will be removed in version 1.6. Pass parameters via `params` instead.\n",
      "  warnings.warn(\n"
     ]
    },
    {
     "name": "stdout",
     "output_type": "stream",
     "text": [
      "188/188 [==============================] - 0s 383us/step\n",
      "188/188 [==============================] - 0s 377us/step\n",
      "188/188 [==============================] - 0s 380us/step\n",
      "188/188 [==============================] - 0s 379us/step\n",
      "188/188 [==============================] - 0s 388us/step\n"
     ]
    },
    {
     "name": "stderr",
     "output_type": "stream",
     "text": [
      "/Users/raveel/miniconda3/envs/tf/lib/python3.11/site-packages/sklearn/model_selection/_validation.py:73: FutureWarning: `fit_params` is deprecated and will be removed in version 1.6. Pass parameters via `params` instead.\n",
      "  warnings.warn(\n"
     ]
    },
    {
     "name": "stdout",
     "output_type": "stream",
     "text": [
      "188/188 [==============================] - 0s 493us/step\n",
      "188/188 [==============================] - 0s 391us/step\n",
      "188/188 [==============================] - 0s 383us/step\n",
      "188/188 [==============================] - 0s 399us/step\n",
      "188/188 [==============================] - 0s 400us/step\n"
     ]
    },
    {
     "name": "stderr",
     "output_type": "stream",
     "text": [
      "/Users/raveel/miniconda3/envs/tf/lib/python3.11/site-packages/sklearn/model_selection/_validation.py:73: FutureWarning: `fit_params` is deprecated and will be removed in version 1.6. Pass parameters via `params` instead.\n",
      "  warnings.warn(\n"
     ]
    },
    {
     "name": "stdout",
     "output_type": "stream",
     "text": [
      "188/188 [==============================] - 0s 377us/step\n",
      "188/188 [==============================] - 0s 382us/step\n",
      "188/188 [==============================] - 0s 380us/step\n",
      "188/188 [==============================] - 0s 390us/step\n",
      "188/188 [==============================] - 0s 382us/step\n"
     ]
    },
    {
     "name": "stderr",
     "output_type": "stream",
     "text": [
      "/Users/raveel/miniconda3/envs/tf/lib/python3.11/site-packages/sklearn/model_selection/_validation.py:73: FutureWarning: `fit_params` is deprecated and will be removed in version 1.6. Pass parameters via `params` instead.\n",
      "  warnings.warn(\n"
     ]
    },
    {
     "name": "stdout",
     "output_type": "stream",
     "text": [
      "188/188 [==============================] - 0s 385us/step\n",
      "188/188 [==============================] - 0s 385us/step\n",
      "188/188 [==============================] - 0s 382us/step\n",
      "188/188 [==============================] - 0s 398us/step\n",
      "188/188 [==============================] - 0s 385us/step\n"
     ]
    },
    {
     "name": "stderr",
     "output_type": "stream",
     "text": [
      "/Users/raveel/miniconda3/envs/tf/lib/python3.11/site-packages/sklearn/model_selection/_validation.py:73: FutureWarning: `fit_params` is deprecated and will be removed in version 1.6. Pass parameters via `params` instead.\n",
      "  warnings.warn(\n"
     ]
    },
    {
     "name": "stdout",
     "output_type": "stream",
     "text": [
      "188/188 [==============================] - 0s 382us/step\n",
      "188/188 [==============================] - 0s 385us/step\n",
      "188/188 [==============================] - 0s 386us/step\n",
      "188/188 [==============================] - 0s 380us/step\n",
      "188/188 [==============================] - 0s 382us/step\n"
     ]
    },
    {
     "name": "stderr",
     "output_type": "stream",
     "text": [
      "/Users/raveel/miniconda3/envs/tf/lib/python3.11/site-packages/sklearn/model_selection/_validation.py:73: FutureWarning: `fit_params` is deprecated and will be removed in version 1.6. Pass parameters via `params` instead.\n",
      "  warnings.warn(\n"
     ]
    },
    {
     "name": "stdout",
     "output_type": "stream",
     "text": [
      "188/188 [==============================] - 0s 380us/step\n",
      "188/188 [==============================] - 0s 437us/step\n",
      "188/188 [==============================] - 0s 392us/step\n",
      "188/188 [==============================] - 0s 378us/step\n",
      "188/188 [==============================] - 0s 386us/step\n"
     ]
    },
    {
     "name": "stderr",
     "output_type": "stream",
     "text": [
      "/Users/raveel/miniconda3/envs/tf/lib/python3.11/site-packages/sklearn/model_selection/_validation.py:73: FutureWarning: `fit_params` is deprecated and will be removed in version 1.6. Pass parameters via `params` instead.\n",
      "  warnings.warn(\n"
     ]
    },
    {
     "name": "stdout",
     "output_type": "stream",
     "text": [
      "188/188 [==============================] - 0s 382us/step\n",
      "188/188 [==============================] - 0s 380us/step\n",
      "188/188 [==============================] - 0s 383us/step\n",
      "188/188 [==============================] - 0s 401us/step\n",
      "188/188 [==============================] - 0s 382us/step\n"
     ]
    },
    {
     "name": "stderr",
     "output_type": "stream",
     "text": [
      "/Users/raveel/miniconda3/envs/tf/lib/python3.11/site-packages/sklearn/model_selection/_validation.py:73: FutureWarning: `fit_params` is deprecated and will be removed in version 1.6. Pass parameters via `params` instead.\n",
      "  warnings.warn(\n"
     ]
    },
    {
     "name": "stdout",
     "output_type": "stream",
     "text": [
      "188/188 [==============================] - 0s 382us/step\n",
      "188/188 [==============================] - 0s 381us/step\n",
      "188/188 [==============================] - 0s 394us/step\n",
      "188/188 [==============================] - 0s 381us/step\n",
      "188/188 [==============================] - 0s 482us/step\n"
     ]
    },
    {
     "name": "stderr",
     "output_type": "stream",
     "text": [
      "/Users/raveel/miniconda3/envs/tf/lib/python3.11/site-packages/sklearn/model_selection/_validation.py:73: FutureWarning: `fit_params` is deprecated and will be removed in version 1.6. Pass parameters via `params` instead.\n",
      "  warnings.warn(\n"
     ]
    },
    {
     "name": "stdout",
     "output_type": "stream",
     "text": [
      "188/188 [==============================] - 0s 382us/step\n",
      "188/188 [==============================] - 0s 383us/step\n",
      "188/188 [==============================] - 0s 382us/step\n",
      "188/188 [==============================] - 0s 382us/step\n",
      "188/188 [==============================] - 0s 379us/step\n"
     ]
    },
    {
     "name": "stderr",
     "output_type": "stream",
     "text": [
      "/Users/raveel/miniconda3/envs/tf/lib/python3.11/site-packages/sklearn/model_selection/_validation.py:73: FutureWarning: `fit_params` is deprecated and will be removed in version 1.6. Pass parameters via `params` instead.\n",
      "  warnings.warn(\n"
     ]
    },
    {
     "name": "stdout",
     "output_type": "stream",
     "text": [
      "188/188 [==============================] - 0s 382us/step\n",
      "188/188 [==============================] - 0s 387us/step\n",
      "188/188 [==============================] - 0s 402us/step\n",
      "188/188 [==============================] - 0s 385us/step\n",
      "188/188 [==============================] - 0s 383us/step\n"
     ]
    },
    {
     "name": "stderr",
     "output_type": "stream",
     "text": [
      "/Users/raveel/miniconda3/envs/tf/lib/python3.11/site-packages/sklearn/model_selection/_validation.py:73: FutureWarning: `fit_params` is deprecated and will be removed in version 1.6. Pass parameters via `params` instead.\n",
      "  warnings.warn(\n"
     ]
    },
    {
     "name": "stdout",
     "output_type": "stream",
     "text": [
      "188/188 [==============================] - 0s 381us/step\n",
      "188/188 [==============================] - 0s 381us/step\n",
      "188/188 [==============================] - 0s 383us/step\n",
      "188/188 [==============================] - 0s 383us/step\n",
      "188/188 [==============================] - 0s 380us/step\n"
     ]
    },
    {
     "name": "stderr",
     "output_type": "stream",
     "text": [
      "/Users/raveel/miniconda3/envs/tf/lib/python3.11/site-packages/sklearn/model_selection/_validation.py:73: FutureWarning: `fit_params` is deprecated and will be removed in version 1.6. Pass parameters via `params` instead.\n",
      "  warnings.warn(\n"
     ]
    },
    {
     "name": "stdout",
     "output_type": "stream",
     "text": [
      "188/188 [==============================] - 0s 381us/step\n",
      "188/188 [==============================] - 0s 383us/step\n",
      "188/188 [==============================] - 0s 396us/step\n",
      "188/188 [==============================] - 0s 391us/step\n",
      "188/188 [==============================] - 0s 383us/step\n"
     ]
    },
    {
     "name": "stderr",
     "output_type": "stream",
     "text": [
      "/Users/raveel/miniconda3/envs/tf/lib/python3.11/site-packages/sklearn/model_selection/_validation.py:73: FutureWarning: `fit_params` is deprecated and will be removed in version 1.6. Pass parameters via `params` instead.\n",
      "  warnings.warn(\n"
     ]
    },
    {
     "name": "stdout",
     "output_type": "stream",
     "text": [
      "188/188 [==============================] - 0s 386us/step\n",
      "188/188 [==============================] - 0s 384us/step\n",
      "188/188 [==============================] - 0s 388us/step\n",
      "188/188 [==============================] - 0s 384us/step\n",
      "188/188 [==============================] - 0s 378us/step\n"
     ]
    },
    {
     "name": "stderr",
     "output_type": "stream",
     "text": [
      "/Users/raveel/miniconda3/envs/tf/lib/python3.11/site-packages/sklearn/model_selection/_validation.py:73: FutureWarning: `fit_params` is deprecated and will be removed in version 1.6. Pass parameters via `params` instead.\n",
      "  warnings.warn(\n"
     ]
    },
    {
     "name": "stdout",
     "output_type": "stream",
     "text": [
      "188/188 [==============================] - 0s 383us/step\n",
      "188/188 [==============================] - 0s 418us/step\n",
      "188/188 [==============================] - 0s 385us/step\n",
      "188/188 [==============================] - 0s 381us/step\n",
      "188/188 [==============================] - 0s 391us/step\n"
     ]
    },
    {
     "name": "stderr",
     "output_type": "stream",
     "text": [
      "/Users/raveel/miniconda3/envs/tf/lib/python3.11/site-packages/sklearn/model_selection/_validation.py:73: FutureWarning: `fit_params` is deprecated and will be removed in version 1.6. Pass parameters via `params` instead.\n",
      "  warnings.warn(\n"
     ]
    },
    {
     "name": "stdout",
     "output_type": "stream",
     "text": [
      "188/188 [==============================] - 0s 392us/step\n",
      "188/188 [==============================] - 0s 383us/step\n",
      "188/188 [==============================] - 0s 383us/step\n",
      "188/188 [==============================] - 0s 391us/step\n",
      "188/188 [==============================] - 0s 381us/step\n"
     ]
    },
    {
     "name": "stderr",
     "output_type": "stream",
     "text": [
      "/Users/raveel/miniconda3/envs/tf/lib/python3.11/site-packages/sklearn/model_selection/_validation.py:73: FutureWarning: `fit_params` is deprecated and will be removed in version 1.6. Pass parameters via `params` instead.\n",
      "  warnings.warn(\n"
     ]
    },
    {
     "name": "stdout",
     "output_type": "stream",
     "text": [
      "188/188 [==============================] - 0s 385us/step\n",
      "188/188 [==============================] - 0s 383us/step\n",
      "188/188 [==============================] - 0s 411us/step\n",
      "188/188 [==============================] - 0s 382us/step\n",
      "188/188 [==============================] - 0s 382us/step\n"
     ]
    },
    {
     "name": "stderr",
     "output_type": "stream",
     "text": [
      "/Users/raveel/miniconda3/envs/tf/lib/python3.11/site-packages/sklearn/model_selection/_validation.py:73: FutureWarning: `fit_params` is deprecated and will be removed in version 1.6. Pass parameters via `params` instead.\n",
      "  warnings.warn(\n"
     ]
    },
    {
     "name": "stdout",
     "output_type": "stream",
     "text": [
      "188/188 [==============================] - 0s 390us/step\n",
      "188/188 [==============================] - 0s 381us/step\n",
      "188/188 [==============================] - 0s 382us/step\n",
      "188/188 [==============================] - 0s 381us/step\n",
      "188/188 [==============================] - 0s 383us/step\n"
     ]
    },
    {
     "name": "stderr",
     "output_type": "stream",
     "text": [
      "/Users/raveel/miniconda3/envs/tf/lib/python3.11/site-packages/sklearn/model_selection/_validation.py:73: FutureWarning: `fit_params` is deprecated and will be removed in version 1.6. Pass parameters via `params` instead.\n",
      "  warnings.warn(\n"
     ]
    },
    {
     "name": "stdout",
     "output_type": "stream",
     "text": [
      "188/188 [==============================] - 0s 384us/step\n",
      "188/188 [==============================] - 0s 385us/step\n",
      "188/188 [==============================] - 0s 387us/step\n",
      "188/188 [==============================] - 0s 413us/step\n",
      "188/188 [==============================] - 0s 380us/step\n"
     ]
    },
    {
     "name": "stderr",
     "output_type": "stream",
     "text": [
      "/Users/raveel/miniconda3/envs/tf/lib/python3.11/site-packages/sklearn/model_selection/_validation.py:73: FutureWarning: `fit_params` is deprecated and will be removed in version 1.6. Pass parameters via `params` instead.\n",
      "  warnings.warn(\n"
     ]
    },
    {
     "name": "stdout",
     "output_type": "stream",
     "text": [
      "188/188 [==============================] - 0s 382us/step\n",
      "188/188 [==============================] - 0s 396us/step\n",
      "188/188 [==============================] - 0s 435us/step\n",
      "188/188 [==============================] - 0s 391us/step\n",
      "188/188 [==============================] - 0s 387us/step\n"
     ]
    },
    {
     "name": "stderr",
     "output_type": "stream",
     "text": [
      "/Users/raveel/miniconda3/envs/tf/lib/python3.11/site-packages/sklearn/model_selection/_validation.py:73: FutureWarning: `fit_params` is deprecated and will be removed in version 1.6. Pass parameters via `params` instead.\n",
      "  warnings.warn(\n"
     ]
    },
    {
     "name": "stdout",
     "output_type": "stream",
     "text": [
      "188/188 [==============================] - 0s 385us/step\n",
      "188/188 [==============================] - 0s 382us/step\n",
      "188/188 [==============================] - 0s 382us/step\n",
      "188/188 [==============================] - 0s 380us/step\n",
      "188/188 [==============================] - 0s 378us/step\n"
     ]
    },
    {
     "name": "stderr",
     "output_type": "stream",
     "text": [
      "/Users/raveel/miniconda3/envs/tf/lib/python3.11/site-packages/sklearn/model_selection/_validation.py:73: FutureWarning: `fit_params` is deprecated and will be removed in version 1.6. Pass parameters via `params` instead.\n",
      "  warnings.warn(\n"
     ]
    },
    {
     "name": "stdout",
     "output_type": "stream",
     "text": [
      "188/188 [==============================] - 0s 383us/step\n",
      "188/188 [==============================] - 0s 385us/step\n",
      "188/188 [==============================] - 0s 384us/step\n",
      "188/188 [==============================] - 0s 388us/step\n",
      "188/188 [==============================] - 0s 384us/step\n"
     ]
    },
    {
     "name": "stderr",
     "output_type": "stream",
     "text": [
      "/Users/raveel/miniconda3/envs/tf/lib/python3.11/site-packages/sklearn/model_selection/_validation.py:73: FutureWarning: `fit_params` is deprecated and will be removed in version 1.6. Pass parameters via `params` instead.\n",
      "  warnings.warn(\n"
     ]
    },
    {
     "name": "stdout",
     "output_type": "stream",
     "text": [
      "188/188 [==============================] - 0s 385us/step\n",
      "188/188 [==============================] - 0s 412us/step\n",
      "188/188 [==============================] - 0s 387us/step\n",
      "188/188 [==============================] - 0s 380us/step\n",
      "188/188 [==============================] - 0s 380us/step\n"
     ]
    },
    {
     "name": "stderr",
     "output_type": "stream",
     "text": [
      "/Users/raveel/miniconda3/envs/tf/lib/python3.11/site-packages/sklearn/model_selection/_validation.py:73: FutureWarning: `fit_params` is deprecated and will be removed in version 1.6. Pass parameters via `params` instead.\n",
      "  warnings.warn(\n"
     ]
    },
    {
     "name": "stdout",
     "output_type": "stream",
     "text": [
      "188/188 [==============================] - 0s 378us/step\n",
      "188/188 [==============================] - 0s 385us/step\n",
      "188/188 [==============================] - 0s 392us/step\n",
      "188/188 [==============================] - 0s 381us/step\n",
      "188/188 [==============================] - 0s 381us/step\n"
     ]
    },
    {
     "name": "stderr",
     "output_type": "stream",
     "text": [
      "/Users/raveel/miniconda3/envs/tf/lib/python3.11/site-packages/sklearn/model_selection/_validation.py:73: FutureWarning: `fit_params` is deprecated and will be removed in version 1.6. Pass parameters via `params` instead.\n",
      "  warnings.warn(\n"
     ]
    },
    {
     "name": "stdout",
     "output_type": "stream",
     "text": [
      "188/188 [==============================] - 0s 382us/step\n",
      "188/188 [==============================] - 0s 382us/step\n",
      "188/188 [==============================] - 0s 406us/step\n",
      "188/188 [==============================] - 0s 382us/step\n",
      "188/188 [==============================] - 0s 385us/step\n"
     ]
    },
    {
     "name": "stderr",
     "output_type": "stream",
     "text": [
      "/Users/raveel/miniconda3/envs/tf/lib/python3.11/site-packages/sklearn/model_selection/_validation.py:73: FutureWarning: `fit_params` is deprecated and will be removed in version 1.6. Pass parameters via `params` instead.\n",
      "  warnings.warn(\n"
     ]
    },
    {
     "name": "stdout",
     "output_type": "stream",
     "text": [
      "188/188 [==============================] - 0s 389us/step\n",
      "188/188 [==============================] - 0s 385us/step\n",
      "188/188 [==============================] - 0s 386us/step\n",
      "188/188 [==============================] - 0s 381us/step\n",
      "188/188 [==============================] - 0s 383us/step\n"
     ]
    },
    {
     "name": "stderr",
     "output_type": "stream",
     "text": [
      "/Users/raveel/miniconda3/envs/tf/lib/python3.11/site-packages/sklearn/model_selection/_validation.py:73: FutureWarning: `fit_params` is deprecated and will be removed in version 1.6. Pass parameters via `params` instead.\n",
      "  warnings.warn(\n"
     ]
    },
    {
     "name": "stdout",
     "output_type": "stream",
     "text": [
      "188/188 [==============================] - 0s 382us/step\n",
      "188/188 [==============================] - 0s 382us/step\n",
      "188/188 [==============================] - 0s 386us/step\n",
      "188/188 [==============================] - 0s 380us/step\n",
      "188/188 [==============================] - 0s 390us/step\n"
     ]
    },
    {
     "name": "stderr",
     "output_type": "stream",
     "text": [
      "/Users/raveel/miniconda3/envs/tf/lib/python3.11/site-packages/sklearn/model_selection/_validation.py:73: FutureWarning: `fit_params` is deprecated and will be removed in version 1.6. Pass parameters via `params` instead.\n",
      "  warnings.warn(\n"
     ]
    },
    {
     "name": "stdout",
     "output_type": "stream",
     "text": [
      "188/188 [==============================] - 0s 382us/step\n",
      "188/188 [==============================] - 0s 385us/step\n",
      "188/188 [==============================] - 0s 382us/step\n",
      "188/188 [==============================] - 0s 440us/step\n",
      "188/188 [==============================] - 0s 381us/step\n"
     ]
    },
    {
     "name": "stderr",
     "output_type": "stream",
     "text": [
      "/Users/raveel/miniconda3/envs/tf/lib/python3.11/site-packages/sklearn/model_selection/_validation.py:73: FutureWarning: `fit_params` is deprecated and will be removed in version 1.6. Pass parameters via `params` instead.\n",
      "  warnings.warn(\n"
     ]
    },
    {
     "name": "stdout",
     "output_type": "stream",
     "text": [
      "188/188 [==============================] - 0s 382us/step\n",
      "188/188 [==============================] - 0s 381us/step\n",
      "188/188 [==============================] - 0s 385us/step\n",
      "188/188 [==============================] - 0s 382us/step\n",
      "188/188 [==============================] - 0s 382us/step\n"
     ]
    },
    {
     "name": "stderr",
     "output_type": "stream",
     "text": [
      "/Users/raveel/miniconda3/envs/tf/lib/python3.11/site-packages/sklearn/model_selection/_validation.py:73: FutureWarning: `fit_params` is deprecated and will be removed in version 1.6. Pass parameters via `params` instead.\n",
      "  warnings.warn(\n"
     ]
    },
    {
     "name": "stdout",
     "output_type": "stream",
     "text": [
      "188/188 [==============================] - 0s 388us/step\n",
      "188/188 [==============================] - 0s 383us/step\n",
      "188/188 [==============================] - 0s 387us/step\n",
      "188/188 [==============================] - 0s 384us/step\n",
      "188/188 [==============================] - 0s 388us/step\n"
     ]
    },
    {
     "name": "stderr",
     "output_type": "stream",
     "text": [
      "/Users/raveel/miniconda3/envs/tf/lib/python3.11/site-packages/sklearn/model_selection/_validation.py:73: FutureWarning: `fit_params` is deprecated and will be removed in version 1.6. Pass parameters via `params` instead.\n",
      "  warnings.warn(\n"
     ]
    },
    {
     "name": "stdout",
     "output_type": "stream",
     "text": [
      "188/188 [==============================] - 0s 386us/step\n",
      "188/188 [==============================] - 0s 381us/step\n",
      "188/188 [==============================] - 0s 381us/step\n",
      "188/188 [==============================] - 0s 385us/step\n",
      "188/188 [==============================] - 0s 393us/step\n"
     ]
    },
    {
     "name": "stderr",
     "output_type": "stream",
     "text": [
      "/Users/raveel/miniconda3/envs/tf/lib/python3.11/site-packages/sklearn/model_selection/_validation.py:73: FutureWarning: `fit_params` is deprecated and will be removed in version 1.6. Pass parameters via `params` instead.\n",
      "  warnings.warn(\n"
     ]
    },
    {
     "name": "stdout",
     "output_type": "stream",
     "text": [
      "188/188 [==============================] - 0s 383us/step\n",
      "188/188 [==============================] - 0s 381us/step\n",
      "188/188 [==============================] - 0s 385us/step\n",
      "188/188 [==============================] - 0s 384us/step\n",
      "188/188 [==============================] - 0s 380us/step\n"
     ]
    },
    {
     "name": "stderr",
     "output_type": "stream",
     "text": [
      "/Users/raveel/miniconda3/envs/tf/lib/python3.11/site-packages/sklearn/model_selection/_validation.py:73: FutureWarning: `fit_params` is deprecated and will be removed in version 1.6. Pass parameters via `params` instead.\n",
      "  warnings.warn(\n"
     ]
    },
    {
     "name": "stdout",
     "output_type": "stream",
     "text": [
      "188/188 [==============================] - 0s 382us/step\n",
      "188/188 [==============================] - 0s 380us/step\n",
      "188/188 [==============================] - 0s 385us/step\n",
      "188/188 [==============================] - 0s 401us/step\n",
      "188/188 [==============================] - 0s 413us/step\n"
     ]
    },
    {
     "name": "stderr",
     "output_type": "stream",
     "text": [
      "/Users/raveel/miniconda3/envs/tf/lib/python3.11/site-packages/sklearn/model_selection/_validation.py:73: FutureWarning: `fit_params` is deprecated and will be removed in version 1.6. Pass parameters via `params` instead.\n",
      "  warnings.warn(\n"
     ]
    },
    {
     "name": "stdout",
     "output_type": "stream",
     "text": [
      "188/188 [==============================] - 0s 411us/step\n",
      "188/188 [==============================] - 0s 384us/step\n",
      "188/188 [==============================] - 0s 391us/step\n",
      "188/188 [==============================] - 0s 385us/step\n",
      "188/188 [==============================] - 0s 380us/step\n"
     ]
    },
    {
     "name": "stderr",
     "output_type": "stream",
     "text": [
      "/Users/raveel/miniconda3/envs/tf/lib/python3.11/site-packages/sklearn/model_selection/_validation.py:73: FutureWarning: `fit_params` is deprecated and will be removed in version 1.6. Pass parameters via `params` instead.\n",
      "  warnings.warn(\n"
     ]
    },
    {
     "name": "stdout",
     "output_type": "stream",
     "text": [
      "188/188 [==============================] - 0s 379us/step\n",
      "188/188 [==============================] - 0s 382us/step\n",
      "188/188 [==============================] - 0s 383us/step\n",
      "188/188 [==============================] - 0s 394us/step\n",
      "188/188 [==============================] - 0s 383us/step\n"
     ]
    },
    {
     "name": "stderr",
     "output_type": "stream",
     "text": [
      "/Users/raveel/miniconda3/envs/tf/lib/python3.11/site-packages/sklearn/model_selection/_validation.py:73: FutureWarning: `fit_params` is deprecated and will be removed in version 1.6. Pass parameters via `params` instead.\n",
      "  warnings.warn(\n"
     ]
    },
    {
     "name": "stdout",
     "output_type": "stream",
     "text": [
      "188/188 [==============================] - 0s 408us/step\n",
      "188/188 [==============================] - 0s 383us/step\n",
      "188/188 [==============================] - 0s 394us/step\n",
      "188/188 [==============================] - 0s 384us/step\n",
      "188/188 [==============================] - 0s 381us/step\n"
     ]
    },
    {
     "name": "stderr",
     "output_type": "stream",
     "text": [
      "/Users/raveel/miniconda3/envs/tf/lib/python3.11/site-packages/sklearn/model_selection/_validation.py:73: FutureWarning: `fit_params` is deprecated and will be removed in version 1.6. Pass parameters via `params` instead.\n",
      "  warnings.warn(\n"
     ]
    },
    {
     "name": "stdout",
     "output_type": "stream",
     "text": [
      "188/188 [==============================] - 0s 386us/step\n",
      "188/188 [==============================] - 0s 383us/step\n",
      "188/188 [==============================] - 0s 385us/step\n",
      "188/188 [==============================] - 0s 383us/step\n",
      "188/188 [==============================] - 0s 381us/step\n"
     ]
    },
    {
     "name": "stderr",
     "output_type": "stream",
     "text": [
      "/Users/raveel/miniconda3/envs/tf/lib/python3.11/site-packages/sklearn/model_selection/_validation.py:73: FutureWarning: `fit_params` is deprecated and will be removed in version 1.6. Pass parameters via `params` instead.\n",
      "  warnings.warn(\n"
     ]
    },
    {
     "name": "stdout",
     "output_type": "stream",
     "text": [
      "188/188 [==============================] - 0s 381us/step\n",
      "188/188 [==============================] - 0s 379us/step\n",
      "188/188 [==============================] - 0s 382us/step\n",
      "188/188 [==============================] - 0s 378us/step\n",
      "188/188 [==============================] - 0s 412us/step\n"
     ]
    },
    {
     "name": "stderr",
     "output_type": "stream",
     "text": [
      "/Users/raveel/miniconda3/envs/tf/lib/python3.11/site-packages/sklearn/model_selection/_validation.py:73: FutureWarning: `fit_params` is deprecated and will be removed in version 1.6. Pass parameters via `params` instead.\n",
      "  warnings.warn(\n"
     ]
    },
    {
     "name": "stdout",
     "output_type": "stream",
     "text": [
      "188/188 [==============================] - 0s 383us/step\n",
      "188/188 [==============================] - 0s 394us/step\n",
      "188/188 [==============================] - 0s 382us/step\n",
      "188/188 [==============================] - 0s 384us/step\n",
      "188/188 [==============================] - 0s 380us/step\n"
     ]
    },
    {
     "name": "stderr",
     "output_type": "stream",
     "text": [
      "/Users/raveel/miniconda3/envs/tf/lib/python3.11/site-packages/sklearn/model_selection/_validation.py:73: FutureWarning: `fit_params` is deprecated and will be removed in version 1.6. Pass parameters via `params` instead.\n",
      "  warnings.warn(\n"
     ]
    },
    {
     "name": "stdout",
     "output_type": "stream",
     "text": [
      "188/188 [==============================] - 0s 397us/step\n",
      "188/188 [==============================] - 0s 385us/step\n",
      "188/188 [==============================] - 0s 382us/step\n",
      "188/188 [==============================] - 0s 397us/step\n",
      "188/188 [==============================] - 0s 384us/step\n"
     ]
    },
    {
     "name": "stderr",
     "output_type": "stream",
     "text": [
      "/Users/raveel/miniconda3/envs/tf/lib/python3.11/site-packages/sklearn/model_selection/_validation.py:73: FutureWarning: `fit_params` is deprecated and will be removed in version 1.6. Pass parameters via `params` instead.\n",
      "  warnings.warn(\n"
     ]
    },
    {
     "name": "stdout",
     "output_type": "stream",
     "text": [
      "188/188 [==============================] - 0s 381us/step\n",
      "188/188 [==============================] - 0s 384us/step\n",
      "188/188 [==============================] - 0s 479us/step\n",
      "188/188 [==============================] - 0s 384us/step\n",
      "188/188 [==============================] - 0s 396us/step\n"
     ]
    },
    {
     "name": "stderr",
     "output_type": "stream",
     "text": [
      "/Users/raveel/miniconda3/envs/tf/lib/python3.11/site-packages/sklearn/model_selection/_validation.py:73: FutureWarning: `fit_params` is deprecated and will be removed in version 1.6. Pass parameters via `params` instead.\n",
      "  warnings.warn(\n"
     ]
    },
    {
     "name": "stdout",
     "output_type": "stream",
     "text": [
      "188/188 [==============================] - 0s 383us/step\n",
      "188/188 [==============================] - 0s 385us/step\n",
      "188/188 [==============================] - 0s 383us/step\n",
      "188/188 [==============================] - 0s 385us/step\n",
      "188/188 [==============================] - 0s 383us/step\n"
     ]
    },
    {
     "name": "stderr",
     "output_type": "stream",
     "text": [
      "/Users/raveel/miniconda3/envs/tf/lib/python3.11/site-packages/sklearn/model_selection/_validation.py:73: FutureWarning: `fit_params` is deprecated and will be removed in version 1.6. Pass parameters via `params` instead.\n",
      "  warnings.warn(\n"
     ]
    },
    {
     "name": "stdout",
     "output_type": "stream",
     "text": [
      "188/188 [==============================] - 0s 397us/step\n",
      "188/188 [==============================] - 0s 382us/step\n",
      "188/188 [==============================] - 0s 383us/step\n",
      "188/188 [==============================] - 0s 382us/step\n",
      "188/188 [==============================] - 0s 392us/step\n"
     ]
    },
    {
     "name": "stderr",
     "output_type": "stream",
     "text": [
      "/Users/raveel/miniconda3/envs/tf/lib/python3.11/site-packages/sklearn/model_selection/_validation.py:73: FutureWarning: `fit_params` is deprecated and will be removed in version 1.6. Pass parameters via `params` instead.\n",
      "  warnings.warn(\n"
     ]
    },
    {
     "name": "stdout",
     "output_type": "stream",
     "text": [
      "188/188 [==============================] - 0s 383us/step\n",
      "188/188 [==============================] - 0s 381us/step\n",
      "188/188 [==============================] - 0s 392us/step\n",
      "188/188 [==============================] - 0s 391us/step\n",
      "188/188 [==============================] - 0s 387us/step\n"
     ]
    },
    {
     "name": "stderr",
     "output_type": "stream",
     "text": [
      "/Users/raveel/miniconda3/envs/tf/lib/python3.11/site-packages/sklearn/model_selection/_validation.py:73: FutureWarning: `fit_params` is deprecated and will be removed in version 1.6. Pass parameters via `params` instead.\n",
      "  warnings.warn(\n"
     ]
    },
    {
     "name": "stdout",
     "output_type": "stream",
     "text": [
      "188/188 [==============================] - 0s 388us/step\n",
      "188/188 [==============================] - 0s 384us/step\n",
      "188/188 [==============================] - 0s 417us/step\n",
      "188/188 [==============================] - 0s 384us/step\n",
      "188/188 [==============================] - 0s 381us/step\n"
     ]
    },
    {
     "name": "stderr",
     "output_type": "stream",
     "text": [
      "/Users/raveel/miniconda3/envs/tf/lib/python3.11/site-packages/sklearn/model_selection/_validation.py:73: FutureWarning: `fit_params` is deprecated and will be removed in version 1.6. Pass parameters via `params` instead.\n",
      "  warnings.warn(\n"
     ]
    },
    {
     "name": "stdout",
     "output_type": "stream",
     "text": [
      "188/188 [==============================] - 0s 382us/step\n",
      "188/188 [==============================] - 0s 380us/step\n",
      "188/188 [==============================] - 0s 382us/step\n",
      "188/188 [==============================] - 0s 380us/step\n",
      "188/188 [==============================] - 0s 383us/step\n"
     ]
    },
    {
     "name": "stderr",
     "output_type": "stream",
     "text": [
      "/Users/raveel/miniconda3/envs/tf/lib/python3.11/site-packages/sklearn/model_selection/_validation.py:73: FutureWarning: `fit_params` is deprecated and will be removed in version 1.6. Pass parameters via `params` instead.\n",
      "  warnings.warn(\n"
     ]
    },
    {
     "name": "stdout",
     "output_type": "stream",
     "text": [
      "188/188 [==============================] - 0s 382us/step\n",
      "188/188 [==============================] - 0s 380us/step\n",
      "188/188 [==============================] - 0s 384us/step\n",
      "188/188 [==============================] - 0s 384us/step\n",
      "188/188 [==============================] - 0s 385us/step\n"
     ]
    },
    {
     "name": "stderr",
     "output_type": "stream",
     "text": [
      "/Users/raveel/miniconda3/envs/tf/lib/python3.11/site-packages/sklearn/model_selection/_validation.py:73: FutureWarning: `fit_params` is deprecated and will be removed in version 1.6. Pass parameters via `params` instead.\n",
      "  warnings.warn(\n"
     ]
    },
    {
     "name": "stdout",
     "output_type": "stream",
     "text": [
      "188/188 [==============================] - 0s 388us/step\n",
      "188/188 [==============================] - 0s 383us/step\n",
      "188/188 [==============================] - 0s 381us/step\n",
      "188/188 [==============================] - 0s 399us/step\n",
      "188/188 [==============================] - 0s 383us/step\n"
     ]
    },
    {
     "name": "stderr",
     "output_type": "stream",
     "text": [
      "/Users/raveel/miniconda3/envs/tf/lib/python3.11/site-packages/sklearn/model_selection/_validation.py:73: FutureWarning: `fit_params` is deprecated and will be removed in version 1.6. Pass parameters via `params` instead.\n",
      "  warnings.warn(\n"
     ]
    },
    {
     "name": "stdout",
     "output_type": "stream",
     "text": [
      "188/188 [==============================] - 0s 383us/step\n",
      "188/188 [==============================] - 0s 380us/step\n",
      "188/188 [==============================] - 0s 432us/step\n",
      "188/188 [==============================] - 0s 418us/step\n",
      "188/188 [==============================] - 0s 602us/step\n"
     ]
    },
    {
     "name": "stderr",
     "output_type": "stream",
     "text": [
      "/Users/raveel/miniconda3/envs/tf/lib/python3.11/site-packages/sklearn/model_selection/_validation.py:73: FutureWarning: `fit_params` is deprecated and will be removed in version 1.6. Pass parameters via `params` instead.\n",
      "  warnings.warn(\n"
     ]
    },
    {
     "name": "stdout",
     "output_type": "stream",
     "text": [
      "188/188 [==============================] - 0s 389us/step\n",
      "188/188 [==============================] - 0s 387us/step\n",
      "188/188 [==============================] - 0s 385us/step\n",
      "188/188 [==============================] - 0s 382us/step\n",
      "188/188 [==============================] - 0s 387us/step\n"
     ]
    },
    {
     "name": "stderr",
     "output_type": "stream",
     "text": [
      "/Users/raveel/miniconda3/envs/tf/lib/python3.11/site-packages/sklearn/model_selection/_validation.py:73: FutureWarning: `fit_params` is deprecated and will be removed in version 1.6. Pass parameters via `params` instead.\n",
      "  warnings.warn(\n"
     ]
    },
    {
     "name": "stdout",
     "output_type": "stream",
     "text": [
      "188/188 [==============================] - 0s 380us/step\n",
      "188/188 [==============================] - 0s 382us/step\n",
      "188/188 [==============================] - 0s 381us/step\n",
      "188/188 [==============================] - 0s 383us/step\n",
      "188/188 [==============================] - 0s 382us/step\n"
     ]
    },
    {
     "name": "stderr",
     "output_type": "stream",
     "text": [
      "/Users/raveel/miniconda3/envs/tf/lib/python3.11/site-packages/sklearn/model_selection/_validation.py:73: FutureWarning: `fit_params` is deprecated and will be removed in version 1.6. Pass parameters via `params` instead.\n",
      "  warnings.warn(\n"
     ]
    },
    {
     "name": "stdout",
     "output_type": "stream",
     "text": [
      "188/188 [==============================] - 0s 390us/step\n",
      "188/188 [==============================] - 0s 381us/step\n",
      "188/188 [==============================] - 0s 380us/step\n",
      "188/188 [==============================] - 0s 385us/step\n",
      "188/188 [==============================] - 0s 382us/step\n"
     ]
    },
    {
     "name": "stderr",
     "output_type": "stream",
     "text": [
      "/Users/raveel/miniconda3/envs/tf/lib/python3.11/site-packages/sklearn/model_selection/_validation.py:73: FutureWarning: `fit_params` is deprecated and will be removed in version 1.6. Pass parameters via `params` instead.\n",
      "  warnings.warn(\n"
     ]
    },
    {
     "name": "stdout",
     "output_type": "stream",
     "text": [
      "188/188 [==============================] - 0s 387us/step\n",
      "188/188 [==============================] - 0s 386us/step\n",
      "188/188 [==============================] - 0s 386us/step\n",
      "188/188 [==============================] - 0s 389us/step\n",
      "188/188 [==============================] - 0s 387us/step\n"
     ]
    },
    {
     "name": "stderr",
     "output_type": "stream",
     "text": [
      "/Users/raveel/miniconda3/envs/tf/lib/python3.11/site-packages/sklearn/model_selection/_validation.py:73: FutureWarning: `fit_params` is deprecated and will be removed in version 1.6. Pass parameters via `params` instead.\n",
      "  warnings.warn(\n"
     ]
    },
    {
     "name": "stdout",
     "output_type": "stream",
     "text": [
      "188/188 [==============================] - 0s 385us/step\n",
      "188/188 [==============================] - 0s 387us/step\n",
      "188/188 [==============================] - 0s 383us/step\n",
      "188/188 [==============================] - 0s 382us/step\n",
      "188/188 [==============================] - 0s 385us/step\n"
     ]
    },
    {
     "name": "stderr",
     "output_type": "stream",
     "text": [
      "/Users/raveel/miniconda3/envs/tf/lib/python3.11/site-packages/sklearn/model_selection/_validation.py:73: FutureWarning: `fit_params` is deprecated and will be removed in version 1.6. Pass parameters via `params` instead.\n",
      "  warnings.warn(\n"
     ]
    },
    {
     "name": "stdout",
     "output_type": "stream",
     "text": [
      "188/188 [==============================] - 0s 384us/step\n",
      "188/188 [==============================] - 0s 382us/step\n",
      "188/188 [==============================] - 0s 381us/step\n",
      "188/188 [==============================] - 0s 384us/step\n",
      "188/188 [==============================] - 0s 381us/step\n"
     ]
    },
    {
     "name": "stderr",
     "output_type": "stream",
     "text": [
      "/Users/raveel/miniconda3/envs/tf/lib/python3.11/site-packages/sklearn/model_selection/_validation.py:73: FutureWarning: `fit_params` is deprecated and will be removed in version 1.6. Pass parameters via `params` instead.\n",
      "  warnings.warn(\n"
     ]
    },
    {
     "name": "stdout",
     "output_type": "stream",
     "text": [
      "188/188 [==============================] - 0s 382us/step\n",
      "188/188 [==============================] - 0s 392us/step\n",
      "188/188 [==============================] - 0s 386us/step\n",
      "188/188 [==============================] - 0s 386us/step\n",
      "188/188 [==============================] - 0s 386us/step\n"
     ]
    },
    {
     "name": "stderr",
     "output_type": "stream",
     "text": [
      "/Users/raveel/miniconda3/envs/tf/lib/python3.11/site-packages/sklearn/model_selection/_validation.py:73: FutureWarning: `fit_params` is deprecated and will be removed in version 1.6. Pass parameters via `params` instead.\n",
      "  warnings.warn(\n"
     ]
    },
    {
     "name": "stdout",
     "output_type": "stream",
     "text": [
      "188/188 [==============================] - 0s 383us/step\n",
      "188/188 [==============================] - 0s 384us/step\n",
      "188/188 [==============================] - 0s 383us/step\n",
      "188/188 [==============================] - 0s 427us/step\n",
      "188/188 [==============================] - 0s 402us/step\n"
     ]
    },
    {
     "name": "stderr",
     "output_type": "stream",
     "text": [
      "/Users/raveel/miniconda3/envs/tf/lib/python3.11/site-packages/sklearn/model_selection/_validation.py:73: FutureWarning: `fit_params` is deprecated and will be removed in version 1.6. Pass parameters via `params` instead.\n",
      "  warnings.warn(\n"
     ]
    },
    {
     "name": "stdout",
     "output_type": "stream",
     "text": [
      "188/188 [==============================] - 0s 393us/step\n",
      "188/188 [==============================] - 0s 382us/step\n",
      "188/188 [==============================] - 0s 385us/step\n",
      "188/188 [==============================] - 0s 382us/step\n",
      "188/188 [==============================] - 0s 386us/step\n"
     ]
    },
    {
     "name": "stderr",
     "output_type": "stream",
     "text": [
      "/Users/raveel/miniconda3/envs/tf/lib/python3.11/site-packages/sklearn/model_selection/_validation.py:73: FutureWarning: `fit_params` is deprecated and will be removed in version 1.6. Pass parameters via `params` instead.\n",
      "  warnings.warn(\n"
     ]
    },
    {
     "name": "stdout",
     "output_type": "stream",
     "text": [
      "188/188 [==============================] - 0s 384us/step\n",
      "188/188 [==============================] - 0s 383us/step\n",
      "188/188 [==============================] - 0s 385us/step\n",
      "188/188 [==============================] - 0s 390us/step\n",
      "188/188 [==============================] - 0s 386us/step\n"
     ]
    },
    {
     "name": "stderr",
     "output_type": "stream",
     "text": [
      "/Users/raveel/miniconda3/envs/tf/lib/python3.11/site-packages/sklearn/model_selection/_validation.py:73: FutureWarning: `fit_params` is deprecated and will be removed in version 1.6. Pass parameters via `params` instead.\n",
      "  warnings.warn(\n"
     ]
    },
    {
     "name": "stdout",
     "output_type": "stream",
     "text": [
      "188/188 [==============================] - 0s 382us/step\n",
      "188/188 [==============================] - 0s 393us/step\n",
      "188/188 [==============================] - 0s 383us/step\n",
      "188/188 [==============================] - 0s 419us/step\n",
      "188/188 [==============================] - 0s 383us/step\n"
     ]
    },
    {
     "name": "stderr",
     "output_type": "stream",
     "text": [
      "/Users/raveel/miniconda3/envs/tf/lib/python3.11/site-packages/sklearn/model_selection/_validation.py:73: FutureWarning: `fit_params` is deprecated and will be removed in version 1.6. Pass parameters via `params` instead.\n",
      "  warnings.warn(\n"
     ]
    },
    {
     "name": "stdout",
     "output_type": "stream",
     "text": [
      "188/188 [==============================] - 0s 383us/step\n",
      "188/188 [==============================] - 0s 384us/step\n",
      "188/188 [==============================] - 0s 385us/step\n",
      "188/188 [==============================] - 0s 384us/step\n",
      "188/188 [==============================] - 0s 388us/step\n"
     ]
    },
    {
     "name": "stderr",
     "output_type": "stream",
     "text": [
      "/Users/raveel/miniconda3/envs/tf/lib/python3.11/site-packages/sklearn/model_selection/_validation.py:73: FutureWarning: `fit_params` is deprecated and will be removed in version 1.6. Pass parameters via `params` instead.\n",
      "  warnings.warn(\n"
     ]
    },
    {
     "name": "stdout",
     "output_type": "stream",
     "text": [
      "188/188 [==============================] - 0s 384us/step\n",
      "188/188 [==============================] - 0s 387us/step\n",
      "188/188 [==============================] - 0s 386us/step\n",
      "188/188 [==============================] - 0s 387us/step\n",
      "188/188 [==============================] - 0s 387us/step\n"
     ]
    },
    {
     "name": "stderr",
     "output_type": "stream",
     "text": [
      "/Users/raveel/miniconda3/envs/tf/lib/python3.11/site-packages/sklearn/model_selection/_validation.py:73: FutureWarning: `fit_params` is deprecated and will be removed in version 1.6. Pass parameters via `params` instead.\n",
      "  warnings.warn(\n"
     ]
    },
    {
     "name": "stdout",
     "output_type": "stream",
     "text": [
      "188/188 [==============================] - 0s 381us/step\n",
      "188/188 [==============================] - 0s 384us/step\n",
      "188/188 [==============================] - 0s 383us/step\n",
      "188/188 [==============================] - 0s 383us/step\n",
      "188/188 [==============================] - 0s 383us/step\n"
     ]
    },
    {
     "name": "stderr",
     "output_type": "stream",
     "text": [
      "/Users/raveel/miniconda3/envs/tf/lib/python3.11/site-packages/sklearn/model_selection/_validation.py:73: FutureWarning: `fit_params` is deprecated and will be removed in version 1.6. Pass parameters via `params` instead.\n",
      "  warnings.warn(\n"
     ]
    },
    {
     "name": "stdout",
     "output_type": "stream",
     "text": [
      "188/188 [==============================] - 0s 385us/step\n",
      "188/188 [==============================] - 0s 383us/step\n",
      "188/188 [==============================] - 0s 383us/step\n",
      "188/188 [==============================] - 0s 383us/step\n",
      "188/188 [==============================] - 0s 392us/step\n"
     ]
    },
    {
     "name": "stderr",
     "output_type": "stream",
     "text": [
      "/Users/raveel/miniconda3/envs/tf/lib/python3.11/site-packages/sklearn/model_selection/_validation.py:73: FutureWarning: `fit_params` is deprecated and will be removed in version 1.6. Pass parameters via `params` instead.\n",
      "  warnings.warn(\n"
     ]
    },
    {
     "name": "stdout",
     "output_type": "stream",
     "text": [
      "188/188 [==============================] - 0s 383us/step\n",
      "188/188 [==============================] - 0s 385us/step\n",
      "188/188 [==============================] - 0s 384us/step\n",
      "188/188 [==============================] - 0s 394us/step\n",
      "188/188 [==============================] - 0s 384us/step\n"
     ]
    },
    {
     "name": "stderr",
     "output_type": "stream",
     "text": [
      "/Users/raveel/miniconda3/envs/tf/lib/python3.11/site-packages/sklearn/model_selection/_validation.py:73: FutureWarning: `fit_params` is deprecated and will be removed in version 1.6. Pass parameters via `params` instead.\n",
      "  warnings.warn(\n"
     ]
    },
    {
     "name": "stdout",
     "output_type": "stream",
     "text": [
      "188/188 [==============================] - 0s 396us/step\n",
      "188/188 [==============================] - 0s 383us/step\n",
      "188/188 [==============================] - 0s 385us/step\n",
      "188/188 [==============================] - 0s 382us/step\n",
      "188/188 [==============================] - 0s 392us/step\n"
     ]
    },
    {
     "name": "stderr",
     "output_type": "stream",
     "text": [
      "/Users/raveel/miniconda3/envs/tf/lib/python3.11/site-packages/sklearn/model_selection/_validation.py:73: FutureWarning: `fit_params` is deprecated and will be removed in version 1.6. Pass parameters via `params` instead.\n",
      "  warnings.warn(\n"
     ]
    },
    {
     "name": "stdout",
     "output_type": "stream",
     "text": [
      "188/188 [==============================] - 0s 397us/step\n",
      "188/188 [==============================] - 0s 384us/step\n",
      "188/188 [==============================] - 0s 445us/step\n",
      "188/188 [==============================] - 0s 386us/step\n",
      "188/188 [==============================] - 0s 384us/step\n"
     ]
    },
    {
     "name": "stderr",
     "output_type": "stream",
     "text": [
      "/Users/raveel/miniconda3/envs/tf/lib/python3.11/site-packages/sklearn/model_selection/_validation.py:73: FutureWarning: `fit_params` is deprecated and will be removed in version 1.6. Pass parameters via `params` instead.\n",
      "  warnings.warn(\n"
     ]
    },
    {
     "name": "stdout",
     "output_type": "stream",
     "text": [
      "188/188 [==============================] - 0s 387us/step\n",
      "188/188 [==============================] - 0s 384us/step\n",
      "188/188 [==============================] - 0s 400us/step\n",
      "188/188 [==============================] - 0s 389us/step\n",
      "188/188 [==============================] - 0s 385us/step\n"
     ]
    },
    {
     "name": "stderr",
     "output_type": "stream",
     "text": [
      "/Users/raveel/miniconda3/envs/tf/lib/python3.11/site-packages/sklearn/model_selection/_validation.py:73: FutureWarning: `fit_params` is deprecated and will be removed in version 1.6. Pass parameters via `params` instead.\n",
      "  warnings.warn(\n"
     ]
    },
    {
     "name": "stdout",
     "output_type": "stream",
     "text": [
      "188/188 [==============================] - 0s 384us/step\n",
      "188/188 [==============================] - 0s 396us/step\n",
      "188/188 [==============================] - 0s 383us/step\n",
      "188/188 [==============================] - 0s 385us/step\n",
      "188/188 [==============================] - 0s 387us/step\n"
     ]
    },
    {
     "name": "stderr",
     "output_type": "stream",
     "text": [
      "/Users/raveel/miniconda3/envs/tf/lib/python3.11/site-packages/sklearn/model_selection/_validation.py:73: FutureWarning: `fit_params` is deprecated and will be removed in version 1.6. Pass parameters via `params` instead.\n",
      "  warnings.warn(\n"
     ]
    },
    {
     "name": "stdout",
     "output_type": "stream",
     "text": [
      "188/188 [==============================] - 0s 387us/step\n",
      "188/188 [==============================] - 0s 383us/step\n",
      "188/188 [==============================] - 0s 383us/step\n",
      "188/188 [==============================] - 0s 381us/step\n",
      "188/188 [==============================] - 0s 385us/step\n"
     ]
    },
    {
     "name": "stderr",
     "output_type": "stream",
     "text": [
      "/Users/raveel/miniconda3/envs/tf/lib/python3.11/site-packages/sklearn/model_selection/_validation.py:73: FutureWarning: `fit_params` is deprecated and will be removed in version 1.6. Pass parameters via `params` instead.\n",
      "  warnings.warn(\n"
     ]
    },
    {
     "name": "stdout",
     "output_type": "stream",
     "text": [
      "188/188 [==============================] - 0s 384us/step\n",
      "188/188 [==============================] - 0s 386us/step\n",
      "188/188 [==============================] - 0s 389us/step\n",
      "188/188 [==============================] - 0s 383us/step\n",
      "188/188 [==============================] - 0s 381us/step\n"
     ]
    },
    {
     "name": "stderr",
     "output_type": "stream",
     "text": [
      "/Users/raveel/miniconda3/envs/tf/lib/python3.11/site-packages/sklearn/model_selection/_validation.py:73: FutureWarning: `fit_params` is deprecated and will be removed in version 1.6. Pass parameters via `params` instead.\n",
      "  warnings.warn(\n"
     ]
    },
    {
     "name": "stdout",
     "output_type": "stream",
     "text": [
      "188/188 [==============================] - 0s 380us/step\n",
      "188/188 [==============================] - 0s 381us/step\n",
      "188/188 [==============================] - 0s 381us/step\n",
      "188/188 [==============================] - 0s 381us/step\n",
      "188/188 [==============================] - 0s 383us/step\n"
     ]
    },
    {
     "name": "stderr",
     "output_type": "stream",
     "text": [
      "/Users/raveel/miniconda3/envs/tf/lib/python3.11/site-packages/sklearn/model_selection/_validation.py:73: FutureWarning: `fit_params` is deprecated and will be removed in version 1.6. Pass parameters via `params` instead.\n",
      "  warnings.warn(\n"
     ]
    },
    {
     "name": "stdout",
     "output_type": "stream",
     "text": [
      "188/188 [==============================] - 0s 382us/step\n",
      "188/188 [==============================] - 0s 383us/step\n",
      "188/188 [==============================] - 0s 382us/step\n",
      "188/188 [==============================] - 0s 415us/step\n",
      "188/188 [==============================] - 0s 386us/step\n"
     ]
    },
    {
     "name": "stderr",
     "output_type": "stream",
     "text": [
      "/Users/raveel/miniconda3/envs/tf/lib/python3.11/site-packages/sklearn/model_selection/_validation.py:73: FutureWarning: `fit_params` is deprecated and will be removed in version 1.6. Pass parameters via `params` instead.\n",
      "  warnings.warn(\n"
     ]
    },
    {
     "name": "stdout",
     "output_type": "stream",
     "text": [
      "188/188 [==============================] - 0s 400us/step\n",
      "188/188 [==============================] - 0s 386us/step\n",
      "188/188 [==============================] - 0s 384us/step\n",
      "188/188 [==============================] - 0s 386us/step\n",
      "188/188 [==============================] - 0s 382us/step\n"
     ]
    },
    {
     "name": "stderr",
     "output_type": "stream",
     "text": [
      "/Users/raveel/miniconda3/envs/tf/lib/python3.11/site-packages/sklearn/model_selection/_validation.py:73: FutureWarning: `fit_params` is deprecated and will be removed in version 1.6. Pass parameters via `params` instead.\n",
      "  warnings.warn(\n"
     ]
    },
    {
     "name": "stdout",
     "output_type": "stream",
     "text": [
      "188/188 [==============================] - 0s 382us/step\n",
      "188/188 [==============================] - 0s 387us/step\n",
      "188/188 [==============================] - 0s 393us/step\n",
      "188/188 [==============================] - 0s 383us/step\n",
      "188/188 [==============================] - 0s 386us/step\n"
     ]
    },
    {
     "name": "stderr",
     "output_type": "stream",
     "text": [
      "/Users/raveel/miniconda3/envs/tf/lib/python3.11/site-packages/sklearn/model_selection/_validation.py:73: FutureWarning: `fit_params` is deprecated and will be removed in version 1.6. Pass parameters via `params` instead.\n",
      "  warnings.warn(\n"
     ]
    },
    {
     "name": "stdout",
     "output_type": "stream",
     "text": [
      "188/188 [==============================] - 0s 382us/step\n",
      "188/188 [==============================] - 0s 382us/step\n",
      "188/188 [==============================] - 0s 386us/step\n",
      "188/188 [==============================] - 0s 385us/step\n",
      "188/188 [==============================] - 0s 385us/step\n"
     ]
    },
    {
     "name": "stderr",
     "output_type": "stream",
     "text": [
      "/Users/raveel/miniconda3/envs/tf/lib/python3.11/site-packages/sklearn/model_selection/_validation.py:73: FutureWarning: `fit_params` is deprecated and will be removed in version 1.6. Pass parameters via `params` instead.\n",
      "  warnings.warn(\n"
     ]
    },
    {
     "name": "stdout",
     "output_type": "stream",
     "text": [
      "188/188 [==============================] - 0s 384us/step\n",
      "188/188 [==============================] - 0s 384us/step\n",
      "188/188 [==============================] - 0s 384us/step\n",
      "188/188 [==============================] - 0s 381us/step\n",
      "188/188 [==============================] - 0s 382us/step\n"
     ]
    },
    {
     "name": "stderr",
     "output_type": "stream",
     "text": [
      "/Users/raveel/miniconda3/envs/tf/lib/python3.11/site-packages/sklearn/model_selection/_validation.py:73: FutureWarning: `fit_params` is deprecated and will be removed in version 1.6. Pass parameters via `params` instead.\n",
      "  warnings.warn(\n"
     ]
    },
    {
     "name": "stdout",
     "output_type": "stream",
     "text": [
      "188/188 [==============================] - 0s 386us/step\n",
      "188/188 [==============================] - 0s 382us/step\n",
      "188/188 [==============================] - 0s 380us/step\n",
      "188/188 [==============================] - 0s 382us/step\n",
      "188/188 [==============================] - 0s 384us/step\n"
     ]
    },
    {
     "name": "stderr",
     "output_type": "stream",
     "text": [
      "/Users/raveel/miniconda3/envs/tf/lib/python3.11/site-packages/sklearn/model_selection/_validation.py:73: FutureWarning: `fit_params` is deprecated and will be removed in version 1.6. Pass parameters via `params` instead.\n",
      "  warnings.warn(\n"
     ]
    },
    {
     "name": "stdout",
     "output_type": "stream",
     "text": [
      "188/188 [==============================] - 0s 384us/step\n",
      "188/188 [==============================] - 0s 383us/step\n",
      "188/188 [==============================] - 0s 379us/step\n",
      "188/188 [==============================] - 0s 383us/step\n",
      "188/188 [==============================] - 0s 384us/step\n"
     ]
    },
    {
     "name": "stderr",
     "output_type": "stream",
     "text": [
      "/Users/raveel/miniconda3/envs/tf/lib/python3.11/site-packages/sklearn/model_selection/_validation.py:73: FutureWarning: `fit_params` is deprecated and will be removed in version 1.6. Pass parameters via `params` instead.\n",
      "  warnings.warn(\n"
     ]
    },
    {
     "name": "stdout",
     "output_type": "stream",
     "text": [
      "188/188 [==============================] - 0s 395us/step\n",
      "188/188 [==============================] - 0s 385us/step\n",
      "188/188 [==============================] - 0s 384us/step\n",
      "188/188 [==============================] - 0s 383us/step\n",
      "188/188 [==============================] - 0s 382us/step\n"
     ]
    },
    {
     "name": "stderr",
     "output_type": "stream",
     "text": [
      "/Users/raveel/miniconda3/envs/tf/lib/python3.11/site-packages/sklearn/model_selection/_validation.py:73: FutureWarning: `fit_params` is deprecated and will be removed in version 1.6. Pass parameters via `params` instead.\n",
      "  warnings.warn(\n"
     ]
    },
    {
     "name": "stdout",
     "output_type": "stream",
     "text": [
      "188/188 [==============================] - 0s 385us/step\n",
      "188/188 [==============================] - 0s 383us/step\n",
      "188/188 [==============================] - 0s 382us/step\n",
      "188/188 [==============================] - 0s 949us/step\n",
      "188/188 [==============================] - 0s 403us/step\n"
     ]
    },
    {
     "name": "stderr",
     "output_type": "stream",
     "text": [
      "/Users/raveel/miniconda3/envs/tf/lib/python3.11/site-packages/sklearn/model_selection/_validation.py:73: FutureWarning: `fit_params` is deprecated and will be removed in version 1.6. Pass parameters via `params` instead.\n",
      "  warnings.warn(\n"
     ]
    },
    {
     "name": "stdout",
     "output_type": "stream",
     "text": [
      "188/188 [==============================] - 0s 417us/step\n",
      "188/188 [==============================] - 0s 382us/step\n",
      "188/188 [==============================] - 0s 388us/step\n",
      "188/188 [==============================] - 0s 381us/step\n",
      "188/188 [==============================] - 0s 387us/step\n"
     ]
    },
    {
     "name": "stderr",
     "output_type": "stream",
     "text": [
      "/Users/raveel/miniconda3/envs/tf/lib/python3.11/site-packages/sklearn/model_selection/_validation.py:73: FutureWarning: `fit_params` is deprecated and will be removed in version 1.6. Pass parameters via `params` instead.\n",
      "  warnings.warn(\n"
     ]
    },
    {
     "name": "stdout",
     "output_type": "stream",
     "text": [
      "188/188 [==============================] - 0s 384us/step\n",
      "188/188 [==============================] - 0s 384us/step\n",
      "188/188 [==============================] - 0s 386us/step\n",
      "188/188 [==============================] - 0s 380us/step\n",
      "188/188 [==============================] - 0s 382us/step\n"
     ]
    },
    {
     "name": "stderr",
     "output_type": "stream",
     "text": [
      "/Users/raveel/miniconda3/envs/tf/lib/python3.11/site-packages/sklearn/model_selection/_validation.py:73: FutureWarning: `fit_params` is deprecated and will be removed in version 1.6. Pass parameters via `params` instead.\n",
      "  warnings.warn(\n"
     ]
    },
    {
     "name": "stdout",
     "output_type": "stream",
     "text": [
      "188/188 [==============================] - 0s 388us/step\n",
      "188/188 [==============================] - 0s 383us/step\n",
      "188/188 [==============================] - 0s 383us/step\n",
      "188/188 [==============================] - 0s 388us/step\n",
      "188/188 [==============================] - 0s 383us/step\n"
     ]
    },
    {
     "name": "stderr",
     "output_type": "stream",
     "text": [
      "/Users/raveel/miniconda3/envs/tf/lib/python3.11/site-packages/sklearn/model_selection/_validation.py:73: FutureWarning: `fit_params` is deprecated and will be removed in version 1.6. Pass parameters via `params` instead.\n",
      "  warnings.warn(\n"
     ]
    },
    {
     "name": "stdout",
     "output_type": "stream",
     "text": [
      "188/188 [==============================] - 0s 384us/step\n",
      "188/188 [==============================] - 0s 382us/step\n",
      "188/188 [==============================] - 0s 384us/step\n",
      "188/188 [==============================] - 0s 383us/step\n",
      "188/188 [==============================] - 0s 386us/step\n"
     ]
    },
    {
     "name": "stderr",
     "output_type": "stream",
     "text": [
      "/Users/raveel/miniconda3/envs/tf/lib/python3.11/site-packages/sklearn/model_selection/_validation.py:73: FutureWarning: `fit_params` is deprecated and will be removed in version 1.6. Pass parameters via `params` instead.\n",
      "  warnings.warn(\n"
     ]
    },
    {
     "name": "stdout",
     "output_type": "stream",
     "text": [
      "188/188 [==============================] - 0s 385us/step\n",
      "188/188 [==============================] - 0s 383us/step\n",
      "188/188 [==============================] - 0s 383us/step\n",
      "188/188 [==============================] - 0s 381us/step\n",
      "188/188 [==============================] - 0s 381us/step\n"
     ]
    },
    {
     "name": "stderr",
     "output_type": "stream",
     "text": [
      "/Users/raveel/miniconda3/envs/tf/lib/python3.11/site-packages/sklearn/model_selection/_validation.py:73: FutureWarning: `fit_params` is deprecated and will be removed in version 1.6. Pass parameters via `params` instead.\n",
      "  warnings.warn(\n"
     ]
    },
    {
     "name": "stdout",
     "output_type": "stream",
     "text": [
      "188/188 [==============================] - 0s 383us/step\n",
      "188/188 [==============================] - 0s 382us/step\n",
      "188/188 [==============================] - 0s 383us/step\n",
      "188/188 [==============================] - 0s 384us/step\n",
      "188/188 [==============================] - 0s 382us/step\n"
     ]
    },
    {
     "name": "stderr",
     "output_type": "stream",
     "text": [
      "/Users/raveel/miniconda3/envs/tf/lib/python3.11/site-packages/sklearn/model_selection/_validation.py:73: FutureWarning: `fit_params` is deprecated and will be removed in version 1.6. Pass parameters via `params` instead.\n",
      "  warnings.warn(\n"
     ]
    },
    {
     "name": "stdout",
     "output_type": "stream",
     "text": [
      "188/188 [==============================] - 0s 384us/step\n",
      "188/188 [==============================] - 0s 382us/step\n",
      "188/188 [==============================] - 0s 383us/step\n",
      "188/188 [==============================] - 0s 384us/step\n",
      "188/188 [==============================] - 0s 388us/step\n"
     ]
    },
    {
     "name": "stderr",
     "output_type": "stream",
     "text": [
      "/Users/raveel/miniconda3/envs/tf/lib/python3.11/site-packages/sklearn/model_selection/_validation.py:73: FutureWarning: `fit_params` is deprecated and will be removed in version 1.6. Pass parameters via `params` instead.\n",
      "  warnings.warn(\n"
     ]
    },
    {
     "name": "stdout",
     "output_type": "stream",
     "text": [
      "188/188 [==============================] - 0s 386us/step\n",
      "188/188 [==============================] - 0s 382us/step\n",
      "188/188 [==============================] - 0s 385us/step\n",
      "188/188 [==============================] - 0s 394us/step\n",
      "188/188 [==============================] - 0s 381us/step\n"
     ]
    },
    {
     "name": "stderr",
     "output_type": "stream",
     "text": [
      "/Users/raveel/miniconda3/envs/tf/lib/python3.11/site-packages/sklearn/model_selection/_validation.py:73: FutureWarning: `fit_params` is deprecated and will be removed in version 1.6. Pass parameters via `params` instead.\n",
      "  warnings.warn(\n"
     ]
    },
    {
     "name": "stdout",
     "output_type": "stream",
     "text": [
      "188/188 [==============================] - 0s 389us/step\n",
      "188/188 [==============================] - 0s 382us/step\n",
      "188/188 [==============================] - 0s 387us/step\n",
      "188/188 [==============================] - 0s 383us/step\n",
      "188/188 [==============================] - 0s 384us/step\n"
     ]
    },
    {
     "name": "stderr",
     "output_type": "stream",
     "text": [
      "/Users/raveel/miniconda3/envs/tf/lib/python3.11/site-packages/sklearn/model_selection/_validation.py:73: FutureWarning: `fit_params` is deprecated and will be removed in version 1.6. Pass parameters via `params` instead.\n",
      "  warnings.warn(\n"
     ]
    },
    {
     "name": "stdout",
     "output_type": "stream",
     "text": [
      "188/188 [==============================] - 0s 382us/step\n",
      "188/188 [==============================] - 0s 385us/step\n",
      "188/188 [==============================] - 0s 380us/step\n",
      "188/188 [==============================] - 0s 380us/step\n",
      "188/188 [==============================] - 0s 399us/step\n"
     ]
    },
    {
     "name": "stderr",
     "output_type": "stream",
     "text": [
      "/Users/raveel/miniconda3/envs/tf/lib/python3.11/site-packages/sklearn/model_selection/_validation.py:73: FutureWarning: `fit_params` is deprecated and will be removed in version 1.6. Pass parameters via `params` instead.\n",
      "  warnings.warn(\n"
     ]
    },
    {
     "name": "stdout",
     "output_type": "stream",
     "text": [
      "188/188 [==============================] - 0s 386us/step\n",
      "188/188 [==============================] - 0s 389us/step\n",
      "188/188 [==============================] - 0s 387us/step\n",
      "188/188 [==============================] - 0s 386us/step\n",
      "188/188 [==============================] - 0s 382us/step\n"
     ]
    },
    {
     "name": "stderr",
     "output_type": "stream",
     "text": [
      "/Users/raveel/miniconda3/envs/tf/lib/python3.11/site-packages/sklearn/model_selection/_validation.py:73: FutureWarning: `fit_params` is deprecated and will be removed in version 1.6. Pass parameters via `params` instead.\n",
      "  warnings.warn(\n"
     ]
    },
    {
     "name": "stdout",
     "output_type": "stream",
     "text": [
      "188/188 [==============================] - 0s 385us/step\n",
      "188/188 [==============================] - 0s 391us/step\n",
      "188/188 [==============================] - 0s 384us/step\n",
      "188/188 [==============================] - 0s 382us/step\n",
      "188/188 [==============================] - 0s 382us/step\n"
     ]
    },
    {
     "name": "stderr",
     "output_type": "stream",
     "text": [
      "/Users/raveel/miniconda3/envs/tf/lib/python3.11/site-packages/sklearn/model_selection/_validation.py:73: FutureWarning: `fit_params` is deprecated and will be removed in version 1.6. Pass parameters via `params` instead.\n",
      "  warnings.warn(\n"
     ]
    },
    {
     "name": "stdout",
     "output_type": "stream",
     "text": [
      "188/188 [==============================] - 0s 384us/step\n",
      "188/188 [==============================] - 0s 426us/step\n",
      "188/188 [==============================] - 0s 382us/step\n",
      "188/188 [==============================] - 0s 382us/step\n",
      "188/188 [==============================] - 0s 384us/step\n"
     ]
    },
    {
     "name": "stderr",
     "output_type": "stream",
     "text": [
      "/Users/raveel/miniconda3/envs/tf/lib/python3.11/site-packages/sklearn/model_selection/_validation.py:73: FutureWarning: `fit_params` is deprecated and will be removed in version 1.6. Pass parameters via `params` instead.\n",
      "  warnings.warn(\n"
     ]
    },
    {
     "name": "stdout",
     "output_type": "stream",
     "text": [
      "188/188 [==============================] - 0s 387us/step\n",
      "188/188 [==============================] - 0s 386us/step\n",
      "188/188 [==============================] - 0s 385us/step\n",
      "188/188 [==============================] - 0s 407us/step\n",
      "188/188 [==============================] - 0s 380us/step\n"
     ]
    },
    {
     "name": "stderr",
     "output_type": "stream",
     "text": [
      "/Users/raveel/miniconda3/envs/tf/lib/python3.11/site-packages/sklearn/model_selection/_validation.py:73: FutureWarning: `fit_params` is deprecated and will be removed in version 1.6. Pass parameters via `params` instead.\n",
      "  warnings.warn(\n"
     ]
    },
    {
     "name": "stdout",
     "output_type": "stream",
     "text": [
      "188/188 [==============================] - 0s 395us/step\n",
      "188/188 [==============================] - 0s 382us/step\n",
      "188/188 [==============================] - 0s 384us/step\n",
      "188/188 [==============================] - 0s 387us/step\n",
      "188/188 [==============================] - 0s 384us/step\n"
     ]
    },
    {
     "name": "stderr",
     "output_type": "stream",
     "text": [
      "/Users/raveel/miniconda3/envs/tf/lib/python3.11/site-packages/sklearn/model_selection/_validation.py:73: FutureWarning: `fit_params` is deprecated and will be removed in version 1.6. Pass parameters via `params` instead.\n",
      "  warnings.warn(\n"
     ]
    },
    {
     "name": "stdout",
     "output_type": "stream",
     "text": [
      "188/188 [==============================] - 0s 397us/step\n",
      "188/188 [==============================] - 0s 384us/step\n",
      "188/188 [==============================] - 0s 385us/step\n",
      "188/188 [==============================] - 0s 462us/step\n",
      "188/188 [==============================] - 0s 392us/step\n"
     ]
    },
    {
     "name": "stderr",
     "output_type": "stream",
     "text": [
      "/Users/raveel/miniconda3/envs/tf/lib/python3.11/site-packages/sklearn/model_selection/_validation.py:73: FutureWarning: `fit_params` is deprecated and will be removed in version 1.6. Pass parameters via `params` instead.\n",
      "  warnings.warn(\n"
     ]
    },
    {
     "name": "stdout",
     "output_type": "stream",
     "text": [
      "188/188 [==============================] - 0s 418us/step\n",
      "188/188 [==============================] - 0s 382us/step\n",
      "188/188 [==============================] - 0s 383us/step\n",
      "188/188 [==============================] - 0s 380us/step\n",
      "188/188 [==============================] - 0s 384us/step\n"
     ]
    },
    {
     "name": "stderr",
     "output_type": "stream",
     "text": [
      "/Users/raveel/miniconda3/envs/tf/lib/python3.11/site-packages/sklearn/model_selection/_validation.py:73: FutureWarning: `fit_params` is deprecated and will be removed in version 1.6. Pass parameters via `params` instead.\n",
      "  warnings.warn(\n"
     ]
    },
    {
     "name": "stdout",
     "output_type": "stream",
     "text": [
      "188/188 [==============================] - 0s 382us/step\n",
      "188/188 [==============================] - 0s 384us/step\n",
      "188/188 [==============================] - 0s 380us/step\n",
      "188/188 [==============================] - 0s 382us/step\n",
      "188/188 [==============================] - 0s 384us/step\n"
     ]
    },
    {
     "name": "stderr",
     "output_type": "stream",
     "text": [
      "/Users/raveel/miniconda3/envs/tf/lib/python3.11/site-packages/sklearn/model_selection/_validation.py:73: FutureWarning: `fit_params` is deprecated and will be removed in version 1.6. Pass parameters via `params` instead.\n",
      "  warnings.warn(\n"
     ]
    },
    {
     "name": "stdout",
     "output_type": "stream",
     "text": [
      "188/188 [==============================] - 0s 385us/step\n",
      "188/188 [==============================] - 0s 383us/step\n",
      "188/188 [==============================] - 0s 414us/step\n",
      "188/188 [==============================] - 0s 390us/step\n",
      "188/188 [==============================] - 0s 380us/step\n"
     ]
    },
    {
     "name": "stderr",
     "output_type": "stream",
     "text": [
      "/Users/raveel/miniconda3/envs/tf/lib/python3.11/site-packages/sklearn/model_selection/_validation.py:73: FutureWarning: `fit_params` is deprecated and will be removed in version 1.6. Pass parameters via `params` instead.\n",
      "  warnings.warn(\n"
     ]
    },
    {
     "name": "stdout",
     "output_type": "stream",
     "text": [
      "188/188 [==============================] - 0s 385us/step\n",
      "188/188 [==============================] - 0s 386us/step\n",
      "188/188 [==============================] - 0s 383us/step\n",
      "188/188 [==============================] - 0s 417us/step\n",
      "188/188 [==============================] - 0s 387us/step\n"
     ]
    },
    {
     "name": "stderr",
     "output_type": "stream",
     "text": [
      "/Users/raveel/miniconda3/envs/tf/lib/python3.11/site-packages/sklearn/model_selection/_validation.py:73: FutureWarning: `fit_params` is deprecated and will be removed in version 1.6. Pass parameters via `params` instead.\n",
      "  warnings.warn(\n"
     ]
    },
    {
     "name": "stdout",
     "output_type": "stream",
     "text": [
      "188/188 [==============================] - 0s 382us/step\n",
      "188/188 [==============================] - 0s 383us/step\n",
      "188/188 [==============================] - 0s 381us/step\n",
      "188/188 [==============================] - 0s 389us/step\n",
      "188/188 [==============================] - 0s 383us/step\n"
     ]
    },
    {
     "name": "stderr",
     "output_type": "stream",
     "text": [
      "/Users/raveel/miniconda3/envs/tf/lib/python3.11/site-packages/sklearn/model_selection/_validation.py:73: FutureWarning: `fit_params` is deprecated and will be removed in version 1.6. Pass parameters via `params` instead.\n",
      "  warnings.warn(\n"
     ]
    },
    {
     "name": "stdout",
     "output_type": "stream",
     "text": [
      "188/188 [==============================] - 0s 383us/step\n",
      "188/188 [==============================] - 0s 398us/step\n",
      "188/188 [==============================] - 0s 385us/step\n",
      "188/188 [==============================] - 0s 381us/step\n",
      "188/188 [==============================] - 0s 394us/step\n"
     ]
    },
    {
     "name": "stderr",
     "output_type": "stream",
     "text": [
      "/Users/raveel/miniconda3/envs/tf/lib/python3.11/site-packages/sklearn/model_selection/_validation.py:73: FutureWarning: `fit_params` is deprecated and will be removed in version 1.6. Pass parameters via `params` instead.\n",
      "  warnings.warn(\n"
     ]
    },
    {
     "name": "stdout",
     "output_type": "stream",
     "text": [
      "188/188 [==============================] - 0s 383us/step\n",
      "188/188 [==============================] - 0s 386us/step\n",
      "188/188 [==============================] - 0s 387us/step\n",
      "188/188 [==============================] - 0s 382us/step\n",
      "188/188 [==============================] - 0s 382us/step\n"
     ]
    },
    {
     "name": "stderr",
     "output_type": "stream",
     "text": [
      "/Users/raveel/miniconda3/envs/tf/lib/python3.11/site-packages/sklearn/model_selection/_validation.py:73: FutureWarning: `fit_params` is deprecated and will be removed in version 1.6. Pass parameters via `params` instead.\n",
      "  warnings.warn(\n"
     ]
    },
    {
     "name": "stdout",
     "output_type": "stream",
     "text": [
      "188/188 [==============================] - 0s 382us/step\n",
      "188/188 [==============================] - 0s 381us/step\n",
      "188/188 [==============================] - 0s 379us/step\n",
      "188/188 [==============================] - 0s 396us/step\n",
      "188/188 [==============================] - 0s 391us/step\n"
     ]
    },
    {
     "name": "stderr",
     "output_type": "stream",
     "text": [
      "/Users/raveel/miniconda3/envs/tf/lib/python3.11/site-packages/sklearn/model_selection/_validation.py:73: FutureWarning: `fit_params` is deprecated and will be removed in version 1.6. Pass parameters via `params` instead.\n",
      "  warnings.warn(\n"
     ]
    },
    {
     "name": "stdout",
     "output_type": "stream",
     "text": [
      "188/188 [==============================] - 0s 383us/step\n",
      "188/188 [==============================] - 0s 379us/step\n",
      "188/188 [==============================] - 0s 380us/step\n",
      "188/188 [==============================] - 0s 384us/step\n",
      "188/188 [==============================] - 0s 390us/step\n"
     ]
    },
    {
     "name": "stderr",
     "output_type": "stream",
     "text": [
      "/Users/raveel/miniconda3/envs/tf/lib/python3.11/site-packages/sklearn/model_selection/_validation.py:73: FutureWarning: `fit_params` is deprecated and will be removed in version 1.6. Pass parameters via `params` instead.\n",
      "  warnings.warn(\n"
     ]
    },
    {
     "name": "stdout",
     "output_type": "stream",
     "text": [
      "188/188 [==============================] - 0s 385us/step\n",
      "188/188 [==============================] - 0s 390us/step\n",
      "188/188 [==============================] - 0s 402us/step\n",
      "188/188 [==============================] - 0s 387us/step\n",
      "188/188 [==============================] - 0s 385us/step\n"
     ]
    },
    {
     "name": "stderr",
     "output_type": "stream",
     "text": [
      "/Users/raveel/miniconda3/envs/tf/lib/python3.11/site-packages/sklearn/model_selection/_validation.py:73: FutureWarning: `fit_params` is deprecated and will be removed in version 1.6. Pass parameters via `params` instead.\n",
      "  warnings.warn(\n"
     ]
    },
    {
     "name": "stdout",
     "output_type": "stream",
     "text": [
      "188/188 [==============================] - 0s 918us/step\n",
      "188/188 [==============================] - 0s 382us/step\n",
      "188/188 [==============================] - 0s 381us/step\n",
      "188/188 [==============================] - 0s 385us/step\n",
      "188/188 [==============================] - 0s 381us/step\n"
     ]
    },
    {
     "name": "stderr",
     "output_type": "stream",
     "text": [
      "/Users/raveel/miniconda3/envs/tf/lib/python3.11/site-packages/sklearn/model_selection/_validation.py:73: FutureWarning: `fit_params` is deprecated and will be removed in version 1.6. Pass parameters via `params` instead.\n",
      "  warnings.warn(\n"
     ]
    },
    {
     "name": "stdout",
     "output_type": "stream",
     "text": [
      "188/188 [==============================] - 0s 382us/step\n",
      "188/188 [==============================] - 0s 389us/step\n",
      "188/188 [==============================] - 0s 388us/step\n",
      "188/188 [==============================] - 0s 384us/step\n",
      "188/188 [==============================] - 0s 382us/step\n"
     ]
    },
    {
     "name": "stderr",
     "output_type": "stream",
     "text": [
      "/Users/raveel/miniconda3/envs/tf/lib/python3.11/site-packages/sklearn/model_selection/_validation.py:73: FutureWarning: `fit_params` is deprecated and will be removed in version 1.6. Pass parameters via `params` instead.\n",
      "  warnings.warn(\n"
     ]
    },
    {
     "name": "stdout",
     "output_type": "stream",
     "text": [
      "188/188 [==============================] - 0s 384us/step\n",
      "188/188 [==============================] - 0s 389us/step\n",
      "188/188 [==============================] - 0s 386us/step\n",
      "188/188 [==============================] - 0s 381us/step\n",
      "188/188 [==============================] - 0s 386us/step\n"
     ]
    },
    {
     "name": "stderr",
     "output_type": "stream",
     "text": [
      "/Users/raveel/miniconda3/envs/tf/lib/python3.11/site-packages/sklearn/model_selection/_validation.py:73: FutureWarning: `fit_params` is deprecated and will be removed in version 1.6. Pass parameters via `params` instead.\n",
      "  warnings.warn(\n"
     ]
    },
    {
     "name": "stdout",
     "output_type": "stream",
     "text": [
      "188/188 [==============================] - 0s 382us/step\n",
      "188/188 [==============================] - 0s 382us/step\n",
      "188/188 [==============================] - 0s 383us/step\n",
      "188/188 [==============================] - 0s 383us/step\n",
      "188/188 [==============================] - 0s 386us/step\n"
     ]
    },
    {
     "name": "stderr",
     "output_type": "stream",
     "text": [
      "/Users/raveel/miniconda3/envs/tf/lib/python3.11/site-packages/sklearn/model_selection/_validation.py:73: FutureWarning: `fit_params` is deprecated and will be removed in version 1.6. Pass parameters via `params` instead.\n",
      "  warnings.warn(\n"
     ]
    },
    {
     "name": "stdout",
     "output_type": "stream",
     "text": [
      "188/188 [==============================] - 0s 383us/step\n",
      "188/188 [==============================] - 0s 385us/step\n",
      "188/188 [==============================] - 0s 384us/step\n",
      "188/188 [==============================] - 0s 392us/step\n",
      "188/188 [==============================] - 0s 384us/step\n"
     ]
    },
    {
     "name": "stderr",
     "output_type": "stream",
     "text": [
      "/Users/raveel/miniconda3/envs/tf/lib/python3.11/site-packages/sklearn/model_selection/_validation.py:73: FutureWarning: `fit_params` is deprecated and will be removed in version 1.6. Pass parameters via `params` instead.\n",
      "  warnings.warn(\n"
     ]
    },
    {
     "name": "stdout",
     "output_type": "stream",
     "text": [
      "188/188 [==============================] - 0s 384us/step\n",
      "188/188 [==============================] - 0s 389us/step\n",
      "188/188 [==============================] - 0s 384us/step\n",
      "188/188 [==============================] - 0s 484us/step\n",
      "188/188 [==============================] - 0s 433us/step\n"
     ]
    },
    {
     "name": "stderr",
     "output_type": "stream",
     "text": [
      "/Users/raveel/miniconda3/envs/tf/lib/python3.11/site-packages/sklearn/model_selection/_validation.py:73: FutureWarning: `fit_params` is deprecated and will be removed in version 1.6. Pass parameters via `params` instead.\n",
      "  warnings.warn(\n"
     ]
    },
    {
     "name": "stdout",
     "output_type": "stream",
     "text": [
      "188/188 [==============================] - 0s 382us/step\n",
      "188/188 [==============================] - 0s 380us/step\n",
      "188/188 [==============================] - 0s 382us/step\n",
      "188/188 [==============================] - 0s 382us/step\n",
      "188/188 [==============================] - 0s 379us/step\n"
     ]
    },
    {
     "name": "stderr",
     "output_type": "stream",
     "text": [
      "/Users/raveel/miniconda3/envs/tf/lib/python3.11/site-packages/sklearn/model_selection/_validation.py:73: FutureWarning: `fit_params` is deprecated and will be removed in version 1.6. Pass parameters via `params` instead.\n",
      "  warnings.warn(\n"
     ]
    },
    {
     "name": "stdout",
     "output_type": "stream",
     "text": [
      "188/188 [==============================] - 0s 394us/step\n",
      "188/188 [==============================] - 0s 382us/step\n",
      "188/188 [==============================] - 0s 385us/step\n",
      "188/188 [==============================] - 0s 382us/step\n",
      "188/188 [==============================] - 0s 389us/step\n"
     ]
    },
    {
     "name": "stderr",
     "output_type": "stream",
     "text": [
      "/Users/raveel/miniconda3/envs/tf/lib/python3.11/site-packages/sklearn/model_selection/_validation.py:73: FutureWarning: `fit_params` is deprecated and will be removed in version 1.6. Pass parameters via `params` instead.\n",
      "  warnings.warn(\n"
     ]
    },
    {
     "name": "stdout",
     "output_type": "stream",
     "text": [
      "188/188 [==============================] - 0s 384us/step\n",
      "188/188 [==============================] - 0s 384us/step\n",
      "188/188 [==============================] - 0s 389us/step\n",
      "188/188 [==============================] - 0s 384us/step\n",
      "188/188 [==============================] - 0s 386us/step\n"
     ]
    },
    {
     "name": "stderr",
     "output_type": "stream",
     "text": [
      "/Users/raveel/miniconda3/envs/tf/lib/python3.11/site-packages/sklearn/model_selection/_validation.py:73: FutureWarning: `fit_params` is deprecated and will be removed in version 1.6. Pass parameters via `params` instead.\n",
      "  warnings.warn(\n"
     ]
    },
    {
     "name": "stdout",
     "output_type": "stream",
     "text": [
      "188/188 [==============================] - 0s 384us/step\n",
      "188/188 [==============================] - 0s 436us/step\n",
      "188/188 [==============================] - 0s 385us/step\n",
      "188/188 [==============================] - 0s 392us/step\n",
      "188/188 [==============================] - 0s 382us/step\n"
     ]
    },
    {
     "name": "stderr",
     "output_type": "stream",
     "text": [
      "/Users/raveel/miniconda3/envs/tf/lib/python3.11/site-packages/sklearn/model_selection/_validation.py:73: FutureWarning: `fit_params` is deprecated and will be removed in version 1.6. Pass parameters via `params` instead.\n",
      "  warnings.warn(\n"
     ]
    },
    {
     "name": "stdout",
     "output_type": "stream",
     "text": [
      "188/188 [==============================] - 0s 382us/step\n",
      "188/188 [==============================] - 0s 383us/step\n",
      "188/188 [==============================] - 0s 397us/step\n",
      "188/188 [==============================] - 0s 389us/step\n",
      "188/188 [==============================] - 0s 383us/step\n"
     ]
    },
    {
     "name": "stderr",
     "output_type": "stream",
     "text": [
      "/Users/raveel/miniconda3/envs/tf/lib/python3.11/site-packages/sklearn/model_selection/_validation.py:73: FutureWarning: `fit_params` is deprecated and will be removed in version 1.6. Pass parameters via `params` instead.\n",
      "  warnings.warn(\n"
     ]
    },
    {
     "name": "stdout",
     "output_type": "stream",
     "text": [
      "188/188 [==============================] - 0s 393us/step\n",
      "188/188 [==============================] - 0s 386us/step\n",
      "188/188 [==============================] - 0s 383us/step\n",
      "188/188 [==============================] - 0s 386us/step\n",
      "188/188 [==============================] - 0s 393us/step\n"
     ]
    },
    {
     "name": "stderr",
     "output_type": "stream",
     "text": [
      "/Users/raveel/miniconda3/envs/tf/lib/python3.11/site-packages/sklearn/model_selection/_validation.py:73: FutureWarning: `fit_params` is deprecated and will be removed in version 1.6. Pass parameters via `params` instead.\n",
      "  warnings.warn(\n"
     ]
    },
    {
     "name": "stdout",
     "output_type": "stream",
     "text": [
      "188/188 [==============================] - 0s 385us/step\n",
      "188/188 [==============================] - 0s 381us/step\n",
      "188/188 [==============================] - 0s 389us/step\n",
      "188/188 [==============================] - 0s 388us/step\n",
      "188/188 [==============================] - 0s 381us/step\n"
     ]
    },
    {
     "name": "stderr",
     "output_type": "stream",
     "text": [
      "/Users/raveel/miniconda3/envs/tf/lib/python3.11/site-packages/sklearn/model_selection/_validation.py:73: FutureWarning: `fit_params` is deprecated and will be removed in version 1.6. Pass parameters via `params` instead.\n",
      "  warnings.warn(\n"
     ]
    },
    {
     "name": "stdout",
     "output_type": "stream",
     "text": [
      "188/188 [==============================] - 0s 392us/step\n",
      "188/188 [==============================] - 0s 437us/step\n",
      "188/188 [==============================] - 0s 385us/step\n",
      "188/188 [==============================] - 0s 410us/step\n",
      "188/188 [==============================] - 0s 382us/step\n"
     ]
    },
    {
     "name": "stderr",
     "output_type": "stream",
     "text": [
      "/Users/raveel/miniconda3/envs/tf/lib/python3.11/site-packages/sklearn/model_selection/_validation.py:73: FutureWarning: `fit_params` is deprecated and will be removed in version 1.6. Pass parameters via `params` instead.\n",
      "  warnings.warn(\n"
     ]
    },
    {
     "name": "stdout",
     "output_type": "stream",
     "text": [
      "188/188 [==============================] - 0s 415us/step\n",
      "188/188 [==============================] - 0s 389us/step\n",
      "188/188 [==============================] - 0s 388us/step\n",
      "188/188 [==============================] - 0s 402us/step\n",
      "188/188 [==============================] - 0s 385us/step\n"
     ]
    },
    {
     "name": "stderr",
     "output_type": "stream",
     "text": [
      "/Users/raveel/miniconda3/envs/tf/lib/python3.11/site-packages/sklearn/model_selection/_validation.py:73: FutureWarning: `fit_params` is deprecated and will be removed in version 1.6. Pass parameters via `params` instead.\n",
      "  warnings.warn(\n"
     ]
    },
    {
     "name": "stdout",
     "output_type": "stream",
     "text": [
      "188/188 [==============================] - 0s 385us/step\n",
      "188/188 [==============================] - 0s 384us/step\n",
      "188/188 [==============================] - 0s 382us/step\n",
      "188/188 [==============================] - 0s 382us/step\n",
      "188/188 [==============================] - 0s 388us/step\n"
     ]
    },
    {
     "name": "stderr",
     "output_type": "stream",
     "text": [
      "/Users/raveel/miniconda3/envs/tf/lib/python3.11/site-packages/sklearn/model_selection/_validation.py:73: FutureWarning: `fit_params` is deprecated and will be removed in version 1.6. Pass parameters via `params` instead.\n",
      "  warnings.warn(\n"
     ]
    },
    {
     "name": "stdout",
     "output_type": "stream",
     "text": [
      "188/188 [==============================] - 0s 387us/step\n",
      "188/188 [==============================] - 0s 436us/step\n",
      "188/188 [==============================] - 0s 386us/step\n",
      "188/188 [==============================] - 0s 385us/step\n",
      "188/188 [==============================] - 0s 383us/step\n"
     ]
    },
    {
     "name": "stderr",
     "output_type": "stream",
     "text": [
      "/Users/raveel/miniconda3/envs/tf/lib/python3.11/site-packages/sklearn/model_selection/_validation.py:73: FutureWarning: `fit_params` is deprecated and will be removed in version 1.6. Pass parameters via `params` instead.\n",
      "  warnings.warn(\n"
     ]
    },
    {
     "name": "stdout",
     "output_type": "stream",
     "text": [
      "188/188 [==============================] - 0s 383us/step\n",
      "188/188 [==============================] - 0s 384us/step\n",
      "188/188 [==============================] - 0s 391us/step\n",
      "188/188 [==============================] - 0s 384us/step\n",
      "188/188 [==============================] - 0s 391us/step\n"
     ]
    },
    {
     "name": "stderr",
     "output_type": "stream",
     "text": [
      "/Users/raveel/miniconda3/envs/tf/lib/python3.11/site-packages/sklearn/model_selection/_validation.py:73: FutureWarning: `fit_params` is deprecated and will be removed in version 1.6. Pass parameters via `params` instead.\n",
      "  warnings.warn(\n"
     ]
    },
    {
     "name": "stdout",
     "output_type": "stream",
     "text": [
      "188/188 [==============================] - 0s 384us/step\n",
      "188/188 [==============================] - 0s 388us/step\n",
      "188/188 [==============================] - 0s 384us/step\n",
      "188/188 [==============================] - 0s 385us/step\n",
      "188/188 [==============================] - 0s 413us/step\n"
     ]
    },
    {
     "name": "stderr",
     "output_type": "stream",
     "text": [
      "/Users/raveel/miniconda3/envs/tf/lib/python3.11/site-packages/sklearn/model_selection/_validation.py:73: FutureWarning: `fit_params` is deprecated and will be removed in version 1.6. Pass parameters via `params` instead.\n",
      "  warnings.warn(\n"
     ]
    },
    {
     "name": "stdout",
     "output_type": "stream",
     "text": [
      "188/188 [==============================] - 0s 389us/step\n",
      "188/188 [==============================] - 0s 384us/step\n",
      "188/188 [==============================] - 0s 385us/step\n",
      "188/188 [==============================] - 0s 437us/step\n",
      "188/188 [==============================] - 0s 383us/step\n"
     ]
    },
    {
     "name": "stderr",
     "output_type": "stream",
     "text": [
      "/Users/raveel/miniconda3/envs/tf/lib/python3.11/site-packages/sklearn/model_selection/_validation.py:73: FutureWarning: `fit_params` is deprecated and will be removed in version 1.6. Pass parameters via `params` instead.\n",
      "  warnings.warn(\n"
     ]
    },
    {
     "name": "stdout",
     "output_type": "stream",
     "text": [
      "188/188 [==============================] - 0s 383us/step\n",
      "188/188 [==============================] - 0s 381us/step\n",
      "188/188 [==============================] - 0s 385us/step\n",
      "188/188 [==============================] - 0s 390us/step\n",
      "188/188 [==============================] - 0s 384us/step\n"
     ]
    },
    {
     "name": "stderr",
     "output_type": "stream",
     "text": [
      "/Users/raveel/miniconda3/envs/tf/lib/python3.11/site-packages/sklearn/model_selection/_validation.py:73: FutureWarning: `fit_params` is deprecated and will be removed in version 1.6. Pass parameters via `params` instead.\n",
      "  warnings.warn(\n"
     ]
    },
    {
     "name": "stdout",
     "output_type": "stream",
     "text": [
      "188/188 [==============================] - 0s 385us/step\n",
      "188/188 [==============================] - 0s 403us/step\n",
      "188/188 [==============================] - 0s 724us/step\n",
      "188/188 [==============================] - 0s 402us/step\n",
      "188/188 [==============================] - 0s 387us/step\n"
     ]
    },
    {
     "name": "stderr",
     "output_type": "stream",
     "text": [
      "/Users/raveel/miniconda3/envs/tf/lib/python3.11/site-packages/sklearn/model_selection/_validation.py:73: FutureWarning: `fit_params` is deprecated and will be removed in version 1.6. Pass parameters via `params` instead.\n",
      "  warnings.warn(\n"
     ]
    },
    {
     "name": "stdout",
     "output_type": "stream",
     "text": [
      "188/188 [==============================] - 0s 382us/step\n",
      "188/188 [==============================] - 0s 381us/step\n",
      "188/188 [==============================] - 0s 384us/step\n",
      "188/188 [==============================] - 0s 381us/step\n",
      "188/188 [==============================] - 0s 382us/step\n"
     ]
    },
    {
     "name": "stderr",
     "output_type": "stream",
     "text": [
      "/Users/raveel/miniconda3/envs/tf/lib/python3.11/site-packages/sklearn/model_selection/_validation.py:73: FutureWarning: `fit_params` is deprecated and will be removed in version 1.6. Pass parameters via `params` instead.\n",
      "  warnings.warn(\n"
     ]
    },
    {
     "name": "stdout",
     "output_type": "stream",
     "text": [
      "188/188 [==============================] - 0s 384us/step\n",
      "188/188 [==============================] - 0s 385us/step\n",
      "188/188 [==============================] - 0s 389us/step\n",
      "188/188 [==============================] - 0s 387us/step\n",
      "188/188 [==============================] - 0s 384us/step\n"
     ]
    },
    {
     "name": "stderr",
     "output_type": "stream",
     "text": [
      "/Users/raveel/miniconda3/envs/tf/lib/python3.11/site-packages/sklearn/model_selection/_validation.py:73: FutureWarning: `fit_params` is deprecated and will be removed in version 1.6. Pass parameters via `params` instead.\n",
      "  warnings.warn(\n"
     ]
    },
    {
     "name": "stdout",
     "output_type": "stream",
     "text": [
      "188/188 [==============================] - 0s 390us/step\n",
      "188/188 [==============================] - 0s 386us/step\n",
      "188/188 [==============================] - 0s 386us/step\n",
      "188/188 [==============================] - 0s 389us/step\n",
      "188/188 [==============================] - 0s 387us/step\n"
     ]
    },
    {
     "name": "stderr",
     "output_type": "stream",
     "text": [
      "/Users/raveel/miniconda3/envs/tf/lib/python3.11/site-packages/sklearn/model_selection/_validation.py:73: FutureWarning: `fit_params` is deprecated and will be removed in version 1.6. Pass parameters via `params` instead.\n",
      "  warnings.warn(\n"
     ]
    },
    {
     "name": "stdout",
     "output_type": "stream",
     "text": [
      "188/188 [==============================] - 0s 387us/step\n",
      "188/188 [==============================] - 0s 384us/step\n",
      "188/188 [==============================] - 0s 390us/step\n",
      "188/188 [==============================] - 0s 387us/step\n",
      "188/188 [==============================] - 0s 385us/step\n"
     ]
    },
    {
     "name": "stderr",
     "output_type": "stream",
     "text": [
      "/Users/raveel/miniconda3/envs/tf/lib/python3.11/site-packages/sklearn/model_selection/_validation.py:73: FutureWarning: `fit_params` is deprecated and will be removed in version 1.6. Pass parameters via `params` instead.\n",
      "  warnings.warn(\n"
     ]
    },
    {
     "name": "stdout",
     "output_type": "stream",
     "text": [
      "188/188 [==============================] - 0s 384us/step\n",
      "188/188 [==============================] - 0s 382us/step\n",
      "188/188 [==============================] - 0s 385us/step\n",
      "188/188 [==============================] - 0s 387us/step\n",
      "188/188 [==============================] - 0s 400us/step\n"
     ]
    },
    {
     "name": "stderr",
     "output_type": "stream",
     "text": [
      "/Users/raveel/miniconda3/envs/tf/lib/python3.11/site-packages/sklearn/model_selection/_validation.py:73: FutureWarning: `fit_params` is deprecated and will be removed in version 1.6. Pass parameters via `params` instead.\n",
      "  warnings.warn(\n"
     ]
    },
    {
     "name": "stdout",
     "output_type": "stream",
     "text": [
      "188/188 [==============================] - 0s 386us/step\n",
      "188/188 [==============================] - 0s 389us/step\n",
      "188/188 [==============================] - 0s 384us/step\n",
      "188/188 [==============================] - 0s 385us/step\n",
      "188/188 [==============================] - 0s 386us/step\n"
     ]
    },
    {
     "name": "stderr",
     "output_type": "stream",
     "text": [
      "/Users/raveel/miniconda3/envs/tf/lib/python3.11/site-packages/sklearn/model_selection/_validation.py:73: FutureWarning: `fit_params` is deprecated and will be removed in version 1.6. Pass parameters via `params` instead.\n",
      "  warnings.warn(\n"
     ]
    },
    {
     "name": "stdout",
     "output_type": "stream",
     "text": [
      "188/188 [==============================] - 0s 383us/step\n",
      "188/188 [==============================] - 0s 383us/step\n",
      "188/188 [==============================] - 0s 383us/step\n",
      "188/188 [==============================] - 0s 382us/step\n",
      "188/188 [==============================] - 0s 386us/step\n"
     ]
    },
    {
     "name": "stderr",
     "output_type": "stream",
     "text": [
      "/Users/raveel/miniconda3/envs/tf/lib/python3.11/site-packages/sklearn/model_selection/_validation.py:73: FutureWarning: `fit_params` is deprecated and will be removed in version 1.6. Pass parameters via `params` instead.\n",
      "  warnings.warn(\n"
     ]
    },
    {
     "name": "stdout",
     "output_type": "stream",
     "text": [
      "188/188 [==============================] - 0s 418us/step\n",
      "188/188 [==============================] - 0s 392us/step\n",
      "188/188 [==============================] - 0s 388us/step\n",
      "188/188 [==============================] - 0s 381us/step\n",
      "188/188 [==============================] - 0s 398us/step\n"
     ]
    },
    {
     "name": "stderr",
     "output_type": "stream",
     "text": [
      "/Users/raveel/miniconda3/envs/tf/lib/python3.11/site-packages/sklearn/model_selection/_validation.py:73: FutureWarning: `fit_params` is deprecated and will be removed in version 1.6. Pass parameters via `params` instead.\n",
      "  warnings.warn(\n"
     ]
    },
    {
     "name": "stdout",
     "output_type": "stream",
     "text": [
      "188/188 [==============================] - 0s 384us/step\n",
      "188/188 [==============================] - 0s 393us/step\n",
      "188/188 [==============================] - 0s 394us/step\n",
      "188/188 [==============================] - 0s 385us/step\n",
      "188/188 [==============================] - 0s 383us/step\n"
     ]
    },
    {
     "name": "stderr",
     "output_type": "stream",
     "text": [
      "/Users/raveel/miniconda3/envs/tf/lib/python3.11/site-packages/sklearn/model_selection/_validation.py:73: FutureWarning: `fit_params` is deprecated and will be removed in version 1.6. Pass parameters via `params` instead.\n",
      "  warnings.warn(\n"
     ]
    },
    {
     "name": "stdout",
     "output_type": "stream",
     "text": [
      "188/188 [==============================] - 0s 392us/step\n",
      "188/188 [==============================] - 0s 385us/step\n",
      "188/188 [==============================] - 0s 386us/step\n",
      "188/188 [==============================] - 0s 390us/step\n",
      "188/188 [==============================] - 0s 386us/step\n"
     ]
    }
   ],
   "source": [
    "# SFS model, will check performance from 1 feature to all 18\n",
    "sfs = SFS(model, \n",
    "          k_features = (1,18),\n",
    "          forward=True, \n",
    "          floating=False, \n",
    "          scoring='accuracy',\n",
    "          cv=5,\n",
    "          verbose=0)\n",
    "\n",
    "sfs = sfs.fit(X_sub, y_sub)"
   ]
  },
  {
   "cell_type": "code",
   "execution_count": 7,
   "id": "c0dfb098-ec9c-4383-9dfc-c0401fe75ad7",
   "metadata": {},
   "outputs": [
    {
     "name": "stdout",
     "output_type": "stream",
     "text": [
      "best combination (ACC: 0.819): (0, 2, 3, 5, 6, 7, 8, 9, 13, 14, 15)\n",
      "\n"
     ]
    },
    {
     "data": {
      "image/png": "[encoded data removed]",
      "text/plain": [
       "<Figure size 640x480 with 1 Axes>"
      ]
     },
     "metadata": {},
     "output_type": "display_data"
    }
   ],
   "source": [
    "# plotting performance improvement with each additional feature\n",
    "\n",
    "print('best combination (ACC: %.3f): %s\\n' % (sfs.k_score_, sfs.k_feature_idx_))\n",
    "plot_sfs(sfs.get_metric_dict(), kind='std_err');\n",
    "plt.savefig('feature_num_performance_30k.pdf')"
   ]
  },
  {
   "cell_type": "code",
   "execution_count": 8,
   "id": "92b22491-930f-417c-9dfc-f4e13954466c",
   "metadata": {},
   "outputs": [
    {
     "data": {
      "text/html": [
       "<div>\n",
       "<style scoped>\n",
       "    .dataframe tbody tr th:only-of-type {\n",
       "        vertical-align: middle;\n",
       "    }\n",
       "\n",
       "    .dataframe tbody tr th {\n",
       "        vertical-align: top;\n",
       "    }\n",
       "\n",
       "    .dataframe thead th {\n",
       "        text-align: right;\n",
       "    }\n",
       "</style>\n",
       "<table border=\"1\" class=\"dataframe\">\n",
       "  <thead>\n",
       "    <tr style=\"text-align: right;\">\n",
       "      <th></th>\n",
       "      <th>feature_idx</th>\n",
       "      <th>cv_scores</th>\n",
       "      <th>avg_score</th>\n",
       "      <th>feature_names</th>\n",
       "      <th>ci_bound</th>\n",
       "      <th>std_dev</th>\n",
       "      <th>std_err</th>\n",
       "    </tr>\n",
       "  </thead>\n",
       "  <tbody>\n",
       "    <tr>\n",
       "      <th>1</th>\n",
       "      <td>(9,)</td>\n",
       "      <td>[0.7248333333333333, 0.6886666666666666, 0.721...</td>\n",
       "      <td>0.709633</td>\n",
       "      <td>(bjet_1_pt,)</td>\n",
       "      <td>0.021713</td>\n",
       "      <td>0.016894</td>\n",
       "      <td>0.008447</td>\n",
       "    </tr>\n",
       "    <tr>\n",
       "      <th>2</th>\n",
       "      <td>(9, 13)</td>\n",
       "      <td>[0.7351666666666666, 0.7353333333333333, 0.735...</td>\n",
       "      <td>0.738067</td>\n",
       "      <td>(bjet_1_pt, n_jets)</td>\n",
       "      <td>0.005534</td>\n",
       "      <td>0.004306</td>\n",
       "      <td>0.002153</td>\n",
       "    </tr>\n",
       "    <tr>\n",
       "      <th>3</th>\n",
       "      <td>(9, 13, 14)</td>\n",
       "      <td>[0.7548333333333334, 0.765, 0.7485, 0.747, 0.7...</td>\n",
       "      <td>0.749367</td>\n",
       "      <td>(bjet_1_pt, n_jets, n_bjets)</td>\n",
       "      <td>0.014078</td>\n",
       "      <td>0.010953</td>\n",
       "      <td>0.005477</td>\n",
       "    </tr>\n",
       "    <tr>\n",
       "      <th>4</th>\n",
       "      <td>(6, 9, 13, 14)</td>\n",
       "      <td>[0.765, 0.7721666666666667, 0.7733333333333333...</td>\n",
       "      <td>0.768233</td>\n",
       "      <td>(jet_1_twb, bjet_1_pt, n_jets, n_bjets)</td>\n",
       "      <td>0.004797</td>\n",
       "      <td>0.003732</td>\n",
       "      <td>0.001866</td>\n",
       "    </tr>\n",
       "    <tr>\n",
       "      <th>5</th>\n",
       "      <td>(6, 7, 9, 13, 14)</td>\n",
       "      <td>[0.7918333333333333, 0.8003333333333333, 0.8, ...</td>\n",
       "      <td>0.7978</td>\n",
       "      <td>(jet_1_twb, jet_2_twb, bjet_1_pt, n_jets, n_bj...</td>\n",
       "      <td>0.003981</td>\n",
       "      <td>0.003097</td>\n",
       "      <td>0.001549</td>\n",
       "    </tr>\n",
       "    <tr>\n",
       "      <th>6</th>\n",
       "      <td>(2, 6, 7, 9, 13, 14)</td>\n",
       "      <td>[0.7828333333333334, 0.8046666666666666, 0.794...</td>\n",
       "      <td>0.7944</td>\n",
       "      <td>(jet_3_pt, jet_1_twb, jet_2_twb, bjet_1_pt, n_...</td>\n",
       "      <td>0.009342</td>\n",
       "      <td>0.007268</td>\n",
       "      <td>0.003634</td>\n",
       "    </tr>\n",
       "    <tr>\n",
       "      <th>7</th>\n",
       "      <td>(2, 6, 7, 8, 9, 13, 14)</td>\n",
       "      <td>[0.8116666666666666, 0.8283333333333334, 0.810...</td>\n",
       "      <td>0.816067</td>\n",
       "      <td>(jet_3_pt, jet_1_twb, jet_2_twb, jet_3_twb, bj...</td>\n",
       "      <td>0.008231</td>\n",
       "      <td>0.006404</td>\n",
       "      <td>0.003202</td>\n",
       "    </tr>\n",
       "    <tr>\n",
       "      <th>8</th>\n",
       "      <td>(2, 5, 6, 7, 8, 9, 13, 14)</td>\n",
       "      <td>[0.8115, 0.8275, 0.8211666666666667, 0.81, 0.8...</td>\n",
       "      <td>0.817733</td>\n",
       "      <td>(jet_3_pt, jet_3_eta, jet_1_twb, jet_2_twb, je...</td>\n",
       "      <td>0.008258</td>\n",
       "      <td>0.006425</td>\n",
       "      <td>0.003213</td>\n",
       "    </tr>\n",
       "    <tr>\n",
       "      <th>9</th>\n",
       "      <td>(2, 3, 5, 6, 7, 8, 9, 13, 14)</td>\n",
       "      <td>[0.815, 0.8263333333333334, 0.812, 0.8065, 0.8...</td>\n",
       "      <td>0.816533</td>\n",
       "      <td>(jet_3_pt, jet_1_eta, jet_3_eta, jet_1_twb, je...</td>\n",
       "      <td>0.009256</td>\n",
       "      <td>0.007201</td>\n",
       "      <td>0.003601</td>\n",
       "    </tr>\n",
       "    <tr>\n",
       "      <th>10</th>\n",
       "      <td>(2, 3, 5, 6, 7, 8, 9, 13, 14, 15)</td>\n",
       "      <td>[0.8146666666666667, 0.8246666666666667, 0.811...</td>\n",
       "      <td>0.8184</td>\n",
       "      <td>(jet_3_pt, jet_1_eta, jet_3_eta, jet_1_twb, je...</td>\n",
       "      <td>0.006957</td>\n",
       "      <td>0.005413</td>\n",
       "      <td>0.002706</td>\n",
       "    </tr>\n",
       "    <tr>\n",
       "      <th>11</th>\n",
       "      <td>(0, 2, 3, 5, 6, 7, 8, 9, 13, 14, 15)</td>\n",
       "      <td>[0.8196666666666667, 0.8185, 0.817, 0.8175, 0....</td>\n",
       "      <td>0.818767</td>\n",
       "      <td>(jet_1_pt, jet_3_pt, jet_1_eta, jet_3_eta, jet...</td>\n",
       "      <td>0.001938</td>\n",
       "      <td>0.001508</td>\n",
       "      <td>0.000754</td>\n",
       "    </tr>\n",
       "    <tr>\n",
       "      <th>12</th>\n",
       "      <td>(0, 2, 3, 5, 6, 7, 8, 9, 10, 13, 14, 15)</td>\n",
       "      <td>[0.8168333333333333, 0.8203333333333334, 0.816...</td>\n",
       "      <td>0.817833</td>\n",
       "      <td>(jet_1_pt, jet_3_pt, jet_1_eta, jet_3_eta, jet...</td>\n",
       "      <td>0.006169</td>\n",
       "      <td>0.004799</td>\n",
       "      <td>0.0024</td>\n",
       "    </tr>\n",
       "    <tr>\n",
       "      <th>13</th>\n",
       "      <td>(0, 2, 3, 4, 5, 6, 7, 8, 9, 10, 13, 14, 15)</td>\n",
       "      <td>[0.8201666666666667, 0.8226666666666667, 0.811...</td>\n",
       "      <td>0.8173</td>\n",
       "      <td>(jet_1_pt, jet_3_pt, jet_1_eta, jet_2_eta, jet...</td>\n",
       "      <td>0.005066</td>\n",
       "      <td>0.003942</td>\n",
       "      <td>0.001971</td>\n",
       "    </tr>\n",
       "    <tr>\n",
       "      <th>14</th>\n",
       "      <td>(0, 2, 3, 4, 5, 6, 7, 8, 9, 10, 13, 14, 15, 17)</td>\n",
       "      <td>[0.8206666666666667, 0.8223333333333334, 0.810...</td>\n",
       "      <td>0.8099</td>\n",
       "      <td>(jet_1_pt, jet_3_pt, jet_1_eta, jet_2_eta, jet...</td>\n",
       "      <td>0.014196</td>\n",
       "      <td>0.011045</td>\n",
       "      <td>0.005523</td>\n",
       "    </tr>\n",
       "    <tr>\n",
       "      <th>15</th>\n",
       "      <td>(0, 2, 3, 4, 5, 6, 7, 8, 9, 10, 13, 14, 15, 16...</td>\n",
       "      <td>[0.8215, 0.82, 0.8055, 0.8155, 0.8015]</td>\n",
       "      <td>0.8128</td>\n",
       "      <td>(jet_1_pt, jet_3_pt, jet_1_eta, jet_2_eta, jet...</td>\n",
       "      <td>0.010215</td>\n",
       "      <td>0.007947</td>\n",
       "      <td>0.003974</td>\n",
       "    </tr>\n",
       "    <tr>\n",
       "      <th>16</th>\n",
       "      <td>(0, 2, 3, 4, 5, 6, 7, 8, 9, 10, 11, 13, 14, 15...</td>\n",
       "      <td>[0.817, 0.8243333333333334, 0.811, 0.808666666...</td>\n",
       "      <td>0.815933</td>\n",
       "      <td>(jet_1_pt, jet_3_pt, jet_1_eta, jet_2_eta, jet...</td>\n",
       "      <td>0.007186</td>\n",
       "      <td>0.005591</td>\n",
       "      <td>0.002796</td>\n",
       "    </tr>\n",
       "    <tr>\n",
       "      <th>17</th>\n",
       "      <td>(0, 2, 3, 4, 5, 6, 7, 8, 9, 10, 11, 12, 13, 14...</td>\n",
       "      <td>[0.8131666666666667, 0.789, 0.806, 0.815333333...</td>\n",
       "      <td>0.8072</td>\n",
       "      <td>(jet_1_pt, jet_3_pt, jet_1_eta, jet_2_eta, jet...</td>\n",
       "      <td>0.012362</td>\n",
       "      <td>0.009618</td>\n",
       "      <td>0.004809</td>\n",
       "    </tr>\n",
       "    <tr>\n",
       "      <th>18</th>\n",
       "      <td>(0, 1, 2, 3, 4, 5, 6, 7, 8, 9, 10, 11, 12, 13,...</td>\n",
       "      <td>[0.7715, 0.8163333333333334, 0.8115, 0.8218333...</td>\n",
       "      <td>0.7984</td>\n",
       "      <td>(jet_1_pt, jet_2_pt, jet_3_pt, jet_1_eta, jet_...</td>\n",
       "      <td>0.028888</td>\n",
       "      <td>0.022476</td>\n",
       "      <td>0.011238</td>\n",
       "    </tr>\n",
       "  </tbody>\n",
       "</table>\n",
       "</div>"
      ],
      "text/plain": [
       "                                          feature_idx  \\\n",
       "1                                                (9,)   \n",
       "2                                             (9, 13)   \n",
       "3                                         (9, 13, 14)   \n",
       "4                                      (6, 9, 13, 14)   \n",
       "5                                   (6, 7, 9, 13, 14)   \n",
       "6                                (2, 6, 7, 9, 13, 14)   \n",
       "7                             (2, 6, 7, 8, 9, 13, 14)   \n",
       "8                          (2, 5, 6, 7, 8, 9, 13, 14)   \n",
       "9                       (2, 3, 5, 6, 7, 8, 9, 13, 14)   \n",
       "10                  (2, 3, 5, 6, 7, 8, 9, 13, 14, 15)   \n",
       "11               (0, 2, 3, 5, 6, 7, 8, 9, 13, 14, 15)   \n",
       "12           (0, 2, 3, 5, 6, 7, 8, 9, 10, 13, 14, 15)   \n",
       "13        (0, 2, 3, 4, 5, 6, 7, 8, 9, 10, 13, 14, 15)   \n",
       "14    (0, 2, 3, 4, 5, 6, 7, 8, 9, 10, 13, 14, 15, 17)   \n",
       "15  (0, 2, 3, 4, 5, 6, 7, 8, 9, 10, 13, 14, 15, 16...   \n",
       "16  (0, 2, 3, 4, 5, 6, 7, 8, 9, 10, 11, 13, 14, 15...   \n",
       "17  (0, 2, 3, 4, 5, 6, 7, 8, 9, 10, 11, 12, 13, 14...   \n",
       "18  (0, 1, 2, 3, 4, 5, 6, 7, 8, 9, 10, 11, 12, 13,...   \n",
       "\n",
       "                                            cv_scores avg_score  \\\n",
       "1   [0.7248333333333333, 0.6886666666666666, 0.721...  0.709633   \n",
       "2   [0.7351666666666666, 0.7353333333333333, 0.735...  0.738067   \n",
       "3   [0.7548333333333334, 0.765, 0.7485, 0.747, 0.7...  0.749367   \n",
       "4   [0.765, 0.7721666666666667, 0.7733333333333333...  0.768233   \n",
       "5   [0.7918333333333333, 0.8003333333333333, 0.8, ...    0.7978   \n",
       "6   [0.7828333333333334, 0.8046666666666666, 0.794...    0.7944   \n",
       "7   [0.8116666666666666, 0.8283333333333334, 0.810...  0.816067   \n",
       "8   [0.8115, 0.8275, 0.8211666666666667, 0.81, 0.8...  0.817733   \n",
       "9   [0.815, 0.8263333333333334, 0.812, 0.8065, 0.8...  0.816533   \n",
       "10  [0.8146666666666667, 0.8246666666666667, 0.811...    0.8184   \n",
       "11  [0.8196666666666667, 0.8185, 0.817, 0.8175, 0....  0.818767   \n",
       "12  [0.8168333333333333, 0.8203333333333334, 0.816...  0.817833   \n",
       "13  [0.8201666666666667, 0.8226666666666667, 0.811...    0.8173   \n",
       "14  [0.8206666666666667, 0.8223333333333334, 0.810...    0.8099   \n",
       "15             [0.8215, 0.82, 0.8055, 0.8155, 0.8015]    0.8128   \n",
       "16  [0.817, 0.8243333333333334, 0.811, 0.808666666...  0.815933   \n",
       "17  [0.8131666666666667, 0.789, 0.806, 0.815333333...    0.8072   \n",
       "18  [0.7715, 0.8163333333333334, 0.8115, 0.8218333...    0.7984   \n",
       "\n",
       "                                        feature_names  ci_bound   std_dev  \\\n",
       "1                                        (bjet_1_pt,)  0.021713  0.016894   \n",
       "2                                 (bjet_1_pt, n_jets)  0.005534  0.004306   \n",
       "3                        (bjet_1_pt, n_jets, n_bjets)  0.014078  0.010953   \n",
       "4             (jet_1_twb, bjet_1_pt, n_jets, n_bjets)  0.004797  0.003732   \n",
       "5   (jet_1_twb, jet_2_twb, bjet_1_pt, n_jets, n_bj...  0.003981  0.003097   \n",
       "6   (jet_3_pt, jet_1_twb, jet_2_twb, bjet_1_pt, n_...  0.009342  0.007268   \n",
       "7   (jet_3_pt, jet_1_twb, jet_2_twb, jet_3_twb, bj...  0.008231  0.006404   \n",
       "8   (jet_3_pt, jet_3_eta, jet_1_twb, jet_2_twb, je...  0.008258  0.006425   \n",
       "9   (jet_3_pt, jet_1_eta, jet_3_eta, jet_1_twb, je...  0.009256  0.007201   \n",
       "10  (jet_3_pt, jet_1_eta, jet_3_eta, jet_1_twb, je...  0.006957  0.005413   \n",
       "11  (jet_1_pt, jet_3_pt, jet_1_eta, jet_3_eta, jet...  0.001938  0.001508   \n",
       "12  (jet_1_pt, jet_3_pt, jet_1_eta, jet_3_eta, jet...  0.006169  0.004799   \n",
       "13  (jet_1_pt, jet_3_pt, jet_1_eta, jet_2_eta, jet...  0.005066  0.003942   \n",
       "14  (jet_1_pt, jet_3_pt, jet_1_eta, jet_2_eta, jet...  0.014196  0.011045   \n",
       "15  (jet_1_pt, jet_3_pt, jet_1_eta, jet_2_eta, jet...  0.010215  0.007947   \n",
       "16  (jet_1_pt, jet_3_pt, jet_1_eta, jet_2_eta, jet...  0.007186  0.005591   \n",
       "17  (jet_1_pt, jet_3_pt, jet_1_eta, jet_2_eta, jet...  0.012362  0.009618   \n",
       "18  (jet_1_pt, jet_2_pt, jet_3_pt, jet_1_eta, jet_...  0.028888  0.022476   \n",
       "\n",
       "     std_err  \n",
       "1   0.008447  \n",
       "2   0.002153  \n",
       "3   0.005477  \n",
       "4   0.001866  \n",
       "5   0.001549  \n",
       "6   0.003634  \n",
       "7   0.003202  \n",
       "8   0.003213  \n",
       "9   0.003601  \n",
       "10  0.002706  \n",
       "11  0.000754  \n",
       "12    0.0024  \n",
       "13  0.001971  \n",
       "14  0.005523  \n",
       "15  0.003974  \n",
       "16  0.002796  \n",
       "17  0.004809  \n",
       "18  0.011238  "
      ]
     },
     "execution_count": 8,
     "metadata": {},
     "output_type": "execute_result"
    }
   ],
   "source": [
    "# saving performance of all feature sets\n",
    "\n",
    "feature_performance_df = pd.DataFrame.from_dict(sfs.get_metric_dict()).T\n",
    "feature_performance_df.to_csv('performance_30k.csv', index=False)\n",
    "feature_performance_df"
   ]
  }
 ],
 "metadata": {
  "kernelspec": {
   "display_name": "Python 3 (ipykernel)",
   "language": "python",
   "name": "python3"
  },
  "language_info": {
   "codemirror_mode": {
    "name": "ipython",
    "version": 3
   },
   "file_extension": ".py",
   "mimetype": "text/x-python",
   "name": "python",
   "nbconvert_exporter": "python",
   "pygments_lexer": "ipython3",
   "version": "3.11.5"
  }
 },
 "nbformat": 4,
 "nbformat_minor": 5
}
