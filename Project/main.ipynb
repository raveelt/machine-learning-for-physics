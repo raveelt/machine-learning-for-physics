{
 "cells": [
  {
   "cell_type": "code",
   "execution_count": 1,
   "id": "aa2a51d4-4ad0-4d26-8700-7c1994a4093f",
   "metadata": {},
   "outputs": [
    {
     "name": "stdout",
     "output_type": "stream",
     "text": [
      "Intel MKL WARNING: Support of Intel(R) Streaming SIMD Extensions 4.2 (Intel(R) SSE4.2) enabled only processors has been deprecated. Intel oneAPI Math Kernel Library 2025.0 will require Intel(R) Advanced Vector Extensions (Intel(R) AVX) instructions.\n",
      "Intel MKL WARNING: Support of Intel(R) Streaming SIMD Extensions 4.2 (Intel(R) SSE4.2) enabled only processors has been deprecated. Intel oneAPI Math Kernel Library 2025.0 will require Intel(R) Advanced Vector Extensions (Intel(R) AVX) instructions.\n"
     ]
    },
    {
     "name": "stderr",
     "output_type": "stream",
     "text": [
      "2024-04-13 19:28:48.865508: I tensorflow/core/platform/cpu_feature_guard.cc:182] This TensorFlow binary is optimized to use available CPU instructions in performance-critical operations.\n",
      "To enable the following instructions: SSE4.1 SSE4.2, in other operations, rebuild TensorFlow with the appropriate compiler flags.\n"
     ]
    }
   ],
   "source": [
    "import h5py\n",
    "import matplotlib.pyplot as plt\n",
    "import numpy as np\n",
    "import tensorflow.keras as K\n",
    "from numpy.lib.recfunctions import structured_to_unstructured\n",
    "from sklearn.model_selection import train_test_split\n",
    "import pandas as pd\n",
    "from tensorflow.keras.wrappers.scikit_learn import KerasClassifier\n",
    "from mlxtend.feature_selection import SequentialFeatureSelector as SFS"
   ]
  },
  {
   "cell_type": "markdown",
   "id": "a3fec636-9bbd-4c11-8932-f1c3af06c47d",
   "metadata": {},
   "source": [
    "# Loading The Data"
   ]
  },
  {
   "cell_type": "code",
   "execution_count": 2,
   "id": "1c644c92-ac39-4005-b23f-b055a7ca9343",
   "metadata": {},
   "outputs": [
    {
     "data": {
      "text/plain": [
       "(False, True)"
      ]
     },
     "execution_count": 2,
     "metadata": {},
     "output_type": "execute_result"
    }
   ],
   "source": [
    "with h5py.File(\"info/data/output_signal.h5\", \"r\") as file:\n",
    "    signal_data = file[\"events\"][:]\n",
    "\n",
    "with h5py.File(\"info/data/output_bg.h5\", \"r\") as file:\n",
    "    bg_data = file[\"events\"][:]\n",
    "\n",
    "\n",
    "len(signal_data) == 265525 , len(bg_data) == 232503 ## doesnt match the md file"
   ]
  },
  {
   "cell_type": "code",
   "execution_count": 3,
   "id": "f1dfecbc-4290-4082-af53-3a7fa074ad79",
   "metadata": {},
   "outputs": [
    {
     "data": {
      "text/plain": [
       "dtype([('jet_1_pt', '<f4'), ('jet_2_pt', '<f4'), ('jet_3_pt', '<f4'), ('jet_1_eta', '<f4'), ('jet_2_eta', '<f4'), ('jet_3_eta', '<f4'), ('jet_1_twb', 'u1'), ('jet_2_twb', 'u1'), ('jet_3_twb', 'u1'), ('bjet_1_pt', '<f4'), ('lep_1_pt', '<f4'), ('lep_2_pt', '<f4'), ('lep_3_pt', '<f4'), ('n_jets', 'u1'), ('n_bjets', 'u1'), ('n_leptons', 'u1'), ('met_met', '<f4'), ('H_T', '<f4')])"
      ]
     },
     "execution_count": 3,
     "metadata": {},
     "output_type": "execute_result"
    }
   ],
   "source": [
    "bg_data.dtype"
   ]
  },
  {
   "cell_type": "markdown",
   "id": "3758188b-b600-4ea4-acfc-ee1a9736853f",
   "metadata": {},
   "source": [
    "# Subset of the Data (my addition)"
   ]
  },
  {
   "cell_type": "code",
   "execution_count": 4,
   "id": "08800f6b-ff9b-4b8f-806c-d04493ed1c33",
   "metadata": {},
   "outputs": [
    {
     "data": {
      "text/plain": [
       "(741538, 20)"
      ]
     },
     "execution_count": 4,
     "metadata": {},
     "output_type": "execute_result"
    }
   ],
   "source": [
    "signal = pd.DataFrame(signal_data)\n",
    "background = pd.DataFrame(bg_data)\n",
    "df = pd.concat([signal, background])\n",
    "df = df.reset_index()\n",
    "labels = np.concatenate([np.ones(signal.shape[0]), np.zeros(background.shape[0])])\n",
    "labels = pd.DataFrame({'ttZ': labels})\n",
    "df = df.join(labels)\n",
    "df.shape"
   ]
  },
  {
   "cell_type": "code",
   "execution_count": 5,
   "id": "e7899f7d-c33d-4796-9f73-18df854e6d01",
   "metadata": {},
   "outputs": [],
   "source": [
    "# Shuffle the dataset\n",
    "df_shuffled = df.sample(frac=1, random_state=42)  # 'random_state' for reproducibility\n",
    "\n",
    "subset_df = df_shuffled.iloc[:10000]"
   ]
  },
  {
   "cell_type": "code",
   "execution_count": 9,
   "id": "3b7223de-8d4b-4006-8b17-a455b14f5d22",
   "metadata": {},
   "outputs": [],
   "source": [
    "X_sub = subset_df[['jet_1_pt', 'jet_2_pt', 'jet_3_pt', 'jet_1_eta', 'jet_2_eta',\n",
    "       'jet_3_eta', 'jet_1_twb', 'jet_2_twb', 'jet_3_twb', 'bjet_1_pt',\n",
    "       'lep_1_pt', 'lep_2_pt', 'lep_3_pt', 'n_jets', 'n_bjets', 'n_leptons',\n",
    "       'met_met', 'H_T']]\n",
    "y_sub = subset_df['ttZ']"
   ]
  },
  {
   "cell_type": "markdown",
   "id": "0b390f4a-6dc0-4e0a-8502-a27c8e9a45fe",
   "metadata": {},
   "source": [
    "# Feature Selection"
   ]
  },
  {
   "cell_type": "code",
   "execution_count": null,
   "id": "f0cf9037-2eed-46e2-8ebd-3552a35187e0",
   "metadata": {},
   "outputs": [],
   "source": [
    "input_list = [\n",
    "    \"H_T\",\n",
    "    \"jet_1_pt\",\n",
    "    \"jet_2_pt\",\n",
    "    \"lep_1_pt\",\n",
    "    \"lep_2_pt\",\n",
    "    \"n_bjets\",\n",
    "    \"jet_1_twb\",\n",
    "    \"jet_2_twb\",\n",
    "    \"bjet_1_pt\",\n",
    "]\n",
    "\n",
    "signal_data = signal_data[input_list]\n",
    "bg_data = bg_data[input_list]"
   ]
  },
  {
   "cell_type": "code",
   "execution_count": null,
   "id": "2e59a45f-d838-429b-8f6b-efbdf2a27620",
   "metadata": {},
   "outputs": [],
   "source": [
    "bg_data.dtype"
   ]
  },
  {
   "cell_type": "code",
   "execution_count": null,
   "id": "0cb6f4d4-c15d-40b6-9f15-e2ba7538926d",
   "metadata": {},
   "outputs": [],
   "source": [
    "signal_data"
   ]
  },
  {
   "cell_type": "markdown",
   "id": "1c09bcd9-eb92-4f28-8df6-14febbb68045",
   "metadata": {},
   "source": [
    "# 'Unstructuring' Data"
   ]
  },
  {
   "cell_type": "code",
   "execution_count": null,
   "id": "8390c4bc-c92d-4100-8c00-b1a01f4628fc",
   "metadata": {},
   "outputs": [],
   "source": [
    "signal_data = structured_to_unstructured(signal_data)\n",
    "bg_data = structured_to_unstructured(bg_data)"
   ]
  },
  {
   "cell_type": "markdown",
   "id": "83d1bf9c-55ff-4956-8616-334c0a1b711a",
   "metadata": {},
   "source": [
    "# Train - Validation - Test Splits"
   ]
  },
  {
   "cell_type": "code",
   "execution_count": null,
   "id": "aabdc5d4-9009-452d-996a-b4cb71923992",
   "metadata": {},
   "outputs": [],
   "source": [
    "X = np.concatenate([signal_data, bg_data])\n",
    "y = np.concatenate([np.ones(signal_data.shape[0], dtype=int), np.zeros(bg_data.shape[0], dtype=int)])\n",
    "\n",
    "\n",
    "x_train, x_rem, y_train, y_rem = train_test_split(X, y, train_size=0.8)\n",
    "x_val, x_test, y_val, y_test = train_test_split(x_rem, y_rem, train_size=0.5)"
   ]
  },
  {
   "cell_type": "markdown",
   "id": "b2fe23c9-9b18-4cba-94c1-a236a152a93a",
   "metadata": {},
   "source": [
    "# Data Preprocessing"
   ]
  },
  {
   "cell_type": "code",
   "execution_count": null,
   "id": "5a345852-9544-4c6e-82fb-3ffc49e974a7",
   "metadata": {},
   "outputs": [],
   "source": [
    "preprocessing_layer = K.layers.Normalization()\n",
    "preprocessing_layer.adapt(x_train)"
   ]
  },
  {
   "cell_type": "markdown",
   "id": "11e91d96-11aa-4fa8-8b32-f343df0d1d8f",
   "metadata": {},
   "source": [
    "# Model training"
   ]
  },
  {
   "cell_type": "code",
   "execution_count": null,
   "id": "06a4773a-a89e-4949-b3b9-a4d8261a77f5",
   "metadata": {},
   "outputs": [],
   "source": [
    "model = K.Sequential(\n",
    "    [\n",
    "        preprocessing_layer,\n",
    "        K.layers.Dense(50, activation=\"relu\", name=\"hidden1\"),\n",
    "        K.layers.Dense(25, activation=\"relu\", name=\"hidden2\"),\n",
    "        K.layers.Dense(10, activation=\"relu\", name=\"hidden3\"),\n",
    "        K.layers.Dense(1, activation=\"sigmoid\", name=\"output\"),\n",
    "    ]\n",
    ")\n",
    "\n",
    "model.summary()"
   ]
  },
  {
   "cell_type": "code",
   "execution_count": null,
   "id": "7487a62f-4148-4898-a091-ff01634c7867",
   "metadata": {},
   "outputs": [],
   "source": [
    "model.compile(\n",
    "    optimizer=K.optimizers.Adam(learning_rate=0.0002),\n",
    "    loss=K.losses.BinaryCrossentropy(),\n",
    "    metrics=[K.metrics.BinaryAccuracy()],\n",
    ")"
   ]
  },
  {
   "cell_type": "code",
   "execution_count": null,
   "id": "7a9c8272-3a24-46ca-86e0-abcf1920d832",
   "metadata": {},
   "outputs": [],
   "source": [
    "early_stopping_callback = K.callbacks.EarlyStopping(\n",
    "    monitor='val_loss', \n",
    "    patience=10, \n",
    "    min_delta=0.002, \n",
    "    restore_best_weights=True,\n",
    "    verbose=1,)"
   ]
  },
  {
   "cell_type": "code",
   "execution_count": null,
   "id": "d623cb36-2a71-477d-a1c8-366dee3acafe",
   "metadata": {},
   "outputs": [],
   "source": [
    "fit_history = model.fit(\n",
    "        x_train,\n",
    "        y_train,\n",
    "        batch_size=512,\n",
    "        epochs=100,\n",
    "        validation_data=(x_val, y_val),\n",
    "        callbacks=[early_stopping_callback],\n",
    "    )\n",
    "\n",
    "print(\"Printing summary of the trained model:\")\n",
    "print(model.summary())"
   ]
  },
  {
   "cell_type": "code",
   "execution_count": null,
   "id": "4e101569-e916-4f9a-a0e7-5ddcc0d4aae2",
   "metadata": {},
   "outputs": [],
   "source": [
    "save_name = \"my_model\"\n",
    "print(f'Storing model with name \"{save_name}\" now. You can convert '\n",
    "        'this to ONNX format with the \"tf2onnx\" command-line utility.')\n",
    "model.save(save_name)"
   ]
  },
  {
   "cell_type": "markdown",
   "id": "c8ad3e2a-2f40-48e0-82c2-a4f86c8616ce",
   "metadata": {},
   "source": [
    "The following code produces a plot of the loss evolution for training and validation:"
   ]
  },
  {
   "cell_type": "code",
   "execution_count": null,
   "id": "2ea4b930-c631-4b38-9f41-eba4f808da0a",
   "metadata": {},
   "outputs": [],
   "source": [
    "plt.plot(fit_history.history[\"loss\"], label=\"training\")\n",
    "plt.plot(fit_history.history[\"val_loss\"], label=\"validation\")\n",
    "plt.xlabel(\"Number of epochs\")\n",
    "plt.ylabel(\"Loss value\")\n",
    "plt.legend()\n",
    "plt.tight_layout()\n",
    "plt.show()"
   ]
  },
  {
   "cell_type": "markdown",
   "id": "f6137a29-a5d8-4e8d-b120-c1fe984a7f09",
   "metadata": {},
   "source": [
    "The following code produces a plot of the accuracy evolution per epoch for training and validation:"
   ]
  },
  {
   "cell_type": "code",
   "execution_count": null,
   "id": "48a1cff1-c5cb-4a7d-aa10-efe6fb80efad",
   "metadata": {},
   "outputs": [],
   "source": [
    "plt.figure()\n",
    "plt.plot(fit_history.history[\"binary_accuracy\"], label=\"training\")\n",
    "plt.plot(fit_history.history[\"val_binary_accuracy\"], label=\"validation\")\n",
    "plt.xlabel(\"Number of epochs\")\n",
    "plt.ylabel(\"Accuracy value\")\n",
    "plt.legend()\n",
    "plt.tight_layout()\n",
    "#plt.savefig(output_file)"
   ]
  },
  {
   "cell_type": "markdown",
   "id": "9e6334e5-db12-433c-bb87-15c8efc4f9d5",
   "metadata": {},
   "source": [
    "The following code plots the distribution of the neural-network output node for both training and test data to check for possible differences between the two. The datasets are sliced according to their truth labels (i.e. the two classes)."
   ]
  },
  {
   "cell_type": "code",
   "execution_count": null,
   "id": "a5b347d4-4142-42d8-85b6-c05cb864828b",
   "metadata": {},
   "outputs": [],
   "source": [
    " \"\"\"Creates a plot of the NN output for training and test data.\n",
    "\n",
    "    The function slices both training and test data according to the truth\n",
    "    labels, so that the displayed spectra can be split into \"background\" and\n",
    "    \"signal\" events (i.e. the two classes the model was trained on).\n",
    "\n",
    "    \"\"\"\n",
    "\n",
    "_, bins, _ = plt.hist(model.predict(x_test[y_test.astype(bool)]), bins=20, alpha=0.3, density=True, label=\"test signal\")\n",
    "plt.hist(model.predict(x_test[~y_test.astype(bool)]), bins=bins, alpha=0.3, density=True, label=\"test bg\")\n",
    "plt.hist(model.predict(x_train[y_train.astype(bool)]), bins=bins, density=True, histtype=\"step\", label=\"train signal\")\n",
    "plt.hist(model.predict(x_train[~y_train.astype(bool)]), bins=bins, density=True, histtype=\"step\", label=\"train bg\")\n",
    "plt.xlabel(\"NN output\")\n",
    "plt.legend()\n",
    "plt.tight_layout()\n",
    "plt.show()\n",
    "#plt.savefig(output_file)\n",
    "print(\"Created plots of loss, accuracy, and NN output.\")"
   ]
  },
  {
   "cell_type": "markdown",
   "id": "e44bcfab-0e6d-4104-9f32-e68418c15900",
   "metadata": {},
   "source": [
    "# Feature Importance"
   ]
  },
  {
   "cell_type": "code",
   "execution_count": null,
   "id": "1050fda1-ab3f-4dd3-8b9e-5c1eb210587f",
   "metadata": {},
   "outputs": [],
   "source": [
    "import numpy as np\n",
    "from sklearn.metrics import accuracy_score\n",
    "from sklearn.utils import shuffle\n",
    "\n",
    "# Function to calculate permutation feature importance\n",
    "def permutation_importance(model, X_valid, y_valid, metric=accuracy_score):\n",
    "    # Store the baseline accuracy of the model on original data\n",
    "    baseline_accuracy = metric(y_valid, model.predict(X_valid).round())\n",
    "    importances = []\n",
    "\n",
    "    for i in range(X_valid.shape[1]):  # iterate over each feature\n",
    "        save = X_valid[:, i].copy()\n",
    "        X_valid[:, i] = shuffle(X_valid[:, i])  # shuffle individual feature\n",
    "        m_accuracy = metric(y_valid, model.predict(X_valid).round())\n",
    "        X_valid[:, i] = save  # restore original data\n",
    "        importances.append(baseline_accuracy - m_accuracy)  # decrease in model accuracy\n",
    "\n",
    "    return np.array(importances)\n",
    "\n",
    "# Assuming X_valid and y_valid are your validation datasets\n",
    "feature_importances = permutation_importance(model, x_val, y_val)\n",
    "print(\"Feature importances:\", feature_importances)\n"
   ]
  },
  {
   "cell_type": "markdown",
   "id": "ec9808fb-bb63-479c-ae78-1edefe8f92b1",
   "metadata": {},
   "source": [
    "# SequentialFeatureSelector"
   ]
  },
  {
   "cell_type": "markdown",
   "id": "b0c9a12d-9514-42cb-87a1-271722508e50",
   "metadata": {},
   "source": [
    "https://rasbt.github.io/mlxtend/user_guide/feature_selection/SequentialFeatureSelector/#example-9-selecting-the-best-feature-combination-in-a-k-range"
   ]
  },
  {
   "cell_type": "code",
   "execution_count": 34,
   "id": "2e1d1dcc-12ae-4b3f-93c0-a401cb50c78d",
   "metadata": {},
   "outputs": [],
   "source": [
    "preprocessing_layer = K.layers.Normalization()\n",
    "preprocessing_layer.adapt(X_sub)"
   ]
  },
  {
   "cell_type": "code",
   "execution_count": 35,
   "id": "1e2f003c-5d08-4f1a-872d-7c559fd0e4da",
   "metadata": {},
   "outputs": [
    {
     "name": "stderr",
     "output_type": "stream",
     "text": [
      "/var/folders/3x/lv7sddxn2gg8mq0dwdcn1wg40000gn/T/ipykernel_21761/910697540.py:18: DeprecationWarning: KerasClassifier is deprecated, use Sci-Keras (https://github.com/adriangb/scikeras) instead. See https://www.adriangb.com/scikeras/stable/migration.html for help migrating.\n",
      "  model = KerasClassifier(build_fn=lambda: build_model(input_dim=X_sub.shape[1]), epochs=10, batch_size=32, verbose=0)\n"
     ]
    }
   ],
   "source": [
    "from tensorflow.keras.wrappers.scikit_learn import KerasClassifier\n",
    "from tensorflow.keras.models import Sequential\n",
    "from tensorflow.keras.layers import Dense\n",
    "\n",
    "def build_model(input_dim=None):\n",
    "    model = Sequential([\n",
    "        K.layers.Normalization(),\n",
    "        Dense(50, activation=\"relu\", input_dim=input_dim),\n",
    "        Dense(25, activation=\"relu\"),\n",
    "        Dense(10, activation=\"relu\"),\n",
    "        Dense(1, activation=\"sigmoid\")\n",
    "    ])\n",
    "    model.compile(optimizer='adam', loss='binary_crossentropy', metrics=['accuracy'])\n",
    "    return model\n",
    "\n",
    "# Assuming input_dim is the number of initial features\n",
    "#model = KerasClassifier(build_fn=lambda: build_model(input_dim=x_train.shape[1]), epochs=10, batch_size=32, verbose=1)\n",
    "model = KerasClassifier(build_fn=lambda: build_model(input_dim=X_sub.shape[1]), epochs=10, batch_size=32, verbose=0)"
   ]
  },
  {
   "cell_type": "code",
   "execution_count": 36,
   "id": "ecbea23d-e9a5-4f21-a0d7-c60c4b06d810",
   "metadata": {
    "scrolled": true
   },
   "outputs": [
    {
     "name": "stderr",
     "output_type": "stream",
     "text": [
      "/Users/raveel/miniconda3/envs/tf/lib/python3.11/site-packages/sklearn/model_selection/_validation.py:73: FutureWarning: `fit_params` is deprecated and will be removed in version 1.6. Pass parameters via `params` instead.\n",
      "  warnings.warn(\n"
     ]
    },
    {
     "name": "stdout",
     "output_type": "stream",
     "text": [
      "63/63 [==============================] - 0s 436us/step\n",
      "63/63 [==============================] - 0s 452us/step\n",
      "63/63 [==============================] - 0s 464us/step\n",
      "63/63 [==============================] - 0s 457us/step\n",
      "63/63 [==============================] - 0s 464us/step\n"
     ]
    },
    {
     "name": "stderr",
     "output_type": "stream",
     "text": [
      "/Users/raveel/miniconda3/envs/tf/lib/python3.11/site-packages/sklearn/model_selection/_validation.py:73: FutureWarning: `fit_params` is deprecated and will be removed in version 1.6. Pass parameters via `params` instead.\n",
      "  warnings.warn(\n"
     ]
    },
    {
     "name": "stdout",
     "output_type": "stream",
     "text": [
      "63/63 [==============================] - 0s 457us/step\n",
      "63/63 [==============================] - 0s 453us/step\n",
      "63/63 [==============================] - 0s 448us/step\n",
      "63/63 [==============================] - 0s 451us/step\n",
      "63/63 [==============================] - 0s 458us/step\n"
     ]
    },
    {
     "name": "stderr",
     "output_type": "stream",
     "text": [
      "/Users/raveel/miniconda3/envs/tf/lib/python3.11/site-packages/sklearn/model_selection/_validation.py:73: FutureWarning: `fit_params` is deprecated and will be removed in version 1.6. Pass parameters via `params` instead.\n",
      "  warnings.warn(\n"
     ]
    },
    {
     "name": "stdout",
     "output_type": "stream",
     "text": [
      "63/63 [==============================] - 0s 411us/step\n",
      "63/63 [==============================] - 0s 411us/step\n",
      "63/63 [==============================] - 0s 415us/step\n",
      "63/63 [==============================] - 0s 426us/step\n",
      "63/63 [==============================] - 0s 418us/step\n"
     ]
    },
    {
     "name": "stderr",
     "output_type": "stream",
     "text": [
      "/Users/raveel/miniconda3/envs/tf/lib/python3.11/site-packages/sklearn/model_selection/_validation.py:73: FutureWarning: `fit_params` is deprecated and will be removed in version 1.6. Pass parameters via `params` instead.\n",
      "  warnings.warn(\n"
     ]
    },
    {
     "name": "stdout",
     "output_type": "stream",
     "text": [
      "63/63 [==============================] - 0s 415us/step\n",
      "63/63 [==============================] - 0s 418us/step\n",
      "63/63 [==============================] - 0s 419us/step\n",
      "63/63 [==============================] - 0s 422us/step\n",
      "63/63 [==============================] - 0s 427us/step\n"
     ]
    },
    {
     "name": "stderr",
     "output_type": "stream",
     "text": [
      "/Users/raveel/miniconda3/envs/tf/lib/python3.11/site-packages/sklearn/model_selection/_validation.py:73: FutureWarning: `fit_params` is deprecated and will be removed in version 1.6. Pass parameters via `params` instead.\n",
      "  warnings.warn(\n"
     ]
    },
    {
     "name": "stdout",
     "output_type": "stream",
     "text": [
      "63/63 [==============================] - 0s 417us/step\n",
      "63/63 [==============================] - 0s 424us/step\n",
      "63/63 [==============================] - 0s 430us/step\n",
      "63/63 [==============================] - 0s 417us/step\n",
      "63/63 [==============================] - 0s 418us/step\n"
     ]
    },
    {
     "name": "stderr",
     "output_type": "stream",
     "text": [
      "/Users/raveel/miniconda3/envs/tf/lib/python3.11/site-packages/sklearn/model_selection/_validation.py:73: FutureWarning: `fit_params` is deprecated and will be removed in version 1.6. Pass parameters via `params` instead.\n",
      "  warnings.warn(\n"
     ]
    },
    {
     "name": "stdout",
     "output_type": "stream",
     "text": [
      "63/63 [==============================] - 0s 427us/step\n",
      "63/63 [==============================] - 0s 419us/step\n",
      "63/63 [==============================] - 0s 411us/step\n",
      "63/63 [==============================] - 0s 446us/step\n",
      "63/63 [==============================] - 0s 411us/step\n"
     ]
    },
    {
     "name": "stderr",
     "output_type": "stream",
     "text": [
      "/Users/raveel/miniconda3/envs/tf/lib/python3.11/site-packages/sklearn/model_selection/_validation.py:73: FutureWarning: `fit_params` is deprecated and will be removed in version 1.6. Pass parameters via `params` instead.\n",
      "  warnings.warn(\n"
     ]
    },
    {
     "name": "stdout",
     "output_type": "stream",
     "text": [
      "63/63 [==============================] - 0s 425us/step\n",
      "63/63 [==============================] - 0s 430us/step\n",
      "63/63 [==============================] - 0s 411us/step\n",
      "63/63 [==============================] - 0s 413us/step\n",
      "63/63 [==============================] - 0s 726us/step\n"
     ]
    },
    {
     "name": "stderr",
     "output_type": "stream",
     "text": [
      "/Users/raveel/miniconda3/envs/tf/lib/python3.11/site-packages/sklearn/model_selection/_validation.py:73: FutureWarning: `fit_params` is deprecated and will be removed in version 1.6. Pass parameters via `params` instead.\n",
      "  warnings.warn(\n"
     ]
    },
    {
     "name": "stdout",
     "output_type": "stream",
     "text": [
      "63/63 [==============================] - 0s 419us/step\n",
      "63/63 [==============================] - 0s 453us/step\n",
      "63/63 [==============================] - 0s 427us/step\n",
      "63/63 [==============================] - 0s 419us/step\n",
      "63/63 [==============================] - 0s 430us/step\n"
     ]
    },
    {
     "name": "stderr",
     "output_type": "stream",
     "text": [
      "/Users/raveel/miniconda3/envs/tf/lib/python3.11/site-packages/sklearn/model_selection/_validation.py:73: FutureWarning: `fit_params` is deprecated and will be removed in version 1.6. Pass parameters via `params` instead.\n",
      "  warnings.warn(\n"
     ]
    },
    {
     "name": "stdout",
     "output_type": "stream",
     "text": [
      "63/63 [==============================] - 0s 420us/step\n",
      "63/63 [==============================] - 0s 415us/step\n",
      "63/63 [==============================] - 0s 418us/step\n",
      "63/63 [==============================] - 0s 430us/step\n",
      "63/63 [==============================] - 0s 418us/step\n"
     ]
    },
    {
     "name": "stderr",
     "output_type": "stream",
     "text": [
      "/Users/raveel/miniconda3/envs/tf/lib/python3.11/site-packages/sklearn/model_selection/_validation.py:73: FutureWarning: `fit_params` is deprecated and will be removed in version 1.6. Pass parameters via `params` instead.\n",
      "  warnings.warn(\n"
     ]
    },
    {
     "name": "stdout",
     "output_type": "stream",
     "text": [
      "63/63 [==============================] - 0s 414us/step\n",
      "63/63 [==============================] - 0s 413us/step\n",
      "63/63 [==============================] - 0s 412us/step\n",
      "63/63 [==============================] - 0s 416us/step\n",
      "63/63 [==============================] - 0s 432us/step\n"
     ]
    },
    {
     "name": "stderr",
     "output_type": "stream",
     "text": [
      "/Users/raveel/miniconda3/envs/tf/lib/python3.11/site-packages/sklearn/model_selection/_validation.py:73: FutureWarning: `fit_params` is deprecated and will be removed in version 1.6. Pass parameters via `params` instead.\n",
      "  warnings.warn(\n"
     ]
    },
    {
     "name": "stdout",
     "output_type": "stream",
     "text": [
      "63/63 [==============================] - 0s 444us/step\n",
      "63/63 [==============================] - 0s 419us/step\n",
      "63/63 [==============================] - 0s 416us/step\n",
      "63/63 [==============================] - 0s 423us/step\n",
      "63/63 [==============================] - 0s 424us/step\n"
     ]
    },
    {
     "name": "stderr",
     "output_type": "stream",
     "text": [
      "/Users/raveel/miniconda3/envs/tf/lib/python3.11/site-packages/sklearn/model_selection/_validation.py:73: FutureWarning: `fit_params` is deprecated and will be removed in version 1.6. Pass parameters via `params` instead.\n",
      "  warnings.warn(\n"
     ]
    },
    {
     "name": "stdout",
     "output_type": "stream",
     "text": [
      "63/63 [==============================] - 0s 419us/step\n",
      "63/63 [==============================] - 0s 411us/step\n",
      "63/63 [==============================] - 0s 419us/step\n",
      "63/63 [==============================] - 0s 423us/step\n",
      "63/63 [==============================] - 0s 420us/step\n"
     ]
    },
    {
     "name": "stderr",
     "output_type": "stream",
     "text": [
      "/Users/raveel/miniconda3/envs/tf/lib/python3.11/site-packages/sklearn/model_selection/_validation.py:73: FutureWarning: `fit_params` is deprecated and will be removed in version 1.6. Pass parameters via `params` instead.\n",
      "  warnings.warn(\n"
     ]
    },
    {
     "name": "stdout",
     "output_type": "stream",
     "text": [
      "63/63 [==============================] - 0s 418us/step\n",
      "63/63 [==============================] - 0s 424us/step\n",
      "63/63 [==============================] - 0s 417us/step\n",
      "63/63 [==============================] - 0s 410us/step\n",
      "63/63 [==============================] - 0s 427us/step\n"
     ]
    },
    {
     "name": "stderr",
     "output_type": "stream",
     "text": [
      "/Users/raveel/miniconda3/envs/tf/lib/python3.11/site-packages/sklearn/model_selection/_validation.py:73: FutureWarning: `fit_params` is deprecated and will be removed in version 1.6. Pass parameters via `params` instead.\n",
      "  warnings.warn(\n"
     ]
    },
    {
     "name": "stdout",
     "output_type": "stream",
     "text": [
      "63/63 [==============================] - 0s 413us/step\n",
      "63/63 [==============================] - 0s 421us/step\n",
      "63/63 [==============================] - 0s 417us/step\n",
      "63/63 [==============================] - 0s 416us/step\n",
      "63/63 [==============================] - 0s 423us/step\n"
     ]
    },
    {
     "name": "stderr",
     "output_type": "stream",
     "text": [
      "/Users/raveel/miniconda3/envs/tf/lib/python3.11/site-packages/sklearn/model_selection/_validation.py:73: FutureWarning: `fit_params` is deprecated and will be removed in version 1.6. Pass parameters via `params` instead.\n",
      "  warnings.warn(\n"
     ]
    },
    {
     "name": "stdout",
     "output_type": "stream",
     "text": [
      "63/63 [==============================] - 0s 424us/step\n",
      "63/63 [==============================] - 0s 409us/step\n",
      "63/63 [==============================] - 0s 419us/step\n",
      "63/63 [==============================] - 0s 409us/step\n",
      "63/63 [==============================] - 0s 409us/step\n"
     ]
    },
    {
     "name": "stderr",
     "output_type": "stream",
     "text": [
      "/Users/raveel/miniconda3/envs/tf/lib/python3.11/site-packages/sklearn/model_selection/_validation.py:73: FutureWarning: `fit_params` is deprecated and will be removed in version 1.6. Pass parameters via `params` instead.\n",
      "  warnings.warn(\n"
     ]
    },
    {
     "name": "stdout",
     "output_type": "stream",
     "text": [
      "63/63 [==============================] - 0s 418us/step\n",
      "63/63 [==============================] - 0s 426us/step\n",
      "63/63 [==============================] - 0s 418us/step\n",
      "63/63 [==============================] - 0s 434us/step\n",
      "63/63 [==============================] - 0s 441us/step\n"
     ]
    },
    {
     "name": "stderr",
     "output_type": "stream",
     "text": [
      "/Users/raveel/miniconda3/envs/tf/lib/python3.11/site-packages/sklearn/model_selection/_validation.py:73: FutureWarning: `fit_params` is deprecated and will be removed in version 1.6. Pass parameters via `params` instead.\n",
      "  warnings.warn(\n"
     ]
    },
    {
     "name": "stdout",
     "output_type": "stream",
     "text": [
      "63/63 [==============================] - 0s 417us/step\n",
      "63/63 [==============================] - 0s 415us/step\n",
      "63/63 [==============================] - 0s 421us/step\n",
      "63/63 [==============================] - 0s 427us/step\n",
      "63/63 [==============================] - 0s 443us/step\n"
     ]
    },
    {
     "name": "stderr",
     "output_type": "stream",
     "text": [
      "/Users/raveel/miniconda3/envs/tf/lib/python3.11/site-packages/sklearn/model_selection/_validation.py:73: FutureWarning: `fit_params` is deprecated and will be removed in version 1.6. Pass parameters via `params` instead.\n",
      "  warnings.warn(\n"
     ]
    },
    {
     "name": "stdout",
     "output_type": "stream",
     "text": [
      "63/63 [==============================] - 0s 433us/step\n",
      "63/63 [==============================] - 0s 419us/step\n",
      "63/63 [==============================] - 0s 414us/step\n",
      "63/63 [==============================] - 0s 418us/step\n",
      "63/63 [==============================] - 0s 426us/step\n"
     ]
    },
    {
     "name": "stderr",
     "output_type": "stream",
     "text": [
      "/Users/raveel/miniconda3/envs/tf/lib/python3.11/site-packages/sklearn/model_selection/_validation.py:73: FutureWarning: `fit_params` is deprecated and will be removed in version 1.6. Pass parameters via `params` instead.\n",
      "  warnings.warn(\n"
     ]
    },
    {
     "name": "stdout",
     "output_type": "stream",
     "text": [
      "63/63 [==============================] - 0s 437us/step\n",
      "63/63 [==============================] - 0s 427us/step\n",
      "63/63 [==============================] - 0s 417us/step\n",
      "63/63 [==============================] - 0s 424us/step\n",
      "63/63 [==============================] - 0s 424us/step\n"
     ]
    },
    {
     "name": "stderr",
     "output_type": "stream",
     "text": [
      "/Users/raveel/miniconda3/envs/tf/lib/python3.11/site-packages/sklearn/model_selection/_validation.py:73: FutureWarning: `fit_params` is deprecated and will be removed in version 1.6. Pass parameters via `params` instead.\n",
      "  warnings.warn(\n"
     ]
    },
    {
     "name": "stdout",
     "output_type": "stream",
     "text": [
      "63/63 [==============================] - 0s 425us/step\n",
      "63/63 [==============================] - 0s 422us/step\n",
      "63/63 [==============================] - 0s 422us/step\n",
      "63/63 [==============================] - 0s 432us/step\n",
      "63/63 [==============================] - 0s 446us/step\n"
     ]
    },
    {
     "name": "stderr",
     "output_type": "stream",
     "text": [
      "/Users/raveel/miniconda3/envs/tf/lib/python3.11/site-packages/sklearn/model_selection/_validation.py:73: FutureWarning: `fit_params` is deprecated and will be removed in version 1.6. Pass parameters via `params` instead.\n",
      "  warnings.warn(\n"
     ]
    },
    {
     "name": "stdout",
     "output_type": "stream",
     "text": [
      "63/63 [==============================] - 0s 424us/step\n",
      "63/63 [==============================] - 0s 436us/step\n",
      "63/63 [==============================] - 0s 436us/step\n",
      "63/63 [==============================] - 0s 419us/step\n",
      "63/63 [==============================] - 0s 421us/step\n"
     ]
    },
    {
     "name": "stderr",
     "output_type": "stream",
     "text": [
      "/Users/raveel/miniconda3/envs/tf/lib/python3.11/site-packages/sklearn/model_selection/_validation.py:73: FutureWarning: `fit_params` is deprecated and will be removed in version 1.6. Pass parameters via `params` instead.\n",
      "  warnings.warn(\n"
     ]
    },
    {
     "name": "stdout",
     "output_type": "stream",
     "text": [
      "63/63 [==============================] - 0s 424us/step\n",
      "63/63 [==============================] - 0s 429us/step\n",
      "63/63 [==============================] - 0s 430us/step\n",
      "63/63 [==============================] - 0s 425us/step\n",
      "63/63 [==============================] - 0s 418us/step\n"
     ]
    },
    {
     "name": "stderr",
     "output_type": "stream",
     "text": [
      "/Users/raveel/miniconda3/envs/tf/lib/python3.11/site-packages/sklearn/model_selection/_validation.py:73: FutureWarning: `fit_params` is deprecated and will be removed in version 1.6. Pass parameters via `params` instead.\n",
      "  warnings.warn(\n"
     ]
    },
    {
     "name": "stdout",
     "output_type": "stream",
     "text": [
      "63/63 [==============================] - 0s 421us/step\n",
      "63/63 [==============================] - 0s 422us/step\n",
      "63/63 [==============================] - 0s 427us/step\n",
      "63/63 [==============================] - 0s 428us/step\n",
      "63/63 [==============================] - 0s 422us/step\n"
     ]
    },
    {
     "name": "stderr",
     "output_type": "stream",
     "text": [
      "/Users/raveel/miniconda3/envs/tf/lib/python3.11/site-packages/sklearn/model_selection/_validation.py:73: FutureWarning: `fit_params` is deprecated and will be removed in version 1.6. Pass parameters via `params` instead.\n",
      "  warnings.warn(\n"
     ]
    },
    {
     "name": "stdout",
     "output_type": "stream",
     "text": [
      "63/63 [==============================] - 0s 423us/step\n",
      "63/63 [==============================] - 0s 410us/step\n",
      "63/63 [==============================] - 0s 414us/step\n",
      "63/63 [==============================] - 0s 428us/step\n",
      "63/63 [==============================] - 0s 427us/step\n"
     ]
    },
    {
     "name": "stderr",
     "output_type": "stream",
     "text": [
      "/Users/raveel/miniconda3/envs/tf/lib/python3.11/site-packages/sklearn/model_selection/_validation.py:73: FutureWarning: `fit_params` is deprecated and will be removed in version 1.6. Pass parameters via `params` instead.\n",
      "  warnings.warn(\n"
     ]
    },
    {
     "name": "stdout",
     "output_type": "stream",
     "text": [
      "63/63 [==============================] - 0s 425us/step\n",
      "63/63 [==============================] - 0s 412us/step\n",
      "63/63 [==============================] - 0s 421us/step\n",
      "63/63 [==============================] - 0s 427us/step\n",
      "63/63 [==============================] - 0s 428us/step\n"
     ]
    },
    {
     "name": "stderr",
     "output_type": "stream",
     "text": [
      "/Users/raveel/miniconda3/envs/tf/lib/python3.11/site-packages/sklearn/model_selection/_validation.py:73: FutureWarning: `fit_params` is deprecated and will be removed in version 1.6. Pass parameters via `params` instead.\n",
      "  warnings.warn(\n"
     ]
    },
    {
     "name": "stdout",
     "output_type": "stream",
     "text": [
      "63/63 [==============================] - 0s 424us/step\n",
      "63/63 [==============================] - 0s 417us/step\n",
      "63/63 [==============================] - 0s 515us/step\n",
      "63/63 [==============================] - 0s 422us/step\n",
      "63/63 [==============================] - 0s 420us/step\n"
     ]
    },
    {
     "name": "stderr",
     "output_type": "stream",
     "text": [
      "/Users/raveel/miniconda3/envs/tf/lib/python3.11/site-packages/sklearn/model_selection/_validation.py:73: FutureWarning: `fit_params` is deprecated and will be removed in version 1.6. Pass parameters via `params` instead.\n",
      "  warnings.warn(\n"
     ]
    },
    {
     "name": "stdout",
     "output_type": "stream",
     "text": [
      "63/63 [==============================] - 0s 425us/step\n",
      "63/63 [==============================] - 0s 473us/step\n",
      "63/63 [==============================] - 0s 427us/step\n",
      "63/63 [==============================] - 0s 444us/step\n",
      "63/63 [==============================] - 0s 460us/step\n"
     ]
    },
    {
     "name": "stderr",
     "output_type": "stream",
     "text": [
      "/Users/raveel/miniconda3/envs/tf/lib/python3.11/site-packages/sklearn/model_selection/_validation.py:73: FutureWarning: `fit_params` is deprecated and will be removed in version 1.6. Pass parameters via `params` instead.\n",
      "  warnings.warn(\n"
     ]
    },
    {
     "name": "stdout",
     "output_type": "stream",
     "text": [
      "63/63 [==============================] - 0s 605us/step\n",
      "63/63 [==============================] - 0s 441us/step\n",
      "63/63 [==============================] - 0s 414us/step\n",
      "63/63 [==============================] - 0s 418us/step\n",
      "63/63 [==============================] - 0s 414us/step\n"
     ]
    },
    {
     "name": "stderr",
     "output_type": "stream",
     "text": [
      "/Users/raveel/miniconda3/envs/tf/lib/python3.11/site-packages/sklearn/model_selection/_validation.py:73: FutureWarning: `fit_params` is deprecated and will be removed in version 1.6. Pass parameters via `params` instead.\n",
      "  warnings.warn(\n"
     ]
    },
    {
     "name": "stdout",
     "output_type": "stream",
     "text": [
      "63/63 [==============================] - 0s 425us/step\n",
      "63/63 [==============================] - 0s 433us/step\n",
      "63/63 [==============================] - 0s 428us/step\n",
      "63/63 [==============================] - 0s 418us/step\n",
      "63/63 [==============================] - 0s 418us/step\n"
     ]
    },
    {
     "name": "stderr",
     "output_type": "stream",
     "text": [
      "/Users/raveel/miniconda3/envs/tf/lib/python3.11/site-packages/sklearn/model_selection/_validation.py:73: FutureWarning: `fit_params` is deprecated and will be removed in version 1.6. Pass parameters via `params` instead.\n",
      "  warnings.warn(\n"
     ]
    },
    {
     "name": "stdout",
     "output_type": "stream",
     "text": [
      "63/63 [==============================] - 0s 442us/step\n",
      "63/63 [==============================] - 0s 421us/step\n",
      "63/63 [==============================] - 0s 424us/step\n",
      "63/63 [==============================] - 0s 423us/step\n",
      "63/63 [==============================] - 0s 415us/step\n"
     ]
    },
    {
     "name": "stderr",
     "output_type": "stream",
     "text": [
      "/Users/raveel/miniconda3/envs/tf/lib/python3.11/site-packages/sklearn/model_selection/_validation.py:73: FutureWarning: `fit_params` is deprecated and will be removed in version 1.6. Pass parameters via `params` instead.\n",
      "  warnings.warn(\n"
     ]
    },
    {
     "name": "stdout",
     "output_type": "stream",
     "text": [
      "63/63 [==============================] - 0s 431us/step\n",
      "63/63 [==============================] - 0s 511us/step\n",
      "63/63 [==============================] - 0s 437us/step\n",
      "63/63 [==============================] - 0s 431us/step\n",
      "63/63 [==============================] - 0s 436us/step\n"
     ]
    },
    {
     "name": "stderr",
     "output_type": "stream",
     "text": [
      "/Users/raveel/miniconda3/envs/tf/lib/python3.11/site-packages/sklearn/model_selection/_validation.py:73: FutureWarning: `fit_params` is deprecated and will be removed in version 1.6. Pass parameters via `params` instead.\n",
      "  warnings.warn(\n"
     ]
    },
    {
     "name": "stdout",
     "output_type": "stream",
     "text": [
      "63/63 [==============================] - 0s 427us/step\n",
      "63/63 [==============================] - 0s 418us/step\n",
      "63/63 [==============================] - 0s 416us/step\n",
      "63/63 [==============================] - 0s 426us/step\n",
      "63/63 [==============================] - 0s 421us/step\n"
     ]
    },
    {
     "name": "stderr",
     "output_type": "stream",
     "text": [
      "/Users/raveel/miniconda3/envs/tf/lib/python3.11/site-packages/sklearn/model_selection/_validation.py:73: FutureWarning: `fit_params` is deprecated and will be removed in version 1.6. Pass parameters via `params` instead.\n",
      "  warnings.warn(\n"
     ]
    },
    {
     "name": "stdout",
     "output_type": "stream",
     "text": [
      "63/63 [==============================] - 0s 417us/step\n",
      "63/63 [==============================] - 0s 1ms/step\n",
      "63/63 [==============================] - 0s 707us/step\n",
      "63/63 [==============================] - 0s 1ms/step\n",
      "63/63 [==============================] - 0s 462us/step\n"
     ]
    },
    {
     "name": "stderr",
     "output_type": "stream",
     "text": [
      "/Users/raveel/miniconda3/envs/tf/lib/python3.11/site-packages/sklearn/model_selection/_validation.py:73: FutureWarning: `fit_params` is deprecated and will be removed in version 1.6. Pass parameters via `params` instead.\n",
      "  warnings.warn(\n"
     ]
    },
    {
     "name": "stdout",
     "output_type": "stream",
     "text": [
      "63/63 [==============================] - 0s 422us/step\n",
      "63/63 [==============================] - 0s 432us/step\n",
      "63/63 [==============================] - 0s 419us/step\n",
      "63/63 [==============================] - 0s 438us/step\n",
      "63/63 [==============================] - 0s 439us/step\n"
     ]
    },
    {
     "name": "stderr",
     "output_type": "stream",
     "text": [
      "/Users/raveel/miniconda3/envs/tf/lib/python3.11/site-packages/sklearn/model_selection/_validation.py:73: FutureWarning: `fit_params` is deprecated and will be removed in version 1.6. Pass parameters via `params` instead.\n",
      "  warnings.warn(\n"
     ]
    },
    {
     "name": "stdout",
     "output_type": "stream",
     "text": [
      "63/63 [==============================] - 0s 418us/step\n",
      "63/63 [==============================] - 0s 438us/step\n",
      "63/63 [==============================] - 0s 445us/step\n",
      "63/63 [==============================] - 0s 427us/step\n",
      "63/63 [==============================] - 0s 426us/step\n"
     ]
    },
    {
     "name": "stderr",
     "output_type": "stream",
     "text": [
      "/Users/raveel/miniconda3/envs/tf/lib/python3.11/site-packages/sklearn/model_selection/_validation.py:73: FutureWarning: `fit_params` is deprecated and will be removed in version 1.6. Pass parameters via `params` instead.\n",
      "  warnings.warn(\n"
     ]
    },
    {
     "name": "stdout",
     "output_type": "stream",
     "text": [
      "63/63 [==============================] - 0s 417us/step\n",
      "63/63 [==============================] - 0s 417us/step\n",
      "63/63 [==============================] - 0s 447us/step\n",
      "63/63 [==============================] - 0s 437us/step\n",
      "63/63 [==============================] - 0s 424us/step\n"
     ]
    },
    {
     "name": "stderr",
     "output_type": "stream",
     "text": [
      "/Users/raveel/miniconda3/envs/tf/lib/python3.11/site-packages/sklearn/model_selection/_validation.py:73: FutureWarning: `fit_params` is deprecated and will be removed in version 1.6. Pass parameters via `params` instead.\n",
      "  warnings.warn(\n"
     ]
    },
    {
     "name": "stdout",
     "output_type": "stream",
     "text": [
      "63/63 [==============================] - 0s 438us/step\n",
      "63/63 [==============================] - 0s 511us/step\n",
      "63/63 [==============================] - 0s 425us/step\n",
      "63/63 [==============================] - 0s 434us/step\n",
      "63/63 [==============================] - 0s 421us/step\n"
     ]
    },
    {
     "name": "stderr",
     "output_type": "stream",
     "text": [
      "/Users/raveel/miniconda3/envs/tf/lib/python3.11/site-packages/sklearn/model_selection/_validation.py:73: FutureWarning: `fit_params` is deprecated and will be removed in version 1.6. Pass parameters via `params` instead.\n",
      "  warnings.warn(\n"
     ]
    },
    {
     "name": "stdout",
     "output_type": "stream",
     "text": [
      "63/63 [==============================] - 0s 425us/step\n",
      "63/63 [==============================] - 0s 425us/step\n",
      "63/63 [==============================] - 0s 421us/step\n",
      "63/63 [==============================] - 0s 457us/step\n",
      "63/63 [==============================] - 0s 442us/step\n"
     ]
    },
    {
     "name": "stderr",
     "output_type": "stream",
     "text": [
      "/Users/raveel/miniconda3/envs/tf/lib/python3.11/site-packages/sklearn/model_selection/_validation.py:73: FutureWarning: `fit_params` is deprecated and will be removed in version 1.6. Pass parameters via `params` instead.\n",
      "  warnings.warn(\n"
     ]
    },
    {
     "name": "stdout",
     "output_type": "stream",
     "text": [
      "63/63 [==============================] - 0s 424us/step\n",
      "63/63 [==============================] - 0s 428us/step\n",
      "63/63 [==============================] - 0s 433us/step\n",
      "63/63 [==============================] - 0s 433us/step\n",
      "63/63 [==============================] - 0s 444us/step\n"
     ]
    },
    {
     "name": "stderr",
     "output_type": "stream",
     "text": [
      "/Users/raveel/miniconda3/envs/tf/lib/python3.11/site-packages/sklearn/model_selection/_validation.py:73: FutureWarning: `fit_params` is deprecated and will be removed in version 1.6. Pass parameters via `params` instead.\n",
      "  warnings.warn(\n"
     ]
    },
    {
     "name": "stdout",
     "output_type": "stream",
     "text": [
      "63/63 [==============================] - 0s 417us/step\n",
      "63/63 [==============================] - 0s 423us/step\n",
      "63/63 [==============================] - 0s 512us/step\n",
      "63/63 [==============================] - 0s 429us/step\n",
      "63/63 [==============================] - 0s 428us/step\n"
     ]
    },
    {
     "name": "stderr",
     "output_type": "stream",
     "text": [
      "/Users/raveel/miniconda3/envs/tf/lib/python3.11/site-packages/sklearn/model_selection/_validation.py:73: FutureWarning: `fit_params` is deprecated and will be removed in version 1.6. Pass parameters via `params` instead.\n",
      "  warnings.warn(\n"
     ]
    },
    {
     "name": "stdout",
     "output_type": "stream",
     "text": [
      "63/63 [==============================] - 0s 441us/step\n",
      "63/63 [==============================] - 0s 420us/step\n",
      "63/63 [==============================] - 0s 422us/step\n",
      "63/63 [==============================] - 0s 415us/step\n",
      "63/63 [==============================] - 0s 414us/step\n"
     ]
    },
    {
     "name": "stderr",
     "output_type": "stream",
     "text": [
      "/Users/raveel/miniconda3/envs/tf/lib/python3.11/site-packages/sklearn/model_selection/_validation.py:73: FutureWarning: `fit_params` is deprecated and will be removed in version 1.6. Pass parameters via `params` instead.\n",
      "  warnings.warn(\n"
     ]
    },
    {
     "name": "stdout",
     "output_type": "stream",
     "text": [
      "63/63 [==============================] - 0s 433us/step\n",
      "63/63 [==============================] - 0s 413us/step\n",
      "63/63 [==============================] - 0s 420us/step\n",
      "63/63 [==============================] - 0s 424us/step\n",
      "63/63 [==============================] - 0s 431us/step\n"
     ]
    },
    {
     "name": "stderr",
     "output_type": "stream",
     "text": [
      "/Users/raveel/miniconda3/envs/tf/lib/python3.11/site-packages/sklearn/model_selection/_validation.py:73: FutureWarning: `fit_params` is deprecated and will be removed in version 1.6. Pass parameters via `params` instead.\n",
      "  warnings.warn(\n"
     ]
    },
    {
     "name": "stdout",
     "output_type": "stream",
     "text": [
      "63/63 [==============================] - 0s 435us/step\n",
      "63/63 [==============================] - 0s 432us/step\n",
      "63/63 [==============================] - 0s 421us/step\n",
      "63/63 [==============================] - 0s 465us/step\n",
      "63/63 [==============================] - 0s 413us/step\n"
     ]
    },
    {
     "name": "stderr",
     "output_type": "stream",
     "text": [
      "/Users/raveel/miniconda3/envs/tf/lib/python3.11/site-packages/sklearn/model_selection/_validation.py:73: FutureWarning: `fit_params` is deprecated and will be removed in version 1.6. Pass parameters via `params` instead.\n",
      "  warnings.warn(\n"
     ]
    },
    {
     "name": "stdout",
     "output_type": "stream",
     "text": [
      "63/63 [==============================] - 0s 424us/step\n",
      "63/63 [==============================] - 0s 421us/step\n",
      "63/63 [==============================] - 0s 423us/step\n",
      "63/63 [==============================] - 0s 418us/step\n",
      "63/63 [==============================] - 0s 431us/step\n"
     ]
    },
    {
     "name": "stderr",
     "output_type": "stream",
     "text": [
      "/Users/raveel/miniconda3/envs/tf/lib/python3.11/site-packages/sklearn/model_selection/_validation.py:73: FutureWarning: `fit_params` is deprecated and will be removed in version 1.6. Pass parameters via `params` instead.\n",
      "  warnings.warn(\n"
     ]
    },
    {
     "name": "stdout",
     "output_type": "stream",
     "text": [
      "63/63 [==============================] - 0s 418us/step\n",
      "63/63 [==============================] - 0s 445us/step\n",
      "63/63 [==============================] - 0s 415us/step\n",
      "63/63 [==============================] - 0s 448us/step\n",
      "63/63 [==============================] - 0s 430us/step\n"
     ]
    },
    {
     "name": "stderr",
     "output_type": "stream",
     "text": [
      "/Users/raveel/miniconda3/envs/tf/lib/python3.11/site-packages/sklearn/model_selection/_validation.py:73: FutureWarning: `fit_params` is deprecated and will be removed in version 1.6. Pass parameters via `params` instead.\n",
      "  warnings.warn(\n"
     ]
    },
    {
     "name": "stdout",
     "output_type": "stream",
     "text": [
      "63/63 [==============================] - 0s 539us/step\n",
      "63/63 [==============================] - 0s 446us/step\n",
      "63/63 [==============================] - 0s 426us/step\n",
      "63/63 [==============================] - 0s 431us/step\n",
      "63/63 [==============================] - 0s 433us/step\n"
     ]
    },
    {
     "name": "stderr",
     "output_type": "stream",
     "text": [
      "/Users/raveel/miniconda3/envs/tf/lib/python3.11/site-packages/sklearn/model_selection/_validation.py:73: FutureWarning: `fit_params` is deprecated and will be removed in version 1.6. Pass parameters via `params` instead.\n",
      "  warnings.warn(\n"
     ]
    },
    {
     "name": "stdout",
     "output_type": "stream",
     "text": [
      "63/63 [==============================] - 0s 447us/step\n",
      "63/63 [==============================] - 0s 420us/step\n",
      "63/63 [==============================] - 0s 432us/step\n",
      "63/63 [==============================] - 0s 427us/step\n",
      "63/63 [==============================] - 0s 429us/step\n"
     ]
    },
    {
     "name": "stderr",
     "output_type": "stream",
     "text": [
      "/Users/raveel/miniconda3/envs/tf/lib/python3.11/site-packages/sklearn/model_selection/_validation.py:73: FutureWarning: `fit_params` is deprecated and will be removed in version 1.6. Pass parameters via `params` instead.\n",
      "  warnings.warn(\n"
     ]
    },
    {
     "name": "stdout",
     "output_type": "stream",
     "text": [
      "63/63 [==============================] - 0s 423us/step\n",
      "63/63 [==============================] - 0s 426us/step\n",
      "63/63 [==============================] - 0s 424us/step\n",
      "63/63 [==============================] - 0s 436us/step\n",
      "63/63 [==============================] - 0s 430us/step\n"
     ]
    },
    {
     "name": "stderr",
     "output_type": "stream",
     "text": [
      "/Users/raveel/miniconda3/envs/tf/lib/python3.11/site-packages/sklearn/model_selection/_validation.py:73: FutureWarning: `fit_params` is deprecated and will be removed in version 1.6. Pass parameters via `params` instead.\n",
      "  warnings.warn(\n"
     ]
    },
    {
     "name": "stdout",
     "output_type": "stream",
     "text": [
      "63/63 [==============================] - 0s 434us/step\n",
      "63/63 [==============================] - 0s 425us/step\n",
      "63/63 [==============================] - 0s 429us/step\n",
      "63/63 [==============================] - 0s 429us/step\n",
      "63/63 [==============================] - 0s 424us/step\n"
     ]
    },
    {
     "name": "stderr",
     "output_type": "stream",
     "text": [
      "/Users/raveel/miniconda3/envs/tf/lib/python3.11/site-packages/sklearn/model_selection/_validation.py:73: FutureWarning: `fit_params` is deprecated and will be removed in version 1.6. Pass parameters via `params` instead.\n",
      "  warnings.warn(\n"
     ]
    },
    {
     "name": "stdout",
     "output_type": "stream",
     "text": [
      "63/63 [==============================] - 0s 429us/step\n",
      "63/63 [==============================] - 0s 436us/step\n",
      "63/63 [==============================] - 0s 431us/step\n",
      "63/63 [==============================] - 0s 428us/step\n",
      "63/63 [==============================] - 0s 424us/step\n"
     ]
    },
    {
     "name": "stderr",
     "output_type": "stream",
     "text": [
      "/Users/raveel/miniconda3/envs/tf/lib/python3.11/site-packages/sklearn/model_selection/_validation.py:73: FutureWarning: `fit_params` is deprecated and will be removed in version 1.6. Pass parameters via `params` instead.\n",
      "  warnings.warn(\n"
     ]
    },
    {
     "name": "stdout",
     "output_type": "stream",
     "text": [
      "63/63 [==============================] - 0s 432us/step\n",
      "63/63 [==============================] - 0s 431us/step\n",
      "63/63 [==============================] - 0s 465us/step\n",
      "63/63 [==============================] - 0s 451us/step\n",
      "63/63 [==============================] - 0s 434us/step\n"
     ]
    },
    {
     "name": "stderr",
     "output_type": "stream",
     "text": [
      "/Users/raveel/miniconda3/envs/tf/lib/python3.11/site-packages/sklearn/model_selection/_validation.py:73: FutureWarning: `fit_params` is deprecated and will be removed in version 1.6. Pass parameters via `params` instead.\n",
      "  warnings.warn(\n"
     ]
    },
    {
     "name": "stdout",
     "output_type": "stream",
     "text": [
      "63/63 [==============================] - 0s 438us/step\n",
      "63/63 [==============================] - 0s 423us/step\n",
      "63/63 [==============================] - 0s 419us/step\n",
      "63/63 [==============================] - 0s 426us/step\n",
      "63/63 [==============================] - 0s 427us/step\n"
     ]
    },
    {
     "name": "stderr",
     "output_type": "stream",
     "text": [
      "/Users/raveel/miniconda3/envs/tf/lib/python3.11/site-packages/sklearn/model_selection/_validation.py:73: FutureWarning: `fit_params` is deprecated and will be removed in version 1.6. Pass parameters via `params` instead.\n",
      "  warnings.warn(\n"
     ]
    },
    {
     "name": "stdout",
     "output_type": "stream",
     "text": [
      "63/63 [==============================] - 0s 456us/step\n",
      "63/63 [==============================] - 0s 423us/step\n",
      "63/63 [==============================] - 0s 432us/step\n",
      "63/63 [==============================] - 0s 432us/step\n",
      "63/63 [==============================] - 0s 422us/step\n"
     ]
    },
    {
     "name": "stderr",
     "output_type": "stream",
     "text": [
      "/Users/raveel/miniconda3/envs/tf/lib/python3.11/site-packages/sklearn/model_selection/_validation.py:73: FutureWarning: `fit_params` is deprecated and will be removed in version 1.6. Pass parameters via `params` instead.\n",
      "  warnings.warn(\n"
     ]
    },
    {
     "name": "stdout",
     "output_type": "stream",
     "text": [
      "63/63 [==============================] - 0s 435us/step\n",
      "63/63 [==============================] - 0s 435us/step\n",
      "63/63 [==============================] - 0s 423us/step\n",
      "63/63 [==============================] - 0s 419us/step\n",
      "63/63 [==============================] - 0s 622us/step\n"
     ]
    },
    {
     "name": "stderr",
     "output_type": "stream",
     "text": [
      "/Users/raveel/miniconda3/envs/tf/lib/python3.11/site-packages/sklearn/model_selection/_validation.py:73: FutureWarning: `fit_params` is deprecated and will be removed in version 1.6. Pass parameters via `params` instead.\n",
      "  warnings.warn(\n"
     ]
    },
    {
     "name": "stdout",
     "output_type": "stream",
     "text": [
      "63/63 [==============================] - 0s 434us/step\n",
      "63/63 [==============================] - 0s 423us/step\n",
      "63/63 [==============================] - 0s 437us/step\n",
      "63/63 [==============================] - 0s 494us/step\n",
      "63/63 [==============================] - 0s 453us/step\n"
     ]
    },
    {
     "name": "stderr",
     "output_type": "stream",
     "text": [
      "/Users/raveel/miniconda3/envs/tf/lib/python3.11/site-packages/sklearn/model_selection/_validation.py:73: FutureWarning: `fit_params` is deprecated and will be removed in version 1.6. Pass parameters via `params` instead.\n",
      "  warnings.warn(\n"
     ]
    },
    {
     "name": "stdout",
     "output_type": "stream",
     "text": [
      "63/63 [==============================] - 0s 473us/step\n",
      "63/63 [==============================] - 0s 418us/step\n",
      "63/63 [==============================] - 0s 444us/step\n",
      "63/63 [==============================] - 0s 440us/step\n",
      "63/63 [==============================] - 0s 424us/step\n"
     ]
    },
    {
     "name": "stderr",
     "output_type": "stream",
     "text": [
      "/Users/raveel/miniconda3/envs/tf/lib/python3.11/site-packages/sklearn/model_selection/_validation.py:73: FutureWarning: `fit_params` is deprecated and will be removed in version 1.6. Pass parameters via `params` instead.\n",
      "  warnings.warn(\n"
     ]
    },
    {
     "name": "stdout",
     "output_type": "stream",
     "text": [
      "63/63 [==============================] - 0s 434us/step\n",
      "63/63 [==============================] - 0s 447us/step\n",
      "63/63 [==============================] - 0s 487us/step\n",
      "63/63 [==============================] - 0s 432us/step\n",
      "63/63 [==============================] - 0s 432us/step\n"
     ]
    },
    {
     "name": "stderr",
     "output_type": "stream",
     "text": [
      "/Users/raveel/miniconda3/envs/tf/lib/python3.11/site-packages/sklearn/model_selection/_validation.py:73: FutureWarning: `fit_params` is deprecated and will be removed in version 1.6. Pass parameters via `params` instead.\n",
      "  warnings.warn(\n"
     ]
    },
    {
     "name": "stdout",
     "output_type": "stream",
     "text": [
      "63/63 [==============================] - 0s 455us/step\n",
      "63/63 [==============================] - 0s 434us/step\n",
      "63/63 [==============================] - 0s 443us/step\n",
      "63/63 [==============================] - 0s 431us/step\n",
      "63/63 [==============================] - 0s 443us/step\n"
     ]
    },
    {
     "name": "stderr",
     "output_type": "stream",
     "text": [
      "/Users/raveel/miniconda3/envs/tf/lib/python3.11/site-packages/sklearn/model_selection/_validation.py:73: FutureWarning: `fit_params` is deprecated and will be removed in version 1.6. Pass parameters via `params` instead.\n",
      "  warnings.warn(\n"
     ]
    },
    {
     "name": "stdout",
     "output_type": "stream",
     "text": [
      "63/63 [==============================] - 0s 420us/step\n",
      "63/63 [==============================] - 0s 432us/step\n",
      "63/63 [==============================] - 0s 427us/step\n",
      "63/63 [==============================] - 0s 425us/step\n",
      "63/63 [==============================] - 0s 434us/step\n"
     ]
    },
    {
     "name": "stderr",
     "output_type": "stream",
     "text": [
      "/Users/raveel/miniconda3/envs/tf/lib/python3.11/site-packages/sklearn/model_selection/_validation.py:73: FutureWarning: `fit_params` is deprecated and will be removed in version 1.6. Pass parameters via `params` instead.\n",
      "  warnings.warn(\n"
     ]
    },
    {
     "name": "stdout",
     "output_type": "stream",
     "text": [
      "63/63 [==============================] - 0s 425us/step\n",
      "63/63 [==============================] - 0s 465us/step\n",
      "63/63 [==============================] - 0s 428us/step\n",
      "63/63 [==============================] - 0s 447us/step\n",
      "63/63 [==============================] - 0s 433us/step\n"
     ]
    },
    {
     "name": "stderr",
     "output_type": "stream",
     "text": [
      "/Users/raveel/miniconda3/envs/tf/lib/python3.11/site-packages/sklearn/model_selection/_validation.py:73: FutureWarning: `fit_params` is deprecated and will be removed in version 1.6. Pass parameters via `params` instead.\n",
      "  warnings.warn(\n"
     ]
    },
    {
     "name": "stdout",
     "output_type": "stream",
     "text": [
      "63/63 [==============================] - 0s 439us/step\n",
      "63/63 [==============================] - 0s 421us/step\n",
      "63/63 [==============================] - 0s 431us/step\n",
      "63/63 [==============================] - 0s 430us/step\n",
      "63/63 [==============================] - 0s 423us/step\n"
     ]
    },
    {
     "name": "stderr",
     "output_type": "stream",
     "text": [
      "/Users/raveel/miniconda3/envs/tf/lib/python3.11/site-packages/sklearn/model_selection/_validation.py:73: FutureWarning: `fit_params` is deprecated and will be removed in version 1.6. Pass parameters via `params` instead.\n",
      "  warnings.warn(\n"
     ]
    },
    {
     "name": "stdout",
     "output_type": "stream",
     "text": [
      "63/63 [==============================] - 0s 446us/step\n",
      "63/63 [==============================] - 0s 444us/step\n",
      "63/63 [==============================] - 0s 432us/step\n",
      "63/63 [==============================] - 0s 434us/step\n",
      "63/63 [==============================] - 0s 425us/step\n"
     ]
    },
    {
     "name": "stderr",
     "output_type": "stream",
     "text": [
      "/Users/raveel/miniconda3/envs/tf/lib/python3.11/site-packages/sklearn/model_selection/_validation.py:73: FutureWarning: `fit_params` is deprecated and will be removed in version 1.6. Pass parameters via `params` instead.\n",
      "  warnings.warn(\n"
     ]
    },
    {
     "name": "stdout",
     "output_type": "stream",
     "text": [
      "63/63 [==============================] - 0s 430us/step\n",
      "63/63 [==============================] - 0s 425us/step\n",
      "63/63 [==============================] - 0s 423us/step\n",
      "63/63 [==============================] - 0s 425us/step\n",
      "63/63 [==============================] - 0s 421us/step\n"
     ]
    },
    {
     "name": "stderr",
     "output_type": "stream",
     "text": [
      "/Users/raveel/miniconda3/envs/tf/lib/python3.11/site-packages/sklearn/model_selection/_validation.py:73: FutureWarning: `fit_params` is deprecated and will be removed in version 1.6. Pass parameters via `params` instead.\n",
      "  warnings.warn(\n"
     ]
    },
    {
     "name": "stdout",
     "output_type": "stream",
     "text": [
      "63/63 [==============================] - 0s 435us/step\n",
      "63/63 [==============================] - 0s 430us/step\n",
      "63/63 [==============================] - 0s 476us/step\n",
      "63/63 [==============================] - 0s 432us/step\n",
      "63/63 [==============================] - 0s 3ms/step\n"
     ]
    },
    {
     "name": "stderr",
     "output_type": "stream",
     "text": [
      "/Users/raveel/miniconda3/envs/tf/lib/python3.11/site-packages/sklearn/model_selection/_validation.py:73: FutureWarning: `fit_params` is deprecated and will be removed in version 1.6. Pass parameters via `params` instead.\n",
      "  warnings.warn(\n"
     ]
    },
    {
     "name": "stdout",
     "output_type": "stream",
     "text": [
      "63/63 [==============================] - 0s 437us/step\n",
      "63/63 [==============================] - 0s 428us/step\n",
      "63/63 [==============================] - 0s 417us/step\n",
      "63/63 [==============================] - 0s 426us/step\n",
      "63/63 [==============================] - 0s 421us/step\n"
     ]
    },
    {
     "name": "stderr",
     "output_type": "stream",
     "text": [
      "/Users/raveel/miniconda3/envs/tf/lib/python3.11/site-packages/sklearn/model_selection/_validation.py:73: FutureWarning: `fit_params` is deprecated and will be removed in version 1.6. Pass parameters via `params` instead.\n",
      "  warnings.warn(\n"
     ]
    },
    {
     "name": "stdout",
     "output_type": "stream",
     "text": [
      "63/63 [==============================] - 0s 433us/step\n",
      "63/63 [==============================] - 0s 428us/step\n",
      "63/63 [==============================] - 0s 449us/step\n",
      "63/63 [==============================] - 0s 418us/step\n",
      "63/63 [==============================] - 0s 425us/step\n"
     ]
    },
    {
     "name": "stderr",
     "output_type": "stream",
     "text": [
      "/Users/raveel/miniconda3/envs/tf/lib/python3.11/site-packages/sklearn/model_selection/_validation.py:73: FutureWarning: `fit_params` is deprecated and will be removed in version 1.6. Pass parameters via `params` instead.\n",
      "  warnings.warn(\n"
     ]
    },
    {
     "name": "stdout",
     "output_type": "stream",
     "text": [
      "63/63 [==============================] - 0s 434us/step\n",
      "63/63 [==============================] - 0s 421us/step\n",
      "63/63 [==============================] - 0s 448us/step\n",
      "63/63 [==============================] - 0s 422us/step\n",
      "63/63 [==============================] - 0s 419us/step\n"
     ]
    },
    {
     "name": "stderr",
     "output_type": "stream",
     "text": [
      "/Users/raveel/miniconda3/envs/tf/lib/python3.11/site-packages/sklearn/model_selection/_validation.py:73: FutureWarning: `fit_params` is deprecated and will be removed in version 1.6. Pass parameters via `params` instead.\n",
      "  warnings.warn(\n"
     ]
    },
    {
     "name": "stdout",
     "output_type": "stream",
     "text": [
      "63/63 [==============================] - 0s 419us/step\n",
      "63/63 [==============================] - 0s 426us/step\n",
      "63/63 [==============================] - 0s 420us/step\n",
      "63/63 [==============================] - 0s 421us/step\n",
      "63/63 [==============================] - 0s 421us/step\n"
     ]
    },
    {
     "name": "stderr",
     "output_type": "stream",
     "text": [
      "/Users/raveel/miniconda3/envs/tf/lib/python3.11/site-packages/sklearn/model_selection/_validation.py:73: FutureWarning: `fit_params` is deprecated and will be removed in version 1.6. Pass parameters via `params` instead.\n",
      "  warnings.warn(\n"
     ]
    },
    {
     "name": "stdout",
     "output_type": "stream",
     "text": [
      "63/63 [==============================] - 0s 418us/step\n",
      "63/63 [==============================] - 0s 418us/step\n",
      "63/63 [==============================] - 0s 419us/step\n",
      "63/63 [==============================] - 0s 421us/step\n",
      "63/63 [==============================] - 0s 420us/step\n"
     ]
    },
    {
     "name": "stderr",
     "output_type": "stream",
     "text": [
      "/Users/raveel/miniconda3/envs/tf/lib/python3.11/site-packages/sklearn/model_selection/_validation.py:73: FutureWarning: `fit_params` is deprecated and will be removed in version 1.6. Pass parameters via `params` instead.\n",
      "  warnings.warn(\n"
     ]
    },
    {
     "name": "stdout",
     "output_type": "stream",
     "text": [
      "63/63 [==============================] - 0s 429us/step\n",
      "63/63 [==============================] - 0s 412us/step\n",
      "63/63 [==============================] - 0s 425us/step\n",
      "63/63 [==============================] - 0s 426us/step\n",
      "63/63 [==============================] - 0s 427us/step\n"
     ]
    },
    {
     "name": "stderr",
     "output_type": "stream",
     "text": [
      "/Users/raveel/miniconda3/envs/tf/lib/python3.11/site-packages/sklearn/model_selection/_validation.py:73: FutureWarning: `fit_params` is deprecated and will be removed in version 1.6. Pass parameters via `params` instead.\n",
      "  warnings.warn(\n"
     ]
    },
    {
     "name": "stdout",
     "output_type": "stream",
     "text": [
      "63/63 [==============================] - 0s 419us/step\n",
      "63/63 [==============================] - 0s 415us/step\n",
      "63/63 [==============================] - 0s 416us/step\n",
      "63/63 [==============================] - 0s 417us/step\n",
      "63/63 [==============================] - 0s 419us/step\n"
     ]
    },
    {
     "name": "stderr",
     "output_type": "stream",
     "text": [
      "/Users/raveel/miniconda3/envs/tf/lib/python3.11/site-packages/sklearn/model_selection/_validation.py:73: FutureWarning: `fit_params` is deprecated and will be removed in version 1.6. Pass parameters via `params` instead.\n",
      "  warnings.warn(\n"
     ]
    },
    {
     "name": "stdout",
     "output_type": "stream",
     "text": [
      "63/63 [==============================] - 0s 421us/step\n",
      "63/63 [==============================] - 0s 416us/step\n",
      "63/63 [==============================] - 0s 408us/step\n",
      "63/63 [==============================] - 0s 409us/step\n",
      "63/63 [==============================] - 0s 417us/step\n"
     ]
    },
    {
     "name": "stderr",
     "output_type": "stream",
     "text": [
      "/Users/raveel/miniconda3/envs/tf/lib/python3.11/site-packages/sklearn/model_selection/_validation.py:73: FutureWarning: `fit_params` is deprecated and will be removed in version 1.6. Pass parameters via `params` instead.\n",
      "  warnings.warn(\n"
     ]
    },
    {
     "name": "stdout",
     "output_type": "stream",
     "text": [
      "63/63 [==============================] - 0s 603us/step\n",
      "63/63 [==============================] - 0s 493us/step\n",
      "63/63 [==============================] - 0s 415us/step\n",
      "63/63 [==============================] - 0s 426us/step\n",
      "63/63 [==============================] - 0s 420us/step\n"
     ]
    },
    {
     "name": "stderr",
     "output_type": "stream",
     "text": [
      "/Users/raveel/miniconda3/envs/tf/lib/python3.11/site-packages/sklearn/model_selection/_validation.py:73: FutureWarning: `fit_params` is deprecated and will be removed in version 1.6. Pass parameters via `params` instead.\n",
      "  warnings.warn(\n"
     ]
    },
    {
     "name": "stdout",
     "output_type": "stream",
     "text": [
      "63/63 [==============================] - 0s 417us/step\n",
      "63/63 [==============================] - 0s 421us/step\n",
      "63/63 [==============================] - 0s 483us/step\n",
      "63/63 [==============================] - 0s 427us/step\n",
      "63/63 [==============================] - 0s 418us/step\n"
     ]
    },
    {
     "name": "stderr",
     "output_type": "stream",
     "text": [
      "/Users/raveel/miniconda3/envs/tf/lib/python3.11/site-packages/sklearn/model_selection/_validation.py:73: FutureWarning: `fit_params` is deprecated and will be removed in version 1.6. Pass parameters via `params` instead.\n",
      "  warnings.warn(\n"
     ]
    },
    {
     "name": "stdout",
     "output_type": "stream",
     "text": [
      "63/63 [==============================] - 0s 416us/step\n",
      "63/63 [==============================] - 0s 419us/step\n",
      "63/63 [==============================] - 0s 438us/step\n",
      "63/63 [==============================] - 0s 418us/step\n",
      "63/63 [==============================] - 0s 412us/step\n"
     ]
    },
    {
     "name": "stderr",
     "output_type": "stream",
     "text": [
      "/Users/raveel/miniconda3/envs/tf/lib/python3.11/site-packages/sklearn/model_selection/_validation.py:73: FutureWarning: `fit_params` is deprecated and will be removed in version 1.6. Pass parameters via `params` instead.\n",
      "  warnings.warn(\n"
     ]
    },
    {
     "name": "stdout",
     "output_type": "stream",
     "text": [
      "63/63 [==============================] - 0s 425us/step\n",
      "63/63 [==============================] - 0s 426us/step\n",
      "63/63 [==============================] - 0s 413us/step\n",
      "63/63 [==============================] - 0s 418us/step\n",
      "63/63 [==============================] - 0s 396us/step\n"
     ]
    },
    {
     "name": "stderr",
     "output_type": "stream",
     "text": [
      "/Users/raveel/miniconda3/envs/tf/lib/python3.11/site-packages/sklearn/model_selection/_validation.py:73: FutureWarning: `fit_params` is deprecated and will be removed in version 1.6. Pass parameters via `params` instead.\n",
      "  warnings.warn(\n"
     ]
    },
    {
     "name": "stdout",
     "output_type": "stream",
     "text": [
      "63/63 [==============================] - 0s 419us/step\n",
      "63/63 [==============================] - 0s 418us/step\n",
      "63/63 [==============================] - 0s 421us/step\n",
      "63/63 [==============================] - 0s 416us/step\n",
      "63/63 [==============================] - 0s 441us/step\n"
     ]
    },
    {
     "name": "stderr",
     "output_type": "stream",
     "text": [
      "/Users/raveel/miniconda3/envs/tf/lib/python3.11/site-packages/sklearn/model_selection/_validation.py:73: FutureWarning: `fit_params` is deprecated and will be removed in version 1.6. Pass parameters via `params` instead.\n",
      "  warnings.warn(\n"
     ]
    },
    {
     "name": "stdout",
     "output_type": "stream",
     "text": [
      "63/63 [==============================] - 0s 421us/step\n",
      "63/63 [==============================] - 0s 428us/step\n",
      "63/63 [==============================] - 0s 421us/step\n",
      "63/63 [==============================] - 0s 427us/step\n",
      "63/63 [==============================] - 0s 418us/step\n"
     ]
    },
    {
     "name": "stderr",
     "output_type": "stream",
     "text": [
      "/Users/raveel/miniconda3/envs/tf/lib/python3.11/site-packages/sklearn/model_selection/_validation.py:73: FutureWarning: `fit_params` is deprecated and will be removed in version 1.6. Pass parameters via `params` instead.\n",
      "  warnings.warn(\n"
     ]
    },
    {
     "name": "stdout",
     "output_type": "stream",
     "text": [
      "63/63 [==============================] - 0s 413us/step\n",
      "63/63 [==============================] - 0s 417us/step\n",
      "63/63 [==============================] - 0s 416us/step\n",
      "63/63 [==============================] - 0s 414us/step\n",
      "63/63 [==============================] - 0s 443us/step\n"
     ]
    },
    {
     "name": "stderr",
     "output_type": "stream",
     "text": [
      "/Users/raveel/miniconda3/envs/tf/lib/python3.11/site-packages/sklearn/model_selection/_validation.py:73: FutureWarning: `fit_params` is deprecated and will be removed in version 1.6. Pass parameters via `params` instead.\n",
      "  warnings.warn(\n"
     ]
    },
    {
     "name": "stdout",
     "output_type": "stream",
     "text": [
      "63/63 [==============================] - 0s 417us/step\n",
      "63/63 [==============================] - 0s 424us/step\n",
      "63/63 [==============================] - 0s 416us/step\n",
      "63/63 [==============================] - 0s 414us/step\n",
      "63/63 [==============================] - 0s 426us/step\n"
     ]
    },
    {
     "name": "stderr",
     "output_type": "stream",
     "text": [
      "/Users/raveel/miniconda3/envs/tf/lib/python3.11/site-packages/sklearn/model_selection/_validation.py:73: FutureWarning: `fit_params` is deprecated and will be removed in version 1.6. Pass parameters via `params` instead.\n",
      "  warnings.warn(\n"
     ]
    },
    {
     "name": "stdout",
     "output_type": "stream",
     "text": [
      "63/63 [==============================] - 0s 418us/step\n",
      "63/63 [==============================] - 0s 421us/step\n",
      "63/63 [==============================] - 0s 420us/step\n",
      "63/63 [==============================] - 0s 434us/step\n",
      "63/63 [==============================] - 0s 414us/step\n"
     ]
    },
    {
     "name": "stderr",
     "output_type": "stream",
     "text": [
      "/Users/raveel/miniconda3/envs/tf/lib/python3.11/site-packages/sklearn/model_selection/_validation.py:73: FutureWarning: `fit_params` is deprecated and will be removed in version 1.6. Pass parameters via `params` instead.\n",
      "  warnings.warn(\n"
     ]
    },
    {
     "name": "stdout",
     "output_type": "stream",
     "text": [
      "63/63 [==============================] - 0s 428us/step\n",
      "63/63 [==============================] - 0s 430us/step\n",
      "63/63 [==============================] - 0s 425us/step\n",
      "63/63 [==============================] - 0s 417us/step\n",
      "63/63 [==============================] - 0s 422us/step\n"
     ]
    },
    {
     "name": "stderr",
     "output_type": "stream",
     "text": [
      "/Users/raveel/miniconda3/envs/tf/lib/python3.11/site-packages/sklearn/model_selection/_validation.py:73: FutureWarning: `fit_params` is deprecated and will be removed in version 1.6. Pass parameters via `params` instead.\n",
      "  warnings.warn(\n"
     ]
    },
    {
     "name": "stdout",
     "output_type": "stream",
     "text": [
      "63/63 [==============================] - 0s 419us/step\n",
      "63/63 [==============================] - 0s 425us/step\n",
      "63/63 [==============================] - 0s 447us/step\n",
      "63/63 [==============================] - 0s 423us/step\n",
      "63/63 [==============================] - 0s 424us/step\n"
     ]
    },
    {
     "name": "stderr",
     "output_type": "stream",
     "text": [
      "/Users/raveel/miniconda3/envs/tf/lib/python3.11/site-packages/sklearn/model_selection/_validation.py:73: FutureWarning: `fit_params` is deprecated and will be removed in version 1.6. Pass parameters via `params` instead.\n",
      "  warnings.warn(\n"
     ]
    },
    {
     "name": "stdout",
     "output_type": "stream",
     "text": [
      "63/63 [==============================] - 0s 416us/step\n",
      "63/63 [==============================] - 0s 414us/step\n",
      "63/63 [==============================] - 0s 416us/step\n",
      "63/63 [==============================] - 0s 414us/step\n",
      "63/63 [==============================] - 0s 420us/step\n"
     ]
    },
    {
     "name": "stderr",
     "output_type": "stream",
     "text": [
      "/Users/raveel/miniconda3/envs/tf/lib/python3.11/site-packages/sklearn/model_selection/_validation.py:73: FutureWarning: `fit_params` is deprecated and will be removed in version 1.6. Pass parameters via `params` instead.\n",
      "  warnings.warn(\n"
     ]
    },
    {
     "name": "stdout",
     "output_type": "stream",
     "text": [
      "63/63 [==============================] - 0s 415us/step\n",
      "63/63 [==============================] - 0s 418us/step\n",
      "63/63 [==============================] - 0s 413us/step\n",
      "63/63 [==============================] - 0s 424us/step\n",
      "63/63 [==============================] - 0s 428us/step\n"
     ]
    },
    {
     "name": "stderr",
     "output_type": "stream",
     "text": [
      "/Users/raveel/miniconda3/envs/tf/lib/python3.11/site-packages/sklearn/model_selection/_validation.py:73: FutureWarning: `fit_params` is deprecated and will be removed in version 1.6. Pass parameters via `params` instead.\n",
      "  warnings.warn(\n"
     ]
    },
    {
     "name": "stdout",
     "output_type": "stream",
     "text": [
      "63/63 [==============================] - 0s 488us/step\n",
      "63/63 [==============================] - 0s 444us/step\n",
      "63/63 [==============================] - 0s 433us/step\n",
      "63/63 [==============================] - 0s 415us/step\n",
      "63/63 [==============================] - 0s 463us/step\n"
     ]
    },
    {
     "name": "stderr",
     "output_type": "stream",
     "text": [
      "/Users/raveel/miniconda3/envs/tf/lib/python3.11/site-packages/sklearn/model_selection/_validation.py:73: FutureWarning: `fit_params` is deprecated and will be removed in version 1.6. Pass parameters via `params` instead.\n",
      "  warnings.warn(\n"
     ]
    },
    {
     "name": "stdout",
     "output_type": "stream",
     "text": [
      "63/63 [==============================] - 0s 418us/step\n",
      "63/63 [==============================] - 0s 421us/step\n",
      "63/63 [==============================] - 0s 421us/step\n",
      "63/63 [==============================] - 0s 418us/step\n",
      "63/63 [==============================] - 0s 414us/step\n"
     ]
    },
    {
     "name": "stderr",
     "output_type": "stream",
     "text": [
      "/Users/raveel/miniconda3/envs/tf/lib/python3.11/site-packages/sklearn/model_selection/_validation.py:73: FutureWarning: `fit_params` is deprecated and will be removed in version 1.6. Pass parameters via `params` instead.\n",
      "  warnings.warn(\n"
     ]
    },
    {
     "name": "stdout",
     "output_type": "stream",
     "text": [
      "63/63 [==============================] - 0s 414us/step\n",
      "63/63 [==============================] - 0s 421us/step\n",
      "63/63 [==============================] - 0s 421us/step\n",
      "63/63 [==============================] - 0s 418us/step\n",
      "63/63 [==============================] - 0s 421us/step\n"
     ]
    },
    {
     "name": "stderr",
     "output_type": "stream",
     "text": [
      "/Users/raveel/miniconda3/envs/tf/lib/python3.11/site-packages/sklearn/model_selection/_validation.py:73: FutureWarning: `fit_params` is deprecated and will be removed in version 1.6. Pass parameters via `params` instead.\n",
      "  warnings.warn(\n"
     ]
    },
    {
     "name": "stdout",
     "output_type": "stream",
     "text": [
      "63/63 [==============================] - 0s 421us/step\n",
      "63/63 [==============================] - 0s 418us/step\n",
      "63/63 [==============================] - 0s 420us/step\n",
      "63/63 [==============================] - 0s 425us/step\n",
      "63/63 [==============================] - 0s 427us/step\n"
     ]
    },
    {
     "name": "stderr",
     "output_type": "stream",
     "text": [
      "/Users/raveel/miniconda3/envs/tf/lib/python3.11/site-packages/sklearn/model_selection/_validation.py:73: FutureWarning: `fit_params` is deprecated and will be removed in version 1.6. Pass parameters via `params` instead.\n",
      "  warnings.warn(\n"
     ]
    },
    {
     "name": "stdout",
     "output_type": "stream",
     "text": [
      "63/63 [==============================] - 0s 423us/step\n",
      "63/63 [==============================] - 0s 430us/step\n",
      "63/63 [==============================] - 0s 419us/step\n",
      "63/63 [==============================] - 0s 422us/step\n",
      "63/63 [==============================] - 0s 428us/step\n"
     ]
    },
    {
     "name": "stderr",
     "output_type": "stream",
     "text": [
      "/Users/raveel/miniconda3/envs/tf/lib/python3.11/site-packages/sklearn/model_selection/_validation.py:73: FutureWarning: `fit_params` is deprecated and will be removed in version 1.6. Pass parameters via `params` instead.\n",
      "  warnings.warn(\n"
     ]
    },
    {
     "name": "stdout",
     "output_type": "stream",
     "text": [
      "63/63 [==============================] - 0s 420us/step\n",
      "63/63 [==============================] - 0s 422us/step\n",
      "63/63 [==============================] - 0s 409us/step\n",
      "63/63 [==============================] - 0s 523us/step\n",
      "63/63 [==============================] - 0s 420us/step\n"
     ]
    },
    {
     "name": "stderr",
     "output_type": "stream",
     "text": [
      "/Users/raveel/miniconda3/envs/tf/lib/python3.11/site-packages/sklearn/model_selection/_validation.py:73: FutureWarning: `fit_params` is deprecated and will be removed in version 1.6. Pass parameters via `params` instead.\n",
      "  warnings.warn(\n"
     ]
    },
    {
     "name": "stdout",
     "output_type": "stream",
     "text": [
      "63/63 [==============================] - 0s 417us/step\n",
      "63/63 [==============================] - 0s 407us/step\n",
      "63/63 [==============================] - 0s 590us/step\n",
      "63/63 [==============================] - 0s 424us/step\n",
      "63/63 [==============================] - 0s 428us/step\n"
     ]
    },
    {
     "name": "stderr",
     "output_type": "stream",
     "text": [
      "/Users/raveel/miniconda3/envs/tf/lib/python3.11/site-packages/sklearn/model_selection/_validation.py:73: FutureWarning: `fit_params` is deprecated and will be removed in version 1.6. Pass parameters via `params` instead.\n",
      "  warnings.warn(\n"
     ]
    },
    {
     "name": "stdout",
     "output_type": "stream",
     "text": [
      "63/63 [==============================] - 0s 418us/step\n",
      "63/63 [==============================] - 0s 431us/step\n",
      "63/63 [==============================] - 0s 431us/step\n",
      "63/63 [==============================] - 0s 422us/step\n",
      "63/63 [==============================] - 0s 421us/step\n"
     ]
    },
    {
     "name": "stderr",
     "output_type": "stream",
     "text": [
      "/Users/raveel/miniconda3/envs/tf/lib/python3.11/site-packages/sklearn/model_selection/_validation.py:73: FutureWarning: `fit_params` is deprecated and will be removed in version 1.6. Pass parameters via `params` instead.\n",
      "  warnings.warn(\n"
     ]
    },
    {
     "name": "stdout",
     "output_type": "stream",
     "text": [
      "63/63 [==============================] - 0s 428us/step\n",
      "63/63 [==============================] - 0s 610us/step\n",
      "63/63 [==============================] - 0s 442us/step\n",
      "63/63 [==============================] - 0s 425us/step\n",
      "63/63 [==============================] - 0s 419us/step\n"
     ]
    },
    {
     "name": "stderr",
     "output_type": "stream",
     "text": [
      "/Users/raveel/miniconda3/envs/tf/lib/python3.11/site-packages/sklearn/model_selection/_validation.py:73: FutureWarning: `fit_params` is deprecated and will be removed in version 1.6. Pass parameters via `params` instead.\n",
      "  warnings.warn(\n"
     ]
    },
    {
     "name": "stdout",
     "output_type": "stream",
     "text": [
      "63/63 [==============================] - 0s 426us/step\n",
      "63/63 [==============================] - 0s 418us/step\n",
      "63/63 [==============================] - 0s 410us/step\n",
      "63/63 [==============================] - 0s 419us/step\n",
      "63/63 [==============================] - 0s 407us/step\n"
     ]
    },
    {
     "name": "stderr",
     "output_type": "stream",
     "text": [
      "/Users/raveel/miniconda3/envs/tf/lib/python3.11/site-packages/sklearn/model_selection/_validation.py:73: FutureWarning: `fit_params` is deprecated and will be removed in version 1.6. Pass parameters via `params` instead.\n",
      "  warnings.warn(\n"
     ]
    },
    {
     "name": "stdout",
     "output_type": "stream",
     "text": [
      "63/63 [==============================] - 0s 428us/step\n",
      "63/63 [==============================] - 0s 417us/step\n",
      "63/63 [==============================] - 0s 418us/step\n",
      "63/63 [==============================] - 0s 418us/step\n",
      "63/63 [==============================] - 0s 420us/step\n"
     ]
    },
    {
     "name": "stderr",
     "output_type": "stream",
     "text": [
      "/Users/raveel/miniconda3/envs/tf/lib/python3.11/site-packages/sklearn/model_selection/_validation.py:73: FutureWarning: `fit_params` is deprecated and will be removed in version 1.6. Pass parameters via `params` instead.\n",
      "  warnings.warn(\n"
     ]
    },
    {
     "name": "stdout",
     "output_type": "stream",
     "text": [
      "63/63 [==============================] - 0s 418us/step\n",
      "63/63 [==============================] - 0s 416us/step\n",
      "63/63 [==============================] - 0s 424us/step\n",
      "63/63 [==============================] - 0s 422us/step\n",
      "63/63 [==============================] - 0s 448us/step\n"
     ]
    },
    {
     "name": "stderr",
     "output_type": "stream",
     "text": [
      "/Users/raveel/miniconda3/envs/tf/lib/python3.11/site-packages/sklearn/model_selection/_validation.py:73: FutureWarning: `fit_params` is deprecated and will be removed in version 1.6. Pass parameters via `params` instead.\n",
      "  warnings.warn(\n"
     ]
    },
    {
     "name": "stdout",
     "output_type": "stream",
     "text": [
      "63/63 [==============================] - 0s 428us/step\n",
      "63/63 [==============================] - 0s 425us/step\n",
      "63/63 [==============================] - 0s 437us/step\n",
      "63/63 [==============================] - 0s 428us/step\n",
      "63/63 [==============================] - 0s 422us/step\n"
     ]
    },
    {
     "name": "stderr",
     "output_type": "stream",
     "text": [
      "/Users/raveel/miniconda3/envs/tf/lib/python3.11/site-packages/sklearn/model_selection/_validation.py:73: FutureWarning: `fit_params` is deprecated and will be removed in version 1.6. Pass parameters via `params` instead.\n",
      "  warnings.warn(\n"
     ]
    },
    {
     "name": "stdout",
     "output_type": "stream",
     "text": [
      "63/63 [==============================] - 0s 417us/step\n",
      "63/63 [==============================] - 0s 436us/step\n",
      "63/63 [==============================] - 0s 417us/step\n",
      "63/63 [==============================] - 0s 416us/step\n",
      "63/63 [==============================] - 0s 416us/step\n"
     ]
    },
    {
     "name": "stderr",
     "output_type": "stream",
     "text": [
      "/Users/raveel/miniconda3/envs/tf/lib/python3.11/site-packages/sklearn/model_selection/_validation.py:73: FutureWarning: `fit_params` is deprecated and will be removed in version 1.6. Pass parameters via `params` instead.\n",
      "  warnings.warn(\n"
     ]
    },
    {
     "name": "stdout",
     "output_type": "stream",
     "text": [
      "63/63 [==============================] - 0s 428us/step\n",
      "63/63 [==============================] - 0s 420us/step\n",
      "63/63 [==============================] - 0s 418us/step\n",
      "63/63 [==============================] - 0s 420us/step\n",
      "63/63 [==============================] - 0s 413us/step\n"
     ]
    },
    {
     "name": "stderr",
     "output_type": "stream",
     "text": [
      "/Users/raveel/miniconda3/envs/tf/lib/python3.11/site-packages/sklearn/model_selection/_validation.py:73: FutureWarning: `fit_params` is deprecated and will be removed in version 1.6. Pass parameters via `params` instead.\n",
      "  warnings.warn(\n"
     ]
    },
    {
     "name": "stdout",
     "output_type": "stream",
     "text": [
      "63/63 [==============================] - 0s 418us/step\n",
      "63/63 [==============================] - 0s 424us/step\n",
      "63/63 [==============================] - 0s 422us/step\n",
      "63/63 [==============================] - 0s 418us/step\n",
      "63/63 [==============================] - 0s 431us/step\n"
     ]
    },
    {
     "name": "stderr",
     "output_type": "stream",
     "text": [
      "/Users/raveel/miniconda3/envs/tf/lib/python3.11/site-packages/sklearn/model_selection/_validation.py:73: FutureWarning: `fit_params` is deprecated and will be removed in version 1.6. Pass parameters via `params` instead.\n",
      "  warnings.warn(\n"
     ]
    },
    {
     "name": "stdout",
     "output_type": "stream",
     "text": [
      "63/63 [==============================] - 0s 422us/step\n",
      "63/63 [==============================] - 0s 426us/step\n",
      "63/63 [==============================] - 0s 439us/step\n",
      "63/63 [==============================] - 0s 425us/step\n",
      "63/63 [==============================] - 0s 423us/step\n"
     ]
    },
    {
     "name": "stderr",
     "output_type": "stream",
     "text": [
      "/Users/raveel/miniconda3/envs/tf/lib/python3.11/site-packages/sklearn/model_selection/_validation.py:73: FutureWarning: `fit_params` is deprecated and will be removed in version 1.6. Pass parameters via `params` instead.\n",
      "  warnings.warn(\n"
     ]
    },
    {
     "name": "stdout",
     "output_type": "stream",
     "text": [
      "63/63 [==============================] - 0s 419us/step\n",
      "63/63 [==============================] - 0s 413us/step\n",
      "63/63 [==============================] - 0s 422us/step\n",
      "63/63 [==============================] - 0s 414us/step\n",
      "63/63 [==============================] - 0s 420us/step\n"
     ]
    },
    {
     "name": "stderr",
     "output_type": "stream",
     "text": [
      "/Users/raveel/miniconda3/envs/tf/lib/python3.11/site-packages/sklearn/model_selection/_validation.py:73: FutureWarning: `fit_params` is deprecated and will be removed in version 1.6. Pass parameters via `params` instead.\n",
      "  warnings.warn(\n"
     ]
    },
    {
     "name": "stdout",
     "output_type": "stream",
     "text": [
      "63/63 [==============================] - 0s 420us/step\n",
      "63/63 [==============================] - 0s 420us/step\n",
      "63/63 [==============================] - 0s 416us/step\n",
      "63/63 [==============================] - 0s 419us/step\n",
      "63/63 [==============================] - 0s 422us/step\n"
     ]
    },
    {
     "name": "stderr",
     "output_type": "stream",
     "text": [
      "/Users/raveel/miniconda3/envs/tf/lib/python3.11/site-packages/sklearn/model_selection/_validation.py:73: FutureWarning: `fit_params` is deprecated and will be removed in version 1.6. Pass parameters via `params` instead.\n",
      "  warnings.warn(\n"
     ]
    },
    {
     "name": "stdout",
     "output_type": "stream",
     "text": [
      "63/63 [==============================] - 0s 420us/step\n",
      "63/63 [==============================] - 0s 436us/step\n",
      "63/63 [==============================] - 0s 424us/step\n",
      "63/63 [==============================] - 0s 422us/step\n",
      "63/63 [==============================] - 0s 435us/step\n"
     ]
    },
    {
     "name": "stderr",
     "output_type": "stream",
     "text": [
      "/Users/raveel/miniconda3/envs/tf/lib/python3.11/site-packages/sklearn/model_selection/_validation.py:73: FutureWarning: `fit_params` is deprecated and will be removed in version 1.6. Pass parameters via `params` instead.\n",
      "  warnings.warn(\n"
     ]
    },
    {
     "name": "stdout",
     "output_type": "stream",
     "text": [
      "63/63 [==============================] - 0s 428us/step\n",
      "63/63 [==============================] - 0s 419us/step\n",
      "63/63 [==============================] - 0s 422us/step\n",
      "63/63 [==============================] - 0s 427us/step\n",
      "63/63 [==============================] - 0s 421us/step\n"
     ]
    },
    {
     "name": "stderr",
     "output_type": "stream",
     "text": [
      "/Users/raveel/miniconda3/envs/tf/lib/python3.11/site-packages/sklearn/model_selection/_validation.py:73: FutureWarning: `fit_params` is deprecated and will be removed in version 1.6. Pass parameters via `params` instead.\n",
      "  warnings.warn(\n"
     ]
    },
    {
     "name": "stdout",
     "output_type": "stream",
     "text": [
      "63/63 [==============================] - 0s 419us/step\n",
      "63/63 [==============================] - 0s 419us/step\n",
      "63/63 [==============================] - 0s 426us/step\n",
      "63/63 [==============================] - 0s 413us/step\n",
      "63/63 [==============================] - 0s 418us/step\n"
     ]
    },
    {
     "name": "stderr",
     "output_type": "stream",
     "text": [
      "/Users/raveel/miniconda3/envs/tf/lib/python3.11/site-packages/sklearn/model_selection/_validation.py:73: FutureWarning: `fit_params` is deprecated and will be removed in version 1.6. Pass parameters via `params` instead.\n",
      "  warnings.warn(\n"
     ]
    },
    {
     "name": "stdout",
     "output_type": "stream",
     "text": [
      "63/63 [==============================] - 0s 417us/step\n",
      "63/63 [==============================] - 0s 416us/step\n",
      "63/63 [==============================] - 0s 423us/step\n",
      "63/63 [==============================] - 0s 418us/step\n",
      "63/63 [==============================] - 0s 424us/step\n"
     ]
    },
    {
     "name": "stderr",
     "output_type": "stream",
     "text": [
      "/Users/raveel/miniconda3/envs/tf/lib/python3.11/site-packages/sklearn/model_selection/_validation.py:73: FutureWarning: `fit_params` is deprecated and will be removed in version 1.6. Pass parameters via `params` instead.\n",
      "  warnings.warn(\n"
     ]
    },
    {
     "name": "stdout",
     "output_type": "stream",
     "text": [
      "63/63 [==============================] - 0s 421us/step\n",
      "63/63 [==============================] - 0s 423us/step\n",
      "63/63 [==============================] - 0s 417us/step\n",
      "63/63 [==============================] - 0s 421us/step\n",
      "63/63 [==============================] - 0s 422us/step\n"
     ]
    },
    {
     "name": "stderr",
     "output_type": "stream",
     "text": [
      "/Users/raveel/miniconda3/envs/tf/lib/python3.11/site-packages/sklearn/model_selection/_validation.py:73: FutureWarning: `fit_params` is deprecated and will be removed in version 1.6. Pass parameters via `params` instead.\n",
      "  warnings.warn(\n"
     ]
    },
    {
     "name": "stdout",
     "output_type": "stream",
     "text": [
      "63/63 [==============================] - 0s 479us/step\n",
      "63/63 [==============================] - 0s 424us/step\n",
      "63/63 [==============================] - 0s 421us/step\n",
      "63/63 [==============================] - 0s 420us/step\n",
      "63/63 [==============================] - 0s 493us/step\n"
     ]
    },
    {
     "name": "stderr",
     "output_type": "stream",
     "text": [
      "/Users/raveel/miniconda3/envs/tf/lib/python3.11/site-packages/sklearn/model_selection/_validation.py:73: FutureWarning: `fit_params` is deprecated and will be removed in version 1.6. Pass parameters via `params` instead.\n",
      "  warnings.warn(\n"
     ]
    },
    {
     "name": "stdout",
     "output_type": "stream",
     "text": [
      "63/63 [==============================] - 0s 418us/step\n",
      "63/63 [==============================] - 0s 425us/step\n",
      "63/63 [==============================] - 0s 428us/step\n",
      "63/63 [==============================] - 0s 420us/step\n",
      "63/63 [==============================] - 0s 421us/step\n"
     ]
    },
    {
     "name": "stderr",
     "output_type": "stream",
     "text": [
      "/Users/raveel/miniconda3/envs/tf/lib/python3.11/site-packages/sklearn/model_selection/_validation.py:73: FutureWarning: `fit_params` is deprecated and will be removed in version 1.6. Pass parameters via `params` instead.\n",
      "  warnings.warn(\n"
     ]
    },
    {
     "name": "stdout",
     "output_type": "stream",
     "text": [
      "63/63 [==============================] - 0s 419us/step\n",
      "63/63 [==============================] - 0s 408us/step\n",
      "63/63 [==============================] - 0s 405us/step\n",
      "63/63 [==============================] - 0s 417us/step\n",
      "63/63 [==============================] - 0s 434us/step\n"
     ]
    },
    {
     "name": "stderr",
     "output_type": "stream",
     "text": [
      "/Users/raveel/miniconda3/envs/tf/lib/python3.11/site-packages/sklearn/model_selection/_validation.py:73: FutureWarning: `fit_params` is deprecated and will be removed in version 1.6. Pass parameters via `params` instead.\n",
      "  warnings.warn(\n"
     ]
    },
    {
     "name": "stdout",
     "output_type": "stream",
     "text": [
      "63/63 [==============================] - 0s 430us/step\n",
      "63/63 [==============================] - 0s 407us/step\n",
      "63/63 [==============================] - 0s 418us/step\n",
      "63/63 [==============================] - 0s 417us/step\n",
      "63/63 [==============================] - 0s 426us/step\n"
     ]
    },
    {
     "name": "stderr",
     "output_type": "stream",
     "text": [
      "/Users/raveel/miniconda3/envs/tf/lib/python3.11/site-packages/sklearn/model_selection/_validation.py:73: FutureWarning: `fit_params` is deprecated and will be removed in version 1.6. Pass parameters via `params` instead.\n",
      "  warnings.warn(\n"
     ]
    },
    {
     "name": "stdout",
     "output_type": "stream",
     "text": [
      "63/63 [==============================] - 0s 417us/step\n",
      "63/63 [==============================] - 0s 475us/step\n",
      "63/63 [==============================] - 0s 423us/step\n",
      "63/63 [==============================] - 0s 416us/step\n",
      "63/63 [==============================] - 0s 437us/step\n"
     ]
    },
    {
     "name": "stderr",
     "output_type": "stream",
     "text": [
      "/Users/raveel/miniconda3/envs/tf/lib/python3.11/site-packages/sklearn/model_selection/_validation.py:73: FutureWarning: `fit_params` is deprecated and will be removed in version 1.6. Pass parameters via `params` instead.\n",
      "  warnings.warn(\n"
     ]
    },
    {
     "name": "stdout",
     "output_type": "stream",
     "text": [
      "63/63 [==============================] - 0s 421us/step\n",
      "63/63 [==============================] - 0s 419us/step\n",
      "63/63 [==============================] - 0s 424us/step\n",
      "63/63 [==============================] - 0s 416us/step\n",
      "63/63 [==============================] - 0s 422us/step\n"
     ]
    },
    {
     "name": "stderr",
     "output_type": "stream",
     "text": [
      "/Users/raveel/miniconda3/envs/tf/lib/python3.11/site-packages/sklearn/model_selection/_validation.py:73: FutureWarning: `fit_params` is deprecated and will be removed in version 1.6. Pass parameters via `params` instead.\n",
      "  warnings.warn(\n"
     ]
    },
    {
     "name": "stdout",
     "output_type": "stream",
     "text": [
      "63/63 [==============================] - 0s 419us/step\n",
      "63/63 [==============================] - 0s 415us/step\n",
      "63/63 [==============================] - 0s 420us/step\n",
      "63/63 [==============================] - 0s 420us/step\n",
      "63/63 [==============================] - 0s 420us/step\n"
     ]
    },
    {
     "name": "stderr",
     "output_type": "stream",
     "text": [
      "/Users/raveel/miniconda3/envs/tf/lib/python3.11/site-packages/sklearn/model_selection/_validation.py:73: FutureWarning: `fit_params` is deprecated and will be removed in version 1.6. Pass parameters via `params` instead.\n",
      "  warnings.warn(\n"
     ]
    },
    {
     "name": "stdout",
     "output_type": "stream",
     "text": [
      "63/63 [==============================] - 0s 436us/step\n",
      "63/63 [==============================] - 0s 416us/step\n",
      "63/63 [==============================] - 0s 416us/step\n",
      "63/63 [==============================] - 0s 424us/step\n",
      "63/63 [==============================] - 0s 417us/step\n"
     ]
    },
    {
     "name": "stderr",
     "output_type": "stream",
     "text": [
      "/Users/raveel/miniconda3/envs/tf/lib/python3.11/site-packages/sklearn/model_selection/_validation.py:73: FutureWarning: `fit_params` is deprecated and will be removed in version 1.6. Pass parameters via `params` instead.\n",
      "  warnings.warn(\n"
     ]
    },
    {
     "name": "stdout",
     "output_type": "stream",
     "text": [
      "63/63 [==============================] - 0s 416us/step\n",
      "63/63 [==============================] - 0s 429us/step\n",
      "63/63 [==============================] - 0s 426us/step\n",
      "63/63 [==============================] - 0s 419us/step\n",
      "63/63 [==============================] - 0s 427us/step\n"
     ]
    },
    {
     "name": "stderr",
     "output_type": "stream",
     "text": [
      "/Users/raveel/miniconda3/envs/tf/lib/python3.11/site-packages/sklearn/model_selection/_validation.py:73: FutureWarning: `fit_params` is deprecated and will be removed in version 1.6. Pass parameters via `params` instead.\n",
      "  warnings.warn(\n"
     ]
    },
    {
     "name": "stdout",
     "output_type": "stream",
     "text": [
      "63/63 [==============================] - 0s 925us/step\n",
      "63/63 [==============================] - 0s 501us/step\n",
      "63/63 [==============================] - 0s 425us/step\n",
      "63/63 [==============================] - 0s 421us/step\n",
      "63/63 [==============================] - 0s 415us/step\n"
     ]
    },
    {
     "name": "stderr",
     "output_type": "stream",
     "text": [
      "/Users/raveel/miniconda3/envs/tf/lib/python3.11/site-packages/sklearn/model_selection/_validation.py:73: FutureWarning: `fit_params` is deprecated and will be removed in version 1.6. Pass parameters via `params` instead.\n",
      "  warnings.warn(\n"
     ]
    },
    {
     "name": "stdout",
     "output_type": "stream",
     "text": [
      "63/63 [==============================] - 0s 414us/step\n",
      "63/63 [==============================] - 0s 415us/step\n",
      "63/63 [==============================] - 0s 421us/step\n",
      "63/63 [==============================] - 0s 421us/step\n",
      "63/63 [==============================] - 0s 416us/step\n"
     ]
    },
    {
     "name": "stderr",
     "output_type": "stream",
     "text": [
      "/Users/raveel/miniconda3/envs/tf/lib/python3.11/site-packages/sklearn/model_selection/_validation.py:73: FutureWarning: `fit_params` is deprecated and will be removed in version 1.6. Pass parameters via `params` instead.\n",
      "  warnings.warn(\n"
     ]
    },
    {
     "name": "stdout",
     "output_type": "stream",
     "text": [
      "63/63 [==============================] - 0s 421us/step\n",
      "63/63 [==============================] - 0s 414us/step\n",
      "63/63 [==============================] - 0s 419us/step\n",
      "63/63 [==============================] - 0s 420us/step\n",
      "63/63 [==============================] - 0s 423us/step\n"
     ]
    },
    {
     "name": "stderr",
     "output_type": "stream",
     "text": [
      "/Users/raveel/miniconda3/envs/tf/lib/python3.11/site-packages/sklearn/model_selection/_validation.py:73: FutureWarning: `fit_params` is deprecated and will be removed in version 1.6. Pass parameters via `params` instead.\n",
      "  warnings.warn(\n"
     ]
    },
    {
     "name": "stdout",
     "output_type": "stream",
     "text": [
      "63/63 [==============================] - 0s 408us/step\n",
      "63/63 [==============================] - 0s 433us/step\n",
      "63/63 [==============================] - 0s 415us/step\n",
      "63/63 [==============================] - 0s 424us/step\n",
      "63/63 [==============================] - 0s 425us/step\n"
     ]
    },
    {
     "name": "stderr",
     "output_type": "stream",
     "text": [
      "/Users/raveel/miniconda3/envs/tf/lib/python3.11/site-packages/sklearn/model_selection/_validation.py:73: FutureWarning: `fit_params` is deprecated and will be removed in version 1.6. Pass parameters via `params` instead.\n",
      "  warnings.warn(\n"
     ]
    },
    {
     "name": "stdout",
     "output_type": "stream",
     "text": [
      "63/63 [==============================] - 0s 421us/step\n",
      "63/63 [==============================] - 0s 425us/step\n",
      "63/63 [==============================] - 0s 438us/step\n",
      "63/63 [==============================] - 0s 414us/step\n",
      "63/63 [==============================] - 0s 416us/step\n"
     ]
    },
    {
     "name": "stderr",
     "output_type": "stream",
     "text": [
      "/Users/raveel/miniconda3/envs/tf/lib/python3.11/site-packages/sklearn/model_selection/_validation.py:73: FutureWarning: `fit_params` is deprecated and will be removed in version 1.6. Pass parameters via `params` instead.\n",
      "  warnings.warn(\n"
     ]
    },
    {
     "name": "stdout",
     "output_type": "stream",
     "text": [
      "63/63 [==============================] - 0s 415us/step\n",
      "63/63 [==============================] - 0s 418us/step\n",
      "63/63 [==============================] - 0s 419us/step\n",
      "63/63 [==============================] - 0s 420us/step\n",
      "63/63 [==============================] - 0s 427us/step\n"
     ]
    },
    {
     "name": "stderr",
     "output_type": "stream",
     "text": [
      "/Users/raveel/miniconda3/envs/tf/lib/python3.11/site-packages/sklearn/model_selection/_validation.py:73: FutureWarning: `fit_params` is deprecated and will be removed in version 1.6. Pass parameters via `params` instead.\n",
      "  warnings.warn(\n"
     ]
    },
    {
     "name": "stdout",
     "output_type": "stream",
     "text": [
      "63/63 [==============================] - 0s 417us/step\n",
      "63/63 [==============================] - 0s 420us/step\n",
      "63/63 [==============================] - 0s 423us/step\n",
      "63/63 [==============================] - 0s 427us/step\n",
      "63/63 [==============================] - 0s 425us/step\n"
     ]
    },
    {
     "name": "stderr",
     "output_type": "stream",
     "text": [
      "/Users/raveel/miniconda3/envs/tf/lib/python3.11/site-packages/sklearn/model_selection/_validation.py:73: FutureWarning: `fit_params` is deprecated and will be removed in version 1.6. Pass parameters via `params` instead.\n",
      "  warnings.warn(\n"
     ]
    },
    {
     "name": "stdout",
     "output_type": "stream",
     "text": [
      "63/63 [==============================] - 0s 423us/step\n",
      "63/63 [==============================] - 0s 428us/step\n",
      "63/63 [==============================] - 0s 436us/step\n",
      "63/63 [==============================] - 0s 424us/step\n",
      "63/63 [==============================] - 0s 423us/step\n"
     ]
    },
    {
     "name": "stderr",
     "output_type": "stream",
     "text": [
      "/Users/raveel/miniconda3/envs/tf/lib/python3.11/site-packages/sklearn/model_selection/_validation.py:73: FutureWarning: `fit_params` is deprecated and will be removed in version 1.6. Pass parameters via `params` instead.\n",
      "  warnings.warn(\n"
     ]
    },
    {
     "name": "stdout",
     "output_type": "stream",
     "text": [
      "63/63 [==============================] - 0s 425us/step\n",
      "63/63 [==============================] - 0s 421us/step\n",
      "63/63 [==============================] - 0s 433us/step\n",
      "63/63 [==============================] - 0s 427us/step\n",
      "63/63 [==============================] - 0s 418us/step\n"
     ]
    },
    {
     "name": "stderr",
     "output_type": "stream",
     "text": [
      "/Users/raveel/miniconda3/envs/tf/lib/python3.11/site-packages/sklearn/model_selection/_validation.py:73: FutureWarning: `fit_params` is deprecated and will be removed in version 1.6. Pass parameters via `params` instead.\n",
      "  warnings.warn(\n"
     ]
    },
    {
     "name": "stdout",
     "output_type": "stream",
     "text": [
      "63/63 [==============================] - 0s 421us/step\n",
      "63/63 [==============================] - 0s 418us/step\n",
      "63/63 [==============================] - 0s 418us/step\n",
      "63/63 [==============================] - 0s 458us/step\n",
      "63/63 [==============================] - 0s 422us/step\n"
     ]
    },
    {
     "name": "stderr",
     "output_type": "stream",
     "text": [
      "/Users/raveel/miniconda3/envs/tf/lib/python3.11/site-packages/sklearn/model_selection/_validation.py:73: FutureWarning: `fit_params` is deprecated and will be removed in version 1.6. Pass parameters via `params` instead.\n",
      "  warnings.warn(\n"
     ]
    },
    {
     "name": "stdout",
     "output_type": "stream",
     "text": [
      "63/63 [==============================] - 0s 413us/step\n",
      "63/63 [==============================] - 0s 423us/step\n",
      "63/63 [==============================] - 0s 422us/step\n",
      "63/63 [==============================] - 0s 426us/step\n",
      "63/63 [==============================] - 0s 417us/step\n"
     ]
    },
    {
     "name": "stderr",
     "output_type": "stream",
     "text": [
      "/Users/raveel/miniconda3/envs/tf/lib/python3.11/site-packages/sklearn/model_selection/_validation.py:73: FutureWarning: `fit_params` is deprecated and will be removed in version 1.6. Pass parameters via `params` instead.\n",
      "  warnings.warn(\n"
     ]
    },
    {
     "name": "stdout",
     "output_type": "stream",
     "text": [
      "63/63 [==============================] - 0s 420us/step\n",
      "63/63 [==============================] - 0s 427us/step\n",
      "63/63 [==============================] - 0s 420us/step\n",
      "63/63 [==============================] - 0s 450us/step\n",
      "63/63 [==============================] - 0s 415us/step\n"
     ]
    },
    {
     "name": "stderr",
     "output_type": "stream",
     "text": [
      "/Users/raveel/miniconda3/envs/tf/lib/python3.11/site-packages/sklearn/model_selection/_validation.py:73: FutureWarning: `fit_params` is deprecated and will be removed in version 1.6. Pass parameters via `params` instead.\n",
      "  warnings.warn(\n"
     ]
    },
    {
     "name": "stdout",
     "output_type": "stream",
     "text": [
      "63/63 [==============================] - 0s 429us/step\n",
      "63/63 [==============================] - 0s 415us/step\n",
      "63/63 [==============================] - 0s 422us/step\n",
      "63/63 [==============================] - 0s 427us/step\n",
      "63/63 [==============================] - 0s 420us/step\n"
     ]
    },
    {
     "name": "stderr",
     "output_type": "stream",
     "text": [
      "/Users/raveel/miniconda3/envs/tf/lib/python3.11/site-packages/sklearn/model_selection/_validation.py:73: FutureWarning: `fit_params` is deprecated and will be removed in version 1.6. Pass parameters via `params` instead.\n",
      "  warnings.warn(\n"
     ]
    },
    {
     "name": "stdout",
     "output_type": "stream",
     "text": [
      "63/63 [==============================] - 0s 419us/step\n",
      "63/63 [==============================] - 0s 420us/step\n",
      "63/63 [==============================] - 0s 417us/step\n",
      "63/63 [==============================] - 0s 421us/step\n",
      "63/63 [==============================] - 0s 417us/step\n"
     ]
    },
    {
     "name": "stderr",
     "output_type": "stream",
     "text": [
      "/Users/raveel/miniconda3/envs/tf/lib/python3.11/site-packages/sklearn/model_selection/_validation.py:73: FutureWarning: `fit_params` is deprecated and will be removed in version 1.6. Pass parameters via `params` instead.\n",
      "  warnings.warn(\n"
     ]
    },
    {
     "name": "stdout",
     "output_type": "stream",
     "text": [
      "63/63 [==============================] - 0s 426us/step\n",
      "63/63 [==============================] - 0s 420us/step\n",
      "63/63 [==============================] - 0s 426us/step\n",
      "63/63 [==============================] - 0s 423us/step\n",
      "63/63 [==============================] - 0s 425us/step\n"
     ]
    },
    {
     "name": "stderr",
     "output_type": "stream",
     "text": [
      "/Users/raveel/miniconda3/envs/tf/lib/python3.11/site-packages/sklearn/model_selection/_validation.py:73: FutureWarning: `fit_params` is deprecated and will be removed in version 1.6. Pass parameters via `params` instead.\n",
      "  warnings.warn(\n"
     ]
    },
    {
     "name": "stdout",
     "output_type": "stream",
     "text": [
      "63/63 [==============================] - 0s 412us/step\n",
      "63/63 [==============================] - 0s 413us/step\n",
      "63/63 [==============================] - 0s 426us/step\n",
      "63/63 [==============================] - 0s 413us/step\n",
      "63/63 [==============================] - 0s 420us/step\n"
     ]
    },
    {
     "name": "stderr",
     "output_type": "stream",
     "text": [
      "/Users/raveel/miniconda3/envs/tf/lib/python3.11/site-packages/sklearn/model_selection/_validation.py:73: FutureWarning: `fit_params` is deprecated and will be removed in version 1.6. Pass parameters via `params` instead.\n",
      "  warnings.warn(\n"
     ]
    },
    {
     "name": "stdout",
     "output_type": "stream",
     "text": [
      "63/63 [==============================] - 0s 426us/step\n",
      "63/63 [==============================] - 0s 421us/step\n",
      "63/63 [==============================] - 0s 421us/step\n",
      "63/63 [==============================] - 0s 426us/step\n",
      "63/63 [==============================] - 0s 432us/step\n"
     ]
    },
    {
     "name": "stderr",
     "output_type": "stream",
     "text": [
      "/Users/raveel/miniconda3/envs/tf/lib/python3.11/site-packages/sklearn/model_selection/_validation.py:73: FutureWarning: `fit_params` is deprecated and will be removed in version 1.6. Pass parameters via `params` instead.\n",
      "  warnings.warn(\n"
     ]
    },
    {
     "name": "stdout",
     "output_type": "stream",
     "text": [
      "63/63 [==============================] - 0s 420us/step\n",
      "63/63 [==============================] - 0s 410us/step\n",
      "63/63 [==============================] - 0s 411us/step\n",
      "63/63 [==============================] - 0s 423us/step\n",
      "63/63 [==============================] - 0s 424us/step\n"
     ]
    },
    {
     "name": "stderr",
     "output_type": "stream",
     "text": [
      "/Users/raveel/miniconda3/envs/tf/lib/python3.11/site-packages/sklearn/model_selection/_validation.py:73: FutureWarning: `fit_params` is deprecated and will be removed in version 1.6. Pass parameters via `params` instead.\n",
      "  warnings.warn(\n"
     ]
    },
    {
     "name": "stdout",
     "output_type": "stream",
     "text": [
      "63/63 [==============================] - 0s 420us/step\n",
      "63/63 [==============================] - 0s 424us/step\n",
      "63/63 [==============================] - 0s 419us/step\n",
      "63/63 [==============================] - 0s 423us/step\n",
      "63/63 [==============================] - 0s 418us/step\n"
     ]
    },
    {
     "name": "stderr",
     "output_type": "stream",
     "text": [
      "/Users/raveel/miniconda3/envs/tf/lib/python3.11/site-packages/sklearn/model_selection/_validation.py:73: FutureWarning: `fit_params` is deprecated and will be removed in version 1.6. Pass parameters via `params` instead.\n",
      "  warnings.warn(\n"
     ]
    },
    {
     "name": "stdout",
     "output_type": "stream",
     "text": [
      "63/63 [==============================] - 0s 426us/step\n",
      "63/63 [==============================] - 0s 423us/step\n",
      "63/63 [==============================] - 0s 483us/step\n",
      "63/63 [==============================] - 0s 420us/step\n",
      "63/63 [==============================] - 0s 418us/step\n"
     ]
    },
    {
     "name": "stderr",
     "output_type": "stream",
     "text": [
      "/Users/raveel/miniconda3/envs/tf/lib/python3.11/site-packages/sklearn/model_selection/_validation.py:73: FutureWarning: `fit_params` is deprecated and will be removed in version 1.6. Pass parameters via `params` instead.\n",
      "  warnings.warn(\n"
     ]
    },
    {
     "name": "stdout",
     "output_type": "stream",
     "text": [
      "63/63 [==============================] - 0s 441us/step\n",
      "63/63 [==============================] - 0s 420us/step\n",
      "63/63 [==============================] - 0s 427us/step\n",
      "63/63 [==============================] - 0s 420us/step\n",
      "63/63 [==============================] - 0s 424us/step\n"
     ]
    },
    {
     "name": "stderr",
     "output_type": "stream",
     "text": [
      "/Users/raveel/miniconda3/envs/tf/lib/python3.11/site-packages/sklearn/model_selection/_validation.py:73: FutureWarning: `fit_params` is deprecated and will be removed in version 1.6. Pass parameters via `params` instead.\n",
      "  warnings.warn(\n"
     ]
    },
    {
     "name": "stdout",
     "output_type": "stream",
     "text": [
      "63/63 [==============================] - 0s 420us/step\n",
      "63/63 [==============================] - 0s 419us/step\n",
      "63/63 [==============================] - 0s 422us/step\n",
      "63/63 [==============================] - 0s 420us/step\n",
      "63/63 [==============================] - 0s 416us/step\n"
     ]
    },
    {
     "name": "stderr",
     "output_type": "stream",
     "text": [
      "/Users/raveel/miniconda3/envs/tf/lib/python3.11/site-packages/sklearn/model_selection/_validation.py:73: FutureWarning: `fit_params` is deprecated and will be removed in version 1.6. Pass parameters via `params` instead.\n",
      "  warnings.warn(\n"
     ]
    },
    {
     "name": "stdout",
     "output_type": "stream",
     "text": [
      "63/63 [==============================] - 0s 429us/step\n",
      "63/63 [==============================] - 0s 439us/step\n",
      "63/63 [==============================] - 0s 419us/step\n",
      "63/63 [==============================] - 0s 420us/step\n",
      "63/63 [==============================] - 0s 424us/step\n"
     ]
    },
    {
     "name": "stderr",
     "output_type": "stream",
     "text": [
      "/Users/raveel/miniconda3/envs/tf/lib/python3.11/site-packages/sklearn/model_selection/_validation.py:73: FutureWarning: `fit_params` is deprecated and will be removed in version 1.6. Pass parameters via `params` instead.\n",
      "  warnings.warn(\n"
     ]
    },
    {
     "name": "stdout",
     "output_type": "stream",
     "text": [
      "63/63 [==============================] - 0s 414us/step\n",
      "63/63 [==============================] - 0s 422us/step\n",
      "63/63 [==============================] - 0s 429us/step\n",
      "63/63 [==============================] - 0s 438us/step\n",
      "63/63 [==============================] - 0s 429us/step\n"
     ]
    },
    {
     "name": "stderr",
     "output_type": "stream",
     "text": [
      "/Users/raveel/miniconda3/envs/tf/lib/python3.11/site-packages/sklearn/model_selection/_validation.py:73: FutureWarning: `fit_params` is deprecated and will be removed in version 1.6. Pass parameters via `params` instead.\n",
      "  warnings.warn(\n"
     ]
    },
    {
     "name": "stdout",
     "output_type": "stream",
     "text": [
      "63/63 [==============================] - 0s 417us/step\n",
      "63/63 [==============================] - 0s 441us/step\n",
      "63/63 [==============================] - 0s 418us/step\n",
      "63/63 [==============================] - 0s 421us/step\n",
      "63/63 [==============================] - 0s 434us/step\n"
     ]
    },
    {
     "name": "stderr",
     "output_type": "stream",
     "text": [
      "/Users/raveel/miniconda3/envs/tf/lib/python3.11/site-packages/sklearn/model_selection/_validation.py:73: FutureWarning: `fit_params` is deprecated and will be removed in version 1.6. Pass parameters via `params` instead.\n",
      "  warnings.warn(\n"
     ]
    },
    {
     "name": "stdout",
     "output_type": "stream",
     "text": [
      "63/63 [==============================] - 0s 429us/step\n",
      "63/63 [==============================] - 0s 425us/step\n",
      "63/63 [==============================] - 0s 418us/step\n",
      "63/63 [==============================] - 0s 423us/step\n",
      "63/63 [==============================] - 0s 411us/step\n"
     ]
    },
    {
     "name": "stderr",
     "output_type": "stream",
     "text": [
      "/Users/raveel/miniconda3/envs/tf/lib/python3.11/site-packages/sklearn/model_selection/_validation.py:73: FutureWarning: `fit_params` is deprecated and will be removed in version 1.6. Pass parameters via `params` instead.\n",
      "  warnings.warn(\n"
     ]
    },
    {
     "name": "stdout",
     "output_type": "stream",
     "text": [
      "63/63 [==============================] - 0s 417us/step\n",
      "63/63 [==============================] - 0s 417us/step\n",
      "63/63 [==============================] - 0s 428us/step\n",
      "63/63 [==============================] - 0s 422us/step\n",
      "63/63 [==============================] - 0s 432us/step\n"
     ]
    },
    {
     "name": "stderr",
     "output_type": "stream",
     "text": [
      "/Users/raveel/miniconda3/envs/tf/lib/python3.11/site-packages/sklearn/model_selection/_validation.py:73: FutureWarning: `fit_params` is deprecated and will be removed in version 1.6. Pass parameters via `params` instead.\n",
      "  warnings.warn(\n"
     ]
    },
    {
     "name": "stdout",
     "output_type": "stream",
     "text": [
      "63/63 [==============================] - 0s 438us/step\n",
      "63/63 [==============================] - 0s 418us/step\n",
      "63/63 [==============================] - 0s 416us/step\n",
      "63/63 [==============================] - 0s 422us/step\n",
      "63/63 [==============================] - 0s 424us/step\n"
     ]
    },
    {
     "name": "stderr",
     "output_type": "stream",
     "text": [
      "/Users/raveel/miniconda3/envs/tf/lib/python3.11/site-packages/sklearn/model_selection/_validation.py:73: FutureWarning: `fit_params` is deprecated and will be removed in version 1.6. Pass parameters via `params` instead.\n",
      "  warnings.warn(\n"
     ]
    },
    {
     "name": "stdout",
     "output_type": "stream",
     "text": [
      "63/63 [==============================] - 0s 424us/step\n",
      "63/63 [==============================] - 1s 510us/step\n",
      "63/63 [==============================] - 0s 448us/step\n",
      "63/63 [==============================] - 0s 418us/step\n",
      "63/63 [==============================] - 0s 424us/step\n"
     ]
    },
    {
     "name": "stderr",
     "output_type": "stream",
     "text": [
      "/Users/raveel/miniconda3/envs/tf/lib/python3.11/site-packages/sklearn/model_selection/_validation.py:73: FutureWarning: `fit_params` is deprecated and will be removed in version 1.6. Pass parameters via `params` instead.\n",
      "  warnings.warn(\n"
     ]
    },
    {
     "name": "stdout",
     "output_type": "stream",
     "text": [
      "63/63 [==============================] - 0s 425us/step\n",
      "63/63 [==============================] - 0s 425us/step\n",
      "63/63 [==============================] - 0s 428us/step\n",
      "63/63 [==============================] - 0s 414us/step\n",
      "63/63 [==============================] - 0s 426us/step\n"
     ]
    },
    {
     "name": "stderr",
     "output_type": "stream",
     "text": [
      "/Users/raveel/miniconda3/envs/tf/lib/python3.11/site-packages/sklearn/model_selection/_validation.py:73: FutureWarning: `fit_params` is deprecated and will be removed in version 1.6. Pass parameters via `params` instead.\n",
      "  warnings.warn(\n"
     ]
    },
    {
     "name": "stdout",
     "output_type": "stream",
     "text": [
      "63/63 [==============================] - 0s 412us/step\n",
      "63/63 [==============================] - 0s 420us/step\n",
      "63/63 [==============================] - 0s 425us/step\n",
      "63/63 [==============================] - 0s 419us/step\n",
      "63/63 [==============================] - 0s 414us/step\n"
     ]
    },
    {
     "name": "stderr",
     "output_type": "stream",
     "text": [
      "/Users/raveel/miniconda3/envs/tf/lib/python3.11/site-packages/sklearn/model_selection/_validation.py:73: FutureWarning: `fit_params` is deprecated and will be removed in version 1.6. Pass parameters via `params` instead.\n",
      "  warnings.warn(\n"
     ]
    },
    {
     "name": "stdout",
     "output_type": "stream",
     "text": [
      "63/63 [==============================] - 0s 422us/step\n",
      "63/63 [==============================] - 0s 422us/step\n",
      "63/63 [==============================] - 0s 425us/step\n",
      "63/63 [==============================] - 0s 428us/step\n",
      "63/63 [==============================] - 0s 427us/step\n"
     ]
    },
    {
     "name": "stderr",
     "output_type": "stream",
     "text": [
      "/Users/raveel/miniconda3/envs/tf/lib/python3.11/site-packages/sklearn/model_selection/_validation.py:73: FutureWarning: `fit_params` is deprecated and will be removed in version 1.6. Pass parameters via `params` instead.\n",
      "  warnings.warn(\n"
     ]
    },
    {
     "name": "stdout",
     "output_type": "stream",
     "text": [
      "63/63 [==============================] - 0s 424us/step\n",
      "63/63 [==============================] - 0s 423us/step\n",
      "63/63 [==============================] - 0s 416us/step\n",
      "63/63 [==============================] - 0s 435us/step\n",
      "63/63 [==============================] - 0s 420us/step\n"
     ]
    },
    {
     "name": "stderr",
     "output_type": "stream",
     "text": [
      "/Users/raveel/miniconda3/envs/tf/lib/python3.11/site-packages/sklearn/model_selection/_validation.py:73: FutureWarning: `fit_params` is deprecated and will be removed in version 1.6. Pass parameters via `params` instead.\n",
      "  warnings.warn(\n"
     ]
    },
    {
     "name": "stdout",
     "output_type": "stream",
     "text": [
      "63/63 [==============================] - 0s 422us/step\n",
      "63/63 [==============================] - 0s 429us/step\n",
      "63/63 [==============================] - 0s 425us/step\n",
      "63/63 [==============================] - 0s 433us/step\n",
      "63/63 [==============================] - 0s 425us/step\n"
     ]
    },
    {
     "name": "stderr",
     "output_type": "stream",
     "text": [
      "/Users/raveel/miniconda3/envs/tf/lib/python3.11/site-packages/sklearn/model_selection/_validation.py:73: FutureWarning: `fit_params` is deprecated and will be removed in version 1.6. Pass parameters via `params` instead.\n",
      "  warnings.warn(\n"
     ]
    },
    {
     "name": "stdout",
     "output_type": "stream",
     "text": [
      "63/63 [==============================] - 0s 415us/step\n",
      "63/63 [==============================] - 0s 423us/step\n",
      "63/63 [==============================] - 0s 425us/step\n",
      "63/63 [==============================] - 0s 426us/step\n",
      "63/63 [==============================] - 0s 425us/step\n"
     ]
    },
    {
     "name": "stderr",
     "output_type": "stream",
     "text": [
      "/Users/raveel/miniconda3/envs/tf/lib/python3.11/site-packages/sklearn/model_selection/_validation.py:73: FutureWarning: `fit_params` is deprecated and will be removed in version 1.6. Pass parameters via `params` instead.\n",
      "  warnings.warn(\n"
     ]
    },
    {
     "name": "stdout",
     "output_type": "stream",
     "text": [
      "63/63 [==============================] - 0s 415us/step\n",
      "63/63 [==============================] - 0s 417us/step\n",
      "63/63 [==============================] - 0s 418us/step\n",
      "63/63 [==============================] - 0s 510us/step\n",
      "63/63 [==============================] - 0s 416us/step\n"
     ]
    },
    {
     "name": "stderr",
     "output_type": "stream",
     "text": [
      "/Users/raveel/miniconda3/envs/tf/lib/python3.11/site-packages/sklearn/model_selection/_validation.py:73: FutureWarning: `fit_params` is deprecated and will be removed in version 1.6. Pass parameters via `params` instead.\n",
      "  warnings.warn(\n"
     ]
    },
    {
     "name": "stdout",
     "output_type": "stream",
     "text": [
      "63/63 [==============================] - 0s 423us/step\n",
      "63/63 [==============================] - 0s 417us/step\n",
      "63/63 [==============================] - 0s 422us/step\n",
      "63/63 [==============================] - 0s 420us/step\n",
      "63/63 [==============================] - 0s 692us/step\n"
     ]
    },
    {
     "name": "stderr",
     "output_type": "stream",
     "text": [
      "/Users/raveel/miniconda3/envs/tf/lib/python3.11/site-packages/sklearn/model_selection/_validation.py:73: FutureWarning: `fit_params` is deprecated and will be removed in version 1.6. Pass parameters via `params` instead.\n",
      "  warnings.warn(\n"
     ]
    },
    {
     "name": "stdout",
     "output_type": "stream",
     "text": [
      "63/63 [==============================] - 0s 414us/step\n",
      "63/63 [==============================] - 0s 421us/step\n",
      "63/63 [==============================] - 0s 424us/step\n",
      "63/63 [==============================] - 0s 436us/step\n",
      "63/63 [==============================] - 0s 423us/step\n"
     ]
    },
    {
     "name": "stderr",
     "output_type": "stream",
     "text": [
      "/Users/raveel/miniconda3/envs/tf/lib/python3.11/site-packages/sklearn/model_selection/_validation.py:73: FutureWarning: `fit_params` is deprecated and will be removed in version 1.6. Pass parameters via `params` instead.\n",
      "  warnings.warn(\n"
     ]
    },
    {
     "name": "stdout",
     "output_type": "stream",
     "text": [
      "63/63 [==============================] - 0s 419us/step\n",
      "63/63 [==============================] - 0s 418us/step\n",
      "63/63 [==============================] - 0s 417us/step\n",
      "63/63 [==============================] - 0s 419us/step\n",
      "63/63 [==============================] - 0s 426us/step\n"
     ]
    },
    {
     "name": "stderr",
     "output_type": "stream",
     "text": [
      "/Users/raveel/miniconda3/envs/tf/lib/python3.11/site-packages/sklearn/model_selection/_validation.py:73: FutureWarning: `fit_params` is deprecated and will be removed in version 1.6. Pass parameters via `params` instead.\n",
      "  warnings.warn(\n"
     ]
    },
    {
     "name": "stdout",
     "output_type": "stream",
     "text": [
      "63/63 [==============================] - 0s 416us/step\n",
      "63/63 [==============================] - 0s 414us/step\n",
      "63/63 [==============================] - 0s 427us/step\n",
      "63/63 [==============================] - 0s 426us/step\n",
      "63/63 [==============================] - 0s 417us/step\n"
     ]
    },
    {
     "name": "stderr",
     "output_type": "stream",
     "text": [
      "/Users/raveel/miniconda3/envs/tf/lib/python3.11/site-packages/sklearn/model_selection/_validation.py:73: FutureWarning: `fit_params` is deprecated and will be removed in version 1.6. Pass parameters via `params` instead.\n",
      "  warnings.warn(\n"
     ]
    },
    {
     "name": "stdout",
     "output_type": "stream",
     "text": [
      "63/63 [==============================] - 0s 424us/step\n",
      "63/63 [==============================] - 0s 417us/step\n",
      "63/63 [==============================] - 0s 415us/step\n",
      "63/63 [==============================] - 0s 416us/step\n",
      "63/63 [==============================] - 0s 420us/step\n"
     ]
    },
    {
     "name": "stderr",
     "output_type": "stream",
     "text": [
      "/Users/raveel/miniconda3/envs/tf/lib/python3.11/site-packages/sklearn/model_selection/_validation.py:73: FutureWarning: `fit_params` is deprecated and will be removed in version 1.6. Pass parameters via `params` instead.\n",
      "  warnings.warn(\n"
     ]
    },
    {
     "name": "stdout",
     "output_type": "stream",
     "text": [
      "63/63 [==============================] - 0s 432us/step\n",
      "63/63 [==============================] - 0s 411us/step\n",
      "63/63 [==============================] - 0s 424us/step\n",
      "63/63 [==============================] - 0s 432us/step\n",
      "63/63 [==============================] - 0s 430us/step\n"
     ]
    },
    {
     "name": "stderr",
     "output_type": "stream",
     "text": [
      "/Users/raveel/miniconda3/envs/tf/lib/python3.11/site-packages/sklearn/model_selection/_validation.py:73: FutureWarning: `fit_params` is deprecated and will be removed in version 1.6. Pass parameters via `params` instead.\n",
      "  warnings.warn(\n"
     ]
    },
    {
     "name": "stdout",
     "output_type": "stream",
     "text": [
      "63/63 [==============================] - 0s 423us/step\n",
      "63/63 [==============================] - 0s 420us/step\n",
      "63/63 [==============================] - 0s 417us/step\n",
      "63/63 [==============================] - 0s 418us/step\n",
      "63/63 [==============================] - 0s 424us/step\n"
     ]
    },
    {
     "name": "stderr",
     "output_type": "stream",
     "text": [
      "/Users/raveel/miniconda3/envs/tf/lib/python3.11/site-packages/sklearn/model_selection/_validation.py:73: FutureWarning: `fit_params` is deprecated and will be removed in version 1.6. Pass parameters via `params` instead.\n",
      "  warnings.warn(\n"
     ]
    },
    {
     "name": "stdout",
     "output_type": "stream",
     "text": [
      "63/63 [==============================] - 0s 421us/step\n",
      "63/63 [==============================] - 0s 411us/step\n",
      "63/63 [==============================] - 0s 424us/step\n",
      "63/63 [==============================] - 0s 417us/step\n",
      "63/63 [==============================] - 0s 431us/step\n"
     ]
    },
    {
     "name": "stderr",
     "output_type": "stream",
     "text": [
      "/Users/raveel/miniconda3/envs/tf/lib/python3.11/site-packages/sklearn/model_selection/_validation.py:73: FutureWarning: `fit_params` is deprecated and will be removed in version 1.6. Pass parameters via `params` instead.\n",
      "  warnings.warn(\n"
     ]
    },
    {
     "name": "stdout",
     "output_type": "stream",
     "text": [
      "63/63 [==============================] - 0s 416us/step\n",
      "63/63 [==============================] - 0s 420us/step\n",
      "63/63 [==============================] - 0s 420us/step\n",
      "63/63 [==============================] - 0s 411us/step\n",
      "63/63 [==============================] - 0s 422us/step\n"
     ]
    },
    {
     "name": "stderr",
     "output_type": "stream",
     "text": [
      "/Users/raveel/miniconda3/envs/tf/lib/python3.11/site-packages/sklearn/model_selection/_validation.py:73: FutureWarning: `fit_params` is deprecated and will be removed in version 1.6. Pass parameters via `params` instead.\n",
      "  warnings.warn(\n"
     ]
    },
    {
     "name": "stdout",
     "output_type": "stream",
     "text": [
      "63/63 [==============================] - 0s 417us/step\n",
      "63/63 [==============================] - 0s 426us/step\n",
      "63/63 [==============================] - 0s 449us/step\n",
      "63/63 [==============================] - 0s 433us/step\n",
      "63/63 [==============================] - 0s 428us/step\n"
     ]
    },
    {
     "name": "stderr",
     "output_type": "stream",
     "text": [
      "/Users/raveel/miniconda3/envs/tf/lib/python3.11/site-packages/sklearn/model_selection/_validation.py:73: FutureWarning: `fit_params` is deprecated and will be removed in version 1.6. Pass parameters via `params` instead.\n",
      "  warnings.warn(\n"
     ]
    },
    {
     "name": "stdout",
     "output_type": "stream",
     "text": [
      "63/63 [==============================] - 0s 430us/step\n",
      "63/63 [==============================] - 0s 431us/step\n",
      "63/63 [==============================] - 0s 419us/step\n",
      "63/63 [==============================] - 0s 419us/step\n",
      "63/63 [==============================] - 0s 415us/step\n"
     ]
    },
    {
     "name": "stderr",
     "output_type": "stream",
     "text": [
      "/Users/raveel/miniconda3/envs/tf/lib/python3.11/site-packages/sklearn/model_selection/_validation.py:73: FutureWarning: `fit_params` is deprecated and will be removed in version 1.6. Pass parameters via `params` instead.\n",
      "  warnings.warn(\n"
     ]
    },
    {
     "name": "stdout",
     "output_type": "stream",
     "text": [
      "63/63 [==============================] - 0s 456us/step\n",
      "63/63 [==============================] - 0s 618us/step\n",
      "63/63 [==============================] - 0s 424us/step\n",
      "63/63 [==============================] - 0s 426us/step\n",
      "63/63 [==============================] - 0s 423us/step\n"
     ]
    },
    {
     "name": "stderr",
     "output_type": "stream",
     "text": [
      "/Users/raveel/miniconda3/envs/tf/lib/python3.11/site-packages/sklearn/model_selection/_validation.py:73: FutureWarning: `fit_params` is deprecated and will be removed in version 1.6. Pass parameters via `params` instead.\n",
      "  warnings.warn(\n"
     ]
    },
    {
     "name": "stdout",
     "output_type": "stream",
     "text": [
      "63/63 [==============================] - 0s 419us/step\n",
      "63/63 [==============================] - 0s 423us/step\n",
      "63/63 [==============================] - 0s 421us/step\n",
      "63/63 [==============================] - 0s 427us/step\n",
      "63/63 [==============================] - 0s 412us/step\n"
     ]
    },
    {
     "name": "stderr",
     "output_type": "stream",
     "text": [
      "/Users/raveel/miniconda3/envs/tf/lib/python3.11/site-packages/sklearn/model_selection/_validation.py:73: FutureWarning: `fit_params` is deprecated and will be removed in version 1.6. Pass parameters via `params` instead.\n",
      "  warnings.warn(\n"
     ]
    },
    {
     "name": "stdout",
     "output_type": "stream",
     "text": [
      "63/63 [==============================] - 0s 416us/step\n",
      "63/63 [==============================] - 0s 419us/step\n",
      "63/63 [==============================] - 0s 419us/step\n",
      "63/63 [==============================] - 0s 413us/step\n",
      "63/63 [==============================] - 0s 432us/step\n"
     ]
    },
    {
     "name": "stderr",
     "output_type": "stream",
     "text": [
      "/Users/raveel/miniconda3/envs/tf/lib/python3.11/site-packages/sklearn/model_selection/_validation.py:73: FutureWarning: `fit_params` is deprecated and will be removed in version 1.6. Pass parameters via `params` instead.\n",
      "  warnings.warn(\n"
     ]
    },
    {
     "name": "stdout",
     "output_type": "stream",
     "text": [
      "63/63 [==============================] - 0s 425us/step\n",
      "63/63 [==============================] - 0s 427us/step\n",
      "63/63 [==============================] - 0s 439us/step\n",
      "63/63 [==============================] - 0s 424us/step\n",
      "63/63 [==============================] - 0s 420us/step\n"
     ]
    },
    {
     "name": "stderr",
     "output_type": "stream",
     "text": [
      "/Users/raveel/miniconda3/envs/tf/lib/python3.11/site-packages/sklearn/model_selection/_validation.py:73: FutureWarning: `fit_params` is deprecated and will be removed in version 1.6. Pass parameters via `params` instead.\n",
      "  warnings.warn(\n"
     ]
    },
    {
     "name": "stdout",
     "output_type": "stream",
     "text": [
      "63/63 [==============================] - 0s 424us/step\n",
      "63/63 [==============================] - 0s 419us/step\n",
      "63/63 [==============================] - 0s 422us/step\n",
      "63/63 [==============================] - 0s 422us/step\n",
      "63/63 [==============================] - 0s 421us/step\n"
     ]
    },
    {
     "name": "stderr",
     "output_type": "stream",
     "text": [
      "/Users/raveel/miniconda3/envs/tf/lib/python3.11/site-packages/sklearn/model_selection/_validation.py:73: FutureWarning: `fit_params` is deprecated and will be removed in version 1.6. Pass parameters via `params` instead.\n",
      "  warnings.warn(\n"
     ]
    },
    {
     "name": "stdout",
     "output_type": "stream",
     "text": [
      "63/63 [==============================] - 0s 419us/step\n",
      "63/63 [==============================] - 0s 448us/step\n",
      "63/63 [==============================] - 0s 422us/step\n",
      "63/63 [==============================] - 0s 423us/step\n",
      "63/63 [==============================] - 0s 416us/step\n",
      "Selected feature indices: (6, 7, 8, 13, 14)\n",
      "Selected feature names: ('jet_1_twb', 'jet_2_twb', 'jet_3_twb', 'n_jets', 'n_bjets')\n"
     ]
    }
   ],
   "source": [
    "from mlxtend.feature_selection import SequentialFeatureSelector as SFS\n",
    "\n",
    "# Create an SFS object\n",
    "sfs = SFS(model, \n",
    "          k_features = (5,18), ##(5, 15),  # You can specify a range or a specific number of features\n",
    "          forward=True, \n",
    "          floating=False, \n",
    "          scoring='accuracy',\n",
    "          cv=5,         #       0,\n",
    "          verbose=0)\n",
    "\n",
    "# Fit SFS\n",
    "sfs = sfs.fit(X_sub, y_sub)\n",
    "\n",
    "print('Selected feature indices:', sfs.k_feature_idx_)\n",
    "print('Selected feature names:', sfs.k_feature_names_)"
   ]
  },
  {
   "cell_type": "code",
   "execution_count": 37,
   "id": "e6036721-fc71-48e7-b316-c34b4942226a",
   "metadata": {},
   "outputs": [],
   "source": [
    "from mlxtend.plotting import plot_sequential_feature_selection as plot_sfs\n",
    "import matplotlib.pyplot as plt"
   ]
  },
  {
   "cell_type": "code",
   "execution_count": 40,
   "id": "09c97691-d613-4a39-b5ae-efaee5086c6d",
   "metadata": {},
   "outputs": [
    {
     "name": "stdout",
     "output_type": "stream",
     "text": [
      "best combination (ACC: 0.821): (6, 7, 8, 13, 14)\n",
      "\n"
     ]
    },
    {
     "data": {
      "image/png": "[encoded data removed]",
      "text/plain": [
       "<Figure size 640x480 with 1 Axes>"
      ]
     },
     "metadata": {},
     "output_type": "display_data"
    }
   ],
   "source": [
    "print('best combination (ACC: %.3f): %s\\n' % (sfs.k_score_, sfs.k_feature_idx_))\n",
    "#print('all subsets:\\n', sfs.subsets_)\n",
    "plot_sfs(sfs.get_metric_dict(), kind='std_err');"
   ]
  },
  {
   "cell_type": "code",
   "execution_count": 39,
   "id": "7d137ea7-7210-4e32-b09a-32f211f90e56",
   "metadata": {},
   "outputs": [
    {
     "data": {
      "text/html": [
       "<div>\n",
       "<style scoped>\n",
       "    .dataframe tbody tr th:only-of-type {\n",
       "        vertical-align: middle;\n",
       "    }\n",
       "\n",
       "    .dataframe tbody tr th {\n",
       "        vertical-align: top;\n",
       "    }\n",
       "\n",
       "    .dataframe thead th {\n",
       "        text-align: right;\n",
       "    }\n",
       "</style>\n",
       "<table border=\"1\" class=\"dataframe\">\n",
       "  <thead>\n",
       "    <tr style=\"text-align: right;\">\n",
       "      <th></th>\n",
       "      <th>feature_idx</th>\n",
       "      <th>cv_scores</th>\n",
       "      <th>avg_score</th>\n",
       "      <th>feature_names</th>\n",
       "      <th>ci_bound</th>\n",
       "      <th>std_dev</th>\n",
       "      <th>std_err</th>\n",
       "    </tr>\n",
       "  </thead>\n",
       "  <tbody>\n",
       "    <tr>\n",
       "      <th>1</th>\n",
       "      <td>(14,)</td>\n",
       "      <td>[0.7095, 0.705, 0.7025, 0.6965, 0.7075]</td>\n",
       "      <td>0.7042</td>\n",
       "      <td>(n_bjets,)</td>\n",
       "      <td>0.005799</td>\n",
       "      <td>0.004512</td>\n",
       "      <td>0.002256</td>\n",
       "    </tr>\n",
       "    <tr>\n",
       "      <th>2</th>\n",
       "      <td>(6, 14)</td>\n",
       "      <td>[0.7655, 0.751, 0.749, 0.753, 0.751]</td>\n",
       "      <td>0.7539</td>\n",
       "      <td>(jet_1_twb, n_bjets)</td>\n",
       "      <td>0.00763</td>\n",
       "      <td>0.005936</td>\n",
       "      <td>0.002968</td>\n",
       "    </tr>\n",
       "    <tr>\n",
       "      <th>3</th>\n",
       "      <td>(6, 7, 14)</td>\n",
       "      <td>[0.797, 0.7965, 0.7905, 0.799, 0.7905]</td>\n",
       "      <td>0.7947</td>\n",
       "      <td>(jet_1_twb, jet_2_twb, n_bjets)</td>\n",
       "      <td>0.004537</td>\n",
       "      <td>0.00353</td>\n",
       "      <td>0.001765</td>\n",
       "    </tr>\n",
       "    <tr>\n",
       "      <th>4</th>\n",
       "      <td>(6, 7, 8, 14)</td>\n",
       "      <td>[0.8135, 0.814, 0.8125, 0.814, 0.82]</td>\n",
       "      <td>0.8148</td>\n",
       "      <td>(jet_1_twb, jet_2_twb, jet_3_twb, n_bjets)</td>\n",
       "      <td>0.003415</td>\n",
       "      <td>0.002657</td>\n",
       "      <td>0.001329</td>\n",
       "    </tr>\n",
       "    <tr>\n",
       "      <th>5</th>\n",
       "      <td>(6, 7, 8, 13, 14)</td>\n",
       "      <td>[0.814, 0.832, 0.8245, 0.8125, 0.821]</td>\n",
       "      <td>0.8208</td>\n",
       "      <td>(jet_1_twb, jet_2_twb, jet_3_twb, n_jets, n_bj...</td>\n",
       "      <td>0.009166</td>\n",
       "      <td>0.007132</td>\n",
       "      <td>0.003566</td>\n",
       "    </tr>\n",
       "    <tr>\n",
       "      <th>6</th>\n",
       "      <td>(3, 6, 7, 8, 13, 14)</td>\n",
       "      <td>[0.813, 0.8125, 0.821, 0.8165, 0.8235]</td>\n",
       "      <td>0.8173</td>\n",
       "      <td>(jet_1_eta, jet_1_twb, jet_2_twb, jet_3_twb, n...</td>\n",
       "      <td>0.005582</td>\n",
       "      <td>0.004343</td>\n",
       "      <td>0.002171</td>\n",
       "    </tr>\n",
       "    <tr>\n",
       "      <th>7</th>\n",
       "      <td>(3, 6, 7, 8, 13, 14, 15)</td>\n",
       "      <td>[0.821, 0.82, 0.8125, 0.81, 0.8145]</td>\n",
       "      <td>0.8156</td>\n",
       "      <td>(jet_1_eta, jet_1_twb, jet_2_twb, jet_3_twb, n...</td>\n",
       "      <td>0.005474</td>\n",
       "      <td>0.004259</td>\n",
       "      <td>0.00213</td>\n",
       "    </tr>\n",
       "    <tr>\n",
       "      <th>8</th>\n",
       "      <td>(3, 4, 6, 7, 8, 13, 14, 15)</td>\n",
       "      <td>[0.818, 0.82, 0.8245, 0.814, 0.8215]</td>\n",
       "      <td>0.8196</td>\n",
       "      <td>(jet_1_eta, jet_2_eta, jet_1_twb, jet_2_twb, j...</td>\n",
       "      <td>0.004515</td>\n",
       "      <td>0.003513</td>\n",
       "      <td>0.001756</td>\n",
       "    </tr>\n",
       "    <tr>\n",
       "      <th>9</th>\n",
       "      <td>(3, 4, 5, 6, 7, 8, 13, 14, 15)</td>\n",
       "      <td>[0.8185, 0.821, 0.82, 0.814, 0.814]</td>\n",
       "      <td>0.8175</td>\n",
       "      <td>(jet_1_eta, jet_2_eta, jet_3_eta, jet_1_twb, j...</td>\n",
       "      <td>0.003813</td>\n",
       "      <td>0.002966</td>\n",
       "      <td>0.001483</td>\n",
       "    </tr>\n",
       "    <tr>\n",
       "      <th>10</th>\n",
       "      <td>(3, 4, 5, 6, 7, 8, 9, 13, 14, 15)</td>\n",
       "      <td>[0.8075, 0.8205, 0.8065, 0.814, 0.8265]</td>\n",
       "      <td>0.815</td>\n",
       "      <td>(jet_1_eta, jet_2_eta, jet_3_eta, jet_1_twb, j...</td>\n",
       "      <td>0.009822</td>\n",
       "      <td>0.007642</td>\n",
       "      <td>0.003821</td>\n",
       "    </tr>\n",
       "    <tr>\n",
       "      <th>11</th>\n",
       "      <td>(3, 4, 5, 6, 7, 8, 9, 11, 13, 14, 15)</td>\n",
       "      <td>[0.812, 0.796, 0.804, 0.8005, 0.8185]</td>\n",
       "      <td>0.8062</td>\n",
       "      <td>(jet_1_eta, jet_2_eta, jet_3_eta, jet_1_twb, j...</td>\n",
       "      <td>0.010383</td>\n",
       "      <td>0.008078</td>\n",
       "      <td>0.004039</td>\n",
       "    </tr>\n",
       "    <tr>\n",
       "      <th>12</th>\n",
       "      <td>(0, 3, 4, 5, 6, 7, 8, 9, 11, 13, 14, 15)</td>\n",
       "      <td>[0.779, 0.8055, 0.7985, 0.809, 0.8035]</td>\n",
       "      <td>0.7991</td>\n",
       "      <td>(jet_1_pt, jet_1_eta, jet_2_eta, jet_3_eta, je...</td>\n",
       "      <td>0.013635</td>\n",
       "      <td>0.010608</td>\n",
       "      <td>0.005304</td>\n",
       "    </tr>\n",
       "    <tr>\n",
       "      <th>13</th>\n",
       "      <td>(0, 1, 3, 4, 5, 6, 7, 8, 9, 11, 13, 14, 15)</td>\n",
       "      <td>[0.786, 0.777, 0.789, 0.782, 0.804]</td>\n",
       "      <td>0.7876</td>\n",
       "      <td>(jet_1_pt, jet_2_pt, jet_1_eta, jet_2_eta, jet...</td>\n",
       "      <td>0.011741</td>\n",
       "      <td>0.009135</td>\n",
       "      <td>0.004567</td>\n",
       "    </tr>\n",
       "    <tr>\n",
       "      <th>14</th>\n",
       "      <td>(0, 1, 3, 4, 5, 6, 7, 8, 9, 10, 11, 13, 14, 15)</td>\n",
       "      <td>[0.7625, 0.774, 0.7495, 0.7875, 0.799]</td>\n",
       "      <td>0.7745</td>\n",
       "      <td>(jet_1_pt, jet_2_pt, jet_1_eta, jet_2_eta, jet...</td>\n",
       "      <td>0.022546</td>\n",
       "      <td>0.017541</td>\n",
       "      <td>0.008771</td>\n",
       "    </tr>\n",
       "    <tr>\n",
       "      <th>15</th>\n",
       "      <td>(0, 1, 2, 3, 4, 5, 6, 7, 8, 9, 10, 11, 13, 14,...</td>\n",
       "      <td>[0.7855, 0.788, 0.759, 0.7655, 0.771]</td>\n",
       "      <td>0.7738</td>\n",
       "      <td>(jet_1_pt, jet_2_pt, jet_3_pt, jet_1_eta, jet_...</td>\n",
       "      <td>0.014477</td>\n",
       "      <td>0.011263</td>\n",
       "      <td>0.005632</td>\n",
       "    </tr>\n",
       "    <tr>\n",
       "      <th>16</th>\n",
       "      <td>(0, 1, 2, 3, 4, 5, 6, 7, 8, 9, 10, 11, 12, 13,...</td>\n",
       "      <td>[0.763, 0.7915, 0.7615, 0.7915, 0.7965]</td>\n",
       "      <td>0.7808</td>\n",
       "      <td>(jet_1_pt, jet_2_pt, jet_3_pt, jet_1_eta, jet_...</td>\n",
       "      <td>0.019617</td>\n",
       "      <td>0.015263</td>\n",
       "      <td>0.007632</td>\n",
       "    </tr>\n",
       "    <tr>\n",
       "      <th>17</th>\n",
       "      <td>(0, 1, 2, 3, 4, 5, 6, 7, 8, 9, 10, 11, 12, 13,...</td>\n",
       "      <td>[0.7735, 0.767, 0.791, 0.7525, 0.77]</td>\n",
       "      <td>0.7708</td>\n",
       "      <td>(jet_1_pt, jet_2_pt, jet_3_pt, jet_1_eta, jet_...</td>\n",
       "      <td>0.015901</td>\n",
       "      <td>0.012372</td>\n",
       "      <td>0.006186</td>\n",
       "    </tr>\n",
       "    <tr>\n",
       "      <th>18</th>\n",
       "      <td>(0, 1, 2, 3, 4, 5, 6, 7, 8, 9, 10, 11, 12, 13,...</td>\n",
       "      <td>[0.8055, 0.8025, 0.7985, 0.7355, 0.6325]</td>\n",
       "      <td>0.7549</td>\n",
       "      <td>(jet_1_pt, jet_2_pt, jet_3_pt, jet_1_eta, jet_...</td>\n",
       "      <td>0.085421</td>\n",
       "      <td>0.066461</td>\n",
       "      <td>0.03323</td>\n",
       "    </tr>\n",
       "  </tbody>\n",
       "</table>\n",
       "</div>"
      ],
      "text/plain": [
       "                                          feature_idx  \\\n",
       "1                                               (14,)   \n",
       "2                                             (6, 14)   \n",
       "3                                          (6, 7, 14)   \n",
       "4                                       (6, 7, 8, 14)   \n",
       "5                                   (6, 7, 8, 13, 14)   \n",
       "6                                (3, 6, 7, 8, 13, 14)   \n",
       "7                            (3, 6, 7, 8, 13, 14, 15)   \n",
       "8                         (3, 4, 6, 7, 8, 13, 14, 15)   \n",
       "9                      (3, 4, 5, 6, 7, 8, 13, 14, 15)   \n",
       "10                  (3, 4, 5, 6, 7, 8, 9, 13, 14, 15)   \n",
       "11              (3, 4, 5, 6, 7, 8, 9, 11, 13, 14, 15)   \n",
       "12           (0, 3, 4, 5, 6, 7, 8, 9, 11, 13, 14, 15)   \n",
       "13        (0, 1, 3, 4, 5, 6, 7, 8, 9, 11, 13, 14, 15)   \n",
       "14    (0, 1, 3, 4, 5, 6, 7, 8, 9, 10, 11, 13, 14, 15)   \n",
       "15  (0, 1, 2, 3, 4, 5, 6, 7, 8, 9, 10, 11, 13, 14,...   \n",
       "16  (0, 1, 2, 3, 4, 5, 6, 7, 8, 9, 10, 11, 12, 13,...   \n",
       "17  (0, 1, 2, 3, 4, 5, 6, 7, 8, 9, 10, 11, 12, 13,...   \n",
       "18  (0, 1, 2, 3, 4, 5, 6, 7, 8, 9, 10, 11, 12, 13,...   \n",
       "\n",
       "                                   cv_scores avg_score  \\\n",
       "1    [0.7095, 0.705, 0.7025, 0.6965, 0.7075]    0.7042   \n",
       "2       [0.7655, 0.751, 0.749, 0.753, 0.751]    0.7539   \n",
       "3     [0.797, 0.7965, 0.7905, 0.799, 0.7905]    0.7947   \n",
       "4       [0.8135, 0.814, 0.8125, 0.814, 0.82]    0.8148   \n",
       "5      [0.814, 0.832, 0.8245, 0.8125, 0.821]    0.8208   \n",
       "6     [0.813, 0.8125, 0.821, 0.8165, 0.8235]    0.8173   \n",
       "7        [0.821, 0.82, 0.8125, 0.81, 0.8145]    0.8156   \n",
       "8       [0.818, 0.82, 0.8245, 0.814, 0.8215]    0.8196   \n",
       "9        [0.8185, 0.821, 0.82, 0.814, 0.814]    0.8175   \n",
       "10   [0.8075, 0.8205, 0.8065, 0.814, 0.8265]     0.815   \n",
       "11     [0.812, 0.796, 0.804, 0.8005, 0.8185]    0.8062   \n",
       "12    [0.779, 0.8055, 0.7985, 0.809, 0.8035]    0.7991   \n",
       "13       [0.786, 0.777, 0.789, 0.782, 0.804]    0.7876   \n",
       "14    [0.7625, 0.774, 0.7495, 0.7875, 0.799]    0.7745   \n",
       "15     [0.7855, 0.788, 0.759, 0.7655, 0.771]    0.7738   \n",
       "16   [0.763, 0.7915, 0.7615, 0.7915, 0.7965]    0.7808   \n",
       "17      [0.7735, 0.767, 0.791, 0.7525, 0.77]    0.7708   \n",
       "18  [0.8055, 0.8025, 0.7985, 0.7355, 0.6325]    0.7549   \n",
       "\n",
       "                                        feature_names  ci_bound   std_dev  \\\n",
       "1                                          (n_bjets,)  0.005799  0.004512   \n",
       "2                                (jet_1_twb, n_bjets)   0.00763  0.005936   \n",
       "3                     (jet_1_twb, jet_2_twb, n_bjets)  0.004537   0.00353   \n",
       "4          (jet_1_twb, jet_2_twb, jet_3_twb, n_bjets)  0.003415  0.002657   \n",
       "5   (jet_1_twb, jet_2_twb, jet_3_twb, n_jets, n_bj...  0.009166  0.007132   \n",
       "6   (jet_1_eta, jet_1_twb, jet_2_twb, jet_3_twb, n...  0.005582  0.004343   \n",
       "7   (jet_1_eta, jet_1_twb, jet_2_twb, jet_3_twb, n...  0.005474  0.004259   \n",
       "8   (jet_1_eta, jet_2_eta, jet_1_twb, jet_2_twb, j...  0.004515  0.003513   \n",
       "9   (jet_1_eta, jet_2_eta, jet_3_eta, jet_1_twb, j...  0.003813  0.002966   \n",
       "10  (jet_1_eta, jet_2_eta, jet_3_eta, jet_1_twb, j...  0.009822  0.007642   \n",
       "11  (jet_1_eta, jet_2_eta, jet_3_eta, jet_1_twb, j...  0.010383  0.008078   \n",
       "12  (jet_1_pt, jet_1_eta, jet_2_eta, jet_3_eta, je...  0.013635  0.010608   \n",
       "13  (jet_1_pt, jet_2_pt, jet_1_eta, jet_2_eta, jet...  0.011741  0.009135   \n",
       "14  (jet_1_pt, jet_2_pt, jet_1_eta, jet_2_eta, jet...  0.022546  0.017541   \n",
       "15  (jet_1_pt, jet_2_pt, jet_3_pt, jet_1_eta, jet_...  0.014477  0.011263   \n",
       "16  (jet_1_pt, jet_2_pt, jet_3_pt, jet_1_eta, jet_...  0.019617  0.015263   \n",
       "17  (jet_1_pt, jet_2_pt, jet_3_pt, jet_1_eta, jet_...  0.015901  0.012372   \n",
       "18  (jet_1_pt, jet_2_pt, jet_3_pt, jet_1_eta, jet_...  0.085421  0.066461   \n",
       "\n",
       "     std_err  \n",
       "1   0.002256  \n",
       "2   0.002968  \n",
       "3   0.001765  \n",
       "4   0.001329  \n",
       "5   0.003566  \n",
       "6   0.002171  \n",
       "7    0.00213  \n",
       "8   0.001756  \n",
       "9   0.001483  \n",
       "10  0.003821  \n",
       "11  0.004039  \n",
       "12  0.005304  \n",
       "13  0.004567  \n",
       "14  0.008771  \n",
       "15  0.005632  \n",
       "16  0.007632  \n",
       "17  0.006186  \n",
       "18   0.03323  "
      ]
     },
     "execution_count": 39,
     "metadata": {},
     "output_type": "execute_result"
    }
   ],
   "source": [
    "import pandas as pd\n",
    "pd.DataFrame.from_dict(sfs.get_metric_dict()).T"
   ]
  },
  {
   "cell_type": "markdown",
   "id": "9a46b6bc-fe54-4020-ae01-b2deacc9f45b",
   "metadata": {},
   "source": [
    "# subset of the dataset"
   ]
  },
  {
   "cell_type": "code",
   "execution_count": null,
   "id": "2edd94b2-ff10-4e99-9c6a-7e529304134e",
   "metadata": {},
   "outputs": [],
   "source": [
    "with h5py.File(\"info/data/output_signal.h5\", \"r\") as file:\n",
    "    signal_data = file[\"events\"][:]\n",
    "\n",
    "with h5py.File(\"info/data/output_bg.h5\", \"r\") as file:\n",
    "    bg_data = file[\"events\"][:]\n",
    "\n",
    "\n",
    "len(signal_data) == 265525 , len(bg_data) == 232503 ## doesnt match the md file"
   ]
  },
  {
   "cell_type": "code",
   "execution_count": null,
   "id": "e2112379-116d-4c08-ba2b-e283aa8e5d9c",
   "metadata": {},
   "outputs": [],
   "source": [
    "signal = pd.DataFrame(signal_data)\n",
    "background = pd.DataFrame(bg_data)\n",
    "df = pd.concat([signal, background])\n",
    "df = df.reset_index()\n",
    "labels = np.concatenate([np.ones(signal.shape[0]), np.zeros(background.shape[0])])\n",
    "labels = pd.DataFrame({'ttZ': labels})\n",
    "df = df.join(labels)\n",
    "df"
   ]
  },
  {
   "cell_type": "code",
   "execution_count": null,
   "id": "2fead847-0d3f-4a22-836b-239f5b7fe3e0",
   "metadata": {},
   "outputs": [],
   "source": []
  },
  {
   "cell_type": "code",
   "execution_count": null,
   "id": "165ac22e-85d4-40e7-a11c-b2439afbf8b9",
   "metadata": {},
   "outputs": [],
   "source": []
  },
  {
   "cell_type": "code",
   "execution_count": null,
   "id": "d8cc107d-6448-4752-adae-f92555653c3f",
   "metadata": {},
   "outputs": [],
   "source": []
  },
  {
   "cell_type": "code",
   "execution_count": null,
   "id": "b1cfd01e-af3c-4d72-af0d-053f5134e95b",
   "metadata": {},
   "outputs": [],
   "source": []
  },
  {
   "cell_type": "code",
   "execution_count": null,
   "id": "69e2b826-0600-4ae6-9b3f-f146a709e4eb",
   "metadata": {},
   "outputs": [],
   "source": []
  },
  {
   "cell_type": "code",
   "execution_count": null,
   "id": "220c2826-1391-4b4d-9f61-2a672d7e4b5e",
   "metadata": {},
   "outputs": [],
   "source": []
  },
  {
   "cell_type": "code",
   "execution_count": null,
   "id": "fb6f8550-6de0-467a-beb6-5289088b23f3",
   "metadata": {},
   "outputs": [],
   "source": [
    "subset_df['ttZ']"
   ]
  },
  {
   "cell_type": "code",
   "execution_count": null,
   "id": "51341ccc-b0dd-4a80-b3d4-6424edbad857",
   "metadata": {},
   "outputs": [],
   "source": [
    "preprocessing_layer = K.layers.Normalization()\n",
    "preprocessing_layer.adapt(subset_df)"
   ]
  },
  {
   "cell_type": "code",
   "execution_count": null,
   "id": "ccc10f19-4932-42dc-88f8-90b455ed6485",
   "metadata": {},
   "outputs": [],
   "source": [
    "def build_model(input_dim = None):\n",
    "    model = K.Sequential([\n",
    "        preprocessing_layer,\n",
    "        K.layers.Dense(50, activation=\"relu\", input_dim=input_dim),\n",
    "        K.layers.Dense(25, activation=\"relu\", name=\"hidden2\"),\n",
    "        K.layers.Dense(10, activation=\"relu\", name=\"hidden3\"),\n",
    "        K.layers.Dense(1, activation=\"sigmoid\", name=\"output\"),\n",
    "    ])\n",
    "    model.compile(\n",
    "    optimizer=K.optimizers.Adam(learning_rate=0.0002),\n",
    "    loss=K.losses.BinaryCrossentropy(),\n",
    "    metrics=[K.metrics.BinaryAccuracy()])\n",
    "    \n",
    "    return model\n"
   ]
  },
  {
   "cell_type": "code",
   "execution_count": null,
   "id": "17d4db46-f569-4c54-a668-8db55067e947",
   "metadata": {},
   "outputs": [],
   "source": [
    "model = KerasClassifier(build_fn = build_model(input_dim=subset_df.shape[1]), epochs=10, batch_size=32, verbose=1)"
   ]
  },
  {
   "cell_type": "code",
   "execution_count": null,
   "id": "bae9eb6c-8f1d-4ac9-ad3a-293e85f20e4d",
   "metadata": {},
   "outputs": [],
   "source": [
    "\n",
    "\n",
    "# Create an SFS object\n",
    "sfs = SFS(model, \n",
    "          k_features=1, #(3, 5),  # You can specify a range or a specific number of features\n",
    "          forward=True, \n",
    "          floating=False, \n",
    "          scoring='accuracy',\n",
    "          cv=0,  \n",
    "          verbose=2)"
   ]
  },
  {
   "cell_type": "code",
   "execution_count": null,
   "id": "4a454994-1ef9-44a4-9474-73f7675858e5",
   "metadata": {},
   "outputs": [],
   "source": [
    "subset_df.shape[1]"
   ]
  },
  {
   "cell_type": "code",
   "execution_count": null,
   "id": "ec858de0-0063-4957-80a3-7f9bf0ca031f",
   "metadata": {},
   "outputs": [],
   "source": []
  }
 ],
 "metadata": {
  "kernelspec": {
   "display_name": "Python 3 (ipykernel)",
   "language": "python",
   "name": "python3"
  },
  "language_info": {
   "codemirror_mode": {
    "name": "ipython",
    "version": 3
   },
   "file_extension": ".py",
   "mimetype": "text/x-python",
   "name": "python",
   "nbconvert_exporter": "python",
   "pygments_lexer": "ipython3",
   "version": "3.11.5"
  }
 },
 "nbformat": 4,
 "nbformat_minor": 5
}
