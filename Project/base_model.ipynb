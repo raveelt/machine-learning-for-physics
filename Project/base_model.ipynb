{
 "cells": [
  {
   "cell_type": "code",
   "execution_count": 1,
   "id": "aa2a51d4-4ad0-4d26-8700-7c1994a4093f",
   "metadata": {},
   "outputs": [
    {
     "name": "stdout",
     "output_type": "stream",
     "text": [
      "Intel MKL WARNING: Support of Intel(R) Streaming SIMD Extensions 4.2 (Intel(R) SSE4.2) enabled only processors has been deprecated. Intel oneAPI Math Kernel Library 2025.0 will require Intel(R) Advanced Vector Extensions (Intel(R) AVX) instructions.\n",
      "Intel MKL WARNING: Support of Intel(R) Streaming SIMD Extensions 4.2 (Intel(R) SSE4.2) enabled only processors has been deprecated. Intel oneAPI Math Kernel Library 2025.0 will require Intel(R) Advanced Vector Extensions (Intel(R) AVX) instructions.\n"
     ]
    },
    {
     "name": "stderr",
     "output_type": "stream",
     "text": [
      "2024-04-16 16:46:04.583009: I tensorflow/core/platform/cpu_feature_guard.cc:182] This TensorFlow binary is optimized to use available CPU instructions in performance-critical operations.\n",
      "To enable the following instructions: SSE4.1 SSE4.2, in other operations, rebuild TensorFlow with the appropriate compiler flags.\n"
     ]
    }
   ],
   "source": [
    "import h5py\n",
    "import matplotlib.pyplot as plt\n",
    "import numpy as np\n",
    "import tensorflow.keras as K\n",
    "from numpy.lib.recfunctions import structured_to_unstructured\n",
    "from sklearn.model_selection import train_test_split\n",
    "import pandas as pd"
   ]
  },
  {
   "cell_type": "markdown",
   "id": "a3fec636-9bbd-4c11-8932-f1c3af06c47d",
   "metadata": {},
   "source": [
    "# Loading The Data"
   ]
  },
  {
   "cell_type": "code",
   "execution_count": 2,
   "id": "1c644c92-ac39-4005-b23f-b055a7ca9343",
   "metadata": {
    "scrolled": true
   },
   "outputs": [],
   "source": [
    "with h5py.File(\"info/data/output_signal.h5\", \"r\") as file:\n",
    "    signal_data = file[\"events\"][:]\n",
    "\n",
    "with h5py.File(\"info/data/output_bg.h5\", \"r\") as file:\n",
    "    bg_data = file[\"events\"][:]"
   ]
  },
  {
   "cell_type": "code",
   "execution_count": 3,
   "id": "e7899f7d-c33d-4796-9f73-18df854e6d01",
   "metadata": {},
   "outputs": [
    {
     "ename": "NameError",
     "evalue": "name 'df_shuffled' is not defined",
     "output_type": "error",
     "traceback": [
      "\u001b[0;31m---------------------------------------------------------------------------\u001b[0m",
      "\u001b[0;31mNameError\u001b[0m                                 Traceback (most recent call last)",
      "Cell \u001b[0;32mIn[3], line 2\u001b[0m\n\u001b[1;32m      1\u001b[0m \u001b[38;5;66;03m# taking the first 20 000 rows from the shuffled DataFrame\u001b[39;00m\n\u001b[0;32m----> 2\u001b[0m subset_df \u001b[38;5;241m=\u001b[39m \u001b[43mdf_shuffled\u001b[49m\u001b[38;5;241m.\u001b[39miloc[:\u001b[38;5;241m20000\u001b[39m]\n\u001b[1;32m      4\u001b[0m \u001b[38;5;66;03m# splitting the labels from the rest of the dataset\u001b[39;00m\n\u001b[1;32m      5\u001b[0m X_sub \u001b[38;5;241m=\u001b[39m subset_df[[\u001b[38;5;124m'\u001b[39m\u001b[38;5;124mjet_1_pt\u001b[39m\u001b[38;5;124m'\u001b[39m, \u001b[38;5;124m'\u001b[39m\u001b[38;5;124mjet_2_pt\u001b[39m\u001b[38;5;124m'\u001b[39m, \u001b[38;5;124m'\u001b[39m\u001b[38;5;124mjet_3_pt\u001b[39m\u001b[38;5;124m'\u001b[39m, \u001b[38;5;124m'\u001b[39m\u001b[38;5;124mjet_1_eta\u001b[39m\u001b[38;5;124m'\u001b[39m, \u001b[38;5;124m'\u001b[39m\u001b[38;5;124mjet_2_eta\u001b[39m\u001b[38;5;124m'\u001b[39m,\n\u001b[1;32m      6\u001b[0m        \u001b[38;5;124m'\u001b[39m\u001b[38;5;124mjet_3_eta\u001b[39m\u001b[38;5;124m'\u001b[39m, \u001b[38;5;124m'\u001b[39m\u001b[38;5;124mjet_1_twb\u001b[39m\u001b[38;5;124m'\u001b[39m, \u001b[38;5;124m'\u001b[39m\u001b[38;5;124mjet_2_twb\u001b[39m\u001b[38;5;124m'\u001b[39m, \u001b[38;5;124m'\u001b[39m\u001b[38;5;124mjet_3_twb\u001b[39m\u001b[38;5;124m'\u001b[39m, \u001b[38;5;124m'\u001b[39m\u001b[38;5;124mbjet_1_pt\u001b[39m\u001b[38;5;124m'\u001b[39m,\n\u001b[1;32m      7\u001b[0m        \u001b[38;5;124m'\u001b[39m\u001b[38;5;124mlep_1_pt\u001b[39m\u001b[38;5;124m'\u001b[39m, \u001b[38;5;124m'\u001b[39m\u001b[38;5;124mlep_2_pt\u001b[39m\u001b[38;5;124m'\u001b[39m, \u001b[38;5;124m'\u001b[39m\u001b[38;5;124mlep_3_pt\u001b[39m\u001b[38;5;124m'\u001b[39m, \u001b[38;5;124m'\u001b[39m\u001b[38;5;124mn_jets\u001b[39m\u001b[38;5;124m'\u001b[39m, \u001b[38;5;124m'\u001b[39m\u001b[38;5;124mn_bjets\u001b[39m\u001b[38;5;124m'\u001b[39m, \u001b[38;5;124m'\u001b[39m\u001b[38;5;124mn_leptons\u001b[39m\u001b[38;5;124m'\u001b[39m,\n\u001b[1;32m      8\u001b[0m        \u001b[38;5;124m'\u001b[39m\u001b[38;5;124mmet_met\u001b[39m\u001b[38;5;124m'\u001b[39m, \u001b[38;5;124m'\u001b[39m\u001b[38;5;124mH_T\u001b[39m\u001b[38;5;124m'\u001b[39m]]\n",
      "\u001b[0;31mNameError\u001b[0m: name 'df_shuffled' is not defined"
     ]
    }
   ],
   "source": [
    "# taking the first 20 000 rows from the shuffled DataFrame\n",
    "subset_df = df_shuffled.iloc[:20000]\n",
    "\n",
    "# splitting the labels from the rest of the dataset\n",
    "X_sub = subset_df[['jet_1_pt', 'jet_2_pt', 'jet_3_pt', 'jet_1_eta', 'jet_2_eta',\n",
    "       'jet_3_eta', 'jet_1_twb', 'jet_2_twb', 'jet_3_twb', 'bjet_1_pt',\n",
    "       'lep_1_pt', 'lep_2_pt', 'lep_3_pt', 'n_jets', 'n_bjets', 'n_leptons',\n",
    "       'met_met', 'H_T']]\n",
    "y_sub = subset_df['ttZ']\n",
    "\n",
    "# we can check the class distribution in the subset\n",
    "print('ttZ events: {:.2f}%'.format(np.sum(y_sub)/len(y_sub) * 100))\n",
    "print('WZ events: {:.2f}%'.format((1 - np.sum(y_sub)/len(y_sub)) * 100))"
   ]
  },
  {
   "cell_type": "code",
   "execution_count": null,
   "id": "97e476e4-40eb-4b5e-86c2-cf0af642b13e",
   "metadata": {},
   "outputs": [],
   "source": [
    "# model for classification\n",
    "def build_model(input_dim=None):\n",
    "    model = Sequential([\n",
    "        K.layers.Normalization(),\n",
    "        Dense(50, activation=\"relu\", input_dim=input_dim),\n",
    "        Dense(25, activation=\"relu\"),\n",
    "        Dense(10, activation=\"relu\"),\n",
    "        Dense(1, activation=\"sigmoid\")\n",
    "    ])\n",
    "    model.compile(optimizer='adam', loss='binary_crossentropy', metrics=['accuracy'])\n",
    "    return model\n",
    "\n",
    "model = KerasClassifier(build_fn=lambda: build_model(input_dim=X_sub.shape[1]), epochs=10, batch_size=32, verbose=0)"
   ]
  },
  {
   "cell_type": "code",
   "execution_count": null,
   "id": "3b7223de-8d4b-4006-8b17-a455b14f5d22",
   "metadata": {},
   "outputs": [],
   "source": [
    "# SFS model\n",
    "sfs = SFS(model, \n",
    "          k_features = (5,18),\n",
    "          forward=True, \n",
    "          floating=False, \n",
    "          scoring='accuracy',\n",
    "          cv=5,\n",
    "          verbose=0)\n",
    "\n",
    "sfs = sfs.fit(X_sub, y_sub)"
   ]
  },
  {
   "cell_type": "markdown",
   "id": "1c09bcd9-eb92-4f28-8df6-14febbb68045",
   "metadata": {},
   "source": [
    "# 'Unstructuring' Data"
   ]
  },
  {
   "cell_type": "code",
   "execution_count": 4,
   "id": "8390c4bc-c92d-4100-8c00-b1a01f4628fc",
   "metadata": {},
   "outputs": [],
   "source": [
    "signal_data = structured_to_unstructured(signal_data)\n",
    "bg_data = structured_to_unstructured(bg_data)"
   ]
  },
  {
   "cell_type": "markdown",
   "id": "83d1bf9c-55ff-4956-8616-334c0a1b711a",
   "metadata": {},
   "source": [
    "# Train - Validation - Test Splits"
   ]
  },
  {
   "cell_type": "code",
   "execution_count": 5,
   "id": "aabdc5d4-9009-452d-996a-b4cb71923992",
   "metadata": {},
   "outputs": [],
   "source": [
    "X = np.concatenate([signal_data, bg_data])\n",
    "y = np.concatenate([np.ones(signal_data.shape[0], dtype=int), np.zeros(bg_data.shape[0], dtype=int)])\n",
    "\n",
    "x_train, x_rem, y_train, y_rem = train_test_split(X, y, train_size=0.8)\n",
    "x_val, x_test, y_val, y_test = train_test_split(x_rem, y_rem, train_size=0.5)"
   ]
  },
  {
   "cell_type": "markdown",
   "id": "b2fe23c9-9b18-4cba-94c1-a236a152a93a",
   "metadata": {},
   "source": [
    "# Data Preprocessing"
   ]
  },
  {
   "cell_type": "code",
   "execution_count": 6,
   "id": "5a345852-9544-4c6e-82fb-3ffc49e974a7",
   "metadata": {},
   "outputs": [],
   "source": [
    "preprocessing_layer = K.layers.Normalization()\n",
    "preprocessing_layer.adapt(x_train)"
   ]
  },
  {
   "cell_type": "markdown",
   "id": "11e91d96-11aa-4fa8-8b32-f343df0d1d8f",
   "metadata": {},
   "source": [
    "# Model training"
   ]
  },
  {
   "cell_type": "code",
   "execution_count": 7,
   "id": "06a4773a-a89e-4949-b3b9-a4d8261a77f5",
   "metadata": {},
   "outputs": [
    {
     "name": "stdout",
     "output_type": "stream",
     "text": [
      "Model: \"sequential\"\n",
      "_________________________________________________________________\n",
      " Layer (type)                Output Shape              Param #   \n",
      "=================================================================\n",
      " normalization (Normalizatio  (None, 18)               37        \n",
      " n)                                                              \n",
      "                                                                 \n",
      " hidden1 (Dense)             (None, 50)                950       \n",
      "                                                                 \n",
      " hidden2 (Dense)             (None, 25)                1275      \n",
      "                                                                 \n",
      " hidden3 (Dense)             (None, 10)                260       \n",
      "                                                                 \n",
      " output (Dense)              (None, 1)                 11        \n",
      "                                                                 \n",
      "=================================================================\n",
      "Total params: 2,533\n",
      "Trainable params: 2,496\n",
      "Non-trainable params: 37\n",
      "_________________________________________________________________\n"
     ]
    }
   ],
   "source": [
    "model = K.Sequential(\n",
    "    [\n",
    "        preprocessing_layer,\n",
    "        K.layers.Dense(50, activation=\"relu\", name=\"hidden1\"),\n",
    "        K.layers.Dense(25, activation=\"relu\", name=\"hidden2\"),\n",
    "        K.layers.Dense(10, activation=\"relu\", name=\"hidden3\"),\n",
    "        K.layers.Dense(1, activation=\"sigmoid\", name=\"output\"),\n",
    "    ]\n",
    ")\n",
    "\n",
    "model.summary()"
   ]
  },
  {
   "cell_type": "code",
   "execution_count": 8,
   "id": "7487a62f-4148-4898-a091-ff01634c7867",
   "metadata": {},
   "outputs": [],
   "source": [
    "model.compile(\n",
    "    optimizer=K.optimizers.Adam(learning_rate=0.0002),\n",
    "    loss=K.losses.BinaryCrossentropy(),\n",
    "    metrics=[K.metrics.BinaryAccuracy()],\n",
    ")"
   ]
  },
  {
   "cell_type": "code",
   "execution_count": 9,
   "id": "7a9c8272-3a24-46ca-86e0-abcf1920d832",
   "metadata": {},
   "outputs": [],
   "source": [
    "early_stopping_callback = K.callbacks.EarlyStopping(\n",
    "    monitor='val_loss', \n",
    "    patience=10, \n",
    "    min_delta=0.002, \n",
    "    restore_best_weights=True,\n",
    "    verbose=1,)"
   ]
  },
  {
   "cell_type": "code",
   "execution_count": 10,
   "id": "d623cb36-2a71-477d-a1c8-366dee3acafe",
   "metadata": {},
   "outputs": [
    {
     "name": "stdout",
     "output_type": "stream",
     "text": [
      "Epoch 1/100\n",
      "1159/1159 [==============================] - 2s 1ms/step - loss: 0.4256 - binary_accuracy: 0.8084 - val_loss: 0.3800 - val_binary_accuracy: 0.8312\n",
      "Epoch 2/100\n",
      "1159/1159 [==============================] - 1s 1ms/step - loss: 0.3779 - binary_accuracy: 0.8344 - val_loss: 0.3713 - val_binary_accuracy: 0.8354\n",
      "Epoch 3/100\n",
      "1159/1159 [==============================] - 1s 1ms/step - loss: 0.3726 - binary_accuracy: 0.8368 - val_loss: 0.3684 - val_binary_accuracy: 0.8370\n",
      "Epoch 4/100\n",
      "1159/1159 [==============================] - 1s 1ms/step - loss: 0.3700 - binary_accuracy: 0.8381 - val_loss: 0.3658 - val_binary_accuracy: 0.8389\n",
      "Epoch 5/100\n",
      "1159/1159 [==============================] - 1s 1ms/step - loss: 0.3683 - binary_accuracy: 0.8388 - val_loss: 0.3646 - val_binary_accuracy: 0.8390\n",
      "Epoch 6/100\n",
      "1159/1159 [==============================] - 1s 1ms/step - loss: 0.3671 - binary_accuracy: 0.8394 - val_loss: 0.3637 - val_binary_accuracy: 0.8392\n",
      "Epoch 7/100\n",
      "1159/1159 [==============================] - 1s 1ms/step - loss: 0.3661 - binary_accuracy: 0.8399 - val_loss: 0.3630 - val_binary_accuracy: 0.8407\n",
      "Epoch 8/100\n",
      "1159/1159 [==============================] - 1s 1ms/step - loss: 0.3654 - binary_accuracy: 0.8405 - val_loss: 0.3629 - val_binary_accuracy: 0.8403\n",
      "Epoch 9/100\n",
      "1159/1159 [==============================] - 1s 1ms/step - loss: 0.3648 - binary_accuracy: 0.8408 - val_loss: 0.3618 - val_binary_accuracy: 0.8408\n",
      "Epoch 10/100\n",
      "1159/1159 [==============================] - 1s 1ms/step - loss: 0.3643 - binary_accuracy: 0.8408 - val_loss: 0.3617 - val_binary_accuracy: 0.8408\n",
      "Epoch 11/100\n",
      "1159/1159 [==============================] - 1s 1ms/step - loss: 0.3638 - binary_accuracy: 0.8412 - val_loss: 0.3612 - val_binary_accuracy: 0.8413\n",
      "Epoch 12/100\n",
      "1159/1159 [==============================] - 1s 1ms/step - loss: 0.3634 - binary_accuracy: 0.8414 - val_loss: 0.3605 - val_binary_accuracy: 0.8414\n",
      "Epoch 13/100\n",
      "1159/1159 [==============================] - 1s 1ms/step - loss: 0.3631 - binary_accuracy: 0.8414 - val_loss: 0.3605 - val_binary_accuracy: 0.8422\n",
      "Epoch 14/100\n",
      "1159/1159 [==============================] - 1s 1ms/step - loss: 0.3627 - binary_accuracy: 0.8417 - val_loss: 0.3603 - val_binary_accuracy: 0.8424\n",
      "Epoch 15/100\n",
      "1159/1159 [==============================] - 1s 1ms/step - loss: 0.3624 - binary_accuracy: 0.8420 - val_loss: 0.3599 - val_binary_accuracy: 0.8425\n",
      "Epoch 16/100\n",
      "1159/1159 [==============================] - 1s 1ms/step - loss: 0.3621 - binary_accuracy: 0.8420 - val_loss: 0.3599 - val_binary_accuracy: 0.8428\n",
      "Epoch 17/100\n",
      "1159/1159 [==============================] - 1s 1ms/step - loss: 0.3619 - binary_accuracy: 0.8422 - val_loss: 0.3598 - val_binary_accuracy: 0.8429\n",
      "Epoch 18/100\n",
      "1159/1159 [==============================] - 1s 1ms/step - loss: 0.3616 - binary_accuracy: 0.8423 - val_loss: 0.3593 - val_binary_accuracy: 0.8432\n",
      "Epoch 19/100\n",
      "1159/1159 [==============================] - 1s 1ms/step - loss: 0.3613 - binary_accuracy: 0.8426 - val_loss: 0.3594 - val_binary_accuracy: 0.8428\n",
      "Epoch 20/100\n",
      "1159/1159 [==============================] - 1s 1ms/step - loss: 0.3611 - binary_accuracy: 0.8428 - val_loss: 0.3588 - val_binary_accuracy: 0.8429\n",
      "Epoch 21/100\n",
      "1159/1159 [==============================] - 1s 1ms/step - loss: 0.3609 - binary_accuracy: 0.8427 - val_loss: 0.3587 - val_binary_accuracy: 0.8434\n",
      "Epoch 22/100\n",
      "1159/1159 [==============================] - 1s 1ms/step - loss: 0.3606 - binary_accuracy: 0.8429 - val_loss: 0.3586 - val_binary_accuracy: 0.8436\n",
      "Epoch 23/100\n",
      "1159/1159 [==============================] - 1s 1ms/step - loss: 0.3605 - binary_accuracy: 0.8430 - val_loss: 0.3589 - val_binary_accuracy: 0.8437\n",
      "Epoch 24/100\n",
      "1159/1159 [==============================] - 1s 1ms/step - loss: 0.3602 - binary_accuracy: 0.8431 - val_loss: 0.3582 - val_binary_accuracy: 0.8436\n",
      "Epoch 25/100\n",
      "1159/1159 [==============================] - 1s 1ms/step - loss: 0.3600 - binary_accuracy: 0.8432 - val_loss: 0.3583 - val_binary_accuracy: 0.8436\n",
      "Epoch 26/100\n",
      "1159/1159 [==============================] - 2s 1ms/step - loss: 0.3599 - binary_accuracy: 0.8432 - val_loss: 0.3582 - val_binary_accuracy: 0.8430\n",
      "Epoch 27/100\n",
      "1159/1159 [==============================] - 1s 1ms/step - loss: 0.3597 - binary_accuracy: 0.8434 - val_loss: 0.3581 - val_binary_accuracy: 0.8431\n",
      "Epoch 28/100\n",
      "1159/1159 [==============================] - 1s 1ms/step - loss: 0.3595 - binary_accuracy: 0.8435 - val_loss: 0.3581 - val_binary_accuracy: 0.8434\n",
      "Epoch 29/100\n",
      "1159/1159 [==============================] - 1s 1ms/step - loss: 0.3594 - binary_accuracy: 0.8435 - val_loss: 0.3579 - val_binary_accuracy: 0.8433\n",
      "Epoch 30/100\n",
      "1127/1159 [============================>.] - ETA: 0s - loss: 0.3591 - binary_accuracy: 0.8439Restoring model weights from the end of the best epoch: 20.\n",
      "1159/1159 [==============================] - 2s 1ms/step - loss: 0.3592 - binary_accuracy: 0.8438 - val_loss: 0.3577 - val_binary_accuracy: 0.8437\n",
      "Epoch 30: early stopping\n",
      "Printing summary of the trained model:\n",
      "Model: \"sequential\"\n",
      "_________________________________________________________________\n",
      " Layer (type)                Output Shape              Param #   \n",
      "=================================================================\n",
      " normalization (Normalizatio  (None, 18)               37        \n",
      " n)                                                              \n",
      "                                                                 \n",
      " hidden1 (Dense)             (None, 50)                950       \n",
      "                                                                 \n",
      " hidden2 (Dense)             (None, 25)                1275      \n",
      "                                                                 \n",
      " hidden3 (Dense)             (None, 10)                260       \n",
      "                                                                 \n",
      " output (Dense)              (None, 1)                 11        \n",
      "                                                                 \n",
      "=================================================================\n",
      "Total params: 2,533\n",
      "Trainable params: 2,496\n",
      "Non-trainable params: 37\n",
      "_________________________________________________________________\n",
      "None\n"
     ]
    }
   ],
   "source": [
    "fit_history = model.fit(\n",
    "        x_train,\n",
    "        y_train,\n",
    "        batch_size=512,\n",
    "        epochs=100,\n",
    "        validation_data=(x_val, y_val),\n",
    "        callbacks=[early_stopping_callback],\n",
    "    )\n",
    "\n",
    "print(\"Printing summary of the trained model:\")\n",
    "print(model.summary())"
   ]
  },
  {
   "cell_type": "code",
   "execution_count": 11,
   "id": "4e101569-e916-4f9a-a0e7-5ddcc0d4aae2",
   "metadata": {},
   "outputs": [
    {
     "name": "stdout",
     "output_type": "stream",
     "text": [
      "Storing model with name \"my_model\" now. You can convert this to ONNX format with the \"tf2onnx\" command-line utility.\n"
     ]
    },
    {
     "name": "stderr",
     "output_type": "stream",
     "text": [
      "WARNING:absl:Found untraced functions such as _update_step_xla while saving (showing 1 of 1). These functions will not be directly callable after loading.\n"
     ]
    },
    {
     "name": "stdout",
     "output_type": "stream",
     "text": [
      "INFO:tensorflow:Assets written to: my_model/assets\n"
     ]
    },
    {
     "name": "stderr",
     "output_type": "stream",
     "text": [
      "INFO:tensorflow:Assets written to: my_model/assets\n"
     ]
    }
   ],
   "source": [
    "save_name = \"my_model\"\n",
    "print(f'Storing model with name \"{save_name}\" now. You can convert '\n",
    "        'this to ONNX format with the \"tf2onnx\" command-line utility.')\n",
    "model.save(save_name)"
   ]
  },
  {
   "cell_type": "markdown",
   "id": "c8ad3e2a-2f40-48e0-82c2-a4f86c8616ce",
   "metadata": {},
   "source": [
    "The following code produces a plot of the loss evolution for training and validation:"
   ]
  },
  {
   "cell_type": "code",
   "execution_count": 12,
   "id": "2ea4b930-c631-4b38-9f41-eba4f808da0a",
   "metadata": {},
   "outputs": [
    {
     "data": {
      "image/png": "[encoded data removed]",
      "text/plain": [
       "<Figure size 640x480 with 1 Axes>"
      ]
     },
     "metadata": {},
     "output_type": "display_data"
    }
   ],
   "source": [
    "plt.plot(fit_history.history[\"loss\"], label=\"training\")\n",
    "plt.plot(fit_history.history[\"val_loss\"], label=\"validation\")\n",
    "plt.xlabel(\"Number of epochs\")\n",
    "plt.ylabel(\"Loss value\")\n",
    "plt.legend()\n",
    "plt.tight_layout()\n",
    "plt.show()"
   ]
  },
  {
   "cell_type": "markdown",
   "id": "f6137a29-a5d8-4e8d-b120-c1fe984a7f09",
   "metadata": {},
   "source": [
    "The following code produces a plot of the accuracy evolution per epoch for training and validation:"
   ]
  },
  {
   "cell_type": "code",
   "execution_count": 13,
   "id": "48a1cff1-c5cb-4a7d-aa10-efe6fb80efad",
   "metadata": {},
   "outputs": [
    {
     "data": {
      "image/png": "[encoded data removed]",
      "text/plain": [
       "<Figure size 640x480 with 1 Axes>"
      ]
     },
     "metadata": {},
     "output_type": "display_data"
    }
   ],
   "source": [
    "plt.figure()\n",
    "plt.plot(fit_history.history[\"binary_accuracy\"], label=\"training\")\n",
    "plt.plot(fit_history.history[\"val_binary_accuracy\"], label=\"validation\")\n",
    "plt.xlabel(\"Number of epochs\")\n",
    "plt.ylabel(\"Accuracy value\")\n",
    "plt.legend()\n",
    "plt.tight_layout()\n",
    "#plt.savefig(output_file)"
   ]
  },
  {
   "cell_type": "markdown",
   "id": "9e6334e5-db12-433c-bb87-15c8efc4f9d5",
   "metadata": {},
   "source": [
    "The following code plots the distribution of the neural-network output node for both training and test data to check for possible differences between the two. The datasets are sliced according to their truth labels (i.e. the two classes)."
   ]
  },
  {
   "cell_type": "code",
   "execution_count": 14,
   "id": "a5b347d4-4142-42d8-85b6-c05cb864828b",
   "metadata": {},
   "outputs": [
    {
     "name": "stdout",
     "output_type": "stream",
     "text": [
      "1595/1595 [==============================] - 1s 422us/step\n",
      "723/723 [==============================] - 0s 420us/step\n",
      "12717/12717 [==============================] - 5s 429us/step\n",
      "5823/5823 [==============================] - 3s 446us/step\n"
     ]
    },
    {
     "data": {
      "image/png": "[encoded data removed]",
      "text/plain": [
       "<Figure size 640x480 with 1 Axes>"
      ]
     },
     "metadata": {},
     "output_type": "display_data"
    },
    {
     "name": "stdout",
     "output_type": "stream",
     "text": [
      "Created plots of loss, accuracy, and NN output.\n"
     ]
    }
   ],
   "source": [
    " \"\"\"Creates a plot of the NN output for training and test data.\n",
    "\n",
    "    The function slices both training and test data according to the truth\n",
    "    labels, so that the displayed spectra can be split into \"background\" and\n",
    "    \"signal\" events (i.e. the two classes the model was trained on).\n",
    "\n",
    "    \"\"\"\n",
    "\n",
    "_, bins, _ = plt.hist(model.predict(x_test[y_test.astype(bool)]), bins=20, alpha=0.3, density=True, label=\"test signal\")\n",
    "plt.hist(model.predict(x_test[~y_test.astype(bool)]), bins=bins, alpha=0.3, density=True, label=\"test bg\")\n",
    "plt.hist(model.predict(x_train[y_train.astype(bool)]), bins=bins, density=True, histtype=\"step\", label=\"train signal\")\n",
    "plt.hist(model.predict(x_train[~y_train.astype(bool)]), bins=bins, density=True, histtype=\"step\", label=\"train bg\")\n",
    "plt.xlabel(\"NN output\")\n",
    "plt.legend()\n",
    "plt.tight_layout()\n",
    "plt.show()\n",
    "#plt.savefig(output_file)\n",
    "print(\"Created plots of loss, accuracy, and NN output.\")"
   ]
  },
  {
   "cell_type": "markdown",
   "id": "e44bcfab-0e6d-4104-9f32-e68418c15900",
   "metadata": {},
   "source": [
    "# Feature Importance"
   ]
  },
  {
   "cell_type": "code",
   "execution_count": 15,
   "id": "1050fda1-ab3f-4dd3-8b9e-5c1eb210587f",
   "metadata": {},
   "outputs": [
    {
     "name": "stdout",
     "output_type": "stream",
     "text": [
      "2318/2318 [==============================] - 1s 481us/step\n",
      "2318/2318 [==============================] - 2s 757us/step\n",
      "2318/2318 [==============================] - 1s 444us/step\n",
      "2318/2318 [==============================] - 1s 431us/step\n",
      "2318/2318 [==============================] - 1s 428us/step\n",
      "2318/2318 [==============================] - 1s 431us/step\n",
      "2318/2318 [==============================] - 1s 434us/step\n",
      "2318/2318 [==============================] - 1s 422us/step\n",
      "2318/2318 [==============================] - 1s 431us/step\n",
      "2318/2318 [==============================] - 1s 438us/step\n",
      "2318/2318 [==============================] - 1s 428us/step\n",
      "2318/2318 [==============================] - 1s 432us/step\n",
      "2318/2318 [==============================] - 1s 432us/step\n",
      "2318/2318 [==============================] - 1s 433us/step\n",
      "2318/2318 [==============================] - 1s 438us/step\n",
      "2318/2318 [==============================] - 1s 439us/step\n",
      "2318/2318 [==============================] - 1s 472us/step\n",
      "2318/2318 [==============================] - 1s 459us/step\n",
      "2318/2318 [==============================] - 1s 454us/step\n",
      "Feature importances: [0.05640963 0.00848235 0.00899479 0.00373547 0.00362759 0.00165871\n",
      " 0.07087952 0.04916795 0.02927691 0.00503007 0.00357364 0.00089004\n",
      " 0.00076867 0.0066753  0.03788063 0.         0.00374895 0.02621571]\n"
     ]
    }
   ],
   "source": [
    "import numpy as np\n",
    "from sklearn.metrics import accuracy_score\n",
    "from sklearn.utils import shuffle\n",
    "\n",
    "# Function to calculate permutation feature importance\n",
    "def permutation_importance(model, X_valid, y_valid, metric=accuracy_score):\n",
    "    # Store the baseline accuracy of the model on original data\n",
    "    baseline_accuracy = metric(y_valid, model.predict(X_valid).round())\n",
    "    importances = []\n",
    "\n",
    "    for i in range(X_valid.shape[1]):  # iterate over each feature\n",
    "        save = X_valid[:, i].copy()\n",
    "        X_valid[:, i] = shuffle(X_valid[:, i])  # shuffle individual feature\n",
    "        m_accuracy = metric(y_valid, model.predict(X_valid).round())\n",
    "        X_valid[:, i] = save  # restore original data\n",
    "        importances.append(baseline_accuracy - m_accuracy)  # decrease in model accuracy\n",
    "\n",
    "    return np.array(importances)\n",
    "\n",
    "# Assuming X_valid and y_valid are your validation datasets\n",
    "feature_importances = permutation_importance(model, x_val, y_val)\n",
    "print(\"Feature importances:\", feature_importances)\n"
   ]
  },
  {
   "cell_type": "code",
   "execution_count": null,
   "id": "11171cd7-220b-42f3-bec4-0bce71d0ecb2",
   "metadata": {},
   "outputs": [],
   "source": []
  }
 ],
 "metadata": {
  "kernelspec": {
   "display_name": "Python 3 (ipykernel)",
   "language": "python",
   "name": "python3"
  },
  "language_info": {
   "codemirror_mode": {
    "name": "ipython",
    "version": 3
   },
   "file_extension": ".py",
   "mimetype": "text/x-python",
   "name": "python",
   "nbconvert_exporter": "python",
   "pygments_lexer": "ipython3",
   "version": "3.11.5"
  }
 },
 "nbformat": 4,
 "nbformat_minor": 5
}
