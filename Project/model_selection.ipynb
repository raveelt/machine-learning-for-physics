{
 "cells": [
  {
   "cell_type": "code",
   "execution_count": 1,
   "id": "c77fb5b7-36e1-49c1-a1b9-2a44738737c0",
   "metadata": {},
   "outputs": [
    {
     "name": "stdout",
     "output_type": "stream",
     "text": [
      "Intel MKL WARNING: Support of Intel(R) Streaming SIMD Extensions 4.2 (Intel(R) SSE4.2) enabled only processors has been deprecated. Intel oneAPI Math Kernel Library 2025.0 will require Intel(R) Advanced Vector Extensions (Intel(R) AVX) instructions.\n",
      "Intel MKL WARNING: Support of Intel(R) Streaming SIMD Extensions 4.2 (Intel(R) SSE4.2) enabled only processors has been deprecated. Intel oneAPI Math Kernel Library 2025.0 will require Intel(R) Advanced Vector Extensions (Intel(R) AVX) instructions.\n"
     ]
    },
    {
     "name": "stderr",
     "output_type": "stream",
     "text": [
      "2024-04-16 23:38:19.943206: I tensorflow/core/platform/cpu_feature_guard.cc:182] This TensorFlow binary is optimized to use available CPU instructions in performance-critical operations.\n",
      "To enable the following instructions: SSE4.1 SSE4.2, in other operations, rebuild TensorFlow with the appropriate compiler flags.\n"
     ]
    }
   ],
   "source": [
    "import h5py\n",
    "import matplotlib.pyplot as plt\n",
    "import numpy as np\n",
    "import tensorflow.keras as K\n",
    "import pandas as pd\n",
    "from scikeras.wrappers import KerasClassifier\n",
    "from sklearn.model_selection import GridSearchCV"
   ]
  },
  {
   "cell_type": "markdown",
   "id": "7451ef1d-b90f-4f77-934c-316e586544ce",
   "metadata": {},
   "source": [
    "# Loading the Data"
   ]
  },
  {
   "cell_type": "code",
   "execution_count": 2,
   "id": "01039598-17bc-44b3-ab8e-6d8b286e579e",
   "metadata": {},
   "outputs": [],
   "source": [
    "with h5py.File(\"info/data/output_signal.h5\", \"r\") as file:\n",
    "    signal_data = file[\"events\"][:]\n",
    "\n",
    "with h5py.File(\"info/data/output_bg.h5\", \"r\") as file:\n",
    "    bg_data = file[\"events\"][:]"
   ]
  },
  {
   "cell_type": "code",
   "execution_count": 3,
   "id": "7dbc1d59-4664-459c-b364-e2788a274607",
   "metadata": {},
   "outputs": [
    {
     "name": "stdout",
     "output_type": "stream",
     "text": [
      "ttZ events: 68.69%\n",
      "WZ events: 31.31%\n"
     ]
    }
   ],
   "source": [
    "# storing signal and background data in panda DataFrame\n",
    "signal = pd.DataFrame(signal_data)\n",
    "background = pd.DataFrame(bg_data)\n",
    "\n",
    "# concatenating the data frames to be part of one big set\n",
    "df = pd.concat([signal, background])\n",
    "\n",
    "# reseting the indicies\n",
    "df = df.reset_index()\n",
    "\n",
    "# creating the labels for the data sets i.e; signal = 1, background = 0 for classification\n",
    "labels = np.concatenate([np.ones(signal.shape[0]), np.zeros(background.shape[0])])\n",
    "labels = pd.DataFrame({'ttZ': labels})\n",
    "\n",
    "# adding labels as a column at the end of the DataFrame\n",
    "df = df.join(labels)\n",
    "\n",
    "# shuffling the DataFrame\n",
    "df_shuffled = df.sample(frac=1, random_state=42)  # 'random_state' for reproducibility\n",
    "df_shuffled.head()\n",
    "\n",
    "\n",
    "# taking the first 30 000 rows from the shuffled DataFrame\n",
    "subset_df = df_shuffled.iloc[:30000]\n",
    "\n",
    "# splitting the labels from the rest of the dataset\n",
    "y = subset_df['ttZ']\n",
    "\n",
    "# we can check the class distribution in the subset\n",
    "print('ttZ events: {:.2f}%'.format(np.sum(y)/len(y) * 100))\n",
    "print('WZ events: {:.2f}%'.format((1 - np.sum(y)/len(y)) * 100))"
   ]
  },
  {
   "cell_type": "markdown",
   "id": "3487e581-784d-4c0a-90a7-77fc9ae3f5c2",
   "metadata": {},
   "source": [
    "# Various Feature Lists"
   ]
  },
  {
   "cell_type": "code",
   "execution_count": 4,
   "id": "25834a62-d2f3-4501-9501-058c5616a0d0",
   "metadata": {},
   "outputs": [],
   "source": [
    "# base input list suggested by the project\n",
    "input_list = [ \"H_T\",\n",
    "              \"jet_1_pt\",\n",
    "              \"jet_2_pt\",\n",
    "              \"lep_1_pt\",\n",
    "              \"lep_2_pt\",\n",
    "              \"n_bjets\",\n",
    "              \"jet_1_twb\",\n",
    "              \"jet_2_twb\",\n",
    "              \"bjet_1_pt\"]\n",
    "\n",
    "# best input list suggested by SRS \n",
    "input_list_2 = ['jet_1_pt', \n",
    "                'jet_3_pt', \n",
    "                'jet_1_eta', \n",
    "                'jet_3_eta', \n",
    "                'jet_1_twb', \n",
    "                'jet_2_twb', \n",
    "                'jet_3_twb', \n",
    "                'bjet_1_pt', \n",
    "                'n_jets', \n",
    "                'n_bjets',\n",
    "                'n_leptons']\n",
    "\n",
    "# smallest input list that still has an accuracy >80%, suggested by SRS\n",
    "input_list_3 = ['jet_3_pt',\n",
    "                'jet_1_twb',\n",
    "                'jet_2_twb',\n",
    "                'jet_3_twb',\n",
    "                'bjet_1_pt',\n",
    "                'n_jets',\n",
    "                'n_bjets']\n",
    "\n",
    "input_lists = [input_list, input_list_2, input_list_3]"
   ]
  },
  {
   "cell_type": "markdown",
   "id": "7fd3fe28-8a0a-4cc9-a844-99151f899ab1",
   "metadata": {},
   "source": [
    "# Grid Search through Various Parameters"
   ]
  },
  {
   "cell_type": "code",
   "execution_count": 5,
   "id": "4fc14184-669e-4144-9719-db7c7d175b95",
   "metadata": {},
   "outputs": [
    {
     "name": "stdout",
     "output_type": "stream",
     "text": [
      "Fitting 3 folds for each of 243 candidates, totalling 729 fits\n",
      "Fitting 3 folds for each of 243 candidates, totalling 729 fits\n",
      "Fitting 3 folds for each of 243 candidates, totalling 729 fits\n"
     ]
    },
    {
     "data": {
      "text/html": [
       "<div>\n",
       "<style scoped>\n",
       "    .dataframe tbody tr th:only-of-type {\n",
       "        vertical-align: middle;\n",
       "    }\n",
       "\n",
       "    .dataframe tbody tr th {\n",
       "        vertical-align: top;\n",
       "    }\n",
       "\n",
       "    .dataframe thead th {\n",
       "        text-align: right;\n",
       "    }\n",
       "</style>\n",
       "<table border=\"1\" class=\"dataframe\">\n",
       "  <thead>\n",
       "    <tr style=\"text-align: right;\">\n",
       "      <th></th>\n",
       "      <th>base list</th>\n",
       "      <th>SRS: best list</th>\n",
       "      <th>SRS: best smallest list</th>\n",
       "    </tr>\n",
       "  </thead>\n",
       "  <tbody>\n",
       "    <tr>\n",
       "      <th>batch_size</th>\n",
       "      <td>300.0000</td>\n",
       "      <td>100.0000</td>\n",
       "      <td>150.0000</td>\n",
       "    </tr>\n",
       "    <tr>\n",
       "      <th>model__layer1</th>\n",
       "      <td>50.0000</td>\n",
       "      <td>25.0000</td>\n",
       "      <td>50.0000</td>\n",
       "    </tr>\n",
       "    <tr>\n",
       "      <th>model__layer2</th>\n",
       "      <td>12.0000</td>\n",
       "      <td>25.0000</td>\n",
       "      <td>50.0000</td>\n",
       "    </tr>\n",
       "    <tr>\n",
       "      <th>model__layer3</th>\n",
       "      <td>10.0000</td>\n",
       "      <td>15.0000</td>\n",
       "      <td>5.0000</td>\n",
       "    </tr>\n",
       "    <tr>\n",
       "      <th>model__optimizer__lr</th>\n",
       "      <td>0.0020</td>\n",
       "      <td>0.0020</td>\n",
       "      <td>0.0002</td>\n",
       "    </tr>\n",
       "    <tr>\n",
       "      <th>best score</th>\n",
       "      <td>0.8296</td>\n",
       "      <td>0.8339</td>\n",
       "      <td>0.8270</td>\n",
       "    </tr>\n",
       "  </tbody>\n",
       "</table>\n",
       "</div>"
      ],
      "text/plain": [
       "                      base list  SRS: best list  SRS: best smallest list\n",
       "batch_size             300.0000        100.0000                 150.0000\n",
       "model__layer1           50.0000         25.0000                  50.0000\n",
       "model__layer2           12.0000         25.0000                  50.0000\n",
       "model__layer3           10.0000         15.0000                   5.0000\n",
       "model__optimizer__lr     0.0020          0.0020                   0.0002\n",
       "best score               0.8296          0.8339                   0.8270"
      ]
     },
     "execution_count": 5,
     "metadata": {},
     "output_type": "execute_result"
    }
   ],
   "source": [
    "# model for classification\n",
    "def build_model(lr=0.002, layer1=25, layer2=12, layer3=5):\n",
    "    model = K.Sequential([\n",
    "        preprocessing_layer,\n",
    "        K.layers.Dense(layer1, activation=\"relu\"),\n",
    "        K.layers.Dense(layer2, activation=\"relu\"),\n",
    "        K.layers.Dense(layer3, activation=\"relu\"),\n",
    "        K.layers.Dense(1, activation=\"sigmoid\")\n",
    "    ])\n",
    "    model.compile(optimizer=K.optimizers.Adam(learning_rate=lr), loss='binary_crossentropy', metrics=['accuracy'])\n",
    "    return model\n",
    "\n",
    "# wrapper function \n",
    "model = KerasClassifier(model=build_model, verbose=0, epochs = 30)\n",
    "\n",
    "# Parameters to search through\n",
    "param_grid = {'model__optimizer__lr': [0.002, 0.0002, 0.00002],\n",
    "              'model__layer1': [25, 50, 100],\n",
    "              'model__layer2': [12, 25, 50],\n",
    "              'model__layer3': [5, 10, 15],\n",
    "              'batch_size': [100, 150, 300]}\n",
    "\n",
    "# Create GridSearchCV\n",
    "gridCV = GridSearchCV(estimator=model, param_grid=param_grid, n_jobs=1, cv=3, verbose = 1)\n",
    "\n",
    "# GridSearch through all parameters and all suggested feature lists\n",
    "names = ['base list', 'SRS: best list', 'SRS: best smallest list']\n",
    "for i, feature_list in enumerate(input_lists):\n",
    "    X = subset_df[feature_list]\n",
    "    preprocessing_layer = K.layers.Normalization()\n",
    "    preprocessing_layer.adapt(X)\n",
    "    grid_result = gridCV.fit(X, y)\n",
    "    \n",
    "# saving results into a DataFrame\n",
    "    if i == 0:\n",
    "        df = pd.DataFrame.from_dict(grid_result.best_params_, orient='index')\n",
    "        df.loc['best score'] = grid_result.best_score_\n",
    "        df = df.rename(columns={0: names[i]})\n",
    "    else:\n",
    "        df2 = pd.DataFrame.from_dict(grid_result.best_params_, orient='index')\n",
    "        df2.loc['best score'] = grid_result.best_score_\n",
    "        df2 = df2.rename(columns={0: names[i]})\n",
    "        df = pd.concat([df, df2], axis=1)\n",
    "\n",
    "df.to_csv('model_selection.csv', index=True)\n",
    "df"
   ]
  }
 ],
 "metadata": {
  "kernelspec": {
   "display_name": "Python 3 (ipykernel)",
   "language": "python",
   "name": "python3"
  },
  "language_info": {
   "codemirror_mode": {
    "name": "ipython",
    "version": 3
   },
   "file_extension": ".py",
   "mimetype": "text/x-python",
   "name": "python",
   "nbconvert_exporter": "python",
   "pygments_lexer": "ipython3",
   "version": "3.11.5"
  }
 },
 "nbformat": 4,
 "nbformat_minor": 5
}
