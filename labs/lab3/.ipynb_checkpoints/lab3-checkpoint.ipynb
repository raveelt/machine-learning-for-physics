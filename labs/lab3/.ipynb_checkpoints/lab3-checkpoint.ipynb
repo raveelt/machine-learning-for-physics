{
 "cells": [
  {
   "cell_type": "markdown",
   "id": "ce9cfd2b",
   "metadata": {},
   "source": [
    "*Group 5: Raveel Tejani, Sam Young*"
   ]
  },
  {
   "cell_type": "markdown",
   "id": "6ca50eaf",
   "metadata": {},
   "source": [
    "# Lab Notebook 3 - kNN algorithm\n",
    "\n",
    "In this exercise, we will code a kNN algorithm from scratch, and then compare its performance to a pre-written routine."
   ]
  },
  {
   "cell_type": "markdown",
   "id": "44e49acc",
   "metadata": {},
   "source": [
    "# Part 1: Organize data\n",
    "\n",
    "Import numpy, matplotlib, matplotlib.pyplot, matplotlib.patches, pandas, sklearn, and neighbors and metrics from sklearn. Set the rc parameters that you'd like to use for all your figures."
   ]
  },
  {
   "cell_type": "code",
   "execution_count": 1,
   "id": "d81841a7",
   "metadata": {},
   "outputs": [],
   "source": [
    "import numpy as np\n",
    "from matplotlib import pyplot as plt\n",
    "from matplotlib import patches as pch\n",
    "import pandas as pd\n",
    "from sklearn import neighbors, metrics\n",
    "import sklearn"
   ]
  },
  {
   "cell_type": "markdown",
   "id": "588be4b9",
   "metadata": {},
   "source": [
    "## Step 1.2\n",
    "\n",
    "Our learning set 'HPLearningSet.csv' comes in csv (comma separated values) format and that is most conveniently read using the pandas library.\n",
    "\n",
    "Read it to the data frame \"LearningSet\". Since the first column is just an index, drop it using LearningSet.drop. You will need to specify the column to be dropped and the axis.\n",
    "\n",
    "Visually inspect the learnign set by printing it."
   ]
  },
  {
   "cell_type": "code",
   "execution_count": 2,
   "id": "97cceb3e",
   "metadata": {},
   "outputs": [
    {
     "data": {
      "text/html": [
       "<div>\n",
       "<style scoped>\n",
       "    .dataframe tbody tr th:only-of-type {\n",
       "        vertical-align: middle;\n",
       "    }\n",
       "\n",
       "    .dataframe tbody tr th {\n",
       "        vertical-align: top;\n",
       "    }\n",
       "\n",
       "    .dataframe thead th {\n",
       "        text-align: right;\n",
       "    }\n",
       "</style>\n",
       "<table border=\"1\" class=\"dataframe\">\n",
       "  <thead>\n",
       "    <tr style=\"text-align: right;\">\n",
       "      <th></th>\n",
       "      <th>P_NAME</th>\n",
       "      <th>S_MASS</th>\n",
       "      <th>P_PERIOD</th>\n",
       "      <th>P_DISTANCE</th>\n",
       "      <th>P_HABITABLE</th>\n",
       "    </tr>\n",
       "  </thead>\n",
       "  <tbody>\n",
       "    <tr>\n",
       "      <th>0</th>\n",
       "      <td>Kepler-736 b</td>\n",
       "      <td>0.86</td>\n",
       "      <td>3.601472</td>\n",
       "      <td>0.043718</td>\n",
       "      <td>0</td>\n",
       "    </tr>\n",
       "    <tr>\n",
       "      <th>1</th>\n",
       "      <td>Kepler-636 b</td>\n",
       "      <td>0.85</td>\n",
       "      <td>16.080661</td>\n",
       "      <td>0.118082</td>\n",
       "      <td>0</td>\n",
       "    </tr>\n",
       "    <tr>\n",
       "      <th>2</th>\n",
       "      <td>Kepler-887 c</td>\n",
       "      <td>1.19</td>\n",
       "      <td>7.638460</td>\n",
       "      <td>0.080420</td>\n",
       "      <td>0</td>\n",
       "    </tr>\n",
       "    <tr>\n",
       "      <th>3</th>\n",
       "      <td>Kepler-442 b</td>\n",
       "      <td>0.61</td>\n",
       "      <td>112.305300</td>\n",
       "      <td>0.409327</td>\n",
       "      <td>1</td>\n",
       "    </tr>\n",
       "    <tr>\n",
       "      <th>4</th>\n",
       "      <td>Kepler-772 b</td>\n",
       "      <td>0.98</td>\n",
       "      <td>12.992073</td>\n",
       "      <td>0.107408</td>\n",
       "      <td>0</td>\n",
       "    </tr>\n",
       "    <tr>\n",
       "      <th>5</th>\n",
       "      <td>Teegarden's Star b</td>\n",
       "      <td>0.09</td>\n",
       "      <td>4.910000</td>\n",
       "      <td>0.025200</td>\n",
       "      <td>1</td>\n",
       "    </tr>\n",
       "    <tr>\n",
       "      <th>6</th>\n",
       "      <td>K2-116 b</td>\n",
       "      <td>0.69</td>\n",
       "      <td>4.655411</td>\n",
       "      <td>0.048086</td>\n",
       "      <td>0</td>\n",
       "    </tr>\n",
       "    <tr>\n",
       "      <th>7</th>\n",
       "      <td>GJ 1061 c</td>\n",
       "      <td>0.12</td>\n",
       "      <td>6.689000</td>\n",
       "      <td>0.035000</td>\n",
       "      <td>1</td>\n",
       "    </tr>\n",
       "    <tr>\n",
       "      <th>8</th>\n",
       "      <td>HD 68402 b</td>\n",
       "      <td>1.12</td>\n",
       "      <td>1103.000000</td>\n",
       "      <td>2.180981</td>\n",
       "      <td>0</td>\n",
       "    </tr>\n",
       "    <tr>\n",
       "      <th>9</th>\n",
       "      <td>Kepler-1544 b</td>\n",
       "      <td>0.81</td>\n",
       "      <td>168.811170</td>\n",
       "      <td>0.557107</td>\n",
       "      <td>1</td>\n",
       "    </tr>\n",
       "    <tr>\n",
       "      <th>10</th>\n",
       "      <td>Kepler-296 e</td>\n",
       "      <td>0.50</td>\n",
       "      <td>34.142110</td>\n",
       "      <td>0.178202</td>\n",
       "      <td>1</td>\n",
       "    </tr>\n",
       "    <tr>\n",
       "      <th>11</th>\n",
       "      <td>Kepler-705 b</td>\n",
       "      <td>0.53</td>\n",
       "      <td>56.056054</td>\n",
       "      <td>0.231926</td>\n",
       "      <td>1</td>\n",
       "    </tr>\n",
       "    <tr>\n",
       "      <th>12</th>\n",
       "      <td>Kepler-445 c</td>\n",
       "      <td>0.18</td>\n",
       "      <td>4.871229</td>\n",
       "      <td>0.031746</td>\n",
       "      <td>0</td>\n",
       "    </tr>\n",
       "    <tr>\n",
       "      <th>13</th>\n",
       "      <td>HD 104067 b</td>\n",
       "      <td>0.62</td>\n",
       "      <td>55.806000</td>\n",
       "      <td>0.260000</td>\n",
       "      <td>0</td>\n",
       "    </tr>\n",
       "    <tr>\n",
       "      <th>14</th>\n",
       "      <td>GJ 4276 b</td>\n",
       "      <td>0.41</td>\n",
       "      <td>13.352000</td>\n",
       "      <td>0.087613</td>\n",
       "      <td>0</td>\n",
       "    </tr>\n",
       "    <tr>\n",
       "      <th>15</th>\n",
       "      <td>Kepler-296 f</td>\n",
       "      <td>0.50</td>\n",
       "      <td>63.336270</td>\n",
       "      <td>0.268885</td>\n",
       "      <td>1</td>\n",
       "    </tr>\n",
       "    <tr>\n",
       "      <th>16</th>\n",
       "      <td>Kepler-63 b</td>\n",
       "      <td>0.98</td>\n",
       "      <td>9.434150</td>\n",
       "      <td>0.088100</td>\n",
       "      <td>0</td>\n",
       "    </tr>\n",
       "    <tr>\n",
       "      <th>17</th>\n",
       "      <td>GJ 3293 d</td>\n",
       "      <td>0.42</td>\n",
       "      <td>48.134500</td>\n",
       "      <td>0.195336</td>\n",
       "      <td>1</td>\n",
       "    </tr>\n",
       "  </tbody>\n",
       "</table>\n",
       "</div>"
      ],
      "text/plain": [
       "                P_NAME  S_MASS     P_PERIOD  P_DISTANCE  P_HABITABLE\n",
       "0         Kepler-736 b    0.86     3.601472    0.043718            0\n",
       "1         Kepler-636 b    0.85    16.080661    0.118082            0\n",
       "2         Kepler-887 c    1.19     7.638460    0.080420            0\n",
       "3         Kepler-442 b    0.61   112.305300    0.409327            1\n",
       "4         Kepler-772 b    0.98    12.992073    0.107408            0\n",
       "5   Teegarden's Star b    0.09     4.910000    0.025200            1\n",
       "6             K2-116 b    0.69     4.655411    0.048086            0\n",
       "7            GJ 1061 c    0.12     6.689000    0.035000            1\n",
       "8           HD 68402 b    1.12  1103.000000    2.180981            0\n",
       "9        Kepler-1544 b    0.81   168.811170    0.557107            1\n",
       "10        Kepler-296 e    0.50    34.142110    0.178202            1\n",
       "11        Kepler-705 b    0.53    56.056054    0.231926            1\n",
       "12        Kepler-445 c    0.18     4.871229    0.031746            0\n",
       "13         HD 104067 b    0.62    55.806000    0.260000            0\n",
       "14           GJ 4276 b    0.41    13.352000    0.087613            0\n",
       "15        Kepler-296 f    0.50    63.336270    0.268885            1\n",
       "16         Kepler-63 b    0.98     9.434150    0.088100            0\n",
       "17           GJ 3293 d    0.42    48.134500    0.195336            1"
      ]
     },
     "execution_count": 2,
     "metadata": {},
     "output_type": "execute_result"
    }
   ],
   "source": [
    "LearningSet = pd.read_csv(\"HPLearningSet.csv\")\n",
    "LearningSet = LearningSet.drop(columns=[\"Unnamed: 0\"])\n",
    "LearningSet"
   ]
  },
  {
   "cell_type": "markdown",
   "id": "88b0da8c",
   "metadata": {},
   "source": [
    "## Step 1.3\n",
    "\n",
    "Use the first 13 data entries as the training set, and the following 5 entries as the test set. To do so, use \"iloc\":\n",
    "\n",
    "Define \"Xtrain\" and \"Xtest\". They contain the stellar mass, period, and distance of each data point in the training set and test set, respectively.\n",
    "\n",
    "Define \"ytrain\" and \"ytest\". They should only contain the P_HABITABLE information."
   ]
  },
  {
   "cell_type": "code",
   "execution_count": 3,
   "id": "9ef1a512",
   "metadata": {},
   "outputs": [],
   "source": [
    "Xtrain = LearningSet.iloc[0:13,1:4]\n",
    "Xtest = LearningSet.iloc[13:,1:4]\n",
    "ytrain = LearningSet.iloc[0:13,:].P_HABITABLE\n",
    "ytest = LearningSet.iloc[13:,:].P_HABITABLE"
   ]
  },
  {
   "cell_type": "markdown",
   "id": "a2ea010b",
   "metadata": {},
   "source": [
    "# Part 2: Use the kNN algorithm from sklearn"
   ]
  },
  {
   "cell_type": "markdown",
   "id": "142c8e6a",
   "metadata": {},
   "source": [
    "## Step 2.1: Train and classify\n",
    "\n",
    "Define a model by using the KNeighborsClassifier with 3 neighbors. For the moment we're only going to use 2 features from the data set to build this model, so use iloc from pandas to remove all features *besides* S_MASS and P_PERIOD.\n",
    "\n",
    "First, train the model, predict the \"Habitable\" label for the test set and compare the prediction to the actual labels. Are the predicted values correct?\n",
    "\n",
    " **- did not predict the first one from the test set**\n",
    "\n",
    "We can also look at the accuracy of the prediction. Use metrics.accuracy_score...\n",
    "\n",
    "1) ... between the y training values and the model's y prediction using the x training values\n",
    "\n",
    "2) ... between the y testing values and the model's y prediction using the x testing values"
   ]
  },
  {
   "cell_type": "code",
   "execution_count": 4,
   "id": "2f032a7d",
   "metadata": {},
   "outputs": [
    {
     "name": "stdout",
     "output_type": "stream",
     "text": [
      "13    False\n",
      "14     True\n",
      "15     True\n",
      "16     True\n",
      "17     True\n",
      "Name: P_HABITABLE, dtype: bool\n",
      "accuracy score on test :  0.8\n",
      "accuracy score on train:  0.6923076923076923\n"
     ]
    }
   ],
   "source": [
    "Xtrain = Xtrain.drop(columns = ['P_DISTANCE'])\n",
    "Xtest  = Xtest.drop(columns = ['P_DISTANCE'])\n",
    "neigh  = neighbors.KNeighborsClassifier(n_neighbors=3)\n",
    "neigh.fit(Xtrain, ytrain)\n",
    "\n",
    "ypredict_test  = neigh.predict(Xtest)\n",
    "print(ypredict_test == ytest)\n",
    "ypredict_train = neigh.predict(Xtrain)\n",
    "\n",
    "acctest  = sklearn.metrics.accuracy_score(ytest , ypredict_test)\n",
    "acctrain = sklearn.metrics.accuracy_score(ytrain, ypredict_train)\n",
    "\n",
    "print('accuracy score on test : ', acctest)\n",
    "print('accuracy score on train: ', acctrain)"
   ]
  },
  {
   "cell_type": "markdown",
   "id": "fc357e9f",
   "metadata": {},
   "source": [
    "## Step 2.2: Visualize the results\n",
    "\n",
    "With just two features, it is possible to visualize the data set in two dimensions. scikit learn has a useful routine called \"DecisionBoundaryDisplay\", which plots the separation between the two classes in the dataset. \n",
    "\n",
    "Import this function from sklearn.inspection use the \"from_estimator\" method to plot the decision boundary for your kNN classifier. . Then add a scatter plot of your dataset and assign a different colour to each of your two classes and a different symbol for test and train set. Make sure to add a legend."
   ]
  },
  {
   "cell_type": "code",
   "execution_count": 5,
   "id": "ff8ed698",
   "metadata": {},
   "outputs": [],
   "source": [
    "#%pip install --upgrade scikit-learn"
   ]
  },
  {
   "cell_type": "code",
   "execution_count": 6,
   "id": "289284cb",
   "metadata": {},
   "outputs": [
    {
     "data": {
      "image/png": "[encoded data removed]",
      "text/plain": [
       "<Figure size 640x480 with 1 Axes>"
      ]
     },
     "metadata": {},
     "output_type": "display_data"
    }
   ],
   "source": [
    "from sklearn.inspection import DecisionBoundaryDisplay\n",
    "\n",
    "DecisionBoundaryDisplay.from_estimator(neigh, Xtrain, response_method = 'predict')\n",
    "Xtrain = Xtrain.to_numpy()\n",
    "Xtest  = Xtest.to_numpy()\n",
    "\n",
    "hXtrain = Xtrain[np.where(ytrain == 1)[0]]\n",
    "nXtrain = Xtrain[np.where(ytrain == 0)[0]]\n",
    "hXtest = Xtest[np.where(ytest == 1)[0]]\n",
    "nXtest = Xtest[np.where(ytest == 0)[0]]\n",
    "\n",
    "plt.scatter(hXtrain[:,0], hXtrain[:,1], label = 'habitable Xtrain', marker = 's', color = 'red')\n",
    "plt.scatter(hXtest[:,0], hXtest[:,1], label = 'habitable Xtest', marker = 'o', color = 'red')\n",
    "plt.scatter(nXtrain[:,0], nXtrain[:,1], label = ' not habitable Xtrain', marker = 's', color = 'cyan')\n",
    "plt.scatter(nXtest[:,0], nXtest[:,1], label = 'not habitable Xtest', marker = 'o', color = 'cyan')\n",
    "plt.legend()\n",
    "plt.show()"
   ]
  },
  {
   "cell_type": "markdown",
   "id": "0d34abfc",
   "metadata": {},
   "source": [
    "# Part 3: Write your own kNN algorithm"
   ]
  },
  {
   "cell_type": "markdown",
   "id": "5214e425",
   "metadata": {},
   "source": [
    "## Step 3.1\n",
    "\n",
    "1) Import StandardScaler from sklearn. StandardScalar standardizes features by removing the mean and scaling to unit variance. \n",
    "\n",
    "2) Next, we will pre-process the data. Define a model (\"own_model\") by running StandardScaler().fit on the x training data. Use \"transform\" on both the x training data and x testing data to change the format into a numpy array.\n",
    "\n",
    " - Xtest and Xtrain were changed to numpy arrays in previous cell."
   ]
  },
  {
   "cell_type": "code",
   "execution_count": 7,
   "id": "ab7c2fc3",
   "metadata": {},
   "outputs": [],
   "source": [
    "from sklearn.preprocessing import StandardScaler\n",
    "own_model = StandardScaler().fit(Xtrain)\n",
    "Xtrain = own_model.fit_transform(Xtrain)\n",
    "Xtest = own_model.fit_transform(Xtest)"
   ]
  },
  {
   "cell_type": "markdown",
   "id": "c6ed6b76",
   "metadata": {},
   "source": [
    "## Step 3.2\n",
    "\n",
    "Define two functions:\n",
    "\n",
    "1) Define the function \"most_common\", which takes \"data\" as input. It returns the most common value in a list of values given by \"data\".\n",
    "2) Define the function \"euclidean\", which takes \"point\" and \"data\" as input. It returns the euclidean distance between \"point\" and all components of \"data\"."
   ]
  },
  {
   "cell_type": "code",
   "execution_count": 8,
   "id": "fdd5eab7",
   "metadata": {},
   "outputs": [],
   "source": [
    "def most_common(data):\n",
    "    from scipy import stats as st\n",
    "    return st.mode(data, axis = 1, keepdims = True)\n",
    "\n",
    "def euclidean(point, data):\n",
    "    return np.linalg.norm(point - data, axis = 1)"
   ]
  },
  {
   "cell_type": "markdown",
   "id": "69ef82d8",
   "metadata": {},
   "source": [
    "## Step 3.3\n",
    "\n",
    "What comes next is that we're going to iterate over each possible value of *k* in the array of *k*'s. For each value of k, we will create a kNN classifier, fit it with the training data, and evaluate it on the test data. We will then check the accuracy of our model.\n",
    "\n",
    "1) First, define a class called \"KNeighborsClassifier\". \n",
    "\n",
    "2) Within KNeighborsClassifier, define the constructor \"**\\_\\_init__**\". (\\_\\_init__ must be called when a new instance of a class is created. It allows you to initialize the variables of an object.) It takes as arguements: self, k, and dist_metric. Set the default value of k to be 5, and the default value of dist_metric to be euclidean. \n",
    "\n",
    "3) Within **\\_\\_init__**, let self.k = k and self.dist_metric = dist_metric.\n",
    "\n",
    "The class KNeighborsClassifier will contain 3 other \"class methods\": fit, predict, and evaluate.\n",
    "\n",
    "4) Define the method \"**fit**\". Let it take self, Xtrain, and ytrain as inputs. Within fit, let self.Xtrain = Xtrain and self.ytrain = ytrain.\n",
    "\n",
    "5) Define the method \"**predict**\". Let it take self and Xtest as inputs. \n",
    "\n",
    "This method is the core part of the class, the part that actually does the kNN computation. Within predict, first initialize an empty list called \"neighbours\". Then implement the pseudocode of kNN:\n",
    "\n",
    "for all test partices:\n",
    "    \n",
    "    compute all distances between test and training particles using the previously defined distance metric function\n",
    "    \n",
    "    sort the list of distances and from that list create a sorted list of target labels. There are several possibilities to code this, no need to look for the most efficient one.\n",
    "    \n",
    "    out of this sorted target list, select the top k entries and append to the list \"neighbours\"\n",
    "    \n",
    "    after you have created this list of neighbors for all test particles, use the previously defined function \"most_common\" to determine the classification label for the test particles, and make predict return that list. The python \"map\" construct lets you apply a function to a list of arguments.\n",
    "\n",
    "\n",
    "6) Define the method \"**evaluate**\". Let it take as input: self, Xtest, and ytest. Within evaluate, let y_pred (the predicted y values) be the result of running self.predict on Xtest. Define \"accuracy\" as the sum of y_pred being equal to ytest (hint: use the equality operator, ==), and this sum is divided by the number of ytest values. Return the accuracy."
   ]
  },
  {
   "cell_type": "code",
   "execution_count": 9,
   "id": "da49325f",
   "metadata": {},
   "outputs": [],
   "source": [
    "class KNeighborsClassifier:\n",
    "    def __init__(self, k = 5 , dist_metric = euclidean):\n",
    "        self.k = k\n",
    "        self.dist_metric = dist_metric\n",
    "        \n",
    "    def fit(self, Xtrain, ytrain):\n",
    "        self.Xtrain = Xtrain\n",
    "        self.ytrain = ytrain\n",
    "        \n",
    "    def predict(self, Xtest):\n",
    "        neighbours = []\n",
    "        for point in Xtest:\n",
    "            distances = self.dist_metric(point, self.Xtrain)\n",
    "            mydict = dict(zip(distances,self.ytrain))\n",
    "            distances = np.sort(distances)\n",
    "            distances = distances[0:k]\n",
    "            target = [mydict[distances[i]] for i in range(len(distances))]\n",
    "            neighbours.append(target)\n",
    "        return most_common(neighbours).mode\n",
    "        \n",
    "    def evaluate(self, Xtest, ytest):\n",
    "        y_pred = self.predict(Xtest)\n",
    "        accuracy = np.sum(y_pred.T == ytest.to_numpy())/ len(ytest)\n",
    "        return accuracy"
   ]
  },
  {
   "cell_type": "markdown",
   "id": "5c89c021",
   "metadata": {},
   "source": [
    "## Step 3.4\n",
    "\n",
    "We don't know how many nearest neighbours are ideal to use for our data set. Therefore, we will try with an unknown integer *k* of nearest neighbours. Define an array of *k*'s ranging from 1 to 13 (there cannot be more neighbors than instances in the training set. Why?).\n",
    "\n",
    "Now let's test our model for each value of k.\n",
    "\n",
    "Within this loop, let knn be the result of calling KNeighborsClassifier with k equals the current k-value. Next, run \"fit\" on knn, using the x and y training data.\n",
    "\n",
    "As in step 2.1 compare the predicted labels to the actual labels by printing them side by side for each value of k\n",
    "\n",
    "Compute the accuracy as the result of calling knn.evaluate using the x and y test data as input and append the result to a list \"accuracies\" that you initialized as an empty list beforehand.\n",
    "\n",
    "For the same values of k, perform the classification with the sklean provided classifier that you used in part 2, and also record the accuracies in a separate array \"accuracies_sklearn\"."
   ]
  },
  {
   "cell_type": "code",
   "execution_count": 10,
   "id": "1b80451a",
   "metadata": {},
   "outputs": [
    {
     "name": "stdout",
     "output_type": "stream",
     "text": [
      "       y_pred      y_test\n",
      "k=1 [1 0 1 0 1] [0 0 1 0 1]\n",
      "k=2 [1 0 1 0 1] [0 0 1 0 1]\n",
      "k=3 [1 1 1 0 1] [0 0 1 0 1]\n",
      "k=4 [1 1 1 0 1] [0 0 1 0 1]\n",
      "k=5 [1 1 1 0 1] [0 0 1 0 1]\n",
      "k=6 [1 1 1 0 1] [0 0 1 0 1]\n",
      "k=7 [1 1 1 0 1] [0 0 1 0 1]\n",
      "k=8 [0 1 0 0 1] [0 0 1 0 1]\n",
      "k=9 [0 1 1 0 1] [0 0 1 0 1]\n",
      "k=10 [0 1 1 0 1] [0 0 1 0 1]\n",
      "k=11 [0 1 1 0 1] [0 0 1 0 1]\n",
      "k=12 [0 0 0 0 0] [0 0 1 0 1]\n",
      "k=13 [0 0 0 0 0] [0 0 1 0 1]\n",
      "accuracies:  [0.8, 0.8, 0.6, 0.6, 0.6, 0.6, 0.6, 0.6, 0.8, 0.8, 0.8, 0.6, 0.6]\n",
      "accuracies_sklearn:  [0.8, 0.8, 0.6, 0.6, 0.6, 0.6, 0.6, 0.6, 0.8, 0.8, 0.8, 0.6, 0.6]\n"
     ]
    }
   ],
   "source": [
    "ks = np.arange(1, 14, 1)\n",
    "accuracies = []\n",
    "accuracies_sklearn = []\n",
    "print('       y_pred', '     y_test')\n",
    "for k in ks:\n",
    "    knn = KNeighborsClassifier(k = k)\n",
    "    knn.fit(Xtrain, ytrain)\n",
    "    print('k={}'.format(k), knn.predict(Xtest).T[0], (ytest.to_numpy()))\n",
    "    accuracies.append(knn.evaluate(Xtest, ytest))\n",
    "    \n",
    "    \n",
    "    ##### Step 2 #######\n",
    "    neigh  = neighbors.KNeighborsClassifier(n_neighbors=k)\n",
    "    neigh.fit(Xtrain, ytrain)\n",
    "    ypredict_test  = neigh.predict(Xtest)\n",
    "    acctest  = sklearn.metrics.accuracy_score(ytest , ypredict_test)\n",
    "    accuracies_sklearn.append(acctest)\n",
    "    \n",
    "    \n",
    "print('accuracies: ', accuracies)\n",
    "print('accuracies_sklearn: ', accuracies_sklearn)\n"
   ]
  },
  {
   "cell_type": "markdown",
   "id": "e5953df1",
   "metadata": {},
   "source": [
    "## Step 3.5\n",
    "\n",
    "Finally, we're going to visualize the performance of our kNN algorithm. Plot the values of k on the x-axis and the accuracies for both your own code and the one from sklearn on the y-axis. Add a descriptive title. Save and show the figure. Does the two codes agree? What value(s) of k are best and what is the maximum accuracy achieved? "
   ]
  },
  {
   "cell_type": "code",
   "execution_count": 11,
   "id": "54efafbd",
   "metadata": {
    "scrolled": false
   },
   "outputs": [
    {
     "data": {
      "image/png": "[encoded data removed]",
      "text/plain": [
       "<Figure size 640x480 with 1 Axes>"
      ]
     },
     "metadata": {},
     "output_type": "display_data"
    }
   ],
   "source": [
    "plt.plot(ks, accuracies, 'ro ', label = 'our kNN')\n",
    "plt.plot(ks, accuracies_sklearn, 'k.', label = 'sklearn kNN')\n",
    "plt.xlabel(\"K value\")\n",
    "plt.ylabel('Accuracy')\n",
    "plt.legend(loc = 'center right')\n",
    "plt.title('Accuracy predictions based on K - Neighbours')\n",
    "plt.show()"
   ]
  }
 ],
 "metadata": {
  "kernelspec": {
   "display_name": "Python 3 (ipykernel)",
   "language": "python",
   "name": "python3"
  },
  "language_info": {
   "codemirror_mode": {
    "name": "ipython",
    "version": 3
   },
   "file_extension": ".py",
   "mimetype": "text/x-python",
   "name": "python",
   "nbconvert_exporter": "python",
   "pygments_lexer": "ipython3",
   "version": "3.10.8"
  }
 },
 "nbformat": 4,
 "nbformat_minor": 5
}
