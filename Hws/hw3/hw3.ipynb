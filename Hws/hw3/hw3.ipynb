{
 "cells": [
  {
   "cell_type": "markdown",
   "metadata": {
    "id": "ZElDfnRK8C8s"
   },
   "source": [
    "## Homework 3 - Welcome to the world of variable stars!\n",
    "\n",
    "Modified from (Viviana Acquaviva (2023)) License: BSD-3-clause"
   ]
  },
  {
   "cell_type": "markdown",
   "metadata": {
    "id": "nJATq40R8C81"
   },
   "source": [
    "#### Data description\n",
    "\n",
    "The data we use for this homework are about stars. Our features are the so-called \"colors\", which give an indication of whether a star emits more blue, green, yellow, or red light. We are trying to predict whether a star is a special type of star called a RR-Lyrae variable star. So our target values will be yes/no (1/0 in the language of numpy arrays)."
   ]
  },
  {
   "cell_type": "markdown",
   "metadata": {
    "id": "5MO7-vVC8C82"
   },
   "source": [
    "1\\. Load the data for features and target from the appropriate files and save them as numpy arrays. (note: the default delimiter won't work, these are comma separated values!)"
   ]
  },
  {
   "cell_type": "code",
   "execution_count": 1,
   "metadata": {},
   "outputs": [],
   "source": [
    "import numpy as np\n",
    "\n",
    "features = np.loadtxt(\"RRLyrae_features_small.txt\", delimiter = \",\")\n",
    "target = np.loadtxt('RRLyrae_labels_small.txt')"
   ]
  },
  {
   "cell_type": "markdown",
   "metadata": {
    "id": "YAkS8pPw8C83"
   },
   "source": [
    "2\\. Answer the following questions:\n",
    "\n",
    "Is this a classification or regression problem?\n",
    "\n",
    " **- classification**\n",
    "\n",
    "Is this supervised or unsupervised learning?\n",
    "    \n",
    "**- supervised**\n",
    "\n",
    "How many instances are in this data set? \n",
    "\n",
    "**- please see cell below**\n",
    "\n",
    "How many features?\n",
    "\n",
    "**- please see cell below**\n",
    "\n",
    "How many RR Lyrae stars (i.e., examples of the positive class) are in the data set?\n",
    "\n",
    "**- please see cell below**\n",
    "\n",
    "What would be the accuracy of a classifier that classifies all objects in the data set as non-RR Lyrae?\n",
    "\n",
    "**- please see cell below**\n"
   ]
  },
  {
   "cell_type": "code",
   "execution_count": 2,
   "metadata": {},
   "outputs": [
    {
     "name": "stdout",
     "output_type": "stream",
     "text": [
      "number of instances: 2483\n",
      "number of features: 4\n",
      "RR Lyrae stars: 483\n",
      "accuracy score on lazy classifier(all objects are non-RR Lyrae): 0.805\n"
     ]
    }
   ],
   "source": [
    "from sklearn import metrics\n",
    "\n",
    "print('number of instances: {}'.format(np.shape(features)[0]))\n",
    "print('number of features: {}'.format(np.shape(features)[1]))\n",
    "print('RR Lyrae stars: {}'.format(int(np.sum(target))))\n",
    "\n",
    "accuracy = metrics.accuracy_score(target, np.zeros(len(target)))\n",
    "print('accuracy score on lazy classifier(all objects are non-RR Lyrae): {:.3f}'.format(accuracy))"
   ]
  },
  {
   "cell_type": "markdown",
   "metadata": {
    "id": "zNQZqNS88C83"
   },
   "source": [
    "3\\. Use a Decision Tree Classifier, and implement k-fold cross validation algorithm."
   ]
  },
  {
   "cell_type": "code",
   "execution_count": 3,
   "metadata": {},
   "outputs": [],
   "source": [
    "from sklearn.model_selection import train_test_split, StratifiedKFold\n",
    "from sklearn.tree import DecisionTreeClassifier\n",
    "from sklearn.pipeline import Pipeline\n",
    "from sklearn.model_selection import cross_val_predict\n",
    "import sklearn\n",
    "\n",
    "model =  DecisionTreeClassifier()\n",
    "cv = StratifiedKFold()"
   ]
  },
  {
   "cell_type": "markdown",
   "metadata": {
    "id": "LC-LrvgH8C86"
   },
   "source": [
    "4\\. Report the scores, and calculate the mean and standard deviation of the scores vector. "
   ]
  },
  {
   "cell_type": "code",
   "execution_count": 4,
   "metadata": {},
   "outputs": [
    {
     "name": "stdout",
     "output_type": "stream",
     "text": [
      "test score: mean = 0.964, std = 0.0119\n"
     ]
    }
   ],
   "source": [
    "from sklearn.model_selection import cross_validate\n",
    "\n",
    "metrics = cross_validate(model, features, target, cv=cv)\n",
    "print('test score: mean = {:.3f}, std = {:.4f}'.format(metrics['test_score'].mean() , metrics['test_score'].std()))"
   ]
  },
  {
   "cell_type": "markdown",
   "metadata": {
    "id": "_svBXKhZ8C86"
   },
   "source": [
    "5\\. As in lab 5-6, compute the confusion matrix for your model. To generate the predictions, you can use the \"cross_val_predict\" function. Please write your own code before using any scikit learn builtin functions, but you can use ConfusionMatrixDisplay to visualize."
   ]
  },
  {
   "cell_type": "code",
   "execution_count": 5,
   "metadata": {},
   "outputs": [
    {
     "data": {
      "image/png": "[encoded data removed]",
      "text/plain": [
       "<Figure size 640x480 with 2 Axes>"
      ]
     },
     "metadata": {},
     "output_type": "display_data"
    }
   ],
   "source": [
    "from sklearn.metrics import ConfusionMatrixDisplay\n",
    "from matplotlib import pyplot as plt\n",
    "\n",
    "def gen_conf_matrix(y_true, y_pred):\n",
    "    true_positive = np.sum((y_true == 1) & (y_pred == 1))\n",
    "    true_negative = np.sum((y_true == 0) & (y_pred == 0))\n",
    "    false_positive = np.sum((y_true == 0) & (y_pred == 1))\n",
    "    false_negative = np.sum((y_true == 1) & (y_pred == 0))\n",
    "    return np.array([[true_negative, false_positive], [false_negative, true_positive]])\n",
    "\n",
    "ypred = cross_val_predict(model, features, target, cv=cv)\n",
    "conf_matrix = gen_conf_matrix(target, ypred)\n",
    "disp = ConfusionMatrixDisplay(conf_matrix)\n",
    "disp.plot(cmap=plt.cm.Blues)\n",
    "plt.show()"
   ]
  },
  {
   "cell_type": "markdown",
   "metadata": {
    "id": "nFbAYoj38C88"
   },
   "source": [
    "6\\. Based on the confusion matrix, how many true positive, true negative, false positive, false negative instances do you have?"
   ]
  },
  {
   "cell_type": "code",
   "execution_count": 6,
   "metadata": {},
   "outputs": [
    {
     "name": "stdout",
     "output_type": "stream",
     "text": [
      "true  negative: 1958\n",
      "true  positive: 444\n",
      "false negative: 39\n",
      "false positive: 42\n"
     ]
    }
   ],
   "source": [
    "tn = conf_matrix[0][0]\n",
    "tp = conf_matrix[1][1]\n",
    "fn = conf_matrix[1][0]\n",
    "fp = conf_matrix[0][1]\n",
    "\n",
    "print('true  negative: {}'.format(tn))\n",
    "print('true  positive: {}'.format(tp))\n",
    "print('false negative: {}'.format(fn))\n",
    "print('false positive: {}'.format(fp))"
   ]
  },
  {
   "cell_type": "markdown",
   "metadata": {
    "id": "dAFpsEn18C89"
   },
   "source": [
    "7\\. Calculate accuracy, precision and recall. Plese write out your steps and do not use built-in functions. "
   ]
  },
  {
   "cell_type": "code",
   "execution_count": 7,
   "metadata": {},
   "outputs": [
    {
     "name": "stdout",
     "output_type": "stream",
     "text": [
      "accuracy: 0.97\n",
      "precision: 0.91\n",
      "recall: 0.92\n"
     ]
    }
   ],
   "source": [
    "#accuracy = correctly classified values (tp + tn) / total number of predictions \n",
    "accuracy = (tp + tn) / (np.sum(conf_matrix))\n",
    "print('accuracy: {:.2f}'.format(accuracy))\n",
    "\n",
    "#Precision = TP ÷ (TP + FP)\n",
    "precision = tp / (tp + fp)\n",
    "print('precision: {:.2f}'.format(precision))\n",
    "\n",
    "#Recall = TP ÷ (TP + FN)\n",
    "recall = tp/ (tp + fn)\n",
    "print('recall: {:.2f}'.format(recall))"
   ]
  },
  {
   "cell_type": "markdown",
   "metadata": {
    "id": "6grNjKT_8C89"
   },
   "source": [
    "8\\. Which evaluation metric is used by the cross validation score in 4.? [To answer this question, you might need to check out the description of the function]. Given the distribution of classes in your data set, do you see a possible issue?\n",
    "\n",
    "**- accuracy is the evaluation metric. Given the distribution of our data set is unbalanced (a lot of target values of zero) -> accuracy is not a great measure as a lazy classifier can also present a high accuracy**"
   ]
  },
  {
   "cell_type": "markdown",
   "metadata": {
    "id": "9QMBoPHx8C8-"
   },
   "source": [
    "9\\. To compare performance for now, let's use the F1 score, a weighted average of precision and recall.\n",
    "\n",
    "F1 = 2 * (precision * recall) / (precision + recall)\n",
    "\n",
    "Find out how to use the f1 score (instead of accuracy) as an optional argument of the cross_validate function and report the mean and standard deviation of the scores associated to this evaluation metric.\n"
   ]
  },
  {
   "cell_type": "code",
   "execution_count": 8,
   "metadata": {},
   "outputs": [
    {
     "name": "stdout",
     "output_type": "stream",
     "text": [
      "F1: 0.916\n",
      "F1 test score: mean = 0.916, std = 0.0262\n"
     ]
    }
   ],
   "source": [
    "F1 = 2 * precision * recall / (precision + recall)\n",
    "print('F1: {:.3f}'.format(F1))\n",
    "\n",
    "metrics = cross_validate(model, features, target, cv=cv, scoring = 'f1')\n",
    "print('F1 test score: mean = {:.3f}, std = {:.4f}'.format(metrics['test_score'].mean() , metrics['test_score'].std()))"
   ]
  },
  {
   "cell_type": "markdown",
   "metadata": {
    "id": "WPTpUvuW8C8_"
   },
   "source": [
    "10\\. It is now time to look at some diagnostics. Use the cross_validate function with 'return_train_score = True'. Compare the f1 train and test scores obtained by your model. Based on this result, do you think your algorithm suffers from high variance or high bias and why?"
   ]
  },
  {
   "cell_type": "code",
   "execution_count": 9,
   "metadata": {},
   "outputs": [
    {
     "name": "stdout",
     "output_type": "stream",
     "text": [
      "F1 train score: mean = 1.000, std = 0.0000\n",
      "F1 test score: mean = 0.916, std = 0.0245\n"
     ]
    }
   ],
   "source": [
    "metrics = cross_validate(model, features, target, cv=cv, scoring = 'f1', return_train_score = True)\n",
    "\n",
    "print('F1 train score: mean = {:.3f}, std = {:.4f}'.format(metrics['train_score'].mean() , metrics['train_score'].std()))\n",
    "print('F1 test score: mean = {:.3f}, std = {:.4f}'.format(metrics['test_score'].mean() , metrics['test_score'].std()))"
   ]
  },
  {
   "cell_type": "markdown",
   "metadata": {},
   "source": [
    "**- considering the train score is perfect, this model would suffer from high-variance as it performs perfectly on the training data but does not generalize well to the test data**"
   ]
  },
  {
   "cell_type": "markdown",
   "metadata": {
    "id": "Wf-qnDUn8C8_"
   },
   "source": [
    "11\\. Finally, we can look at learning curves as in lab 5-6.  Based on what you see in the plot, do you think getting more training data would help? Justify your answer.\n",
    "\n"
   ]
  },
  {
   "cell_type": "code",
   "execution_count": 10,
   "metadata": {},
   "outputs": [
    {
     "data": {
      "image/png": "[encoded data removed]",
      "text/plain": [
       "<Figure size 640x480 with 1 Axes>"
      ]
     },
     "metadata": {},
     "output_type": "display_data"
    }
   ],
   "source": [
    "sklearn.model_selection.LearningCurveDisplay.from_estimator(model, features, target, cv=cv)\n",
    "plt.show()"
   ]
  },
  {
   "cell_type": "markdown",
   "metadata": {},
   "source": [
    "**- we can see a sharp incline in test scores as the number of samples in the training set increase. Thus a larger training set would likely lead to higher test scores and decrease the variance**"
   ]
  }
 ],
 "metadata": {
  "colab": {
   "provenance": []
  },
  "kernelspec": {
   "display_name": "Python 3 (ipykernel)",
   "language": "python",
   "name": "python3"
  },
  "language_info": {
   "codemirror_mode": {
    "name": "ipython",
    "version": 3
   },
   "file_extension": ".py",
   "mimetype": "text/x-python",
   "name": "python",
   "nbconvert_exporter": "python",
   "pygments_lexer": "ipython3",
   "version": "3.10.8"
  }
 },
 "nbformat": 4,
 "nbformat_minor": 1
}
